{
 "cells": [
  {
   "cell_type": "markdown",
   "id": "26fdd9ed",
   "metadata": {},
   "source": [
    "# Federated TF Keras TinyImageNet Tutorial\n",
    "## Using low-level Python API"
   ]
  },
  {
   "cell_type": "markdown",
   "id": "f96b6f3e",
   "metadata": {},
   "source": [
    "# Long-Living entities update\n",
    "\n",
    "* We now may have director running on another machine.\n",
    "* We use Federation API to communicate with Director.\n",
    "* Federation object should hold a Director's client (for user service)\n",
    "* Keeping in mind that several API instances may be connacted to one Director.\n",
    "\n",
    "\n",
    "* We do not think for now how we start a Director.\n",
    "* But it knows the data shape and target shape for the DataScience problem in the Federation.\n",
    "* Director holds the list of connected envoys, we do not need to specify it anymore.\n",
    "* Director and Envoys are responsible for encrypting connections, we do not need to worry about certs.\n",
    "\n",
    "\n",
    "* Yet we MUST have a cert to communicate to the Director.\n",
    "* We MUST know the FQDN of a Director.\n",
    "* Director communicates data and target shape to the Federation interface object.\n",
    "\n",
    "\n",
    "* Experiment API may use this info to construct a dummy dataset and a `shard descriptor` stub."
   ]
  },
  {
   "cell_type": "markdown",
   "id": "3f509021",
   "metadata": {},
   "source": [
    "### Install requirements"
   ]
  },
  {
   "cell_type": "code",
   "execution_count": 1,
   "id": "895288d0",
   "metadata": {},
   "outputs": [
    {
     "name": "stdout",
     "output_type": "stream",
     "text": [
      "Collecting tensorflow==2.6.0\n",
      "  Using cached tensorflow-2.6.0-cp38-cp38-manylinux2010_x86_64.whl (458.4 MB)\n",
      "Collecting grpcio<2.0,>=1.37.0\n",
      "  Using cached grpcio-1.40.0-cp38-cp38-manylinux2014_x86_64.whl (4.3 MB)\n",
      "Collecting clang~=5.0\n",
      "  Using cached clang-5.0-py3-none-any.whl\n",
      "Requirement already satisfied: protobuf>=3.9.2 in /home/amokrov/test/ex1/venv/lib/python3.8/site-packages (from tensorflow==2.6.0) (3.18.0)\n",
      "Requirement already satisfied: absl-py~=0.10 in /home/amokrov/test/ex1/venv/lib/python3.8/site-packages (from tensorflow==2.6.0) (0.13.0)\n",
      "Collecting google-pasta~=0.2\n",
      "  Using cached google_pasta-0.2.0-py3-none-any.whl (57 kB)\n",
      "Collecting six~=1.15.0\n",
      "  Using cached six-1.15.0-py2.py3-none-any.whl (10 kB)\n",
      "Collecting tensorflow-estimator~=2.6\n",
      "  Using cached tensorflow_estimator-2.6.0-py2.py3-none-any.whl (462 kB)\n",
      "Requirement already satisfied: wheel~=0.35 in /home/amokrov/test/ex1/venv/lib/python3.8/site-packages (from tensorflow==2.6.0) (0.37.0)\n",
      "Collecting h5py~=3.1.0\n",
      "  Using cached h5py-3.1.0-cp38-cp38-manylinux1_x86_64.whl (4.4 MB)\n",
      "Collecting opt-einsum~=3.3.0\n",
      "  Using cached opt_einsum-3.3.0-py3-none-any.whl (65 kB)\n",
      "Collecting typing-extensions~=3.7.4\n",
      "  Using cached typing_extensions-3.7.4.3-py3-none-any.whl (22 kB)\n",
      "Collecting flatbuffers~=1.12.0\n",
      "  Using cached flatbuffers-1.12-py2.py3-none-any.whl (15 kB)\n",
      "Collecting astunparse~=1.6.3\n",
      "  Using cached astunparse-1.6.3-py2.py3-none-any.whl (12 kB)\n",
      "Collecting keras-preprocessing~=1.1.2\n",
      "  Using cached Keras_Preprocessing-1.1.2-py2.py3-none-any.whl (42 kB)\n",
      "Collecting gast==0.4.0\n",
      "  Using cached gast-0.4.0-py3-none-any.whl (9.8 kB)\n",
      "Requirement already satisfied: tensorboard~=2.6 in /home/amokrov/test/ex1/venv/lib/python3.8/site-packages (from tensorflow==2.6.0) (2.6.0)\n",
      "Collecting termcolor~=1.1.0\n",
      "  Using cached termcolor-1.1.0-py3-none-any.whl\n",
      "Collecting wrapt~=1.12.1\n",
      "  Using cached wrapt-1.12.1-py3-none-any.whl\n",
      "Collecting keras~=2.6\n",
      "  Using cached keras-2.6.0-py2.py3-none-any.whl (1.3 MB)\n",
      "Collecting numpy~=1.19.2\n",
      "  Using cached numpy-1.19.5-cp38-cp38-manylinux2010_x86_64.whl (14.9 MB)\n",
      "Requirement already satisfied: google-auth<2,>=1.6.3 in /home/amokrov/test/ex1/venv/lib/python3.8/site-packages (from tensorboard~=2.6->tensorflow==2.6.0) (1.35.0)\n",
      "Requirement already satisfied: tensorboard-data-server<0.7.0,>=0.6.0 in /home/amokrov/test/ex1/venv/lib/python3.8/site-packages (from tensorboard~=2.6->tensorflow==2.6.0) (0.6.1)\n",
      "Requirement already satisfied: markdown>=2.6.8 in /home/amokrov/test/ex1/venv/lib/python3.8/site-packages (from tensorboard~=2.6->tensorflow==2.6.0) (3.3.4)\n",
      "Requirement already satisfied: setuptools>=41.0.0 in /home/amokrov/test/ex1/venv/lib/python3.8/site-packages (from tensorboard~=2.6->tensorflow==2.6.0) (58.0.4)\n",
      "Requirement already satisfied: google-auth-oauthlib<0.5,>=0.4.1 in /home/amokrov/test/ex1/venv/lib/python3.8/site-packages (from tensorboard~=2.6->tensorflow==2.6.0) (0.4.6)\n",
      "Requirement already satisfied: requests<3,>=2.21.0 in /home/amokrov/test/ex1/venv/lib/python3.8/site-packages (from tensorboard~=2.6->tensorflow==2.6.0) (2.26.0)\n",
      "Requirement already satisfied: tensorboard-plugin-wit>=1.6.0 in /home/amokrov/test/ex1/venv/lib/python3.8/site-packages (from tensorboard~=2.6->tensorflow==2.6.0) (1.8.0)\n",
      "Requirement already satisfied: werkzeug>=0.11.15 in /home/amokrov/test/ex1/venv/lib/python3.8/site-packages (from tensorboard~=2.6->tensorflow==2.6.0) (2.0.1)\n",
      "Requirement already satisfied: rsa<5,>=3.1.4 in /home/amokrov/test/ex1/venv/lib/python3.8/site-packages (from google-auth<2,>=1.6.3->tensorboard~=2.6->tensorflow==2.6.0) (4.7.2)\n",
      "Requirement already satisfied: pyasn1-modules>=0.2.1 in /home/amokrov/test/ex1/venv/lib/python3.8/site-packages (from google-auth<2,>=1.6.3->tensorboard~=2.6->tensorflow==2.6.0) (0.2.8)\n",
      "Requirement already satisfied: cachetools<5.0,>=2.0.0 in /home/amokrov/test/ex1/venv/lib/python3.8/site-packages (from google-auth<2,>=1.6.3->tensorboard~=2.6->tensorflow==2.6.0) (4.2.2)\n",
      "Requirement already satisfied: requests-oauthlib>=0.7.0 in /home/amokrov/test/ex1/venv/lib/python3.8/site-packages (from google-auth-oauthlib<0.5,>=0.4.1->tensorboard~=2.6->tensorflow==2.6.0) (1.3.0)\n",
      "Requirement already satisfied: pyasn1<0.5.0,>=0.4.6 in /home/amokrov/test/ex1/venv/lib/python3.8/site-packages (from pyasn1-modules>=0.2.1->google-auth<2,>=1.6.3->tensorboard~=2.6->tensorflow==2.6.0) (0.4.8)\n",
      "Requirement already satisfied: urllib3<1.27,>=1.21.1 in /home/amokrov/test/ex1/venv/lib/python3.8/site-packages (from requests<3,>=2.21.0->tensorboard~=2.6->tensorflow==2.6.0) (1.26.6)\n",
      "Requirement already satisfied: certifi>=2017.4.17 in /home/amokrov/test/ex1/venv/lib/python3.8/site-packages (from requests<3,>=2.21.0->tensorboard~=2.6->tensorflow==2.6.0) (2021.5.30)\n",
      "Requirement already satisfied: charset-normalizer~=2.0.0 in /home/amokrov/test/ex1/venv/lib/python3.8/site-packages (from requests<3,>=2.21.0->tensorboard~=2.6->tensorflow==2.6.0) (2.0.5)\n",
      "Requirement already satisfied: idna<4,>=2.5 in /home/amokrov/test/ex1/venv/lib/python3.8/site-packages (from requests<3,>=2.21.0->tensorboard~=2.6->tensorflow==2.6.0) (3.2)\n",
      "Requirement already satisfied: oauthlib>=3.0.0 in /home/amokrov/test/ex1/venv/lib/python3.8/site-packages (from requests-oauthlib>=0.7.0->google-auth-oauthlib<0.5,>=0.4.1->tensorboard~=2.6->tensorflow==2.6.0) (3.1.1)\n",
      "Installing collected packages: six, numpy, grpcio, wrapt, typing-extensions, termcolor, tensorflow-estimator, opt-einsum, keras-preprocessing, keras, h5py, google-pasta, gast, flatbuffers, clang, astunparse, tensorflow\n",
      "  Attempting uninstall: six\n",
      "    Found existing installation: six 1.16.0\n",
      "    Uninstalling six-1.16.0:\n",
      "      Successfully uninstalled six-1.16.0\n",
      "  Attempting uninstall: numpy\n",
      "    Found existing installation: numpy 1.21.2\n",
      "    Uninstalling numpy-1.21.2:\n",
      "      Successfully uninstalled numpy-1.21.2\n",
      "  Attempting uninstall: grpcio\n",
      "    Found existing installation: grpcio 1.34.1\n",
      "    Uninstalling grpcio-1.34.1:\n",
      "      Successfully uninstalled grpcio-1.34.1\n",
      "  Attempting uninstall: typing-extensions\n",
      "    Found existing installation: typing-extensions 3.10.0.2\n",
      "    Uninstalling typing-extensions-3.10.0.2:\n",
      "      Successfully uninstalled typing-extensions-3.10.0.2\n",
      "\u001b[31mERROR: pip's dependency resolver does not currently take into account all the packages that are installed. This behaviour is the source of the following dependency conflicts.\n",
      "openfl 1.1 requires grpcio~=1.34.0, but you have grpcio 1.40.0 which is incompatible.\u001b[0m\n",
      "Successfully installed astunparse-1.6.3 clang-5.0 flatbuffers-1.12 gast-0.4.0 google-pasta-0.2.0 grpcio-1.40.0 h5py-3.1.0 keras-2.6.0 keras-preprocessing-1.1.2 numpy-1.19.5 opt-einsum-3.3.0 six-1.15.0 tensorflow-2.6.0 tensorflow-estimator-2.6.0 termcolor-1.1.0 typing-extensions-3.7.4.3 wrapt-1.12.1\n"
     ]
    }
   ],
   "source": [
    "!pip install tensorflow==2.6.0"
   ]
  },
  {
   "cell_type": "markdown",
   "id": "f2a9d870",
   "metadata": {},
   "source": [
    "## Connect to the Federation"
   ]
  },
  {
   "cell_type": "code",
   "execution_count": 248,
   "id": "d4e356aa",
   "metadata": {},
   "outputs": [],
   "source": [
    "# Create a federation\n",
    "from openfl.interface.interactive_api.federation import Federation\n",
    "\n",
    "# please use the same identificator that was used in signed certificate\n",
    "client_id = 'api'\n",
    "cert_dir = 'cert'\n",
    "director_node_fqdn = 'localhost'\n",
    "# 1) Run with API layer - Director mTLS \n",
    "# If the user wants to enable mTLS their must provide CA root chain, and signed key pair to the federation interface\n",
    "# cert_chain = f'{cert_dir}/root_ca.crt'\n",
    "# api_certificate = f'{cert_dir}/{client_id}.crt'\n",
    "# api_private_key = f'{cert_dir}/{client_id}.key'\n",
    "\n",
    "# federation = Federation(client_id=client_id, director_node_fqdn=director_node_fqdn, director_port='50051',\n",
    "#                        cert_chain=cert_chain, api_cert=api_certificate, api_private_key=api_private_key)\n",
    "\n",
    "# --------------------------------------------------------------------------------------------------------------------\n",
    "\n",
    "# 2) Run with TLS disabled (trusted environment)\n",
    "# Federation can also determine local fqdn automatically\n",
    "federation = Federation(client_id=client_id, director_node_fqdn=director_node_fqdn, director_port='50051', tls=False)"
   ]
  },
  {
   "cell_type": "code",
   "execution_count": 250,
   "id": "f0150bae",
   "metadata": {},
   "outputs": [
    {
     "data": {
      "text/plain": [
       "{'env_one': {'shard_info': node_info {\n",
       "    name: \"env_one\"\n",
       "  }\n",
       "  shard_description: \"TinyImageNetDataset dataset, shard number 1 out of 2\"\n",
       "  sample_shape: \"300\"\n",
       "  sample_shape: \"400\"\n",
       "  sample_shape: \"3\"\n",
       "  target_shape: \"300\"\n",
       "  target_shape: \"400\",\n",
       "  'is_online': True,\n",
       "  'is_experiment_running': False,\n",
       "  'last_updated': '2021-09-22 22:53:45',\n",
       "  'current_time': '2021-09-22 22:53:48',\n",
       "  'valid_duration': seconds: 120}}"
      ]
     },
     "execution_count": 250,
     "metadata": {},
     "output_type": "execute_result"
    }
   ],
   "source": [
    "shard_registry = federation.get_shard_registry()\n",
    "shard_registry"
   ]
  },
  {
   "cell_type": "markdown",
   "id": "a639d734",
   "metadata": {},
   "source": [
    "## Dataset"
   ]
  },
  {
   "cell_type": "code",
   "execution_count": 253,
   "id": "77e64ed6",
   "metadata": {},
   "outputs": [],
   "source": [
    "import numpy as np\n",
    "import tensorflow as tf"
   ]
  },
  {
   "cell_type": "code",
   "execution_count": 254,
   "id": "2468883b",
   "metadata": {},
   "outputs": [
    {
     "data": {
      "text/plain": [
       "'2.6.0'"
      ]
     },
     "execution_count": 254,
     "metadata": {},
     "output_type": "execute_result"
    }
   ],
   "source": [
    "tf.__version__"
   ]
  },
  {
   "cell_type": "code",
   "execution_count": 255,
   "id": "36710220",
   "metadata": {},
   "outputs": [],
   "source": [
    "gpu_devices = tf.config.experimental.list_physical_devices('GPU')\n",
    "for device in gpu_devices:\n",
    "    tf.config.experimental.set_memory_growth(device, True)"
   ]
  },
  {
   "cell_type": "code",
   "execution_count": 256,
   "id": "67057a51",
   "metadata": {},
   "outputs": [],
   "source": [
    "from openfl.interface.interactive_api.experiment import TaskInterface, DataInterface, ModelInterface, FLExperiment"
   ]
  },
  {
   "cell_type": "code",
   "execution_count": 257,
   "id": "2cf91077",
   "metadata": {},
   "outputs": [],
   "source": [
    "import math\n",
    "\n",
    "\n",
    "def train_transform(img):\n",
    "    array = tf.keras.preprocessing.image.img_to_array(img)\n",
    "    if img.mode == 'L':\n",
    "        original = tf.constant(array)\n",
    "        array = tf.image.grayscale_to_rgb(original)\n",
    "    array = tf.reshape(array, array.shape)\n",
    "    \n",
    "    return array\n",
    "\n",
    "\n",
    "def val_transform(img):\n",
    "    array = tf.keras.preprocessing.image.img_to_array(img)\n",
    "    if img.mode == 'L':\n",
    "        original = tf.constant(array)\n",
    "        array = tf.image.grayscale_to_rgb(original)\n",
    "    array = tf.reshape(array, array.shape)\n",
    "    return array\n",
    "\n",
    "\n",
    "class TransformedDataset(tf.keras.utils.Sequence):\n",
    "    \"\"\"Image Person ReID Dataset.\"\"\"\n",
    "\n",
    "    def __init__(self, dataset, batch_size, transform=None):\n",
    "        \"\"\"Initialize Dataset.\"\"\"\n",
    "        self.dataset = dataset\n",
    "        self.batch_size = batch_size\n",
    "        self.transform = transform\n",
    "\n",
    "    def __len__(self):\n",
    "        \"\"\"Length of dataset.\"\"\"\n",
    "        return math.ceil(len(self.dataset) / self.batch_size)\n",
    "\n",
    "    def __getitem__(self, index):\n",
    "        first_id = index * self.batch_size\n",
    "        last_id = (index + 1) * self.batch_size\n",
    "        if len(self.dataset) < last_id:\n",
    "            last_id = len(self.dataset)\n",
    "    \n",
    "        batch_x = []\n",
    "        batch_y = []\n",
    "        \n",
    "        for i in range(first_id, last_id):\n",
    "            img, label = self.dataset[i]\n",
    "            img = self.transform(img) if self.transform else None\n",
    "            batch_x.append(img)\n",
    "            batch_y.append(label)\n",
    "\n",
    "        return np.array(batch_x), np.array(batch_y)"
   ]
  },
  {
   "cell_type": "code",
   "execution_count": 258,
   "id": "d3678256",
   "metadata": {},
   "outputs": [],
   "source": [
    "class TinyImageNetDataset(DataInterface):\n",
    "    def __init__(self, **kwargs):\n",
    "        self.kwargs = kwargs\n",
    "        self.train_bs = kwargs['train_bs']\n",
    "        self.valid_bs = kwargs['valid_bs']\n",
    "    \n",
    "    @property\n",
    "    def shard_descriptor(self):\n",
    "        return self._shard_descriptor\n",
    "        \n",
    "    @shard_descriptor.setter\n",
    "    def shard_descriptor(self, shard_descriptor):\n",
    "        \"\"\"\n",
    "        Describe per-collaborator procedures or sharding.\n",
    "\n",
    "        This method will be called during a collaborator initialization.\n",
    "        Local shard_descriptor  will be set by Envoy.\n",
    "        \"\"\"\n",
    "        self._shard_descriptor = shard_descriptor\n",
    "        \n",
    "        self.train_set = TransformedDataset(\n",
    "            self._shard_descriptor.get_dataset('train'),\n",
    "            batch_size=self.train_bs,\n",
    "            transform=train_transform\n",
    "        )\n",
    "        self.valid_set = TransformedDataset(\n",
    "            self._shard_descriptor.get_dataset('val'),\n",
    "            batch_size=self.valid_bs,\n",
    "            transform=val_transform\n",
    "        )\n",
    "\n",
    "    def get_train_loader(self, **kwargs):\n",
    "        \"\"\"\n",
    "        Output of this method will be provided to tasks with optimizer in contract\n",
    "        \"\"\"\n",
    "        return self.train_set\n",
    "\n",
    "    def get_valid_loader(self, **kwargs):\n",
    "        \"\"\"\n",
    "        Output of this method will be provided to tasks without optimizer in contract\n",
    "        \"\"\"\n",
    "        return self.valid_set\n",
    "    \n",
    "    def get_train_data_size(self):\n",
    "        \"\"\"\n",
    "        Information for aggregation\n",
    "        \"\"\"\n",
    "        return len(self.train_set)\n",
    "\n",
    "    def get_valid_data_size(self):\n",
    "        \"\"\"\n",
    "        Information for aggregation\n",
    "        \"\"\"\n",
    "        return len(self.valid_set)"
   ]
  },
  {
   "cell_type": "markdown",
   "id": "11fa141c",
   "metadata": {},
   "source": [
    "## Model"
   ]
  },
  {
   "cell_type": "code",
   "execution_count": 261,
   "id": "99e70481",
   "metadata": {},
   "outputs": [],
   "source": [
    "from tensorflow import keras\n",
    "from tensorflow.keras import layers\n",
    "from tensorflow.keras.models import Sequential\n",
    "\n",
    "\n",
    "num_classes = 200\n",
    "\n",
    "\n",
    "data_augmentation = tf.keras.Sequential([\n",
    "  layers.experimental.preprocessing.RandomFlip(\"horizontal_and_vertical\"),\n",
    "  layers.experimental.preprocessing.RandomRotation(0.2),\n",
    "])\n",
    "\n",
    "\n",
    "model = Sequential([\n",
    "    layers.experimental.preprocessing.Rescaling(1./255),\n",
    "#     data_augmentation,  \n",
    "    layers.Conv2D(16, 3, padding='same', activation='relu'),\n",
    "    layers.MaxPooling2D(),\n",
    "    layers.Conv2D(32, 3, padding='same', activation='relu'),\n",
    "    layers.MaxPooling2D(),\n",
    "    layers.Conv2D(64, 3, padding='same', activation='relu'),\n",
    "    layers.MaxPooling2D(),\n",
    "    layers.Flatten(),\n",
    "    layers.Dense(num_classes)\n",
    "])"
   ]
  },
  {
   "cell_type": "code",
   "execution_count": 262,
   "id": "bc7d9885",
   "metadata": {},
   "outputs": [],
   "source": [
    "train_bs = 8\n",
    "valid_bs = 8\n",
    "optimizer = tf.keras.optimizers.Adam()\n",
    "loss_fn = keras.losses.SparseCategoricalCrossentropy()\n",
    "\n",
    "# Prepare the metrics.\n",
    "train_acc_metric = keras.metrics.SparseCategoricalAccuracy()\n",
    "val_acc_metric = keras.metrics.SparseCategoricalAccuracy()"
   ]
  },
  {
   "cell_type": "code",
   "execution_count": 263,
   "id": "6760e0cf",
   "metadata": {},
   "outputs": [],
   "source": [
    "model.build(input_shape=(train_bs, 64, 64, 3))"
   ]
  },
  {
   "cell_type": "code",
   "execution_count": 264,
   "id": "f5976ac0",
   "metadata": {},
   "outputs": [
    {
     "name": "stdout",
     "output_type": "stream",
     "text": [
      "Model: \"sequential_79\"\n",
      "_________________________________________________________________\n",
      "Layer (type)                 Output Shape              Param #   \n",
      "=================================================================\n",
      "rescaling_49 (Rescaling)     (8, 64, 64, 3)            0         \n",
      "_________________________________________________________________\n",
      "conv2d_136 (Conv2D)          (8, 64, 64, 16)           448       \n",
      "_________________________________________________________________\n",
      "max_pooling2d_138 (MaxPoolin (8, 32, 32, 16)           0         \n",
      "_________________________________________________________________\n",
      "conv2d_137 (Conv2D)          (8, 32, 32, 32)           4640      \n",
      "_________________________________________________________________\n",
      "max_pooling2d_139 (MaxPoolin (8, 16, 16, 32)           0         \n",
      "_________________________________________________________________\n",
      "conv2d_138 (Conv2D)          (8, 16, 16, 64)           18496     \n",
      "_________________________________________________________________\n",
      "max_pooling2d_140 (MaxPoolin (8, 8, 8, 64)             0         \n",
      "_________________________________________________________________\n",
      "flatten_41 (Flatten)         (8, 4096)                 0         \n",
      "_________________________________________________________________\n",
      "dense_47 (Dense)             (8, 200)                  819400    \n",
      "=================================================================\n",
      "Total params: 842,984\n",
      "Trainable params: 842,984\n",
      "Non-trainable params: 0\n",
      "_________________________________________________________________\n"
     ]
    }
   ],
   "source": [
    "model.summary()"
   ]
  },
  {
   "cell_type": "code",
   "execution_count": 265,
   "id": "e8e4623f",
   "metadata": {},
   "outputs": [],
   "source": [
    "task_interface = TaskInterface()\n",
    "\n",
    "\n",
    "@task_interface.register_fl_task(model='model', data_loader='train_dataset',\n",
    "                                 device='device', optimizer='optimizer')     \n",
    "def train(model, train_dataset, optimizer, device, loss_fn=loss_fn, warmup=False):    \n",
    "    # Iterate over the batches of the dataset.\n",
    "    for step, (x_batch_train, y_batch_train) in enumerate(train_dataset):\n",
    "        y = tf.convert_to_tensor(y_batch_train)\n",
    "        with tf.GradientTape() as tape:\n",
    "            y_pred = model(x_batch_train, training=True)  # Forward pass\n",
    "\n",
    "            loss = loss_fn(y, y_pred)\n",
    "\n",
    "        # Compute gradients\n",
    "        trainable_vars = model.trainable_variables\n",
    "        gradients = tape.gradient(loss, trainable_vars)\n",
    "\n",
    "        # Update weights\n",
    "        optimizer.apply_gradients(zip(gradients, trainable_vars))\n",
    "\n",
    "        # Update metrics\n",
    "        train_acc_metric.update_state(y, y_pred)\n",
    "    \n",
    "    # Reset training metrics at the end of each epoch\n",
    "    train_acc = train_acc_metric.result()\n",
    "    train_acc_metric.reset_states()\n",
    "    return {'train_acc': train_acc, 'loss': loss}\n",
    "\n",
    "\n",
    "@task_interface.register_fl_task(model='model', data_loader='val_dataset', device='device')     \n",
    "def validate(model, val_dataset, device):\n",
    "    for x_batch_val, y_batch_val in val_dataset:\n",
    "        y = tf.convert_to_tensor(y_batch_val)\n",
    "        # Compute predictions\n",
    "        y_pred = model(x_batch_val, training=False)\n",
    "        # Update the metrics.\n",
    "        val_acc_metric.update_state(y, y_pred)\n",
    "    val_acc = val_acc_metric.result()\n",
    "    val_acc_metric.reset_states()\n",
    "    \n",
    "    return {'validation_accuracy': val_acc}"
   ]
  },
  {
   "cell_type": "code",
   "execution_count": null,
   "id": "35bf2619",
   "metadata": {},
   "outputs": [],
   "source": [
    "fed_dataset = TinyImageNetDataset(train_bs=train_bs, valid_bs=valid_bs)"
   ]
  },
  {
   "cell_type": "code",
   "execution_count": 266,
   "id": "7e158c53",
   "metadata": {},
   "outputs": [],
   "source": [
    "# # Prepare data for local tests\n",
    "# from tinyimagenet_shard_descriptor import TinyImageNetShardDescriptor\n",
    "\n",
    "\n",
    "# sd = TinyImageNetShardDescriptor('tinyimagenet_data')\n",
    "# fed_dataset.shard_descriptor = sd\n"
   ]
  },
  {
   "cell_type": "code",
   "execution_count": 267,
   "id": "1c502621",
   "metadata": {},
   "outputs": [],
   "source": [
    "# # Run local test\n",
    "# for i in range(5):\n",
    "#     print(i)\n",
    "#     train(model=model, optimizer=optimizer, device='CPU', train_dataset=fed_dataset.get_train_loader())"
   ]
  },
  {
   "cell_type": "code",
   "execution_count": 268,
   "id": "14b3c96f",
   "metadata": {},
   "outputs": [],
   "source": [
    "# # Prepare data for local tests\n",
    "\n",
    "# !pip install matplotlib\n",
    "# import matplotlib.pyplot as plt\n",
    "\n",
    "\n",
    "# def draw(history, epochs):\n",
    "#     acc = history.history['accuracy']\n",
    "#     val_acc = history.history['val_accuracy']\n",
    "\n",
    "#     loss = history.history['loss']\n",
    "#     val_loss = history.history['val_loss']\n",
    "\n",
    "#     epochs_range = range(epochs)\n",
    "\n",
    "#     plt.figure(figsize=(8, 8))\n",
    "#     plt.subplot(1, 2, 1)\n",
    "#     plt.plot(epochs_range, acc, label='Training Accuracy')\n",
    "#     plt.plot(epochs_range, val_acc, label='Validation Accuracy')\n",
    "#     plt.legend(loc='lower right')\n",
    "#     plt.title('Training and Validation Accuracy')\n",
    "\n",
    "#     plt.subplot(1, 2, 2)\n",
    "#     plt.plot(epochs_range, loss, label='Training Loss')\n",
    "#     plt.plot(epochs_range, val_loss, label='Validation Loss')\n",
    "#     plt.legend(loc='upper right')\n",
    "#     plt.title('Training and Validation Loss')\n",
    "#     plt.show()\n",
    "    \n",
    "    \n",
    "# def get_model(lr=0.001):\n",
    "#     model = Sequential([\n",
    "#         layers.experimental.preprocessing.Rescaling(1./255, input_shape=(64, 64, 3)),\n",
    "# #         data_augmentation,\n",
    "#         layers.Conv2D(16, 3, padding='same', activation='relu'),\n",
    "#         layers.MaxPooling2D(),\n",
    "#         layers.Conv2D(32, 3, padding='same', activation='relu'),\n",
    "#         layers.MaxPooling2D(),\n",
    "#         layers.Conv2D(64, 3, padding='same', activation='relu'),\n",
    "#         layers.MaxPooling2D(),\n",
    "#         layers.Conv2D(128, 3, padding='same', activation='relu'),\n",
    "#         layers.MaxPooling2D(),\n",
    "#         layers.Conv2D(256, 3, padding='same', activation='relu'),\n",
    "#         layers.MaxPooling2D(),\n",
    "#         layers.Flatten(),\n",
    "#         layers.Dense(512, activation='relu'),\n",
    "#         layers.Dense(num_classes)\n",
    "#     ])\n",
    "# #     base_model = tf.keras.applications.mobilenet_v2.MobileNetV2(\n",
    "# #         input_shape=(64, 64, 3), alpha=0.75, include_top=False, weights='imagenet',\n",
    "# #     )\n",
    "# #     base_model.layers[0].trainable = False\n",
    "# #     x = base_model.output\n",
    "# #     x = layers.MaxPooling2D()(x)\n",
    "# #     x = layers.Flatten()(x)\n",
    "# #     last_layer = tf.keras.layers.Dense(num_classes, activation = 'softmax')(x)\n",
    "# #     model = tf.keras.models.Model(inputs = base_model.input, outputs = last_layer)\n",
    "#     optimizer = tf.keras.optimizers.Adam(learning_rate=lr)\n",
    "# #     model.build(input_shape=[train_bs, 64, 64, 3])\n",
    "#     model.compile(\n",
    "#         optimizer=optimizer,\n",
    "#         loss=tf.keras.losses.SparseCategoricalCrossentropy(from_logits=True),\n",
    "#         metrics=['accuracy'],\n",
    "#     )\n",
    "#     return model"
   ]
  },
  {
   "cell_type": "code",
   "execution_count": 269,
   "id": "848d4987",
   "metadata": {},
   "outputs": [],
   "source": [
    "# # Run local test\n",
    "\n",
    "# models = {}\n",
    "# for lr in [0.0001]:\n",
    "#     model = get_model(lr)\n",
    "#     models[lr] = model\n",
    "#     epochs=5\n",
    "#     print(f'{lr=}')\n",
    "#     history = model.fit(\n",
    "#       fed_dataset.get_train_loader(),\n",
    "#       validation_data=fed_dataset.get_valid_loader(),\n",
    "#       epochs=epochs\n",
    "#     )\n",
    "#     draw(history, epochs)"
   ]
  },
  {
   "cell_type": "markdown",
   "id": "f097cdc5",
   "metadata": {},
   "source": [
    "### Register model\n"
   ]
  },
  {
   "cell_type": "code",
   "execution_count": 270,
   "id": "06a8cca8",
   "metadata": {},
   "outputs": [],
   "source": [
    "framework_adapter = 'openfl.plugins.frameworks_adapters.keras_adapter.FrameworkAdapterPlugin'\n",
    "model_interface = ModelInterface(model=model, optimizer=optimizer, framework_plugin=framework_adapter)"
   ]
  },
  {
   "cell_type": "markdown",
   "id": "8f0ebf2d",
   "metadata": {},
   "source": [
    "## Time to start a federated learning experiment"
   ]
  },
  {
   "cell_type": "code",
   "execution_count": 271,
   "id": "d41b7896",
   "metadata": {},
   "outputs": [],
   "source": [
    "# create an experimnet in federation\n",
    "experiment_name = 'tinyimagenet_test_experiment'\n",
    "fl_experiment = FLExperiment(federation=federation, experiment_name=experiment_name)"
   ]
  },
  {
   "cell_type": "code",
   "execution_count": 272,
   "id": "41b44de9",
   "metadata": {},
   "outputs": [
    {
     "data": {
      "text/html": [
       "<pre style=\"white-space:pre;overflow-x:auto;line-height:normal;font-family:Menlo,'DejaVu Sans Mono',consolas,'Courier New',monospace\"><span style=\"color: #7fbfbf\">[22:54:07] </span><span style=\"color: #000080\">INFO</span>     Building <span style=\"color: #800000\">🡆</span> Object <span style=\"color: #800000\">CloudpickleSerializer</span> from <span style=\"color: #800000\">openfl.plugins.interface_serializer.cloudpickle_serializer</span> Module.                  <a href=\"file:///home/amokrov/pycharm/openfl/openfl/federated/plan/plan.py\"><span style=\"color: #7f7f7f\">plan.py</span></a><span style=\"color: #7f7f7f\">:170</span>\n",
       "</pre>\n"
      ],
      "text/plain": [
       "<rich.jupyter.JupyterRenderable at 0x7f0184d228e0>"
      ]
     },
     "metadata": {},
     "output_type": "display_data"
    },
    {
     "data": {
      "text/html": [
       "<pre style=\"white-space:pre;overflow-x:auto;line-height:normal;font-family:Menlo,'DejaVu Sans Mono',consolas,'Courier New',monospace\"><span style=\"color: #7fbfbf\">           </span><span style=\"color: #000080\">INFO</span>     Settings <span style=\"color: #800000\">🡆</span> <span style=\"font-weight: bold\">{}</span>                                                                                                                    <a href=\"file:///home/amokrov/pycharm/openfl/openfl/federated/plan/plan.py\"><span style=\"color: #7f7f7f\">plan.py</span></a><span style=\"color: #7f7f7f\">:173</span>\n",
       "</pre>\n"
      ],
      "text/plain": [
       "<rich.jupyter.JupyterRenderable at 0x7eff7d4e4130>"
      ]
     },
     "metadata": {},
     "output_type": "display_data"
    },
    {
     "data": {
      "text/html": [
       "<pre style=\"white-space:pre;overflow-x:auto;line-height:normal;font-family:Menlo,'DejaVu Sans Mono',consolas,'Courier New',monospace\"><span style=\"color: #7fbfbf\">           </span><span style=\"color: #000080\">INFO</span>     Override <span style=\"color: #800000\">🡆</span> <span style=\"font-weight: bold\">{}</span>                                                                                                                    <a href=\"file:///home/amokrov/pycharm/openfl/openfl/federated/plan/plan.py\"><span style=\"color: #7f7f7f\">plan.py</span></a><span style=\"color: #7f7f7f\">:175</span>\n",
       "</pre>\n"
      ],
      "text/plain": [
       "<rich.jupyter.JupyterRenderable at 0x7f0184d07a30>"
      ]
     },
     "metadata": {},
     "output_type": "display_data"
    },
    {
     "data": {
      "text/html": [
       "<pre style=\"white-space:pre;overflow-x:auto;line-height:normal;font-family:Menlo,'DejaVu Sans Mono',consolas,'Courier New',monospace\"><span style=\"color: #7fbfbf\">           </span><span style=\"color: #000080\">INFO</span>     Building <span style=\"color: #800000\">🡆</span> Object <span style=\"color: #800000\">FrameworkAdapterPlugin</span> from <span style=\"color: #800000\">openfl.plugins.frameworks_adapters.keras_adapter</span> Module.                           <a href=\"file:///home/amokrov/pycharm/openfl/openfl/federated/plan/plan.py\"><span style=\"color: #7f7f7f\">plan.py</span></a><span style=\"color: #7f7f7f\">:170</span>\n",
       "</pre>\n"
      ],
      "text/plain": [
       "<rich.jupyter.JupyterRenderable at 0x7f020d55da30>"
      ]
     },
     "metadata": {},
     "output_type": "display_data"
    },
    {
     "data": {
      "text/html": [
       "<pre style=\"white-space:pre;overflow-x:auto;line-height:normal;font-family:Menlo,'DejaVu Sans Mono',consolas,'Courier New',monospace\"><span style=\"color: #7fbfbf\">           </span><span style=\"color: #000080\">INFO</span>     Settings <span style=\"color: #800000\">🡆</span> <span style=\"font-weight: bold\">{}</span>                                                                                                                    <a href=\"file:///home/amokrov/pycharm/openfl/openfl/federated/plan/plan.py\"><span style=\"color: #7f7f7f\">plan.py</span></a><span style=\"color: #7f7f7f\">:173</span>\n",
       "</pre>\n"
      ],
      "text/plain": [
       "<rich.jupyter.JupyterRenderable at 0x7f020d55da30>"
      ]
     },
     "metadata": {},
     "output_type": "display_data"
    },
    {
     "data": {
      "text/html": [
       "<pre style=\"white-space:pre;overflow-x:auto;line-height:normal;font-family:Menlo,'DejaVu Sans Mono',consolas,'Courier New',monospace\"><span style=\"color: #7fbfbf\">           </span><span style=\"color: #000080\">INFO</span>     Override <span style=\"color: #800000\">🡆</span> <span style=\"font-weight: bold\">{}</span>                                                                                                                    <a href=\"file:///home/amokrov/pycharm/openfl/openfl/federated/plan/plan.py\"><span style=\"color: #7f7f7f\">plan.py</span></a><span style=\"color: #7f7f7f\">:175</span>\n",
       "</pre>\n"
      ],
      "text/plain": [
       "<rich.jupyter.JupyterRenderable at 0x7f0184cc72b0>"
      ]
     },
     "metadata": {},
     "output_type": "display_data"
    },
    {
     "data": {
      "text/html": [
       "<pre style=\"white-space:pre;overflow-x:auto;line-height:normal;font-family:Menlo,'DejaVu Sans Mono',consolas,'Courier New',monospace\"><span style=\"color: #7fbfbf\">[22:54:26] </span><span style=\"color: #000080\">INFO</span>     Starting experiment!                                                                                                       <a href=\"file:///home/amokrov/pycharm/openfl/openfl/interface/interactive_api/experiment.py\"><span style=\"color: #7f7f7f\">experiment.py</span></a><span style=\"color: #7f7f7f\">:155</span>\n",
       "</pre>\n"
      ],
      "text/plain": [
       "<rich.jupyter.JupyterRenderable at 0x7f0184d22b80>"
      ]
     },
     "metadata": {},
     "output_type": "display_data"
    },
    {
     "data": {
      "text/html": [
       "<pre style=\"white-space:pre;overflow-x:auto;line-height:normal;font-family:Menlo,'DejaVu Sans Mono',consolas,'Courier New',monospace\"><span style=\"color: #7fbfbf\">           </span><span style=\"color: #000080\">INFO</span>     FL-Plan hash is <span style=\"color: #000080\">26bce45f938e7bf93b38056b384fc13731aa12f0adac9b0fbb2e184aa130408276d813809e5afbf9318cdb98d79eeb6b</span>                 <a href=\"file:///home/amokrov/pycharm/openfl/openfl/federated/plan/plan.py\"><span style=\"color: #7f7f7f\">plan.py</span></a><span style=\"color: #7f7f7f\">:231</span>\n",
       "</pre>\n"
      ],
      "text/plain": [
       "<rich.jupyter.JupyterRenderable at 0x7f0184d22d30>"
      ]
     },
     "metadata": {},
     "output_type": "display_data"
    },
    {
     "data": {
      "text/html": [
       "<pre style=\"white-space:pre;overflow-x:auto;line-height:normal;font-family:Menlo,'DejaVu Sans Mono',consolas,'Courier New',monospace\"><span style=\"color: #7fbfbf\">           </span><span style=\"color: #000080\">INFO</span>     FL-Plan hash is <span style=\"color: #000080\">26bce45f938e7bf93b38056b384fc13731aa12f0adac9b0fbb2e184aa130408276d813809e5afbf9318cdb98d79eeb6b</span>                 <a href=\"file:///home/amokrov/pycharm/openfl/openfl/federated/plan/plan.py\"><span style=\"color: #7f7f7f\">plan.py</span></a><span style=\"color: #7f7f7f\">:231</span>\n",
       "</pre>\n"
      ],
      "text/plain": [
       "<rich.jupyter.JupyterRenderable at 0x7f0184d22d30>"
      ]
     },
     "metadata": {},
     "output_type": "display_data"
    },
    {
     "data": {
      "text/html": [
       "<pre style=\"white-space:pre;overflow-x:auto;line-height:normal;font-family:Menlo,'DejaVu Sans Mono',consolas,'Courier New',monospace\"><span style=\"color: #7fbfbf\">           </span><span style=\"color: #000080\">INFO</span>     Building <span style=\"color: #800000\">🡆</span> Object <span style=\"color: #800000\">CoreTaskRunner</span> from <span style=\"color: #800000\">openfl.federated.task.task_runner</span> Module.                                                  <a href=\"file:///home/amokrov/pycharm/openfl/openfl/federated/plan/plan.py\"><span style=\"color: #7f7f7f\">plan.py</span></a><span style=\"color: #7f7f7f\">:170</span>\n",
       "</pre>\n"
      ],
      "text/plain": [
       "<rich.jupyter.JupyterRenderable at 0x7f0184d229d0>"
      ]
     },
     "metadata": {},
     "output_type": "display_data"
    },
    {
     "data": {
      "text/html": [
       "<pre style=\"white-space:pre;overflow-x:auto;line-height:normal;font-family:Menlo,'DejaVu Sans Mono',consolas,'Courier New',monospace\"><span style=\"color: #7fbfbf\">           </span><span style=\"color: #000080\">INFO</span>     Settings <span style=\"color: #800000\">🡆</span> <span style=\"font-weight: bold\">{}</span>                                                                                                                    <a href=\"file:///home/amokrov/pycharm/openfl/openfl/federated/plan/plan.py\"><span style=\"color: #7f7f7f\">plan.py</span></a><span style=\"color: #7f7f7f\">:173</span>\n",
       "</pre>\n"
      ],
      "text/plain": [
       "<rich.jupyter.JupyterRenderable at 0x7f0184d229d0>"
      ]
     },
     "metadata": {},
     "output_type": "display_data"
    },
    {
     "data": {
      "text/html": [
       "<pre style=\"white-space:pre;overflow-x:auto;line-height:normal;font-family:Menlo,'DejaVu Sans Mono',consolas,'Courier New',monospace\"><span style=\"color: #7fbfbf\">           </span><span style=\"color: #000080\">INFO</span>     Override <span style=\"color: #800000\">🡆</span> <span style=\"font-weight: bold\">{</span><span style=\"color: #008000\">'required_plugin_components'</span>: <span style=\"font-weight: bold\">{</span><span style=\"color: #008000\">'framework_adapters'</span>:                                                                 <a href=\"file:///home/amokrov/pycharm/openfl/openfl/federated/plan/plan.py\"><span style=\"color: #7f7f7f\">plan.py</span></a><span style=\"color: #7f7f7f\">:175</span>\n",
       "                    <span style=\"color: #008000\">'openfl.plugins.frameworks_adapters.keras_adapter.FrameworkAdapterPlugin'</span><span style=\"font-weight: bold\">}}</span>                                                                 \n",
       "</pre>\n"
      ],
      "text/plain": [
       "<rich.jupyter.JupyterRenderable at 0x7f0184d22f10>"
      ]
     },
     "metadata": {},
     "output_type": "display_data"
    },
    {
     "data": {
      "text/html": [
       "<pre style=\"white-space:pre;overflow-x:auto;line-height:normal;font-family:Menlo,'DejaVu Sans Mono',consolas,'Courier New',monospace\"><span style=\"color: #7fbfbf\">           </span><span style=\"color: #000080\">INFO</span>     Building <span style=\"color: #800000\">🡆</span> Object <span style=\"color: #800000\">FrameworkAdapterPlugin</span> from <span style=\"color: #800000\">openfl.plugins.frameworks_adapters.keras_adapter</span> Module.                           <a href=\"file:///home/amokrov/pycharm/openfl/openfl/federated/plan/plan.py\"><span style=\"color: #7f7f7f\">plan.py</span></a><span style=\"color: #7f7f7f\">:170</span>\n",
       "</pre>\n"
      ],
      "text/plain": [
       "<rich.jupyter.JupyterRenderable at 0x7f0184d22d30>"
      ]
     },
     "metadata": {},
     "output_type": "display_data"
    },
    {
     "data": {
      "text/html": [
       "<pre style=\"white-space:pre;overflow-x:auto;line-height:normal;font-family:Menlo,'DejaVu Sans Mono',consolas,'Courier New',monospace\"><span style=\"color: #7fbfbf\">           </span><span style=\"color: #000080\">INFO</span>     Settings <span style=\"color: #800000\">🡆</span> <span style=\"font-weight: bold\">{}</span>                                                                                                                    <a href=\"file:///home/amokrov/pycharm/openfl/openfl/federated/plan/plan.py\"><span style=\"color: #7f7f7f\">plan.py</span></a><span style=\"color: #7f7f7f\">:173</span>\n",
       "</pre>\n"
      ],
      "text/plain": [
       "<rich.jupyter.JupyterRenderable at 0x7f0184d229d0>"
      ]
     },
     "metadata": {},
     "output_type": "display_data"
    },
    {
     "data": {
      "text/html": [
       "<pre style=\"white-space:pre;overflow-x:auto;line-height:normal;font-family:Menlo,'DejaVu Sans Mono',consolas,'Courier New',monospace\"><span style=\"color: #7fbfbf\">           </span><span style=\"color: #000080\">INFO</span>     Override <span style=\"color: #800000\">🡆</span> <span style=\"font-weight: bold\">{}</span>                                                                                                                    <a href=\"file:///home/amokrov/pycharm/openfl/openfl/federated/plan/plan.py\"><span style=\"color: #7f7f7f\">plan.py</span></a><span style=\"color: #7f7f7f\">:175</span>\n",
       "</pre>\n"
      ],
      "text/plain": [
       "<rich.jupyter.JupyterRenderable at 0x7f0184d22b80>"
      ]
     },
     "metadata": {},
     "output_type": "display_data"
    },
    {
     "data": {
      "text/html": [
       "<pre style=\"white-space:pre;overflow-x:auto;line-height:normal;font-family:Menlo,'DejaVu Sans Mono',consolas,'Courier New',monospace\"><span style=\"color: #7fbfbf\">           </span><span style=\"color: #800000\">WARNING</span>  tried to remove tensor: __opt_state_needed not present in the tensor dict                                                       <a href=\"file:///home/amokrov/pycharm/openfl/openfl/utilities/utils.py\"><span style=\"color: #7f7f7f\">utils.py</span></a><span style=\"color: #7f7f7f\">:131</span>\n",
       "</pre>\n"
      ],
      "text/plain": [
       "<rich.jupyter.JupyterRenderable at 0x7f0184d229d0>"
      ]
     },
     "metadata": {},
     "output_type": "display_data"
    },
    {
     "data": {
      "text/html": [
       "<pre style=\"white-space:pre;overflow-x:auto;line-height:normal;font-family:Menlo,'DejaVu Sans Mono',consolas,'Courier New',monospace\"><span style=\"color: #7fbfbf\">           </span><span style=\"color: #800000\">WARNING</span>  tried to remove tensor: __opt_state_needed not present in the tensor dict                                                       <a href=\"file:///home/amokrov/pycharm/openfl/openfl/utilities/utils.py\"><span style=\"color: #7f7f7f\">utils.py</span></a><span style=\"color: #7f7f7f\">:131</span>\n",
       "</pre>\n"
      ],
      "text/plain": [
       "<rich.jupyter.JupyterRenderable at 0x7f0184d227f0>"
      ]
     },
     "metadata": {},
     "output_type": "display_data"
    },
    {
     "data": {
      "text/html": [
       "<pre style=\"white-space:pre;overflow-x:auto;line-height:normal;font-family:Menlo,'DejaVu Sans Mono',consolas,'Courier New',monospace\"><span style=\"color: #7fbfbf\">           </span><span style=\"color: #000080\">INFO</span>     SetNewExperiment                                                                                                      <a href=\"file:///home/amokrov/pycharm/openfl/openfl/transport/grpc/director_client.py\"><span style=\"color: #7f7f7f\">director_client.py</span></a><span style=\"color: #7f7f7f\">:152</span>\n",
       "</pre>\n"
      ],
      "text/plain": [
       "<rich.jupyter.JupyterRenderable at 0x7f0184d22580>"
      ]
     },
     "metadata": {},
     "output_type": "display_data"
    },
    {
     "data": {
      "text/html": [
       "<pre style=\"white-space:pre;overflow-x:auto;line-height:normal;font-family:Menlo,'DejaVu Sans Mono',consolas,'Courier New',monospace\"><span style=\"color: #7fbfbf\">[22:54:27] </span><span style=\"color: #000080\">INFO</span>     Experiment was accepted and launched.                                                                                      <a href=\"file:///home/amokrov/pycharm/openfl/openfl/interface/interactive_api/experiment.py\"><span style=\"color: #7f7f7f\">experiment.py</span></a><span style=\"color: #7f7f7f\">:169</span>\n",
       "</pre>\n"
      ],
      "text/plain": [
       "<rich.jupyter.JupyterRenderable at 0x7f0184d22f10>"
      ]
     },
     "metadata": {},
     "output_type": "display_data"
    }
   ],
   "source": [
    "# The following command zips the workspace and python requirements to be transfered to collaborator nodes\n",
    "fl_experiment.start(\n",
    "    model_provider=model_interface, \n",
    "    task_keeper=task_interface,\n",
    "    data_loader=fed_dataset,\n",
    "    rounds_to_train=5,\n",
    "    opt_treatment='CONTINUE_GLOBAL'\n",
    ")"
   ]
  },
  {
   "cell_type": "code",
   "execution_count": null,
   "id": "c7b2219d",
   "metadata": {},
   "outputs": [],
   "source": []
  }
 ],
 "metadata": {
  "kernelspec": {
   "display_name": "Python 3",
   "language": "python",
   "name": "python3"
  },
  "language_info": {
   "codemirror_mode": {
    "name": "ipython",
    "version": 3
   },
   "file_extension": ".py",
   "mimetype": "text/x-python",
   "name": "python",
   "nbconvert_exporter": "python",
   "pygments_lexer": "ipython3",
   "version": "3.8.0"
  }
 },
 "nbformat": 4,
 "nbformat_minor": 5
}
