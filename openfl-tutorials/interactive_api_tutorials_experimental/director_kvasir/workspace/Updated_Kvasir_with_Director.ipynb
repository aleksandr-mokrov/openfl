{
 "cells": [
  {
   "cell_type": "markdown",
   "id": "liquid-jacket",
   "metadata": {},
   "source": [
    "# Federated Kvasir with Director example\n",
    "## Using low-level Python API"
   ]
  },
  {
   "cell_type": "markdown",
   "id": "af0579f8",
   "metadata": {},
   "source": [
    "# Long-Living entities update\n",
    "\n",
    "* We now may have director running on another machine.\n",
    "* We use Federation API to communicate with Director.\n",
    "* Federation object should hold a Director's client (for user service)\n",
    "* Keeping in mind that several API instances may be connacted to one Director.\n",
    "\n",
    "\n",
    "* We do not think for now how we start a Director.\n",
    "* But it knows the data shape and target shape for the DataScience problem in the Federation.\n",
    "* Director holds the list of connected envoys, we do not need to specify it anymore.\n",
    "* Director and Envoys are responsible for encrypting connections, we do not need to worry about certs.\n",
    "\n",
    "\n",
    "* Yet we MUST have a cert to communicate to the Director.\n",
    "* We MUST know the FQDN of a Director.\n",
    "* Director communicates data and target shape to the Federation interface object.\n",
    "\n",
    "\n",
    "* Experiment API may use this info to construct a dummy dataset and a `shard descriptor` stub."
   ]
  },
  {
   "cell_type": "code",
   "execution_count": 1,
   "id": "alike-sharing",
   "metadata": {
    "scrolled": false
   },
   "outputs": [
    {
     "name": "stdout",
     "output_type": "stream",
     "text": [
      "Requirement already satisfied: torchvision in /home/davidyuk/.virtualenvs/openfl/lib/python3.8/site-packages (0.9.1)\n",
      "Requirement already satisfied: torch==1.8.1 in /home/davidyuk/.virtualenvs/openfl/lib/python3.8/site-packages (from torchvision) (1.8.1)\n",
      "Requirement already satisfied: pillow>=4.1.1 in /home/davidyuk/.virtualenvs/openfl/lib/python3.8/site-packages (from torchvision) (8.2.0)\n",
      "Requirement already satisfied: numpy in /home/davidyuk/.virtualenvs/openfl/lib/python3.8/site-packages (from torchvision) (1.20.3)\n",
      "Requirement already satisfied: typing-extensions in /home/davidyuk/.virtualenvs/openfl/lib/python3.8/site-packages (from torch==1.8.1->torchvision) (3.10.0.0)\n",
      "\u001b[33mWARNING: You are using pip version 21.1; however, version 21.1.2 is available.\n",
      "You should consider upgrading via the '/home/davidyuk/.virtualenvs/openfl/bin/python -m pip install --upgrade pip' command.\u001b[0m\n"
     ]
    }
   ],
   "source": [
    "# Install dependencies if not already installed\n",
    "!pip install torchvision"
   ]
  },
  {
   "cell_type": "markdown",
   "id": "16986f22",
   "metadata": {},
   "source": [
    "# Connect to the Federation"
   ]
  },
  {
   "cell_type": "code",
   "execution_count": 2,
   "id": "4485ac79",
   "metadata": {},
   "outputs": [],
   "source": [
    "# Create a federation\n",
    "from openfl.interface.interactive_api.federation import Federation\n",
    "\n",
    "# 1) Run with API layer - Director mTLS \n",
    "# If the user wants to enable mTLS their must provide CA root chain, and signed key pair to the federation interface\n",
    "cert_chain = 'cert/cert_chain.crt'\n",
    "API_certificate = 'cert/API_certificate.crt'\n",
    "API_private_key = 'cert/API_private.key'\n",
    "\n",
    "# federation = Federation(director_node_fqdn='some.fqdn', disable_tls=False,\n",
    "#                        cert_chain=cert_chain, API_cert=API_certificate, API_private_key=API_private_key)\n",
    "\n",
    "# --------------------------------------------------------------------------------------------------------------------\n",
    "\n",
    "# 2) Run with TLS disabled (trusted environment)\n",
    "# Federation can also determine local fqdn automatically\n",
    "federation = Federation(director_node_fqdn='localhost', director_port='50051', disable_tls=True)\n"
   ]
  },
  {
   "cell_type": "code",
   "execution_count": 3,
   "id": "e35802d5",
   "metadata": {
    "scrolled": true
   },
   "outputs": [
    {
     "data": {
      "text/plain": [
       "[node_info {\n",
       "  name: \"1,100\"\n",
       "}\n",
       "shard_description: \"Kvasir dataset, shard number 1 out of 100\"\n",
       "n_samples: 10\n",
       "sample_shape: \"529\"\n",
       "sample_shape: \"622\"\n",
       "sample_shape: \"3\"\n",
       "target_shape: \"529\"\n",
       "target_shape: \"622\"\n",
       "]"
      ]
     },
     "execution_count": 3,
     "metadata": {},
     "output_type": "execute_result"
    }
   ],
   "source": [
    "shard_registry = federation.dir_client.request_shard_registry()\n",
    "shard_registry"
   ]
  },
  {
   "cell_type": "code",
   "execution_count": 4,
   "id": "67ae50de",
   "metadata": {},
   "outputs": [
    {
     "data": {
      "text/plain": [
       "['529', '622']"
      ]
     },
     "execution_count": 4,
     "metadata": {},
     "output_type": "execute_result"
    }
   ],
   "source": [
    "federation.target_shape"
   ]
  },
  {
   "cell_type": "code",
   "execution_count": 5,
   "id": "920216d3",
   "metadata": {
    "scrolled": true
   },
   "outputs": [],
   "source": [
    "# First, request a dummy_shard_desc that holds information about the federated dataset \n",
    "dummy_shard_desc = federation.get_dummy_shard_descriptor(size=10)\n",
    "sample, target = dummy_shard_desc[0]"
   ]
  },
  {
   "cell_type": "markdown",
   "id": "obvious-tyler",
   "metadata": {},
   "source": [
    "## Creating a FL experiment using Interactive API"
   ]
  },
  {
   "cell_type": "code",
   "execution_count": 6,
   "id": "rubber-address",
   "metadata": {},
   "outputs": [],
   "source": [
    "from openfl.interface.interactive_api.experiment import TaskInterface, DataInterface, ModelInterface, FLExperiment"
   ]
  },
  {
   "cell_type": "markdown",
   "id": "sustainable-public",
   "metadata": {},
   "source": [
    "### Register dataset"
   ]
  },
  {
   "cell_type": "markdown",
   "id": "unlike-texas",
   "metadata": {},
   "source": [
    "We extract User dataset class implementation.\n",
    "Is it convinient?\n",
    "What if the dataset is not a class?"
   ]
  },
  {
   "cell_type": "code",
   "execution_count": 7,
   "id": "64f37dcf",
   "metadata": {
    "scrolled": true
   },
   "outputs": [],
   "source": [
    "import os\n",
    "import PIL\n",
    "import numpy as np\n",
    "from torch.utils.data import Dataset, DataLoader, SubsetRandomSampler\n",
    "from torchvision import transforms as tsf\n",
    "\n",
    "# Now you can implement you data loaders using dummy_shard_desc\n",
    "class KvasirSD(DataInterface, Dataset):\n",
    "\n",
    "    def __init__(self, validation_fraction=1/8, **kwargs):\n",
    "        super().__init__(**kwargs)\n",
    "        \n",
    "        self.validation_fraction = validation_fraction\n",
    "        \n",
    "        # Prepare transforms\n",
    "        self.img_trans = tsf.Compose([\n",
    "            tsf.ToPILImage(),\n",
    "            tsf.Resize((332, 332)),\n",
    "            tsf.ToTensor(),\n",
    "            tsf.Normalize(mean=[0.5, 0.5, 0.5], std=[0.5, 0.5, 0.5])])\n",
    "        self.mask_trans = tsf.Compose([\n",
    "            tsf.ToPILImage(),\n",
    "            tsf.Resize((332, 332), interpolation=PIL.Image.NEAREST),\n",
    "            tsf.ToTensor()])\n",
    "        \n",
    "    @property\n",
    "    def shard_descriptor(self):\n",
    "        return self._shard_descriptor\n",
    "        \n",
    "    @shard_descriptor.setter\n",
    "    def shard_descriptor(self, shard_descriptor):\n",
    "        \"\"\"\n",
    "        Describe per-collaborator procedures or sharding.\n",
    "\n",
    "        This method will be called during a collaborator initialization.\n",
    "        Local shard_descriptor  will be set by Envoy.\n",
    "        \"\"\"\n",
    "        self._shard_descriptor = shard_descriptor\n",
    "        \n",
    "        validation_size = max(1, int(len(self.shard_descriptor) * self.validation_fraction))\n",
    "        \n",
    "        self.train_indeces = np.arange(len(self.shard_descriptor) - validation_size)\n",
    "        self.val_indeces = np.arange(len(self.shard_descriptor) - validation_size, len(self.shard_descriptor))\n",
    "        \n",
    "\n",
    "    def __getitem__(self, index):\n",
    "        img, mask = self.shard_descriptor[index]\n",
    "        img = self.img_trans(img).numpy()\n",
    "        mask = self.mask_trans(mask).numpy()\n",
    "        return img, mask\n",
    "\n",
    "    def __len__(self):\n",
    "        return len(self.shard_descriptor)\n",
    "    \n",
    "    \n",
    "    def get_train_loader(self, **kwargs):\n",
    "        \"\"\"\n",
    "        Output of this method will be provided to tasks with optimizer in contract\n",
    "        \"\"\"\n",
    "        train_sampler = SubsetRandomSampler(self.train_indeces)\n",
    "        return DataLoader(\n",
    "            self, num_workers=8, batch_size=self.kwargs['train_bs'], sampler=train_sampler\n",
    "            )\n",
    "\n",
    "    def get_valid_loader(self, **kwargs):\n",
    "        \"\"\"\n",
    "        Output of this method will be provided to tasks without optimizer in contract\n",
    "        \"\"\"\n",
    "        val_sampler = SubsetRandomSampler(self.val_indeces)\n",
    "        return DataLoader(self, num_workers=8, batch_size=self.kwargs['valid_bs'], sampler=val_sampler)\n",
    "\n",
    "    def get_train_data_size(self):\n",
    "        \"\"\"\n",
    "        Information for aggregation\n",
    "        \"\"\"\n",
    "        return len(self.train_indeces)\n",
    "\n",
    "    def get_valid_data_size(self):\n",
    "        \"\"\"\n",
    "        Information for aggregation\n",
    "        \"\"\"\n",
    "        return len(self.val_indeces)"
   ]
  },
  {
   "cell_type": "code",
   "execution_count": 8,
   "id": "d8df35f5",
   "metadata": {},
   "outputs": [
    {
     "name": "stderr",
     "output_type": "stream",
     "text": [
      "/home/davidyuk/.virtualenvs/openfl/lib/python3.8/site-packages/torchvision/transforms/transforms.py:257: UserWarning: Argument interpolation should be of type InterpolationMode instead of int. Please, use InterpolationMode enum.\n",
      "  warnings.warn(\n"
     ]
    },
    {
     "name": "stdout",
     "output_type": "stream",
     "text": [
      "torch.Size([8, 3, 332, 332])\n",
      "torch.Size([1, 3, 332, 332])\n"
     ]
    }
   ],
   "source": [
    "fed_dataset = KvasirSD(train_bs=8, valid_bs=8)\n",
    "fed_dataset.shard_descriptor = dummy_shard_desc\n",
    "for i, (sample, target) in enumerate(fed_dataset.get_train_loader()):\n",
    "    print(sample.shape)"
   ]
  },
  {
   "cell_type": "markdown",
   "id": "caring-distinction",
   "metadata": {},
   "source": [
    "### Describe a model and optimizer"
   ]
  },
  {
   "cell_type": "code",
   "execution_count": 9,
   "id": "visible-victor",
   "metadata": {},
   "outputs": [],
   "source": [
    "import torch\n",
    "import torch.nn as nn\n",
    "import torch.optim as optim"
   ]
  },
  {
   "cell_type": "code",
   "execution_count": 10,
   "id": "foreign-gospel",
   "metadata": {},
   "outputs": [],
   "source": [
    "\"\"\"\n",
    "UNet model definition\n",
    "\"\"\"\n",
    "from layers import soft_dice_coef, soft_dice_loss, double_conv, down, up\n",
    "\n",
    "class UNet(nn.Module):\n",
    "    def __init__(self, n_channels=3, n_classes=1):\n",
    "        super().__init__()\n",
    "        self.inc = double_conv(n_channels, 64)\n",
    "        self.down1 = down(64, 128)\n",
    "        self.down2 = down(128, 256)\n",
    "        self.down3 = down(256, 512)\n",
    "        self.down4 = down(512, 1024)\n",
    "        self.up1 = up(1024, 512)\n",
    "        self.up2 = up(512, 256)\n",
    "        self.up3 = up(256, 128)\n",
    "        self.up4 = up(128, 64)\n",
    "        self.outc = nn.Conv2d(64, n_classes, 1)\n",
    "\n",
    "    def forward(self, x):\n",
    "        x1 = self.inc(x)\n",
    "        x2 = self.down1(x1)\n",
    "        x3 = self.down2(x2)\n",
    "        x4 = self.down3(x3)\n",
    "        x5 = self.down4(x4)\n",
    "        x = self.up1(x5, x4)\n",
    "        x = self.up2(x, x3)\n",
    "        x = self.up3(x, x2)\n",
    "        x = self.up4(x, x1)\n",
    "        x = self.outc(x)\n",
    "        x = torch.sigmoid(x)\n",
    "        return x\n",
    "    \n",
    "    \n",
    "class UNet(nn.Module):\n",
    "    def __init__(self, n_channels=3, n_classes=1):\n",
    "        super().__init__()\n",
    "        self.inc = double_conv(n_channels, 64)\n",
    "        self.down1 = down(64, 128)\n",
    "        self.down2 = down(128, 256)\n",
    "        self.down3 = down(256, 512)\n",
    "        self.up2 = up(512, 256)\n",
    "        self.up3 = up(256, 128)\n",
    "        self.up4 = up(128, 64)\n",
    "        self.outc = nn.Conv2d(64, n_classes, 1)\n",
    "\n",
    "    def forward(self, x):\n",
    "        x1 = self.inc(x)\n",
    "        x2 = self.down1(x1)\n",
    "        x3 = self.down2(x2)\n",
    "        x4 = self.down3(x3)\n",
    "        x = self.up2(x4, x3)\n",
    "        x = self.up3(x, x2)\n",
    "        x = self.up4(x, x1)\n",
    "        x = self.outc(x)\n",
    "        x = torch.sigmoid(x)\n",
    "        return x\n",
    "    \n",
    "model_unet = UNet()"
   ]
  },
  {
   "cell_type": "code",
   "execution_count": 11,
   "id": "greater-activation",
   "metadata": {},
   "outputs": [],
   "source": [
    "optimizer_adam = optim.Adam(model_unet.parameters(), lr=1e-4)"
   ]
  },
  {
   "cell_type": "markdown",
   "id": "caroline-passion",
   "metadata": {},
   "source": [
    "#### Register model"
   ]
  },
  {
   "cell_type": "code",
   "execution_count": 12,
   "id": "handled-teens",
   "metadata": {},
   "outputs": [],
   "source": [
    "from copy import deepcopy\n",
    "\n",
    "framework_adapter = 'openfl.plugins.frameworks_adapters.pytorch_adapter.FrameworkAdapterPlugin'\n",
    "MI = ModelInterface(model=model_unet, optimizer=optimizer_adam, framework_plugin=framework_adapter)\n",
    "\n",
    "# Save the initial model state\n",
    "initial_model = deepcopy(model_unet)"
   ]
  },
  {
   "cell_type": "markdown",
   "id": "portuguese-groove",
   "metadata": {},
   "source": [
    "### Define and register FL tasks"
   ]
  },
  {
   "cell_type": "code",
   "execution_count": 13,
   "id": "increasing-builder",
   "metadata": {},
   "outputs": [],
   "source": [
    "TI = TaskInterface()\n",
    "import torch\n",
    "\n",
    "import tqdm\n",
    "\n",
    "# The Interactive API supports registering functions definied in main module or imported.\n",
    "def function_defined_in_notebook(some_parameter):\n",
    "    print(f'Also I accept a parameter and it is {some_parameter}')\n",
    "\n",
    "# Task interface currently supports only standalone functions.\n",
    "@TI.add_kwargs(**{'some_parameter': 42})\n",
    "@TI.register_fl_task(model='unet_model', data_loader='train_loader', \\\n",
    "                     device='device', optimizer='optimizer')     \n",
    "def train(unet_model, train_loader, optimizer, device, loss_fn=soft_dice_loss, some_parameter=None):\n",
    "    if not torch.cuda.is_available():\n",
    "        device = 'cpu'\n",
    "    else:\n",
    "        device = 'cuda'\n",
    "    \n",
    "    function_defined_in_notebook(some_parameter)\n",
    "    \n",
    "    train_loader = tqdm.tqdm(train_loader, desc=\"train\")\n",
    "    \n",
    "    unet_model.train()\n",
    "    unet_model.to(device)\n",
    "\n",
    "    losses = []\n",
    "\n",
    "    for data, target in train_loader:\n",
    "        data, target = torch.tensor(data).to(device), torch.tensor(\n",
    "            target).to(device, dtype=torch.float32)\n",
    "        optimizer.zero_grad()\n",
    "        output = unet_model(data)\n",
    "        loss = loss_fn(output=output, target=target)\n",
    "        loss.backward()\n",
    "        optimizer.step()\n",
    "        losses.append(loss.detach().cpu().numpy())\n",
    "        \n",
    "    return {'train_loss': np.mean(losses),}\n",
    "\n",
    "\n",
    "@TI.register_fl_task(model='unet_model', data_loader='val_loader', device='device')     \n",
    "def validate(unet_model, val_loader, device):\n",
    "    if not torch.cuda.is_available():\n",
    "        device = 'cpu'\n",
    "    else:\n",
    "        device = 'cuda'\n",
    "        \n",
    "    unet_model.eval()\n",
    "    unet_model.to(device)\n",
    "    \n",
    "    val_loader = tqdm.tqdm(val_loader, desc=\"validate\")\n",
    "\n",
    "    val_score = 0\n",
    "    total_samples = 0\n",
    "\n",
    "    with torch.no_grad():\n",
    "        for data, target in val_loader:\n",
    "            samples = target.shape[0]\n",
    "            total_samples += samples\n",
    "            data, target = torch.tensor(data).to(device), \\\n",
    "                torch.tensor(target).to(device, dtype=torch.int64)\n",
    "            output = unet_model(data)\n",
    "            val = soft_dice_coef(output, target)\n",
    "            val_score += val.sum().cpu().numpy()\n",
    "            \n",
    "    return {'dice_coef': val_score / total_samples,}"
   ]
  },
  {
   "cell_type": "markdown",
   "id": "derived-bride",
   "metadata": {},
   "source": [
    "## Time to start a federated learning experiment"
   ]
  },
  {
   "cell_type": "code",
   "execution_count": 14,
   "id": "mature-renewal",
   "metadata": {},
   "outputs": [],
   "source": [
    "# create an experimnet in federation\n",
    "fl_experiment = FLExperiment(federation=federation,)"
   ]
  },
  {
   "cell_type": "code",
   "execution_count": 15,
   "id": "lightweight-causing",
   "metadata": {
    "scrolled": true
   },
   "outputs": [
    {
     "data": {
      "text/html": [
       "<pre style=\"white-space:pre;overflow-x:auto;line-height:normal;font-family:Menlo,'DejaVu Sans Mono',consolas,'Courier New',monospace\"><span style=\"color: #7fbfbf\">[06/28/21 13:05:33] </span><span style=\"color: #000080\">INFO</span>     <span style=\"font-weight: bold\">[</span><span style=\"color: #000080; font-weight: bold\">2021</span>-<span style=\"color: #000080; font-weight: bold\">06</span>-<span style=\"color: #000080; font-weight: bold\">28</span> <span style=\"color: #00ff00; font-weight: bold\">13:05:33</span>,<span style=\"color: #000080; font-weight: bold\">094</span><span style=\"font-weight: bold\">][</span>INFO<span style=\"font-weight: bold\">]</span> - Building <span style=\"color: #800000\">🡆</span> Object <span style=\"color: #800000\">CloudpickleSerializer</span> from                                          <a href=\"file:///home/davidyuk/openfl/openfl/federated/plan/plan.py\"><span style=\"color: #7f7f7f\">plan.py</span></a><span style=\"color: #7f7f7f\">:170</span>\n",
       "                             <span style=\"color: #800000\">openfl.plugins.interface_serializer.cloudpickle_serializer</span> Module.                                                                 \n",
       "</pre>\n"
      ],
      "text/plain": [
       "<rich.jupyter.JupyterRenderable at 0x7f0be9a898b0>"
      ]
     },
     "metadata": {},
     "output_type": "display_data"
    },
    {
     "data": {
      "text/html": [
       "<pre style=\"white-space:pre;overflow-x:auto;line-height:normal;font-family:Menlo,'DejaVu Sans Mono',consolas,'Courier New',monospace\"><span style=\"color: #7fbfbf\">                    </span><span style=\"color: #000080\">INFO</span>     <span style=\"font-weight: bold\">[</span><span style=\"color: #000080; font-weight: bold\">2021</span>-<span style=\"color: #000080; font-weight: bold\">06</span>-<span style=\"color: #000080; font-weight: bold\">28</span> <span style=\"color: #00ff00; font-weight: bold\">13:05:33</span>,<span style=\"color: #000080; font-weight: bold\">102</span><span style=\"font-weight: bold\">][</span>INFO<span style=\"font-weight: bold\">]</span> - Settings <span style=\"color: #800000\">🡆</span> <span style=\"font-weight: bold\">{}</span>                                                                         <a href=\"file:///home/davidyuk/openfl/openfl/federated/plan/plan.py\"><span style=\"color: #7f7f7f\">plan.py</span></a><span style=\"color: #7f7f7f\">:173</span>\n",
       "</pre>\n"
      ],
      "text/plain": [
       "<rich.jupyter.JupyterRenderable at 0x7f0c978fc9d0>"
      ]
     },
     "metadata": {},
     "output_type": "display_data"
    },
    {
     "data": {
      "text/html": [
       "<pre style=\"white-space:pre;overflow-x:auto;line-height:normal;font-family:Menlo,'DejaVu Sans Mono',consolas,'Courier New',monospace\"><span style=\"color: #7fbfbf\">                    </span><span style=\"color: #000080\">INFO</span>     <span style=\"font-weight: bold\">[</span><span style=\"color: #000080; font-weight: bold\">2021</span>-<span style=\"color: #000080; font-weight: bold\">06</span>-<span style=\"color: #000080; font-weight: bold\">28</span> <span style=\"color: #00ff00; font-weight: bold\">13:05:33</span>,<span style=\"color: #000080; font-weight: bold\">105</span><span style=\"font-weight: bold\">][</span>INFO<span style=\"font-weight: bold\">]</span> - Override <span style=\"color: #800000\">🡆</span> <span style=\"font-weight: bold\">{}</span>                                                                         <a href=\"file:///home/davidyuk/openfl/openfl/federated/plan/plan.py\"><span style=\"color: #7f7f7f\">plan.py</span></a><span style=\"color: #7f7f7f\">:175</span>\n",
       "</pre>\n"
      ],
      "text/plain": [
       "<rich.jupyter.JupyterRenderable at 0x7f0c978fc190>"
      ]
     },
     "metadata": {},
     "output_type": "display_data"
    },
    {
     "data": {
      "text/html": [
       "<pre style=\"white-space:pre;overflow-x:auto;line-height:normal;font-family:Menlo,'DejaVu Sans Mono',consolas,'Courier New',monospace\"><span style=\"color: #7fbfbf\">                    </span><span style=\"color: #000080\">INFO</span>     <span style=\"font-weight: bold\">[</span><span style=\"color: #000080; font-weight: bold\">2021</span>-<span style=\"color: #000080; font-weight: bold\">06</span>-<span style=\"color: #000080; font-weight: bold\">28</span> <span style=\"color: #00ff00; font-weight: bold\">13:05:33</span>,<span style=\"color: #000080; font-weight: bold\">109</span><span style=\"font-weight: bold\">][</span>INFO<span style=\"font-weight: bold\">]</span> - Building <span style=\"color: #800000\">🡆</span> Object <span style=\"color: #800000\">FrameworkAdapterPlugin</span> from                                         <a href=\"file:///home/davidyuk/openfl/openfl/federated/plan/plan.py\"><span style=\"color: #7f7f7f\">plan.py</span></a><span style=\"color: #7f7f7f\">:170</span>\n",
       "                             <span style=\"color: #800000\">openfl.plugins.frameworks_adapters.pytorch_adapter</span> Module.                                                                         \n",
       "</pre>\n"
      ],
      "text/plain": [
       "<rich.jupyter.JupyterRenderable at 0x7f0c978fc130>"
      ]
     },
     "metadata": {},
     "output_type": "display_data"
    },
    {
     "data": {
      "text/html": [
       "<pre style=\"white-space:pre;overflow-x:auto;line-height:normal;font-family:Menlo,'DejaVu Sans Mono',consolas,'Courier New',monospace\"><span style=\"color: #7fbfbf\">                    </span><span style=\"color: #000080\">INFO</span>     <span style=\"font-weight: bold\">[</span><span style=\"color: #000080; font-weight: bold\">2021</span>-<span style=\"color: #000080; font-weight: bold\">06</span>-<span style=\"color: #000080; font-weight: bold\">28</span> <span style=\"color: #00ff00; font-weight: bold\">13:05:33</span>,<span style=\"color: #000080; font-weight: bold\">111</span><span style=\"font-weight: bold\">][</span>INFO<span style=\"font-weight: bold\">]</span> - Settings <span style=\"color: #800000\">🡆</span> <span style=\"font-weight: bold\">{}</span>                                                                         <a href=\"file:///home/davidyuk/openfl/openfl/federated/plan/plan.py\"><span style=\"color: #7f7f7f\">plan.py</span></a><span style=\"color: #7f7f7f\">:173</span>\n",
       "</pre>\n"
      ],
      "text/plain": [
       "<rich.jupyter.JupyterRenderable at 0x7f0c978fc340>"
      ]
     },
     "metadata": {},
     "output_type": "display_data"
    },
    {
     "data": {
      "text/html": [
       "<pre style=\"white-space:pre;overflow-x:auto;line-height:normal;font-family:Menlo,'DejaVu Sans Mono',consolas,'Courier New',monospace\"><span style=\"color: #7fbfbf\">                    </span><span style=\"color: #000080\">INFO</span>     <span style=\"font-weight: bold\">[</span><span style=\"color: #000080; font-weight: bold\">2021</span>-<span style=\"color: #000080; font-weight: bold\">06</span>-<span style=\"color: #000080; font-weight: bold\">28</span> <span style=\"color: #00ff00; font-weight: bold\">13:05:33</span>,<span style=\"color: #000080; font-weight: bold\">115</span><span style=\"font-weight: bold\">][</span>INFO<span style=\"font-weight: bold\">]</span> - Override <span style=\"color: #800000\">🡆</span> <span style=\"font-weight: bold\">{}</span>                                                                         <a href=\"file:///home/davidyuk/openfl/openfl/federated/plan/plan.py\"><span style=\"color: #7f7f7f\">plan.py</span></a><span style=\"color: #7f7f7f\">:175</span>\n",
       "</pre>\n"
      ],
      "text/plain": [
       "<rich.jupyter.JupyterRenderable at 0x7f0c978fc130>"
      ]
     },
     "metadata": {},
     "output_type": "display_data"
    },
    {
     "data": {
      "text/html": [
       "<pre style=\"white-space:pre;overflow-x:auto;line-height:normal;font-family:Menlo,'DejaVu Sans Mono',consolas,'Courier New',monospace\"><span style=\"color: #7fbfbf\">[06/28/21 13:05:35] </span><span style=\"color: #000080\">INFO</span>     <span style=\"font-weight: bold\">[</span><span style=\"color: #000080; font-weight: bold\">2021</span>-<span style=\"color: #000080; font-weight: bold\">06</span>-<span style=\"color: #000080; font-weight: bold\">28</span> <span style=\"color: #00ff00; font-weight: bold\">13:05:35</span>,<span style=\"color: #000080; font-weight: bold\">691</span><span style=\"font-weight: bold\">][</span>openfl.interface.interactive_api.experiment<span style=\"font-weight: bold\">][</span>INFO<span style=\"font-weight: bold\">]</span> - Starting experiment!                <a href=\"file:///home/davidyuk/openfl/openfl/interface/interactive_api/experiment.py\"><span style=\"color: #7f7f7f\">experiment.py</span></a><span style=\"color: #7f7f7f\">:87</span>\n",
       "</pre>\n"
      ],
      "text/plain": [
       "<rich.jupyter.JupyterRenderable at 0x7f0c707e8880>"
      ]
     },
     "metadata": {},
     "output_type": "display_data"
    },
    {
     "data": {
      "text/html": [
       "<pre style=\"white-space:pre;overflow-x:auto;line-height:normal;font-family:Menlo,'DejaVu Sans Mono',consolas,'Courier New',monospace\"><span style=\"color: #7fbfbf\">                    </span><span style=\"color: #000080\">INFO</span>     <span style=\"font-weight: bold\">[</span><span style=\"color: #000080; font-weight: bold\">2021</span>-<span style=\"color: #000080; font-weight: bold\">06</span>-<span style=\"color: #000080; font-weight: bold\">28</span> <span style=\"color: #00ff00; font-weight: bold\">13:05:35</span>,<span style=\"color: #000080; font-weight: bold\">708</span><span style=\"font-weight: bold\">][</span>INFO<span style=\"font-weight: bold\">]</span> - FL-Plan hash is                                                                       <a href=\"file:///home/davidyuk/openfl/openfl/federated/plan/plan.py\"><span style=\"color: #7f7f7f\">plan.py</span></a><span style=\"color: #7f7f7f\">:231</span>\n",
       "                             <span style=\"color: #000080\">bb49d66a82608d0696f7b37a04c9e13130ae4548d935321efe20b7fca90cf84a418235cfb1f56f123db3445ad7ecdf14</span>                                   \n",
       "</pre>\n"
      ],
      "text/plain": [
       "<rich.jupyter.JupyterRenderable at 0x7f0c707eeb20>"
      ]
     },
     "metadata": {},
     "output_type": "display_data"
    },
    {
     "data": {
      "text/html": [
       "<pre style=\"white-space:pre;overflow-x:auto;line-height:normal;font-family:Menlo,'DejaVu Sans Mono',consolas,'Courier New',monospace\"><span style=\"color: #7fbfbf\">                    </span><span style=\"color: #000080\">INFO</span>     <span style=\"font-weight: bold\">[</span><span style=\"color: #000080; font-weight: bold\">2021</span>-<span style=\"color: #000080; font-weight: bold\">06</span>-<span style=\"color: #000080; font-weight: bold\">28</span> <span style=\"color: #00ff00; font-weight: bold\">13:05:35</span>,<span style=\"color: #000080; font-weight: bold\">717</span><span style=\"font-weight: bold\">][</span>INFO<span style=\"font-weight: bold\">]</span> - FL-Plan hash is                                                                       <a href=\"file:///home/davidyuk/openfl/openfl/federated/plan/plan.py\"><span style=\"color: #7f7f7f\">plan.py</span></a><span style=\"color: #7f7f7f\">:231</span>\n",
       "                             <span style=\"color: #000080\">bb49d66a82608d0696f7b37a04c9e13130ae4548d935321efe20b7fca90cf84a418235cfb1f56f123db3445ad7ecdf14</span>                                   \n",
       "</pre>\n"
      ],
      "text/plain": [
       "<rich.jupyter.JupyterRenderable at 0x7f0be9a89d30>"
      ]
     },
     "metadata": {},
     "output_type": "display_data"
    },
    {
     "data": {
      "text/html": [
       "<pre style=\"white-space:pre;overflow-x:auto;line-height:normal;font-family:Menlo,'DejaVu Sans Mono',consolas,'Courier New',monospace\"><span style=\"color: #7fbfbf\">                    </span><span style=\"color: #000080\">INFO</span>     <span style=\"font-weight: bold\">[</span><span style=\"color: #000080; font-weight: bold\">2021</span>-<span style=\"color: #000080; font-weight: bold\">06</span>-<span style=\"color: #000080; font-weight: bold\">28</span> <span style=\"color: #00ff00; font-weight: bold\">13:05:35</span>,<span style=\"color: #000080; font-weight: bold\">722</span><span style=\"font-weight: bold\">][</span>INFO<span style=\"font-weight: bold\">]</span> - Building <span style=\"color: #800000\">🡆</span> Object <span style=\"color: #800000\">CoreTaskRunner</span> from <span style=\"color: #800000\">openfl.federated.task.task_runner</span> Module.       <a href=\"file:///home/davidyuk/openfl/openfl/federated/plan/plan.py\"><span style=\"color: #7f7f7f\">plan.py</span></a><span style=\"color: #7f7f7f\">:170</span>\n",
       "</pre>\n"
      ],
      "text/plain": [
       "<rich.jupyter.JupyterRenderable at 0x7f0c707e5cd0>"
      ]
     },
     "metadata": {},
     "output_type": "display_data"
    },
    {
     "data": {
      "text/html": [
       "<pre style=\"white-space:pre;overflow-x:auto;line-height:normal;font-family:Menlo,'DejaVu Sans Mono',consolas,'Courier New',monospace\"><span style=\"color: #7fbfbf\">                    </span><span style=\"color: #000080\">INFO</span>     <span style=\"font-weight: bold\">[</span><span style=\"color: #000080; font-weight: bold\">2021</span>-<span style=\"color: #000080; font-weight: bold\">06</span>-<span style=\"color: #000080; font-weight: bold\">28</span> <span style=\"color: #00ff00; font-weight: bold\">13:05:35</span>,<span style=\"color: #000080; font-weight: bold\">725</span><span style=\"font-weight: bold\">][</span>INFO<span style=\"font-weight: bold\">]</span> - Settings <span style=\"color: #800000\">🡆</span> <span style=\"font-weight: bold\">{}</span>                                                                         <a href=\"file:///home/davidyuk/openfl/openfl/federated/plan/plan.py\"><span style=\"color: #7f7f7f\">plan.py</span></a><span style=\"color: #7f7f7f\">:173</span>\n",
       "</pre>\n"
      ],
      "text/plain": [
       "<rich.jupyter.JupyterRenderable at 0x7f0c707e5670>"
      ]
     },
     "metadata": {},
     "output_type": "display_data"
    },
    {
     "data": {
      "text/html": [
       "<pre style=\"white-space:pre;overflow-x:auto;line-height:normal;font-family:Menlo,'DejaVu Sans Mono',consolas,'Courier New',monospace\"><span style=\"color: #7fbfbf\">                    </span><span style=\"color: #000080\">INFO</span>     <span style=\"font-weight: bold\">[</span><span style=\"color: #000080; font-weight: bold\">2021</span>-<span style=\"color: #000080; font-weight: bold\">06</span>-<span style=\"color: #000080; font-weight: bold\">28</span> <span style=\"color: #00ff00; font-weight: bold\">13:05:35</span>,<span style=\"color: #000080; font-weight: bold\">731</span><span style=\"font-weight: bold\">][</span>INFO<span style=\"font-weight: bold\">]</span> - Override <span style=\"color: #800000\">🡆</span> <span style=\"font-weight: bold\">{</span><span style=\"color: #008000\">'required_plugin_components'</span>: <span style=\"font-weight: bold\">{</span><span style=\"color: #008000\">'framework_adapters'</span>:                      <a href=\"file:///home/davidyuk/openfl/openfl/federated/plan/plan.py\"><span style=\"color: #7f7f7f\">plan.py</span></a><span style=\"color: #7f7f7f\">:175</span>\n",
       "                             <span style=\"color: #008000\">'openfl.plugins.frameworks_adapters.pytorch_adapter.FrameworkAdapterPlugin'</span><span style=\"font-weight: bold\">}}</span>                                                      \n",
       "</pre>\n"
      ],
      "text/plain": [
       "<rich.jupyter.JupyterRenderable at 0x7f0c707e58b0>"
      ]
     },
     "metadata": {},
     "output_type": "display_data"
    },
    {
     "data": {
      "text/html": [
       "<pre style=\"white-space:pre;overflow-x:auto;line-height:normal;font-family:Menlo,'DejaVu Sans Mono',consolas,'Courier New',monospace\"><span style=\"color: #7fbfbf\">                    </span><span style=\"color: #000080\">INFO</span>     <span style=\"font-weight: bold\">[</span><span style=\"color: #000080; font-weight: bold\">2021</span>-<span style=\"color: #000080; font-weight: bold\">06</span>-<span style=\"color: #000080; font-weight: bold\">28</span> <span style=\"color: #00ff00; font-weight: bold\">13:05:35</span>,<span style=\"color: #000080; font-weight: bold\">735</span><span style=\"font-weight: bold\">][</span>INFO<span style=\"font-weight: bold\">]</span> - Building <span style=\"color: #800000\">🡆</span> Object <span style=\"color: #800000\">FrameworkAdapterPlugin</span> from                                         <a href=\"file:///home/davidyuk/openfl/openfl/federated/plan/plan.py\"><span style=\"color: #7f7f7f\">plan.py</span></a><span style=\"color: #7f7f7f\">:170</span>\n",
       "                             <span style=\"color: #800000\">openfl.plugins.frameworks_adapters.pytorch_adapter</span> Module.                                                                         \n",
       "</pre>\n"
      ],
      "text/plain": [
       "<rich.jupyter.JupyterRenderable at 0x7f0c7085f3d0>"
      ]
     },
     "metadata": {},
     "output_type": "display_data"
    },
    {
     "data": {
      "text/html": [
       "<pre style=\"white-space:pre;overflow-x:auto;line-height:normal;font-family:Menlo,'DejaVu Sans Mono',consolas,'Courier New',monospace\"><span style=\"color: #7fbfbf\">                    </span><span style=\"color: #000080\">INFO</span>     <span style=\"font-weight: bold\">[</span><span style=\"color: #000080; font-weight: bold\">2021</span>-<span style=\"color: #000080; font-weight: bold\">06</span>-<span style=\"color: #000080; font-weight: bold\">28</span> <span style=\"color: #00ff00; font-weight: bold\">13:05:35</span>,<span style=\"color: #000080; font-weight: bold\">738</span><span style=\"font-weight: bold\">][</span>INFO<span style=\"font-weight: bold\">]</span> - Settings <span style=\"color: #800000\">🡆</span> <span style=\"font-weight: bold\">{}</span>                                                                         <a href=\"file:///home/davidyuk/openfl/openfl/federated/plan/plan.py\"><span style=\"color: #7f7f7f\">plan.py</span></a><span style=\"color: #7f7f7f\">:173</span>\n",
       "</pre>\n"
      ],
      "text/plain": [
       "<rich.jupyter.JupyterRenderable at 0x7f0c7085fd60>"
      ]
     },
     "metadata": {},
     "output_type": "display_data"
    },
    {
     "data": {
      "text/html": [
       "<pre style=\"white-space:pre;overflow-x:auto;line-height:normal;font-family:Menlo,'DejaVu Sans Mono',consolas,'Courier New',monospace\"><span style=\"color: #7fbfbf\">                    </span><span style=\"color: #000080\">INFO</span>     <span style=\"font-weight: bold\">[</span><span style=\"color: #000080; font-weight: bold\">2021</span>-<span style=\"color: #000080; font-weight: bold\">06</span>-<span style=\"color: #000080; font-weight: bold\">28</span> <span style=\"color: #00ff00; font-weight: bold\">13:05:35</span>,<span style=\"color: #000080; font-weight: bold\">741</span><span style=\"font-weight: bold\">][</span>INFO<span style=\"font-weight: bold\">]</span> - Override <span style=\"color: #800000\">🡆</span> <span style=\"font-weight: bold\">{}</span>                                                                         <a href=\"file:///home/davidyuk/openfl/openfl/federated/plan/plan.py\"><span style=\"color: #7f7f7f\">plan.py</span></a><span style=\"color: #7f7f7f\">:175</span>\n",
       "</pre>\n"
      ],
      "text/plain": [
       "<rich.jupyter.JupyterRenderable at 0x7f0c7085fa00>"
      ]
     },
     "metadata": {},
     "output_type": "display_data"
    },
    {
     "data": {
      "text/html": [
       "<pre style=\"white-space:pre;overflow-x:auto;line-height:normal;font-family:Menlo,'DejaVu Sans Mono',consolas,'Courier New',monospace\"><span style=\"color: #7fbfbf\">                    </span><span style=\"color: #800000\">WARNING</span>  <span style=\"font-weight: bold\">[</span><span style=\"color: #000080; font-weight: bold\">2021</span>-<span style=\"color: #000080; font-weight: bold\">06</span>-<span style=\"color: #000080; font-weight: bold\">28</span> <span style=\"color: #00ff00; font-weight: bold\">13:05:35</span>,<span style=\"color: #000080; font-weight: bold\">761</span><span style=\"font-weight: bold\">][</span>openfl.federated.task.task_runner<span style=\"font-weight: bold\">][</span>WARNING<span style=\"font-weight: bold\">]</span> - tried to remove tensor: __opt_state_needed not <a href=\"file:///home/davidyuk/openfl/openfl/utilities/utils.py\"><span style=\"color: #7f7f7f\">utils.py</span></a><span style=\"color: #7f7f7f\">:113</span>\n",
       "                             present in the tensor dict                                                                                                         \n",
       "</pre>\n"
      ],
      "text/plain": [
       "<rich.jupyter.JupyterRenderable at 0x7f0c707e59d0>"
      ]
     },
     "metadata": {},
     "output_type": "display_data"
    },
    {
     "data": {
      "text/html": [
       "<pre style=\"white-space:pre;overflow-x:auto;line-height:normal;font-family:Menlo,'DejaVu Sans Mono',consolas,'Courier New',monospace\"><span style=\"color: #7fbfbf\">                    </span><span style=\"color: #800000\">WARNING</span>  <span style=\"font-weight: bold\">[</span><span style=\"color: #000080; font-weight: bold\">2021</span>-<span style=\"color: #000080; font-weight: bold\">06</span>-<span style=\"color: #000080; font-weight: bold\">28</span> <span style=\"color: #00ff00; font-weight: bold\">13:05:35</span>,<span style=\"color: #000080; font-weight: bold\">782</span><span style=\"font-weight: bold\">][</span>openfl.interface.interactive_api.experiment<span style=\"font-weight: bold\">][</span>WARNING<span style=\"font-weight: bold\">]</span> - tried to remove tensor:              <a href=\"file:///home/davidyuk/openfl/openfl/utilities/utils.py\"><span style=\"color: #7f7f7f\">utils.py</span></a><span style=\"color: #7f7f7f\">:113</span>\n",
       "                             __opt_state_needed not present in the tensor dict                                                                                  \n",
       "</pre>\n"
      ],
      "text/plain": [
       "<rich.jupyter.JupyterRenderable at 0x7f0c707e5790>"
      ]
     },
     "metadata": {},
     "output_type": "display_data"
    },
    {
     "data": {
      "text/html": [
       "<pre style=\"white-space:pre;overflow-x:auto;line-height:normal;font-family:Menlo,'DejaVu Sans Mono',consolas,'Courier New',monospace\"><span style=\"color: #7fbfbf\">                    </span><span style=\"color: #000080\">INFO</span>     <span style=\"font-weight: bold\">[</span><span style=\"color: #000080; font-weight: bold\">2021</span>-<span style=\"color: #000080; font-weight: bold\">06</span>-<span style=\"color: #000080; font-weight: bold\">28</span> <span style=\"color: #00ff00; font-weight: bold\">13:05:35</span>,<span style=\"color: #000080; font-weight: bold\">786</span><span style=\"font-weight: bold\">][</span>openfl.transport.grpc.director_client<span style=\"font-weight: bold\">][</span>INFO<span style=\"font-weight: bold\">]</span> - SetNewExperiment                    <a href=\"file:///home/davidyuk/openfl/openfl/transport/grpc/director_client.py\"><span style=\"color: #7f7f7f\">director_client.py</span></a><span style=\"color: #7f7f7f\">:126</span>\n",
       "</pre>\n"
      ],
      "text/plain": [
       "<rich.jupyter.JupyterRenderable at 0x7f0c707e5520>"
      ]
     },
     "metadata": {},
     "output_type": "display_data"
    },
    {
     "data": {
      "text/html": [
       "<pre style=\"white-space:pre;overflow-x:auto;line-height:normal;font-family:Menlo,'DejaVu Sans Mono',consolas,'Courier New',monospace\"><span style=\"color: #7fbfbf\">[06/28/21 13:05:36] </span><span style=\"color: #000080\">INFO</span>     <span style=\"font-weight: bold\">[</span><span style=\"color: #000080; font-weight: bold\">2021</span>-<span style=\"color: #000080; font-weight: bold\">06</span>-<span style=\"color: #000080; font-weight: bold\">28</span> <span style=\"color: #00ff00; font-weight: bold\">13:05:36</span>,<span style=\"color: #000080; font-weight: bold\">953</span><span style=\"font-weight: bold\">][</span>openfl.interface.interactive_api.experiment<span style=\"font-weight: bold\">][</span>INFO<span style=\"font-weight: bold\">]</span> - Experiment was accepted and        <a href=\"file:///home/davidyuk/openfl/openfl/interface/interactive_api/experiment.py\"><span style=\"color: #7f7f7f\">experiment.py</span></a><span style=\"color: #7f7f7f\">:102</span>\n",
       "                             launched.                                                                                                                          \n",
       "</pre>\n"
      ],
      "text/plain": [
       "<rich.jupyter.JupyterRenderable at 0x7f0c707e5520>"
      ]
     },
     "metadata": {},
     "output_type": "display_data"
    },
    {
     "data": {
      "text/html": [
       "<pre style=\"white-space:pre;overflow-x:auto;line-height:normal;font-family:Menlo,'DejaVu Sans Mono',consolas,'Courier New',monospace\"><span style=\"color: #7fbfbf\">                    </span><span style=\"color: #000080\">INFO</span>     <span style=\"font-weight: bold\">[</span><span style=\"color: #000080; font-weight: bold\">2021</span>-<span style=\"color: #000080; font-weight: bold\">06</span>-<span style=\"color: #000080; font-weight: bold\">28</span> <span style=\"color: #00ff00; font-weight: bold\">13:05:36</span>,<span style=\"color: #000080; font-weight: bold\">957</span><span style=\"font-weight: bold\">][</span>openfl.interface.interactive_api.experiment<span style=\"font-weight: bold\">][</span>INFO<span style=\"font-weight: bold\">]</span> - You can watch the experiment       <a href=\"file:///home/davidyuk/openfl/openfl/interface/interactive_api/experiment.py\"><span style=\"color: #7f7f7f\">experiment.py</span></a><span style=\"color: #7f7f7f\">:103</span>\n",
       "                             through tensorboard:                                                                                                               \n",
       "</pre>\n"
      ],
      "text/plain": [
       "<rich.jupyter.JupyterRenderable at 0x7f0c707e5dc0>"
      ]
     },
     "metadata": {},
     "output_type": "display_data"
    },
    {
     "data": {
      "text/html": [
       "<pre style=\"white-space:pre;overflow-x:auto;line-height:normal;font-family:Menlo,'DejaVu Sans Mono',consolas,'Courier New',monospace\"><span style=\"color: #7fbfbf\">                    </span><span style=\"color: #000080\">INFO</span>     <span style=\"font-weight: bold\">[</span><span style=\"color: #000080; font-weight: bold\">2021</span>-<span style=\"color: #000080; font-weight: bold\">06</span>-<span style=\"color: #000080; font-weight: bold\">28</span> <span style=\"color: #00ff00; font-weight: bold\">13:05:36</span>,<span style=\"color: #000080; font-weight: bold\">961</span><span style=\"font-weight: bold\">][</span>openfl.interface.interactive_api.experiment<span style=\"font-weight: bold\">][</span>INFO<span style=\"font-weight: bold\">]</span> -                                    <a href=\"file:///home/davidyuk/openfl/openfl/interface/interactive_api/experiment.py\"><span style=\"color: #7f7f7f\">experiment.py</span></a><span style=\"color: #7f7f7f\">:104</span>\n",
       "                             <span style=\"color: #0000ff; text-decoration: underline\">http://idavidyu-mobl.ccr.corp.intel.com:6006</span>                                                                                       \n",
       "</pre>\n"
      ],
      "text/plain": [
       "<rich.jupyter.JupyterRenderable at 0x7f0c707e5e80>"
      ]
     },
     "metadata": {},
     "output_type": "display_data"
    }
   ],
   "source": [
    "# If I use autoreload I got a pickling error\n",
    "\n",
    "# The following command zips the workspace and python requirements to be transfered to collaborator nodes\n",
    "fl_experiment.start(model_provider=MI, \n",
    "                    task_keeper=TI,\n",
    "                    data_loader=fed_dataset,\n",
    "                    rounds_to_train=2,\n",
    "                    opt_treatment='CONTINUE_GLOBAL')\n"
   ]
  },
  {
   "cell_type": "markdown",
   "id": "8c30b301",
   "metadata": {},
   "source": [
    "## Now we validate the best model!"
   ]
  },
  {
   "cell_type": "code",
   "execution_count": 42,
   "id": "55acff59",
   "metadata": {
    "scrolled": true
   },
   "outputs": [],
   "source": [
    "best_model = fl_experiment.get_last_model()"
   ]
  },
  {
   "cell_type": "code",
   "execution_count": 45,
   "id": "b135fc54",
   "metadata": {},
   "outputs": [
    {
     "data": {
      "text/plain": [
       "Parameter containing:\n",
       "tensor([[[[-0.0028,  0.0183, -0.0192],\n",
       "          [-0.0047,  0.0213, -0.0155],\n",
       "          [-0.0008,  0.0202, -0.0224]],\n",
       "\n",
       "         [[-0.0352, -0.0160,  0.0026],\n",
       "          [-0.0145,  0.0399, -0.0305],\n",
       "          [-0.0413,  0.0059,  0.0329]],\n",
       "\n",
       "         [[ 0.0032, -0.0373, -0.0333],\n",
       "          [ 0.0193,  0.0080,  0.0159],\n",
       "          [-0.0127,  0.0095, -0.0302]],\n",
       "\n",
       "         ...,\n",
       "\n",
       "         [[-0.0176,  0.0307,  0.0394],\n",
       "          [ 0.0123, -0.0206, -0.0009],\n",
       "          [ 0.0408,  0.0221,  0.0326]],\n",
       "\n",
       "         [[-0.0393,  0.0115,  0.0012],\n",
       "          [ 0.0369,  0.0318, -0.0163],\n",
       "          [ 0.0169, -0.0099, -0.0335]],\n",
       "\n",
       "         [[-0.0128, -0.0195,  0.0350],\n",
       "          [-0.0020, -0.0113, -0.0204],\n",
       "          [-0.0256, -0.0093,  0.0344]]],\n",
       "\n",
       "\n",
       "        [[[-0.0048,  0.0019,  0.0336],\n",
       "          [ 0.0204,  0.0365,  0.0253],\n",
       "          [ 0.0347,  0.0108,  0.0091]],\n",
       "\n",
       "         [[-0.0154,  0.0258, -0.0012],\n",
       "          [-0.0401,  0.0070, -0.0222],\n",
       "          [-0.0262, -0.0355,  0.0110]],\n",
       "\n",
       "         [[ 0.0037, -0.0196, -0.0296],\n",
       "          [ 0.0368, -0.0203,  0.0093],\n",
       "          [-0.0174,  0.0221,  0.0057]],\n",
       "\n",
       "         ...,\n",
       "\n",
       "         [[ 0.0230,  0.0366,  0.0403],\n",
       "          [ 0.0105,  0.0171,  0.0259],\n",
       "          [ 0.0136, -0.0095, -0.0092]],\n",
       "\n",
       "         [[ 0.0250,  0.0344,  0.0367],\n",
       "          [-0.0195, -0.0124, -0.0296],\n",
       "          [-0.0040, -0.0278, -0.0092]],\n",
       "\n",
       "         [[ 0.0396,  0.0030,  0.0361],\n",
       "          [-0.0109,  0.0380, -0.0098],\n",
       "          [ 0.0414,  0.0395, -0.0309]]],\n",
       "\n",
       "\n",
       "        [[[ 0.0279, -0.0033,  0.0042],\n",
       "          [-0.0382, -0.0098,  0.0299],\n",
       "          [ 0.0020,  0.0386, -0.0296]],\n",
       "\n",
       "         [[ 0.0170, -0.0129,  0.0276],\n",
       "          [-0.0341, -0.0171, -0.0093],\n",
       "          [-0.0363, -0.0181, -0.0227]],\n",
       "\n",
       "         [[ 0.0208,  0.0271, -0.0249],\n",
       "          [ 0.0262, -0.0006, -0.0270],\n",
       "          [-0.0394, -0.0179,  0.0401]],\n",
       "\n",
       "         ...,\n",
       "\n",
       "         [[-0.0088,  0.0063, -0.0037],\n",
       "          [-0.0394, -0.0289, -0.0067],\n",
       "          [ 0.0122,  0.0182,  0.0084]],\n",
       "\n",
       "         [[ 0.0014,  0.0115, -0.0375],\n",
       "          [ 0.0346,  0.0411,  0.0333],\n",
       "          [-0.0356,  0.0362, -0.0311]],\n",
       "\n",
       "         [[-0.0076, -0.0113,  0.0003],\n",
       "          [-0.0188, -0.0054, -0.0129],\n",
       "          [-0.0192,  0.0041, -0.0394]]],\n",
       "\n",
       "\n",
       "        ...,\n",
       "\n",
       "\n",
       "        [[[-0.0272, -0.0245,  0.0169],\n",
       "          [-0.0242,  0.0353,  0.0373],\n",
       "          [ 0.0401, -0.0155, -0.0206]],\n",
       "\n",
       "         [[-0.0251,  0.0327,  0.0026],\n",
       "          [-0.0352,  0.0211, -0.0329],\n",
       "          [ 0.0236, -0.0221, -0.0399]],\n",
       "\n",
       "         [[ 0.0205,  0.0298, -0.0109],\n",
       "          [ 0.0213, -0.0281, -0.0267],\n",
       "          [-0.0287, -0.0414, -0.0012]],\n",
       "\n",
       "         ...,\n",
       "\n",
       "         [[ 0.0326,  0.0069,  0.0203],\n",
       "          [ 0.0060,  0.0104, -0.0384],\n",
       "          [-0.0045, -0.0226, -0.0052]],\n",
       "\n",
       "         [[-0.0105,  0.0265,  0.0158],\n",
       "          [ 0.0279, -0.0145,  0.0236],\n",
       "          [-0.0248,  0.0160,  0.0049]],\n",
       "\n",
       "         [[ 0.0209, -0.0271, -0.0039],\n",
       "          [-0.0241,  0.0381, -0.0185],\n",
       "          [-0.0304, -0.0359, -0.0155]]],\n",
       "\n",
       "\n",
       "        [[[-0.0393,  0.0412,  0.0352],\n",
       "          [-0.0149,  0.0064, -0.0182],\n",
       "          [ 0.0065,  0.0255,  0.0005]],\n",
       "\n",
       "         [[-0.0323,  0.0211, -0.0361],\n",
       "          [-0.0143, -0.0086, -0.0075],\n",
       "          [-0.0127,  0.0383, -0.0337]],\n",
       "\n",
       "         [[-0.0090, -0.0135,  0.0311],\n",
       "          [ 0.0298,  0.0349, -0.0105],\n",
       "          [ 0.0263,  0.0312, -0.0235]],\n",
       "\n",
       "         ...,\n",
       "\n",
       "         [[-0.0152, -0.0336, -0.0095],\n",
       "          [ 0.0044,  0.0332,  0.0177],\n",
       "          [ 0.0177, -0.0239, -0.0340]],\n",
       "\n",
       "         [[ 0.0344, -0.0413,  0.0349],\n",
       "          [-0.0090, -0.0316, -0.0357],\n",
       "          [ 0.0263,  0.0208, -0.0087]],\n",
       "\n",
       "         [[ 0.0154,  0.0120,  0.0236],\n",
       "          [-0.0382, -0.0125,  0.0072],\n",
       "          [-0.0343,  0.0265,  0.0393]]],\n",
       "\n",
       "\n",
       "        [[[-0.0382,  0.0312, -0.0203],\n",
       "          [ 0.0024, -0.0255,  0.0196],\n",
       "          [ 0.0158,  0.0265, -0.0111]],\n",
       "\n",
       "         [[ 0.0210, -0.0386,  0.0027],\n",
       "          [-0.0296,  0.0039,  0.0247],\n",
       "          [-0.0271,  0.0010,  0.0413]],\n",
       "\n",
       "         [[-0.0256, -0.0011,  0.0309],\n",
       "          [-0.0139,  0.0409, -0.0359],\n",
       "          [-0.0347,  0.0188,  0.0323]],\n",
       "\n",
       "         ...,\n",
       "\n",
       "         [[-0.0201, -0.0326,  0.0046],\n",
       "          [-0.0347,  0.0284, -0.0352],\n",
       "          [ 0.0218,  0.0252,  0.0300]],\n",
       "\n",
       "         [[ 0.0346, -0.0350,  0.0095],\n",
       "          [-0.0332,  0.0310, -0.0185],\n",
       "          [ 0.0034,  0.0276, -0.0408]],\n",
       "\n",
       "         [[-0.0090, -0.0100,  0.0243],\n",
       "          [-0.0250, -0.0054,  0.0129],\n",
       "          [-0.0180, -0.0199,  0.0302]]]], requires_grad=True)"
      ]
     },
     "execution_count": 45,
     "metadata": {},
     "output_type": "execute_result"
    }
   ],
   "source": [
    "initial_model.down1.mpconv[1].conv[0].weight\n",
    "best_model.down1.mpconv[1].conv[0].weight"
   ]
  },
  {
   "cell_type": "code",
   "execution_count": 23,
   "id": "a2acb7e6",
   "metadata": {},
   "outputs": [
    {
     "name": "stderr",
     "output_type": "stream",
     "text": [
      "validate:   0%|          | 0/1 [00:00<?, ?it/s]<ipython-input-13-b6caf18b5d02>:61: UserWarning: To copy construct from a tensor, it is recommended to use sourceTensor.clone().detach() or sourceTensor.clone().detach().requires_grad_(True), rather than torch.tensor(sourceTensor).\n",
      "  data, target = torch.tensor(data).to(device), \\\n",
      "<ipython-input-13-b6caf18b5d02>:62: UserWarning: To copy construct from a tensor, it is recommended to use sourceTensor.clone().detach() or sourceTensor.clone().detach().requires_grad_(True), rather than torch.tensor(sourceTensor).\n",
      "  torch.tensor(target).to(device, dtype=torch.int64)\n",
      "validate: 100%|██████████| 1/1 [00:00<00:00,  1.06it/s]\n"
     ]
    },
    {
     "data": {
      "text/plain": [
       "{'dice_coef': 3.738469968084246e-05}"
      ]
     },
     "execution_count": 23,
     "metadata": {},
     "output_type": "execute_result"
    }
   ],
   "source": [
    "# Validating initial model\n",
    "validate(initial_model, fed_dataset.get_valid_loader(), 'cpu')"
   ]
  },
  {
   "cell_type": "code",
   "execution_count": 24,
   "id": "c12ca93f",
   "metadata": {},
   "outputs": [
    {
     "name": "stderr",
     "output_type": "stream",
     "text": [
      "validate:   0%|          | 0/1 [00:00<?, ?it/s]<ipython-input-13-b6caf18b5d02>:61: UserWarning: To copy construct from a tensor, it is recommended to use sourceTensor.clone().detach() or sourceTensor.clone().detach().requires_grad_(True), rather than torch.tensor(sourceTensor).\n",
      "  data, target = torch.tensor(data).to(device), \\\n",
      "<ipython-input-13-b6caf18b5d02>:62: UserWarning: To copy construct from a tensor, it is recommended to use sourceTensor.clone().detach() or sourceTensor.clone().detach().requires_grad_(True), rather than torch.tensor(sourceTensor).\n",
      "  torch.tensor(target).to(device, dtype=torch.int64)\n",
      "validate: 100%|██████████| 1/1 [00:00<00:00,  1.16it/s]\n"
     ]
    },
    {
     "data": {
      "text/plain": [
       "{'dice_coef': 3.738469968084246e-05}"
      ]
     },
     "execution_count": 24,
     "metadata": {},
     "output_type": "execute_result"
    }
   ],
   "source": [
    "# Validating trained model\n",
    "validate(best_model, fed_dataset.get_valid_loader(), 'cpu')"
   ]
  },
  {
   "cell_type": "markdown",
   "id": "1e6734f6",
   "metadata": {},
   "source": [
    "## We can tune model further!"
   ]
  },
  {
   "cell_type": "code",
   "execution_count": 25,
   "id": "3940e75e",
   "metadata": {
    "scrolled": true
   },
   "outputs": [
    {
     "data": {
      "text/html": [
       "<pre style=\"white-space:pre;overflow-x:auto;line-height:normal;font-family:Menlo,'DejaVu Sans Mono',consolas,'Courier New',monospace\"><span style=\"color: #7fbfbf\">[06/28/21 13:09:16] </span><span style=\"color: #000080\">INFO</span>     <span style=\"font-weight: bold\">[</span><span style=\"color: #000080; font-weight: bold\">2021</span>-<span style=\"color: #000080; font-weight: bold\">06</span>-<span style=\"color: #000080; font-weight: bold\">28</span> <span style=\"color: #00ff00; font-weight: bold\">13:09:16</span>,<span style=\"color: #000080; font-weight: bold\">442</span><span style=\"font-weight: bold\">][</span>INFO<span style=\"font-weight: bold\">]</span> - Building <span style=\"color: #800000\">🡆</span> Object <span style=\"color: #800000\">CloudpickleSerializer</span> from                                          <a href=\"file:///home/davidyuk/openfl/openfl/federated/plan/plan.py\"><span style=\"color: #7f7f7f\">plan.py</span></a><span style=\"color: #7f7f7f\">:170</span>\n",
       "                             <span style=\"color: #800000\">openfl.plugins.interface_serializer.cloudpickle_serializer</span> Module.                                                                 \n",
       "</pre>\n"
      ],
      "text/plain": [
       "<rich.jupyter.JupyterRenderable at 0x7f0c7085fe50>"
      ]
     },
     "metadata": {},
     "output_type": "display_data"
    },
    {
     "data": {
      "text/html": [
       "<pre style=\"white-space:pre;overflow-x:auto;line-height:normal;font-family:Menlo,'DejaVu Sans Mono',consolas,'Courier New',monospace\"><span style=\"color: #7fbfbf\">                    </span><span style=\"color: #000080\">INFO</span>     <span style=\"font-weight: bold\">[</span><span style=\"color: #000080; font-weight: bold\">2021</span>-<span style=\"color: #000080; font-weight: bold\">06</span>-<span style=\"color: #000080; font-weight: bold\">28</span> <span style=\"color: #00ff00; font-weight: bold\">13:09:16</span>,<span style=\"color: #000080; font-weight: bold\">457</span><span style=\"font-weight: bold\">][</span>INFO<span style=\"font-weight: bold\">]</span> - Settings <span style=\"color: #800000\">🡆</span> <span style=\"font-weight: bold\">{}</span>                                                                         <a href=\"file:///home/davidyuk/openfl/openfl/federated/plan/plan.py\"><span style=\"color: #7f7f7f\">plan.py</span></a><span style=\"color: #7f7f7f\">:173</span>\n",
       "</pre>\n"
      ],
      "text/plain": [
       "<rich.jupyter.JupyterRenderable at 0x7f0c5b9171c0>"
      ]
     },
     "metadata": {},
     "output_type": "display_data"
    },
    {
     "data": {
      "text/html": [
       "<pre style=\"white-space:pre;overflow-x:auto;line-height:normal;font-family:Menlo,'DejaVu Sans Mono',consolas,'Courier New',monospace\"><span style=\"color: #7fbfbf\">                    </span><span style=\"color: #000080\">INFO</span>     <span style=\"font-weight: bold\">[</span><span style=\"color: #000080; font-weight: bold\">2021</span>-<span style=\"color: #000080; font-weight: bold\">06</span>-<span style=\"color: #000080; font-weight: bold\">28</span> <span style=\"color: #00ff00; font-weight: bold\">13:09:16</span>,<span style=\"color: #000080; font-weight: bold\">460</span><span style=\"font-weight: bold\">][</span>INFO<span style=\"font-weight: bold\">]</span> - Override <span style=\"color: #800000\">🡆</span> <span style=\"font-weight: bold\">{}</span>                                                                         <a href=\"file:///home/davidyuk/openfl/openfl/federated/plan/plan.py\"><span style=\"color: #7f7f7f\">plan.py</span></a><span style=\"color: #7f7f7f\">:175</span>\n",
       "</pre>\n"
      ],
      "text/plain": [
       "<rich.jupyter.JupyterRenderable at 0x7f0ca37dd2b0>"
      ]
     },
     "metadata": {},
     "output_type": "display_data"
    },
    {
     "data": {
      "text/html": [
       "<pre style=\"white-space:pre;overflow-x:auto;line-height:normal;font-family:Menlo,'DejaVu Sans Mono',consolas,'Courier New',monospace\"><span style=\"color: #7fbfbf\">                    </span><span style=\"color: #000080\">INFO</span>     <span style=\"font-weight: bold\">[</span><span style=\"color: #000080; font-weight: bold\">2021</span>-<span style=\"color: #000080; font-weight: bold\">06</span>-<span style=\"color: #000080; font-weight: bold\">28</span> <span style=\"color: #00ff00; font-weight: bold\">13:09:16</span>,<span style=\"color: #000080; font-weight: bold\">463</span><span style=\"font-weight: bold\">][</span>INFO<span style=\"font-weight: bold\">]</span> - Building <span style=\"color: #800000\">🡆</span> Object <span style=\"color: #800000\">FrameworkAdapterPlugin</span> from                                         <a href=\"file:///home/davidyuk/openfl/openfl/federated/plan/plan.py\"><span style=\"color: #7f7f7f\">plan.py</span></a><span style=\"color: #7f7f7f\">:170</span>\n",
       "                             <span style=\"color: #800000\">openfl.plugins.frameworks_adapters.pytorch_adapter</span> Module.                                                                         \n",
       "</pre>\n"
      ],
      "text/plain": [
       "<rich.jupyter.JupyterRenderable at 0x7f0ca37dd490>"
      ]
     },
     "metadata": {},
     "output_type": "display_data"
    },
    {
     "data": {
      "text/html": [
       "<pre style=\"white-space:pre;overflow-x:auto;line-height:normal;font-family:Menlo,'DejaVu Sans Mono',consolas,'Courier New',monospace\"><span style=\"color: #7fbfbf\">                    </span><span style=\"color: #000080\">INFO</span>     <span style=\"font-weight: bold\">[</span><span style=\"color: #000080; font-weight: bold\">2021</span>-<span style=\"color: #000080; font-weight: bold\">06</span>-<span style=\"color: #000080; font-weight: bold\">28</span> <span style=\"color: #00ff00; font-weight: bold\">13:09:16</span>,<span style=\"color: #000080; font-weight: bold\">466</span><span style=\"font-weight: bold\">][</span>INFO<span style=\"font-weight: bold\">]</span> - Settings <span style=\"color: #800000\">🡆</span> <span style=\"font-weight: bold\">{}</span>                                                                         <a href=\"file:///home/davidyuk/openfl/openfl/federated/plan/plan.py\"><span style=\"color: #7f7f7f\">plan.py</span></a><span style=\"color: #7f7f7f\">:173</span>\n",
       "</pre>\n"
      ],
      "text/plain": [
       "<rich.jupyter.JupyterRenderable at 0x7f0ca37e5880>"
      ]
     },
     "metadata": {},
     "output_type": "display_data"
    },
    {
     "data": {
      "text/html": [
       "<pre style=\"white-space:pre;overflow-x:auto;line-height:normal;font-family:Menlo,'DejaVu Sans Mono',consolas,'Courier New',monospace\"><span style=\"color: #7fbfbf\">                    </span><span style=\"color: #000080\">INFO</span>     <span style=\"font-weight: bold\">[</span><span style=\"color: #000080; font-weight: bold\">2021</span>-<span style=\"color: #000080; font-weight: bold\">06</span>-<span style=\"color: #000080; font-weight: bold\">28</span> <span style=\"color: #00ff00; font-weight: bold\">13:09:16</span>,<span style=\"color: #000080; font-weight: bold\">470</span><span style=\"font-weight: bold\">][</span>INFO<span style=\"font-weight: bold\">]</span> - Override <span style=\"color: #800000\">🡆</span> <span style=\"font-weight: bold\">{}</span>                                                                         <a href=\"file:///home/davidyuk/openfl/openfl/federated/plan/plan.py\"><span style=\"color: #7f7f7f\">plan.py</span></a><span style=\"color: #7f7f7f\">:175</span>\n",
       "</pre>\n"
      ],
      "text/plain": [
       "<rich.jupyter.JupyterRenderable at 0x7f0c978f60d0>"
      ]
     },
     "metadata": {},
     "output_type": "display_data"
    },
    {
     "data": {
      "text/html": [
       "<pre style=\"white-space:pre;overflow-x:auto;line-height:normal;font-family:Menlo,'DejaVu Sans Mono',consolas,'Courier New',monospace\"><span style=\"color: #7fbfbf\">[06/28/21 13:09:18] </span><span style=\"color: #000080\">INFO</span>     <span style=\"font-weight: bold\">[</span><span style=\"color: #000080; font-weight: bold\">2021</span>-<span style=\"color: #000080; font-weight: bold\">06</span>-<span style=\"color: #000080; font-weight: bold\">28</span> <span style=\"color: #00ff00; font-weight: bold\">13:09:18</span>,<span style=\"color: #000080; font-weight: bold\">909</span><span style=\"font-weight: bold\">][</span>openfl.interface.interactive_api.experiment<span style=\"font-weight: bold\">][</span>INFO<span style=\"font-weight: bold\">]</span> - Starting experiment!                <a href=\"file:///home/davidyuk/openfl/openfl/interface/interactive_api/experiment.py\"><span style=\"color: #7f7f7f\">experiment.py</span></a><span style=\"color: #7f7f7f\">:87</span>\n",
       "</pre>\n"
      ],
      "text/plain": [
       "<rich.jupyter.JupyterRenderable at 0x7f0becfb5850>"
      ]
     },
     "metadata": {},
     "output_type": "display_data"
    },
    {
     "data": {
      "text/html": [
       "<pre style=\"white-space:pre;overflow-x:auto;line-height:normal;font-family:Menlo,'DejaVu Sans Mono',consolas,'Courier New',monospace\"><span style=\"color: #7fbfbf\">                    </span><span style=\"color: #000080\">INFO</span>     <span style=\"font-weight: bold\">[</span><span style=\"color: #000080; font-weight: bold\">2021</span>-<span style=\"color: #000080; font-weight: bold\">06</span>-<span style=\"color: #000080; font-weight: bold\">28</span> <span style=\"color: #00ff00; font-weight: bold\">13:09:18</span>,<span style=\"color: #000080; font-weight: bold\">917</span><span style=\"font-weight: bold\">][</span>INFO<span style=\"font-weight: bold\">]</span> - FL-Plan hash is                                                                       <a href=\"file:///home/davidyuk/openfl/openfl/federated/plan/plan.py\"><span style=\"color: #7f7f7f\">plan.py</span></a><span style=\"color: #7f7f7f\">:231</span>\n",
       "                             <span style=\"color: #000080\">bb49d66a82608d0696f7b37a04c9e13130ae4548d935321efe20b7fca90cf84a418235cfb1f56f123db3445ad7ecdf14</span>                                   \n",
       "</pre>\n"
      ],
      "text/plain": [
       "<rich.jupyter.JupyterRenderable at 0x7f0c7085f610>"
      ]
     },
     "metadata": {},
     "output_type": "display_data"
    },
    {
     "data": {
      "text/html": [
       "<pre style=\"white-space:pre;overflow-x:auto;line-height:normal;font-family:Menlo,'DejaVu Sans Mono',consolas,'Courier New',monospace\"><span style=\"color: #7fbfbf\">                    </span><span style=\"color: #000080\">INFO</span>     <span style=\"font-weight: bold\">[</span><span style=\"color: #000080; font-weight: bold\">2021</span>-<span style=\"color: #000080; font-weight: bold\">06</span>-<span style=\"color: #000080; font-weight: bold\">28</span> <span style=\"color: #00ff00; font-weight: bold\">13:09:18</span>,<span style=\"color: #000080; font-weight: bold\">924</span><span style=\"font-weight: bold\">][</span>INFO<span style=\"font-weight: bold\">]</span> - FL-Plan hash is                                                                       <a href=\"file:///home/davidyuk/openfl/openfl/federated/plan/plan.py\"><span style=\"color: #7f7f7f\">plan.py</span></a><span style=\"color: #7f7f7f\">:231</span>\n",
       "                             <span style=\"color: #000080\">bb49d66a82608d0696f7b37a04c9e13130ae4548d935321efe20b7fca90cf84a418235cfb1f56f123db3445ad7ecdf14</span>                                   \n",
       "</pre>\n"
      ],
      "text/plain": [
       "<rich.jupyter.JupyterRenderable at 0x7f0be9a896d0>"
      ]
     },
     "metadata": {},
     "output_type": "display_data"
    },
    {
     "data": {
      "text/html": [
       "<pre style=\"white-space:pre;overflow-x:auto;line-height:normal;font-family:Menlo,'DejaVu Sans Mono',consolas,'Courier New',monospace\"><span style=\"color: #7fbfbf\">                    </span><span style=\"color: #000080\">INFO</span>     <span style=\"font-weight: bold\">[</span><span style=\"color: #000080; font-weight: bold\">2021</span>-<span style=\"color: #000080; font-weight: bold\">06</span>-<span style=\"color: #000080; font-weight: bold\">28</span> <span style=\"color: #00ff00; font-weight: bold\">13:09:18</span>,<span style=\"color: #000080; font-weight: bold\">928</span><span style=\"font-weight: bold\">][</span>INFO<span style=\"font-weight: bold\">]</span> - Building <span style=\"color: #800000\">🡆</span> Object <span style=\"color: #800000\">CoreTaskRunner</span> from <span style=\"color: #800000\">openfl.federated.task.task_runner</span> Module.       <a href=\"file:///home/davidyuk/openfl/openfl/federated/plan/plan.py\"><span style=\"color: #7f7f7f\">plan.py</span></a><span style=\"color: #7f7f7f\">:170</span>\n",
       "</pre>\n"
      ],
      "text/plain": [
       "<rich.jupyter.JupyterRenderable at 0x7f0be9a89f70>"
      ]
     },
     "metadata": {},
     "output_type": "display_data"
    },
    {
     "data": {
      "text/html": [
       "<pre style=\"white-space:pre;overflow-x:auto;line-height:normal;font-family:Menlo,'DejaVu Sans Mono',consolas,'Courier New',monospace\"><span style=\"color: #7fbfbf\">                    </span><span style=\"color: #000080\">INFO</span>     <span style=\"font-weight: bold\">[</span><span style=\"color: #000080; font-weight: bold\">2021</span>-<span style=\"color: #000080; font-weight: bold\">06</span>-<span style=\"color: #000080; font-weight: bold\">28</span> <span style=\"color: #00ff00; font-weight: bold\">13:09:18</span>,<span style=\"color: #000080; font-weight: bold\">934</span><span style=\"font-weight: bold\">][</span>INFO<span style=\"font-weight: bold\">]</span> - Settings <span style=\"color: #800000\">🡆</span> <span style=\"font-weight: bold\">{}</span>                                                                         <a href=\"file:///home/davidyuk/openfl/openfl/federated/plan/plan.py\"><span style=\"color: #7f7f7f\">plan.py</span></a><span style=\"color: #7f7f7f\">:173</span>\n",
       "</pre>\n"
      ],
      "text/plain": [
       "<rich.jupyter.JupyterRenderable at 0x7f0be9a896d0>"
      ]
     },
     "metadata": {},
     "output_type": "display_data"
    },
    {
     "data": {
      "text/html": [
       "<pre style=\"white-space:pre;overflow-x:auto;line-height:normal;font-family:Menlo,'DejaVu Sans Mono',consolas,'Courier New',monospace\"><span style=\"color: #7fbfbf\">                    </span><span style=\"color: #000080\">INFO</span>     <span style=\"font-weight: bold\">[</span><span style=\"color: #000080; font-weight: bold\">2021</span>-<span style=\"color: #000080; font-weight: bold\">06</span>-<span style=\"color: #000080; font-weight: bold\">28</span> <span style=\"color: #00ff00; font-weight: bold\">13:09:18</span>,<span style=\"color: #000080; font-weight: bold\">937</span><span style=\"font-weight: bold\">][</span>INFO<span style=\"font-weight: bold\">]</span> - Override <span style=\"color: #800000\">🡆</span> <span style=\"font-weight: bold\">{</span><span style=\"color: #008000\">'required_plugin_components'</span>: <span style=\"font-weight: bold\">{</span><span style=\"color: #008000\">'framework_adapters'</span>:                      <a href=\"file:///home/davidyuk/openfl/openfl/federated/plan/plan.py\"><span style=\"color: #7f7f7f\">plan.py</span></a><span style=\"color: #7f7f7f\">:175</span>\n",
       "                             <span style=\"color: #008000\">'openfl.plugins.frameworks_adapters.pytorch_adapter.FrameworkAdapterPlugin'</span><span style=\"font-weight: bold\">}}</span>                                                      \n",
       "</pre>\n"
      ],
      "text/plain": [
       "<rich.jupyter.JupyterRenderable at 0x7f0be9a89f70>"
      ]
     },
     "metadata": {},
     "output_type": "display_data"
    },
    {
     "data": {
      "text/html": [
       "<pre style=\"white-space:pre;overflow-x:auto;line-height:normal;font-family:Menlo,'DejaVu Sans Mono',consolas,'Courier New',monospace\"><span style=\"color: #7fbfbf\">                    </span><span style=\"color: #000080\">INFO</span>     <span style=\"font-weight: bold\">[</span><span style=\"color: #000080; font-weight: bold\">2021</span>-<span style=\"color: #000080; font-weight: bold\">06</span>-<span style=\"color: #000080; font-weight: bold\">28</span> <span style=\"color: #00ff00; font-weight: bold\">13:09:18</span>,<span style=\"color: #000080; font-weight: bold\">942</span><span style=\"font-weight: bold\">][</span>INFO<span style=\"font-weight: bold\">]</span> - Building <span style=\"color: #800000\">🡆</span> Object <span style=\"color: #800000\">FrameworkAdapterPlugin</span> from                                         <a href=\"file:///home/davidyuk/openfl/openfl/federated/plan/plan.py\"><span style=\"color: #7f7f7f\">plan.py</span></a><span style=\"color: #7f7f7f\">:170</span>\n",
       "                             <span style=\"color: #800000\">openfl.plugins.frameworks_adapters.pytorch_adapter</span> Module.                                                                         \n",
       "</pre>\n"
      ],
      "text/plain": [
       "<rich.jupyter.JupyterRenderable at 0x7f0be9a89eb0>"
      ]
     },
     "metadata": {},
     "output_type": "display_data"
    },
    {
     "data": {
      "text/html": [
       "<pre style=\"white-space:pre;overflow-x:auto;line-height:normal;font-family:Menlo,'DejaVu Sans Mono',consolas,'Courier New',monospace\"><span style=\"color: #7fbfbf\">                    </span><span style=\"color: #000080\">INFO</span>     <span style=\"font-weight: bold\">[</span><span style=\"color: #000080; font-weight: bold\">2021</span>-<span style=\"color: #000080; font-weight: bold\">06</span>-<span style=\"color: #000080; font-weight: bold\">28</span> <span style=\"color: #00ff00; font-weight: bold\">13:09:18</span>,<span style=\"color: #000080; font-weight: bold\">946</span><span style=\"font-weight: bold\">][</span>INFO<span style=\"font-weight: bold\">]</span> - Settings <span style=\"color: #800000\">🡆</span> <span style=\"font-weight: bold\">{}</span>                                                                         <a href=\"file:///home/davidyuk/openfl/openfl/federated/plan/plan.py\"><span style=\"color: #7f7f7f\">plan.py</span></a><span style=\"color: #7f7f7f\">:173</span>\n",
       "</pre>\n"
      ],
      "text/plain": [
       "<rich.jupyter.JupyterRenderable at 0x7f0be9a89f70>"
      ]
     },
     "metadata": {},
     "output_type": "display_data"
    },
    {
     "data": {
      "text/html": [
       "<pre style=\"white-space:pre;overflow-x:auto;line-height:normal;font-family:Menlo,'DejaVu Sans Mono',consolas,'Courier New',monospace\"><span style=\"color: #7fbfbf\">                    </span><span style=\"color: #000080\">INFO</span>     <span style=\"font-weight: bold\">[</span><span style=\"color: #000080; font-weight: bold\">2021</span>-<span style=\"color: #000080; font-weight: bold\">06</span>-<span style=\"color: #000080; font-weight: bold\">28</span> <span style=\"color: #00ff00; font-weight: bold\">13:09:18</span>,<span style=\"color: #000080; font-weight: bold\">951</span><span style=\"font-weight: bold\">][</span>INFO<span style=\"font-weight: bold\">]</span> - Override <span style=\"color: #800000\">🡆</span> <span style=\"font-weight: bold\">{}</span>                                                                         <a href=\"file:///home/davidyuk/openfl/openfl/federated/plan/plan.py\"><span style=\"color: #7f7f7f\">plan.py</span></a><span style=\"color: #7f7f7f\">:175</span>\n",
       "</pre>\n"
      ],
      "text/plain": [
       "<rich.jupyter.JupyterRenderable at 0x7f0be9a89c70>"
      ]
     },
     "metadata": {},
     "output_type": "display_data"
    },
    {
     "data": {
      "text/html": [
       "<pre style=\"white-space:pre;overflow-x:auto;line-height:normal;font-family:Menlo,'DejaVu Sans Mono',consolas,'Courier New',monospace\"><span style=\"color: #7fbfbf\">                    </span><span style=\"color: #800000\">WARNING</span>  <span style=\"font-weight: bold\">[</span><span style=\"color: #000080; font-weight: bold\">2021</span>-<span style=\"color: #000080; font-weight: bold\">06</span>-<span style=\"color: #000080; font-weight: bold\">28</span> <span style=\"color: #00ff00; font-weight: bold\">13:09:18</span>,<span style=\"color: #000080; font-weight: bold\">971</span><span style=\"font-weight: bold\">][</span>openfl.federated.task.task_runner<span style=\"font-weight: bold\">][</span>WARNING<span style=\"font-weight: bold\">]</span> - tried to remove tensor: __opt_state_needed not <a href=\"file:///home/davidyuk/openfl/openfl/utilities/utils.py\"><span style=\"color: #7f7f7f\">utils.py</span></a><span style=\"color: #7f7f7f\">:113</span>\n",
       "                             present in the tensor dict                                                                                                         \n",
       "</pre>\n"
      ],
      "text/plain": [
       "<rich.jupyter.JupyterRenderable at 0x7f0be9a89100>"
      ]
     },
     "metadata": {},
     "output_type": "display_data"
    },
    {
     "data": {
      "text/html": [
       "<pre style=\"white-space:pre;overflow-x:auto;line-height:normal;font-family:Menlo,'DejaVu Sans Mono',consolas,'Courier New',monospace\"><span style=\"color: #7fbfbf\">                    </span><span style=\"color: #800000\">WARNING</span>  <span style=\"font-weight: bold\">[</span><span style=\"color: #000080; font-weight: bold\">2021</span>-<span style=\"color: #000080; font-weight: bold\">06</span>-<span style=\"color: #000080; font-weight: bold\">28</span> <span style=\"color: #00ff00; font-weight: bold\">13:09:18</span>,<span style=\"color: #000080; font-weight: bold\">989</span><span style=\"font-weight: bold\">][</span>openfl.interface.interactive_api.experiment<span style=\"font-weight: bold\">][</span>WARNING<span style=\"font-weight: bold\">]</span> - tried to remove tensor:              <a href=\"file:///home/davidyuk/openfl/openfl/utilities/utils.py\"><span style=\"color: #7f7f7f\">utils.py</span></a><span style=\"color: #7f7f7f\">:113</span>\n",
       "                             __opt_state_needed not present in the tensor dict                                                                                  \n",
       "</pre>\n"
      ],
      "text/plain": [
       "<rich.jupyter.JupyterRenderable at 0x7f0be9a89f70>"
      ]
     },
     "metadata": {},
     "output_type": "display_data"
    },
    {
     "data": {
      "text/html": [
       "<pre style=\"white-space:pre;overflow-x:auto;line-height:normal;font-family:Menlo,'DejaVu Sans Mono',consolas,'Courier New',monospace\"><span style=\"color: #7fbfbf\">                    </span><span style=\"color: #000080\">INFO</span>     <span style=\"font-weight: bold\">[</span><span style=\"color: #000080; font-weight: bold\">2021</span>-<span style=\"color: #000080; font-weight: bold\">06</span>-<span style=\"color: #000080; font-weight: bold\">28</span> <span style=\"color: #00ff00; font-weight: bold\">13:09:18</span>,<span style=\"color: #000080; font-weight: bold\">994</span><span style=\"font-weight: bold\">][</span>openfl.transport.grpc.director_client<span style=\"font-weight: bold\">][</span>INFO<span style=\"font-weight: bold\">]</span> - SetNewExperiment                    <a href=\"file:///home/davidyuk/openfl/openfl/transport/grpc/director_client.py\"><span style=\"color: #7f7f7f\">director_client.py</span></a><span style=\"color: #7f7f7f\">:126</span>\n",
       "</pre>\n"
      ],
      "text/plain": [
       "<rich.jupyter.JupyterRenderable at 0x7f0be9a89100>"
      ]
     },
     "metadata": {},
     "output_type": "display_data"
    },
    {
     "data": {
      "text/html": [
       "<pre style=\"white-space:pre;overflow-x:auto;line-height:normal;font-family:Menlo,'DejaVu Sans Mono',consolas,'Courier New',monospace\"><span style=\"color: #7fbfbf\">[06/28/21 13:09:20] </span><span style=\"color: #000080\">INFO</span>     <span style=\"font-weight: bold\">[</span><span style=\"color: #000080; font-weight: bold\">2021</span>-<span style=\"color: #000080; font-weight: bold\">06</span>-<span style=\"color: #000080; font-weight: bold\">28</span> <span style=\"color: #00ff00; font-weight: bold\">13:09:20</span>,<span style=\"color: #000080; font-weight: bold\">316</span><span style=\"font-weight: bold\">][</span>openfl.interface.interactive_api.experiment<span style=\"font-weight: bold\">][</span>INFO<span style=\"font-weight: bold\">]</span> - Experiment was accepted and        <a href=\"file:///home/davidyuk/openfl/openfl/interface/interactive_api/experiment.py\"><span style=\"color: #7f7f7f\">experiment.py</span></a><span style=\"color: #7f7f7f\">:102</span>\n",
       "                             launched.                                                                                                                          \n",
       "</pre>\n"
      ],
      "text/plain": [
       "<rich.jupyter.JupyterRenderable at 0x7f0ca37e5880>"
      ]
     },
     "metadata": {},
     "output_type": "display_data"
    },
    {
     "data": {
      "text/html": [
       "<pre style=\"white-space:pre;overflow-x:auto;line-height:normal;font-family:Menlo,'DejaVu Sans Mono',consolas,'Courier New',monospace\"><span style=\"color: #7fbfbf\">                    </span><span style=\"color: #000080\">INFO</span>     <span style=\"font-weight: bold\">[</span><span style=\"color: #000080; font-weight: bold\">2021</span>-<span style=\"color: #000080; font-weight: bold\">06</span>-<span style=\"color: #000080; font-weight: bold\">28</span> <span style=\"color: #00ff00; font-weight: bold\">13:09:20</span>,<span style=\"color: #000080; font-weight: bold\">319</span><span style=\"font-weight: bold\">][</span>openfl.interface.interactive_api.experiment<span style=\"font-weight: bold\">][</span>INFO<span style=\"font-weight: bold\">]</span> - You can watch the experiment       <a href=\"file:///home/davidyuk/openfl/openfl/interface/interactive_api/experiment.py\"><span style=\"color: #7f7f7f\">experiment.py</span></a><span style=\"color: #7f7f7f\">:103</span>\n",
       "                             through tensorboard:                                                                                                               \n",
       "</pre>\n"
      ],
      "text/plain": [
       "<rich.jupyter.JupyterRenderable at 0x7f0c7085f970>"
      ]
     },
     "metadata": {},
     "output_type": "display_data"
    },
    {
     "data": {
      "text/html": [
       "<pre style=\"white-space:pre;overflow-x:auto;line-height:normal;font-family:Menlo,'DejaVu Sans Mono',consolas,'Courier New',monospace\"><span style=\"color: #7fbfbf\">                    </span><span style=\"color: #000080\">INFO</span>     <span style=\"font-weight: bold\">[</span><span style=\"color: #000080; font-weight: bold\">2021</span>-<span style=\"color: #000080; font-weight: bold\">06</span>-<span style=\"color: #000080; font-weight: bold\">28</span> <span style=\"color: #00ff00; font-weight: bold\">13:09:20</span>,<span style=\"color: #000080; font-weight: bold\">323</span><span style=\"font-weight: bold\">][</span>openfl.interface.interactive_api.experiment<span style=\"font-weight: bold\">][</span>INFO<span style=\"font-weight: bold\">]</span> -                                    <a href=\"file:///home/davidyuk/openfl/openfl/interface/interactive_api/experiment.py\"><span style=\"color: #7f7f7f\">experiment.py</span></a><span style=\"color: #7f7f7f\">:104</span>\n",
       "                             <span style=\"color: #0000ff; text-decoration: underline\">http://idavidyu-mobl.ccr.corp.intel.com:6006</span>                                                                                       \n",
       "</pre>\n"
      ],
      "text/plain": [
       "<rich.jupyter.JupyterRenderable at 0x7f0be9a89310>"
      ]
     },
     "metadata": {},
     "output_type": "display_data"
    }
   ],
   "source": [
    "MI = ModelInterface(model=best_model, optimizer=optimizer_adam, framework_plugin=framework_adapter)\n",
    "fl_experiment.start(model_provider=MI, \n",
    "                    task_keeper=TI,\n",
    "                    data_loader=fed_dataset,\n",
    "                    rounds_to_train=2,\n",
    "                    opt_treatment='CONTINUE_GLOBAL')"
   ]
  },
  {
   "cell_type": "code",
   "execution_count": null,
   "id": "1bd786d2",
   "metadata": {},
   "outputs": [],
   "source": [
    "best_model = fl_experiment.get_best_model()\n",
    "# Validating trained model\n",
    "validate(best_model, fed_dataset.get_valid_loader(), 'cpu')"
   ]
  },
  {
   "cell_type": "code",
   "execution_count": null,
   "id": "2dcdbfeb",
   "metadata": {},
   "outputs": [],
   "source": [
    "a = (np.zeros((2,4)), np.ones(2,), 2*np.ones(2,))\n",
    "a = [elem for elem in a if elem.shape==2 else elem.newaxis()]\n",
    "np.concatenate(a)"
   ]
  },
  {
   "cell_type": "code",
   "execution_count": null,
   "id": "70863215",
   "metadata": {},
   "outputs": [],
   "source": [
    "class A:\n",
    "    def __init__(self, **kwargs):\n",
    "        print(\"Class A\", kwargs)\n",
    "        \n",
    "class B:\n",
    "    def __init__(self, **kwargs):\n",
    "        super().__init__()\n",
    "        print(\"Class B\", kwargs)\n",
    "        \n",
    "class C(B, A):\n",
    "    def __init__(self, **kwargs):\n",
    "        super().__init__()\n",
    "        print(\"Class C\", kwargs)\n",
    "        \n",
    "# class A:\n",
    "#     def __init__(self, **kwargs):\n",
    "#         print(\"Class A\", kwargs)"
   ]
  },
  {
   "cell_type": "code",
   "execution_count": null,
   "id": "4ba44919",
   "metadata": {},
   "outputs": [],
   "source": [
    "c = C(x=1, z=5)"
   ]
  },
  {
   "cell_type": "code",
   "execution_count": null,
   "id": "0637f26f",
   "metadata": {},
   "outputs": [],
   "source": []
  }
 ],
 "metadata": {
  "kernelspec": {
   "display_name": "Python 3",
   "language": "python",
   "name": "python3"
  },
  "language_info": {
   "codemirror_mode": {
    "name": "ipython",
    "version": 3
   },
   "file_extension": ".py",
   "mimetype": "text/x-python",
   "name": "python",
   "nbconvert_exporter": "python",
   "pygments_lexer": "ipython3",
   "version": "3.8.5"
  }
 },
 "nbformat": 4,
 "nbformat_minor": 5
}
