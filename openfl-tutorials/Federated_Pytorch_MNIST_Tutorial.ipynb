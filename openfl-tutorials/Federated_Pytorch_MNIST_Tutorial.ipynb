{
 "cells": [
  {
   "cell_type": "markdown",
   "metadata": {},
   "source": [
    "# Federated PyTorch MNIST Tutorial"
   ]
  },
  {
   "cell_type": "code",
   "execution_count": null,
   "metadata": {
    "scrolled": false
   },
   "outputs": [],
   "source": [
    "#Install dependencies if not already installed\n",
    "!pip install torch torchvision .."
   ]
  },
  {
   "cell_type": "code",
   "execution_count": 2,
   "metadata": {},
   "outputs": [],
   "source": [
    "import numpy as np\n",
    "import torch\n",
    "import torch.nn as nn\n",
    "import torch.nn.functional as F\n",
    "import torch.optim as optim\n",
    "\n",
    "import torchvision\n",
    "import torchvision.transforms as transforms\n",
    "import openfl.native as fx\n",
    "from openfl.federated import FederatedModel,FederatedDataSet\n"
   ]
  },
  {
   "cell_type": "markdown",
   "metadata": {},
   "source": [
    "After importing the required packages, the next step is setting up our openfl workspace. To do this, simply run the `fx.init()` command as follows:"
   ]
  },
  {
   "cell_type": "code",
   "execution_count": null,
   "metadata": {
    "scrolled": false
   },
   "outputs": [],
   "source": [
    "#Setup default workspace, logging, etc.\n",
    "fx.init('torch_cnn_mnist', log_level='METRIC', log_file='./spam_metric.log')"
   ]
  },
  {
   "cell_type": "markdown",
   "metadata": {},
   "source": [
    "Now we are ready to define our dataset and model to perform federated learning on. The dataset should be composed of a numpy arrayWe start with a simple fully connected model that is trained on the MNIST dataset. "
   ]
  },
  {
   "cell_type": "code",
   "execution_count": null,
   "metadata": {
    "scrolled": true
   },
   "outputs": [],
   "source": [
    "def one_hot(labels, classes):\n",
    "    return np.eye(classes)[labels]\n",
    "\n",
    "transform = transforms.Compose(\n",
    "    [transforms.ToTensor(),\n",
    "     transforms.Normalize((0.5, 0.5, 0.5), (0.5, 0.5, 0.5))])\n",
    "\n",
    "trainset = torchvision.datasets.MNIST(root='./data', train=True,\n",
    "                                        download=True, transform=transform)\n",
    "\n",
    "train_images,train_labels = trainset.train_data, np.array(trainset.train_labels)\n",
    "train_images = torch.from_numpy(np.expand_dims(train_images, axis=1)).float()\n",
    "\n",
    "validset = torchvision.datasets.MNIST(root='./data', train=False,\n",
    "                                       download=True, transform=transform)\n",
    "\n",
    "valid_images,valid_labels = validset.test_data, np.array(validset.test_labels)\n",
    "valid_images = torch.from_numpy(np.expand_dims(valid_images, axis=1)).float()\n",
    "valid_labels = one_hot(valid_labels,10)"
   ]
  },
  {
   "cell_type": "code",
   "execution_count": 5,
   "metadata": {},
   "outputs": [],
   "source": [
    "feature_shape = train_images.shape[1]\n",
    "classes       = 10\n",
    "\n",
    "fl_data = FederatedDataSet(train_images,train_labels,valid_images,valid_labels,batch_size=32,num_classes=classes)\n",
    "\n",
    "class Net(nn.Module):\n",
    "    def __init__(self):\n",
    "        super(Net, self).__init__()\n",
    "        self.conv1 = nn.Conv2d(1, 16, 3)\n",
    "        self.pool = nn.MaxPool2d(2, 2)\n",
    "        self.conv2 = nn.Conv2d(16, 32, 3)\n",
    "        self.fc1 = nn.Linear(32 * 5 * 5, 32)\n",
    "        self.fc2 = nn.Linear(32, 84)\n",
    "        self.fc3 = nn.Linear(84, 10)\n",
    "\n",
    "    def forward(self, x):\n",
    "        x = self.pool(F.relu(self.conv1(x)))\n",
    "        x = self.pool(F.relu(self.conv2(x)))\n",
    "        x = x.view(x.size(0),-1)\n",
    "        x = F.relu(self.fc1(x))\n",
    "        x = F.relu(self.fc2(x))\n",
    "        x = self.fc3(x)\n",
    "        return F.log_softmax(x, dim=1)\n",
    "    \n",
    "optimizer = lambda x: optim.Adam(x, lr=1e-4)\n",
    "\n",
    "def cross_entropy(output, target):\n",
    "    \"\"\"Binary cross-entropy metric\n",
    "    \"\"\"\n",
    "    return F.cross_entropy(input=output,target=target)"
   ]
  },
  {
   "cell_type": "markdown",
   "metadata": {},
   "source": [
    "Here we can define metric logging function. It should has the following signature described below. You can use it to write metrics to tensorboard or some another specific logging."
   ]
  },
  {
   "cell_type": "code",
   "execution_count": 6,
   "metadata": {},
   "outputs": [],
   "source": [
    "from torch.utils.tensorboard import SummaryWriter\n",
    "\n",
    "writer = SummaryWriter('./logs/cnn_mnist', flush_secs=5)\n",
    "\n",
    "\n",
    "def write_metric(node_name, task_name, metric_name, metric, round_number):\n",
    "    writer.add_scalar(\"{}/{}/{}\".format(node_name, task_name, metric_name),\n",
    "                      metric, round_number)"
   ]
  },
  {
   "cell_type": "code",
   "execution_count": 7,
   "metadata": {},
   "outputs": [
    {
     "data": {
      "text/html": [
       "<pre style=\"white-space:pre;overflow-x:auto;line-height:normal;font-family:Menlo,'DejaVu Sans Mono',consolas,'Courier New',monospace\"><span style=\"color: #7fbfbf\">[18:44:56] </span><span style=\"color: #800000\">WARNING</span>  tried to remove tensor: __opt_state_needed not present in the tensor dict                                                       <a href=\"file:///home/radionov/.envs/old_api_fixes/lib/python3.6/site-packages/openfl/utilities/utils.py\"><span style=\"color: #7f7f7f\">utils.py</span></a><span style=\"color: #7f7f7f\">:113</span>\n",
       "</pre>\n"
      ],
      "text/plain": [
       "<rich.jupyter.JupyterRenderable at 0x7fdc445b73c8>"
      ]
     },
     "metadata": {},
     "output_type": "display_data"
    }
   ],
   "source": [
    "\n",
    "#Create a federated model using the pytorch class, lambda optimizer function, and loss function\n",
    "fl_model = FederatedModel(build_model=Net,optimizer=optimizer,loss_fn=cross_entropy,data_loader=fl_data)"
   ]
  },
  {
   "cell_type": "markdown",
   "metadata": {},
   "source": [
    "The `FederatedModel` object is a wrapper around your Keras, Tensorflow or PyTorch model that makes it compatible with openfl. It provides built in federated training and validation functions that we will see used below. Using it's `setup` function, collaborator models and datasets can be automatically defined for the experiment. "
   ]
  },
  {
   "cell_type": "code",
   "execution_count": null,
   "metadata": {},
   "outputs": [],
   "source": [
    "collaborator_models = fl_model.setup(num_collaborators=2)\n",
    "collaborators = {'one':collaborator_models[0],'two':collaborator_models[1]}#, 'three':collaborator_models[2]}"
   ]
  },
  {
   "cell_type": "code",
   "execution_count": 9,
   "metadata": {},
   "outputs": [
    {
     "name": "stdout",
     "output_type": "stream",
     "text": [
      "Original training data size: 60000\n",
      "Original validation data size: 10000\n",
      "\n",
      "Collaborator one's training data size: 30000\n",
      "Collaborator one's validation data size: 5000\n",
      "\n",
      "Collaborator two's training data size: 30000\n",
      "Collaborator two's validation data size: 5000\n",
      "\n"
     ]
    }
   ],
   "source": [
    "#Original MNIST dataset\n",
    "print(f'Original training data size: {len(train_images)}')\n",
    "print(f'Original validation data size: {len(valid_images)}\\n')\n",
    "\n",
    "#Collaborator one's data\n",
    "print(f'Collaborator one\\'s training data size: {len(collaborator_models[0].data_loader.X_train)}')\n",
    "print(f'Collaborator one\\'s validation data size: {len(collaborator_models[0].data_loader.X_valid)}\\n')\n",
    "\n",
    "#Collaborator two's data\n",
    "print(f'Collaborator two\\'s training data size: {len(collaborator_models[1].data_loader.X_train)}')\n",
    "print(f'Collaborator two\\'s validation data size: {len(collaborator_models[1].data_loader.X_valid)}\\n')\n",
    "\n",
    "#Collaborator three's data\n",
    "#print(f'Collaborator three\\'s training data size: {len(collaborator_models[2].data_loader.X_train)}')\n",
    "#print(f'Collaborator three\\'s validation data size: {len(collaborator_models[2].data_loader.X_valid)}')"
   ]
  },
  {
   "cell_type": "markdown",
   "metadata": {},
   "source": [
    "We can see the current plan values by running the `fx.get_plan()` function"
   ]
  },
  {
   "cell_type": "code",
   "execution_count": null,
   "metadata": {
    "scrolled": true
   },
   "outputs": [],
   "source": [
    " #Get the current values of the plan. Each of these can be overridden\n",
    "print(fx.get_plan())"
   ]
  },
  {
   "cell_type": "markdown",
   "metadata": {},
   "source": [
    "Now we are ready to run our experiment. If we want to pass in custom plan settings, we can easily do that with the `override_config` parameter"
   ]
  },
  {
   "cell_type": "code",
   "execution_count": 11,
   "metadata": {
    "scrolled": true
   },
   "outputs": [
    {
     "name": "stderr",
     "output_type": "stream",
     "text": [
      "/home/radionov/.envs/old_api_fixes/lib/python3.6/site-packages/openfl/federated/task/runner_pt.py:276: UserWarning: The given NumPy array is not writeable, and PyTorch does not support non-writeable tensors. This means you can write to the underlying (supposedly non-writeable) NumPy array using the tensor. You may want to copy the array to protect its data or make it writeable before converting it to a tensor. This type of warning will be suppressed for the rest of this program. (Triggered internally at  /pytorch/torch/csrc/utils/tensor_numpy.cpp:143.)\n",
      "  new_state[k] = pt.from_numpy(tensor_dict.pop(k)).to(device)\n",
      "/home/radionov/.envs/old_api_fixes/lib/python3.6/site-packages/openfl/federated/task/runner_pt.py:101: UserWarning: To copy construct from a tensor, it is recommended to use sourceTensor.clone().detach() or sourceTensor.clone().detach().requires_grad_(True), rather than torch.tensor(sourceTensor).\n",
      "  data, target = pt.tensor(data).to(self.device), pt.tensor(\n"
     ]
    },
    {
     "data": {
      "text/html": [
       "<pre style=\"white-space:pre;overflow-x:auto;line-height:normal;font-family:Menlo,'DejaVu Sans Mono',consolas,'Courier New',monospace\"><span style=\"color: #7fbfbf\">[18:44:58] </span>METRIC   Round <span style=\"color: #000080; font-weight: bold\">0</span>, collaborator one is sending metric for task aggregated_model_validation: acc   <span style=\"color: #000080; font-weight: bold\">0.0978</span>                           <a href=\"file:///home/radionov/.envs/old_api_fixes/lib/python3.6/site-packages/openfl/component/collaborator/collaborator.py\"><span style=\"color: #7f7f7f\">collaborator.py</span></a><span style=\"color: #7f7f7f\">:374</span>\n",
       "</pre>\n"
      ],
      "text/plain": [
       "<rich.jupyter.JupyterRenderable at 0x7fdc4458a128>"
      ]
     },
     "metadata": {},
     "output_type": "display_data"
    },
    {
     "name": "stderr",
     "output_type": "stream",
     "text": [
      "/home/radionov/.envs/old_api_fixes/lib/python3.6/site-packages/openfl/federated/task/runner_pt.py:452: UserWarning: To copy construct from a tensor, it is recommended to use sourceTensor.clone().detach() or sourceTensor.clone().detach().requires_grad_(True), rather than torch.tensor(sourceTensor).\n",
      "  data, target = pt.tensor(data).to(self.device), pt.tensor(\n"
     ]
    },
    {
     "data": {
      "text/html": [
       "<pre style=\"white-space:pre;overflow-x:auto;line-height:normal;font-family:Menlo,'DejaVu Sans Mono',consolas,'Courier New',monospace\"><span style=\"color: #7fbfbf\">[18:45:02] </span>METRIC   Round <span style=\"color: #000080; font-weight: bold\">0</span>, collaborator one is sending metric for task train: cross_entropy       <span style=\"color: #000080; font-weight: bold\">0.5054972767829895</span>                       <a href=\"file:///home/radionov/.envs/old_api_fixes/lib/python3.6/site-packages/openfl/component/collaborator/collaborator.py\"><span style=\"color: #7f7f7f\">collaborator.py</span></a><span style=\"color: #7f7f7f\">:374</span>\n",
       "</pre>\n"
      ],
      "text/plain": [
       "<rich.jupyter.JupyterRenderable at 0x7fdc445d76d8>"
      ]
     },
     "metadata": {},
     "output_type": "display_data"
    },
    {
     "data": {
      "text/html": [
       "<pre style=\"white-space:pre;overflow-x:auto;line-height:normal;font-family:Menlo,'DejaVu Sans Mono',consolas,'Courier New',monospace\"><span style=\"color: #7fbfbf\">           </span>METRIC   Round <span style=\"color: #000080; font-weight: bold\">0</span>, collaborator one is sending metric for task locally_tuned_model_validation: acc        <span style=\"color: #000080; font-weight: bold\">0.956</span>                    <a href=\"file:///home/radionov/.envs/old_api_fixes/lib/python3.6/site-packages/openfl/component/collaborator/collaborator.py\"><span style=\"color: #7f7f7f\">collaborator.py</span></a><span style=\"color: #7f7f7f\">:374</span>\n",
       "</pre>\n"
      ],
      "text/plain": [
       "<rich.jupyter.JupyterRenderable at 0x7fdc445838d0>"
      ]
     },
     "metadata": {},
     "output_type": "display_data"
    },
    {
     "data": {
      "text/html": [
       "<pre style=\"white-space:pre;overflow-x:auto;line-height:normal;font-family:Menlo,'DejaVu Sans Mono',consolas,'Courier New',monospace\"><span style=\"color: #7fbfbf\">           </span>METRIC   Round <span style=\"color: #000080; font-weight: bold\">0</span>, collaborator two is sending metric for task aggregated_model_validation: acc   <span style=\"color: #000080; font-weight: bold\">0.1092</span>                           <a href=\"file:///home/radionov/.envs/old_api_fixes/lib/python3.6/site-packages/openfl/component/collaborator/collaborator.py\"><span style=\"color: #7f7f7f\">collaborator.py</span></a><span style=\"color: #7f7f7f\">:374</span>\n",
       "</pre>\n"
      ],
      "text/plain": [
       "<rich.jupyter.JupyterRenderable at 0x7fdc44583ba8>"
      ]
     },
     "metadata": {},
     "output_type": "display_data"
    },
    {
     "data": {
      "text/html": [
       "<pre style=\"white-space:pre;overflow-x:auto;line-height:normal;font-family:Menlo,'DejaVu Sans Mono',consolas,'Courier New',monospace\"><span style=\"color: #7fbfbf\">[18:45:06] </span>METRIC   Round <span style=\"color: #000080; font-weight: bold\">0</span>, collaborator two is sending metric for task train: cross_entropy       <span style=\"color: #000080; font-weight: bold\">0.5047385692596436</span>                       <a href=\"file:///home/radionov/.envs/old_api_fixes/lib/python3.6/site-packages/openfl/component/collaborator/collaborator.py\"><span style=\"color: #7f7f7f\">collaborator.py</span></a><span style=\"color: #7f7f7f\">:374</span>\n",
       "</pre>\n"
      ],
      "text/plain": [
       "<rich.jupyter.JupyterRenderable at 0x7fdc455f8898>"
      ]
     },
     "metadata": {},
     "output_type": "display_data"
    },
    {
     "data": {
      "text/html": [
       "<pre style=\"white-space:pre;overflow-x:auto;line-height:normal;font-family:Menlo,'DejaVu Sans Mono',consolas,'Courier New',monospace\"><span style=\"color: #7fbfbf\">           </span>METRIC   Round <span style=\"color: #000080; font-weight: bold\">0</span>, collaborator two is sending metric for task locally_tuned_model_validation: acc        <span style=\"color: #000080; font-weight: bold\">0.9382</span>                   <a href=\"file:///home/radionov/.envs/old_api_fixes/lib/python3.6/site-packages/openfl/component/collaborator/collaborator.py\"><span style=\"color: #7f7f7f\">collaborator.py</span></a><span style=\"color: #7f7f7f\">:374</span>\n",
       "</pre>\n"
      ],
      "text/plain": [
       "<rich.jupyter.JupyterRenderable at 0x7fdc44583a20>"
      ]
     },
     "metadata": {},
     "output_type": "display_data"
    },
    {
     "data": {
      "text/html": [
       "<pre style=\"white-space:pre;overflow-x:auto;line-height:normal;font-family:Menlo,'DejaVu Sans Mono',consolas,'Courier New',monospace\"><span style=\"color: #7fbfbf\">           </span>METRIC   Round <span style=\"color: #000080; font-weight: bold\">0</span>, aggregator: locally_tuned_model_validation                                                                        <a href=\"file:///home/radionov/.envs/old_api_fixes/lib/python3.6/site-packages/openfl/component/aggregator/aggregator.py\"><span style=\"color: #7f7f7f\">aggregator.py</span></a><span style=\"color: #7f7f7f\">:779</span>\n",
       "                    <span style=\"font-weight: bold\">&lt;</span><span style=\"color: #ff00ff; font-weight: bold\">openfl.component.aggregation_functions.weighted_average.WeightedAverage</span><span style=\"color: #000000\"> object at </span><span style=\"color: #000080; font-weight: bold\">0x7fdc4458a208</span><span style=\"font-weight: bold\">&gt;</span> acc:     <span style=\"color: #000080; font-weight: bold\">0.9471</span>                          \n",
       "</pre>\n"
      ],
      "text/plain": [
       "<rich.jupyter.JupyterRenderable at 0x7fdc44583c50>"
      ]
     },
     "metadata": {},
     "output_type": "display_data"
    },
    {
     "data": {
      "text/html": [
       "<pre style=\"white-space:pre;overflow-x:auto;line-height:normal;font-family:Menlo,'DejaVu Sans Mono',consolas,'Courier New',monospace\"><span style=\"color: #7fbfbf\">           </span>METRIC   Round <span style=\"color: #000080; font-weight: bold\">0</span>, aggregator: train <span style=\"font-weight: bold\">&lt;</span><span style=\"color: #ff00ff; font-weight: bold\">openfl.component.aggregation_functions.weighted_average.WeightedAverage</span><span style=\"color: #000000\"> object at </span>             <a href=\"file:///home/radionov/.envs/old_api_fixes/lib/python3.6/site-packages/openfl/component/aggregator/aggregator.py\"><span style=\"color: #7f7f7f\">aggregator.py</span></a><span style=\"color: #7f7f7f\">:779</span>\n",
       "                    <span style=\"color: #000080; font-weight: bold\">0x7fdc4458a208</span><span style=\"font-weight: bold\">&gt;</span> cross_entropy:    <span style=\"color: #000080; font-weight: bold\">0.5051</span>                                                                                                    \n",
       "</pre>\n"
      ],
      "text/plain": [
       "<rich.jupyter.JupyterRenderable at 0x7fdc44583c50>"
      ]
     },
     "metadata": {},
     "output_type": "display_data"
    },
    {
     "data": {
      "text/html": [
       "<pre style=\"white-space:pre;overflow-x:auto;line-height:normal;font-family:Menlo,'DejaVu Sans Mono',consolas,'Courier New',monospace\"><span style=\"color: #7fbfbf\">[18:45:07] </span>METRIC   Round <span style=\"color: #000080; font-weight: bold\">0</span>, aggregator: aggregated_model_validation <span style=\"font-weight: bold\">&lt;</span><span style=\"color: #ff00ff; font-weight: bold\">openfl.component.aggregation_functions.weighted_average.WeightedAverage</span><span style=\"color: #000000\"> </span> <a href=\"file:///home/radionov/.envs/old_api_fixes/lib/python3.6/site-packages/openfl/component/aggregator/aggregator.py\"><span style=\"color: #7f7f7f\">aggregator.py</span></a><span style=\"color: #7f7f7f\">:779</span>\n",
       "                    <span style=\"color: #000000\">object at </span><span style=\"color: #000080; font-weight: bold\">0x7fdc4458a208</span><span style=\"font-weight: bold\">&gt;</span> acc:        <span style=\"color: #000080; font-weight: bold\">0.1035</span>                                                                                                \n",
       "</pre>\n"
      ],
      "text/plain": [
       "<rich.jupyter.JupyterRenderable at 0x7fdc442cc400>"
      ]
     },
     "metadata": {},
     "output_type": "display_data"
    },
    {
     "data": {
      "text/html": [
       "<pre style=\"white-space:pre;overflow-x:auto;line-height:normal;font-family:Menlo,'DejaVu Sans Mono',consolas,'Courier New',monospace\"><span style=\"color: #7fbfbf\">           </span>METRIC   Round <span style=\"color: #000080; font-weight: bold\">0</span>: saved the best model with score <span style=\"color: #000080; font-weight: bold\">0.103500</span>                                                                          <a href=\"file:///home/radionov/.envs/old_api_fixes/lib/python3.6/site-packages/openfl/component/aggregator/aggregator.py\"><span style=\"color: #7f7f7f\">aggregator.py</span></a><span style=\"color: #7f7f7f\">:792</span>\n",
       "</pre>\n"
      ],
      "text/plain": [
       "<rich.jupyter.JupyterRenderable at 0x7fdc44583908>"
      ]
     },
     "metadata": {},
     "output_type": "display_data"
    },
    {
     "data": {
      "text/html": [
       "<pre style=\"white-space:pre;overflow-x:auto;line-height:normal;font-family:Menlo,'DejaVu Sans Mono',consolas,'Courier New',monospace\"><span style=\"color: #7fbfbf\">           </span>METRIC   Round <span style=\"color: #000080; font-weight: bold\">1</span>, collaborator one is sending metric for task aggregated_model_validation: acc   <span style=\"color: #000080; font-weight: bold\">0.9474</span>                           <a href=\"file:///home/radionov/.envs/old_api_fixes/lib/python3.6/site-packages/openfl/component/collaborator/collaborator.py\"><span style=\"color: #7f7f7f\">collaborator.py</span></a><span style=\"color: #7f7f7f\">:374</span>\n",
       "</pre>\n"
      ],
      "text/plain": [
       "<rich.jupyter.JupyterRenderable at 0x7fdc442ab080>"
      ]
     },
     "metadata": {},
     "output_type": "display_data"
    },
    {
     "data": {
      "text/html": [
       "<pre style=\"white-space:pre;overflow-x:auto;line-height:normal;font-family:Menlo,'DejaVu Sans Mono',consolas,'Courier New',monospace\"><span style=\"color: #7fbfbf\">[18:45:11] </span>METRIC   Round <span style=\"color: #000080; font-weight: bold\">1</span>, collaborator one is sending metric for task train: cross_entropy       <span style=\"color: #000080; font-weight: bold\">0.147225484251976</span>                        <a href=\"file:///home/radionov/.envs/old_api_fixes/lib/python3.6/site-packages/openfl/component/collaborator/collaborator.py\"><span style=\"color: #7f7f7f\">collaborator.py</span></a><span style=\"color: #7f7f7f\">:374</span>\n",
       "</pre>\n"
      ],
      "text/plain": [
       "<rich.jupyter.JupyterRenderable at 0x7fdc442abb00>"
      ]
     },
     "metadata": {},
     "output_type": "display_data"
    },
    {
     "data": {
      "text/html": [
       "<pre style=\"white-space:pre;overflow-x:auto;line-height:normal;font-family:Menlo,'DejaVu Sans Mono',consolas,'Courier New',monospace\"><span style=\"color: #7fbfbf\">           </span>METRIC   Round <span style=\"color: #000080; font-weight: bold\">1</span>, collaborator one is sending metric for task locally_tuned_model_validation: acc        <span style=\"color: #000080; font-weight: bold\">0.9666</span>                   <a href=\"file:///home/radionov/.envs/old_api_fixes/lib/python3.6/site-packages/openfl/component/collaborator/collaborator.py\"><span style=\"color: #7f7f7f\">collaborator.py</span></a><span style=\"color: #7f7f7f\">:374</span>\n",
       "</pre>\n"
      ],
      "text/plain": [
       "<rich.jupyter.JupyterRenderable at 0x7fdc442ab128>"
      ]
     },
     "metadata": {},
     "output_type": "display_data"
    },
    {
     "data": {
      "text/html": [
       "<pre style=\"white-space:pre;overflow-x:auto;line-height:normal;font-family:Menlo,'DejaVu Sans Mono',consolas,'Courier New',monospace\"><span style=\"color: #7fbfbf\">           </span>METRIC   Round <span style=\"color: #000080; font-weight: bold\">1</span>, collaborator two is sending metric for task aggregated_model_validation: acc   <span style=\"color: #000080; font-weight: bold\">0.9408</span>                           <a href=\"file:///home/radionov/.envs/old_api_fixes/lib/python3.6/site-packages/openfl/component/collaborator/collaborator.py\"><span style=\"color: #7f7f7f\">collaborator.py</span></a><span style=\"color: #7f7f7f\">:374</span>\n",
       "</pre>\n"
      ],
      "text/plain": [
       "<rich.jupyter.JupyterRenderable at 0x7fdc442a6128>"
      ]
     },
     "metadata": {},
     "output_type": "display_data"
    },
    {
     "data": {
      "text/html": [
       "<pre style=\"white-space:pre;overflow-x:auto;line-height:normal;font-family:Menlo,'DejaVu Sans Mono',consolas,'Courier New',monospace\"><span style=\"color: #7fbfbf\">[18:45:15] </span>METRIC   Round <span style=\"color: #000080; font-weight: bold\">1</span>, collaborator two is sending metric for task train: cross_entropy       <span style=\"color: #000080; font-weight: bold\">0.14525775611400604</span>                      <a href=\"file:///home/radionov/.envs/old_api_fixes/lib/python3.6/site-packages/openfl/component/collaborator/collaborator.py\"><span style=\"color: #7f7f7f\">collaborator.py</span></a><span style=\"color: #7f7f7f\">:374</span>\n",
       "</pre>\n"
      ],
      "text/plain": [
       "<rich.jupyter.JupyterRenderable at 0x7fdc442a6780>"
      ]
     },
     "metadata": {},
     "output_type": "display_data"
    },
    {
     "data": {
      "text/html": [
       "<pre style=\"white-space:pre;overflow-x:auto;line-height:normal;font-family:Menlo,'DejaVu Sans Mono',consolas,'Courier New',monospace\"><span style=\"color: #7fbfbf\">[18:45:16] </span>METRIC   Round <span style=\"color: #000080; font-weight: bold\">1</span>, collaborator two is sending metric for task locally_tuned_model_validation: acc        <span style=\"color: #000080; font-weight: bold\">0.9646</span>                   <a href=\"file:///home/radionov/.envs/old_api_fixes/lib/python3.6/site-packages/openfl/component/collaborator/collaborator.py\"><span style=\"color: #7f7f7f\">collaborator.py</span></a><span style=\"color: #7f7f7f\">:374</span>\n",
       "</pre>\n"
      ],
      "text/plain": [
       "<rich.jupyter.JupyterRenderable at 0x7fdc442cc320>"
      ]
     },
     "metadata": {},
     "output_type": "display_data"
    },
    {
     "data": {
      "text/html": [
       "<pre style=\"white-space:pre;overflow-x:auto;line-height:normal;font-family:Menlo,'DejaVu Sans Mono',consolas,'Courier New',monospace\"><span style=\"color: #7fbfbf\">           </span>METRIC   Round <span style=\"color: #000080; font-weight: bold\">1</span>, aggregator: locally_tuned_model_validation                                                                        <a href=\"file:///home/radionov/.envs/old_api_fixes/lib/python3.6/site-packages/openfl/component/aggregator/aggregator.py\"><span style=\"color: #7f7f7f\">aggregator.py</span></a><span style=\"color: #7f7f7f\">:779</span>\n",
       "                    <span style=\"font-weight: bold\">&lt;</span><span style=\"color: #ff00ff; font-weight: bold\">openfl.component.aggregation_functions.weighted_average.WeightedAverage</span><span style=\"color: #000000\"> object at </span><span style=\"color: #000080; font-weight: bold\">0x7fdc4458a208</span><span style=\"font-weight: bold\">&gt;</span> acc:     <span style=\"color: #000080; font-weight: bold\">0.9656</span>                          \n",
       "</pre>\n"
      ],
      "text/plain": [
       "<rich.jupyter.JupyterRenderable at 0x7fdc44583e10>"
      ]
     },
     "metadata": {},
     "output_type": "display_data"
    },
    {
     "data": {
      "text/html": [
       "<pre style=\"white-space:pre;overflow-x:auto;line-height:normal;font-family:Menlo,'DejaVu Sans Mono',consolas,'Courier New',monospace\"><span style=\"color: #7fbfbf\">           </span>METRIC   Round <span style=\"color: #000080; font-weight: bold\">1</span>, aggregator: train <span style=\"font-weight: bold\">&lt;</span><span style=\"color: #ff00ff; font-weight: bold\">openfl.component.aggregation_functions.weighted_average.WeightedAverage</span><span style=\"color: #000000\"> object at </span>             <a href=\"file:///home/radionov/.envs/old_api_fixes/lib/python3.6/site-packages/openfl/component/aggregator/aggregator.py\"><span style=\"color: #7f7f7f\">aggregator.py</span></a><span style=\"color: #7f7f7f\">:779</span>\n",
       "                    <span style=\"color: #000080; font-weight: bold\">0x7fdc4458a208</span><span style=\"font-weight: bold\">&gt;</span> cross_entropy:    <span style=\"color: #000080; font-weight: bold\">0.1462</span>                                                                                                    \n",
       "</pre>\n"
      ],
      "text/plain": [
       "<rich.jupyter.JupyterRenderable at 0x7fdc44583ba8>"
      ]
     },
     "metadata": {},
     "output_type": "display_data"
    },
    {
     "data": {
      "text/html": [
       "<pre style=\"white-space:pre;overflow-x:auto;line-height:normal;font-family:Menlo,'DejaVu Sans Mono',consolas,'Courier New',monospace\"><span style=\"color: #7fbfbf\">           </span>METRIC   Round <span style=\"color: #000080; font-weight: bold\">1</span>, aggregator: aggregated_model_validation <span style=\"font-weight: bold\">&lt;</span><span style=\"color: #ff00ff; font-weight: bold\">openfl.component.aggregation_functions.weighted_average.WeightedAverage</span><span style=\"color: #000000\"> </span> <a href=\"file:///home/radionov/.envs/old_api_fixes/lib/python3.6/site-packages/openfl/component/aggregator/aggregator.py\"><span style=\"color: #7f7f7f\">aggregator.py</span></a><span style=\"color: #7f7f7f\">:779</span>\n",
       "                    <span style=\"color: #000000\">object at </span><span style=\"color: #000080; font-weight: bold\">0x7fdc4458a208</span><span style=\"font-weight: bold\">&gt;</span> acc:        <span style=\"color: #000080; font-weight: bold\">0.9441</span>                                                                                                \n",
       "</pre>\n"
      ],
      "text/plain": [
       "<rich.jupyter.JupyterRenderable at 0x7fdc442a6390>"
      ]
     },
     "metadata": {},
     "output_type": "display_data"
    },
    {
     "data": {
      "text/html": [
       "<pre style=\"white-space:pre;overflow-x:auto;line-height:normal;font-family:Menlo,'DejaVu Sans Mono',consolas,'Courier New',monospace\"><span style=\"color: #7fbfbf\">           </span>METRIC   Round <span style=\"color: #000080; font-weight: bold\">1</span>: saved the best model with score <span style=\"color: #000080; font-weight: bold\">0.944100</span>                                                                          <a href=\"file:///home/radionov/.envs/old_api_fixes/lib/python3.6/site-packages/openfl/component/aggregator/aggregator.py\"><span style=\"color: #7f7f7f\">aggregator.py</span></a><span style=\"color: #7f7f7f\">:792</span>\n",
       "</pre>\n"
      ],
      "text/plain": [
       "<rich.jupyter.JupyterRenderable at 0x7fdc442a67b8>"
      ]
     },
     "metadata": {},
     "output_type": "display_data"
    },
    {
     "data": {
      "text/html": [
       "<pre style=\"white-space:pre;overflow-x:auto;line-height:normal;font-family:Menlo,'DejaVu Sans Mono',consolas,'Courier New',monospace\"><span style=\"color: #7fbfbf\">           </span>METRIC   Round <span style=\"color: #000080; font-weight: bold\">2</span>, collaborator one is sending metric for task aggregated_model_validation: acc   <span style=\"color: #000080; font-weight: bold\">0.9732</span>                           <a href=\"file:///home/radionov/.envs/old_api_fixes/lib/python3.6/site-packages/openfl/component/collaborator/collaborator.py\"><span style=\"color: #7f7f7f\">collaborator.py</span></a><span style=\"color: #7f7f7f\">:374</span>\n",
       "</pre>\n"
      ],
      "text/plain": [
       "<rich.jupyter.JupyterRenderable at 0x7fdc442a0358>"
      ]
     },
     "metadata": {},
     "output_type": "display_data"
    },
    {
     "data": {
      "text/html": [
       "<pre style=\"white-space:pre;overflow-x:auto;line-height:normal;font-family:Menlo,'DejaVu Sans Mono',consolas,'Courier New',monospace\"><span style=\"color: #7fbfbf\">[18:45:20] </span>METRIC   Round <span style=\"color: #000080; font-weight: bold\">2</span>, collaborator one is sending metric for task train: cross_entropy       <span style=\"color: #000080; font-weight: bold\">0.10288489609956741</span>                      <a href=\"file:///home/radionov/.envs/old_api_fixes/lib/python3.6/site-packages/openfl/component/collaborator/collaborator.py\"><span style=\"color: #7f7f7f\">collaborator.py</span></a><span style=\"color: #7f7f7f\">:374</span>\n",
       "</pre>\n"
      ],
      "text/plain": [
       "<rich.jupyter.JupyterRenderable at 0x7fdc61e1b7f0>"
      ]
     },
     "metadata": {},
     "output_type": "display_data"
    },
    {
     "data": {
      "text/html": [
       "<pre style=\"white-space:pre;overflow-x:auto;line-height:normal;font-family:Menlo,'DejaVu Sans Mono',consolas,'Courier New',monospace\"><span style=\"color: #7fbfbf\">           </span>METRIC   Round <span style=\"color: #000080; font-weight: bold\">2</span>, collaborator one is sending metric for task locally_tuned_model_validation: acc        <span style=\"color: #000080; font-weight: bold\">0.9758</span>                   <a href=\"file:///home/radionov/.envs/old_api_fixes/lib/python3.6/site-packages/openfl/component/collaborator/collaborator.py\"><span style=\"color: #7f7f7f\">collaborator.py</span></a><span style=\"color: #7f7f7f\">:374</span>\n",
       "</pre>\n"
      ],
      "text/plain": [
       "<rich.jupyter.JupyterRenderable at 0x7fdc442a0710>"
      ]
     },
     "metadata": {},
     "output_type": "display_data"
    },
    {
     "data": {
      "text/html": [
       "<pre style=\"white-space:pre;overflow-x:auto;line-height:normal;font-family:Menlo,'DejaVu Sans Mono',consolas,'Courier New',monospace\"><span style=\"color: #7fbfbf\">           </span>METRIC   Round <span style=\"color: #000080; font-weight: bold\">2</span>, collaborator two is sending metric for task aggregated_model_validation: acc   <span style=\"color: #000080; font-weight: bold\">0.9666</span>                           <a href=\"file:///home/radionov/.envs/old_api_fixes/lib/python3.6/site-packages/openfl/component/collaborator/collaborator.py\"><span style=\"color: #7f7f7f\">collaborator.py</span></a><span style=\"color: #7f7f7f\">:374</span>\n",
       "</pre>\n"
      ],
      "text/plain": [
       "<rich.jupyter.JupyterRenderable at 0x7fdc4429d3c8>"
      ]
     },
     "metadata": {},
     "output_type": "display_data"
    },
    {
     "data": {
      "text/html": [
       "<pre style=\"white-space:pre;overflow-x:auto;line-height:normal;font-family:Menlo,'DejaVu Sans Mono',consolas,'Courier New',monospace\"><span style=\"color: #7fbfbf\">[18:45:24] </span>METRIC   Round <span style=\"color: #000080; font-weight: bold\">2</span>, collaborator two is sending metric for task train: cross_entropy       <span style=\"color: #000080; font-weight: bold\">0.1041189655661583</span>                       <a href=\"file:///home/radionov/.envs/old_api_fixes/lib/python3.6/site-packages/openfl/component/collaborator/collaborator.py\"><span style=\"color: #7f7f7f\">collaborator.py</span></a><span style=\"color: #7f7f7f\">:374</span>\n",
       "</pre>\n"
      ],
      "text/plain": [
       "<rich.jupyter.JupyterRenderable at 0x7fdc4429d128>"
      ]
     },
     "metadata": {},
     "output_type": "display_data"
    },
    {
     "data": {
      "text/html": [
       "<pre style=\"white-space:pre;overflow-x:auto;line-height:normal;font-family:Menlo,'DejaVu Sans Mono',consolas,'Courier New',monospace\"><span style=\"color: #7fbfbf\">[18:45:25] </span>METRIC   Round <span style=\"color: #000080; font-weight: bold\">2</span>, collaborator two is sending metric for task locally_tuned_model_validation: acc        <span style=\"color: #000080; font-weight: bold\">0.971</span>                    <a href=\"file:///home/radionov/.envs/old_api_fixes/lib/python3.6/site-packages/openfl/component/collaborator/collaborator.py\"><span style=\"color: #7f7f7f\">collaborator.py</span></a><span style=\"color: #7f7f7f\">:374</span>\n",
       "</pre>\n"
      ],
      "text/plain": [
       "<rich.jupyter.JupyterRenderable at 0x7fdc4429d0b8>"
      ]
     },
     "metadata": {},
     "output_type": "display_data"
    },
    {
     "data": {
      "text/html": [
       "<pre style=\"white-space:pre;overflow-x:auto;line-height:normal;font-family:Menlo,'DejaVu Sans Mono',consolas,'Courier New',monospace\"><span style=\"color: #7fbfbf\">           </span>METRIC   Round <span style=\"color: #000080; font-weight: bold\">2</span>, aggregator: locally_tuned_model_validation                                                                        <a href=\"file:///home/radionov/.envs/old_api_fixes/lib/python3.6/site-packages/openfl/component/aggregator/aggregator.py\"><span style=\"color: #7f7f7f\">aggregator.py</span></a><span style=\"color: #7f7f7f\">:779</span>\n",
       "                    <span style=\"font-weight: bold\">&lt;</span><span style=\"color: #ff00ff; font-weight: bold\">openfl.component.aggregation_functions.weighted_average.WeightedAverage</span><span style=\"color: #000000\"> object at </span><span style=\"color: #000080; font-weight: bold\">0x7fdc4458a208</span><span style=\"font-weight: bold\">&gt;</span> acc:     <span style=\"color: #000080; font-weight: bold\">0.9734</span>                          \n",
       "</pre>\n"
      ],
      "text/plain": [
       "<rich.jupyter.JupyterRenderable at 0x7fdc4429d470>"
      ]
     },
     "metadata": {},
     "output_type": "display_data"
    },
    {
     "data": {
      "text/html": [
       "<pre style=\"white-space:pre;overflow-x:auto;line-height:normal;font-family:Menlo,'DejaVu Sans Mono',consolas,'Courier New',monospace\"><span style=\"color: #7fbfbf\">           </span>METRIC   Round <span style=\"color: #000080; font-weight: bold\">2</span>, aggregator: train <span style=\"font-weight: bold\">&lt;</span><span style=\"color: #ff00ff; font-weight: bold\">openfl.component.aggregation_functions.weighted_average.WeightedAverage</span><span style=\"color: #000000\"> object at </span>             <a href=\"file:///home/radionov/.envs/old_api_fixes/lib/python3.6/site-packages/openfl/component/aggregator/aggregator.py\"><span style=\"color: #7f7f7f\">aggregator.py</span></a><span style=\"color: #7f7f7f\">:779</span>\n",
       "                    <span style=\"color: #000080; font-weight: bold\">0x7fdc4458a208</span><span style=\"font-weight: bold\">&gt;</span> cross_entropy:    <span style=\"color: #000080; font-weight: bold\">0.1035</span>                                                                                                    \n",
       "</pre>\n"
      ],
      "text/plain": [
       "<rich.jupyter.JupyterRenderable at 0x7fdc4429df60>"
      ]
     },
     "metadata": {},
     "output_type": "display_data"
    },
    {
     "data": {
      "text/html": [
       "<pre style=\"white-space:pre;overflow-x:auto;line-height:normal;font-family:Menlo,'DejaVu Sans Mono',consolas,'Courier New',monospace\"><span style=\"color: #7fbfbf\">           </span>METRIC   Round <span style=\"color: #000080; font-weight: bold\">2</span>, aggregator: aggregated_model_validation <span style=\"font-weight: bold\">&lt;</span><span style=\"color: #ff00ff; font-weight: bold\">openfl.component.aggregation_functions.weighted_average.WeightedAverage</span><span style=\"color: #000000\"> </span> <a href=\"file:///home/radionov/.envs/old_api_fixes/lib/python3.6/site-packages/openfl/component/aggregator/aggregator.py\"><span style=\"color: #7f7f7f\">aggregator.py</span></a><span style=\"color: #7f7f7f\">:779</span>\n",
       "                    <span style=\"color: #000000\">object at </span><span style=\"color: #000080; font-weight: bold\">0x7fdc4458a208</span><span style=\"font-weight: bold\">&gt;</span> acc:        <span style=\"color: #000080; font-weight: bold\">0.9699</span>                                                                                                \n",
       "</pre>\n"
      ],
      "text/plain": [
       "<rich.jupyter.JupyterRenderable at 0x7fdc442a0710>"
      ]
     },
     "metadata": {},
     "output_type": "display_data"
    },
    {
     "data": {
      "text/html": [
       "<pre style=\"white-space:pre;overflow-x:auto;line-height:normal;font-family:Menlo,'DejaVu Sans Mono',consolas,'Courier New',monospace\"><span style=\"color: #7fbfbf\">           </span>METRIC   Round <span style=\"color: #000080; font-weight: bold\">2</span>: saved the best model with score <span style=\"color: #000080; font-weight: bold\">0.969900</span>                                                                          <a href=\"file:///home/radionov/.envs/old_api_fixes/lib/python3.6/site-packages/openfl/component/aggregator/aggregator.py\"><span style=\"color: #7f7f7f\">aggregator.py</span></a><span style=\"color: #7f7f7f\">:792</span>\n",
       "</pre>\n"
      ],
      "text/plain": [
       "<rich.jupyter.JupyterRenderable at 0x7fdc4429d4a8>"
      ]
     },
     "metadata": {},
     "output_type": "display_data"
    },
    {
     "data": {
      "text/html": [
       "<pre style=\"white-space:pre;overflow-x:auto;line-height:normal;font-family:Menlo,'DejaVu Sans Mono',consolas,'Courier New',monospace\"><span style=\"color: #7fbfbf\">           </span>METRIC   Round <span style=\"color: #000080; font-weight: bold\">3</span>, collaborator one is sending metric for task aggregated_model_validation: acc   <span style=\"color: #000080; font-weight: bold\">0.9792</span>                           <a href=\"file:///home/radionov/.envs/old_api_fixes/lib/python3.6/site-packages/openfl/component/collaborator/collaborator.py\"><span style=\"color: #7f7f7f\">collaborator.py</span></a><span style=\"color: #7f7f7f\">:374</span>\n",
       "</pre>\n"
      ],
      "text/plain": [
       "<rich.jupyter.JupyterRenderable at 0x7fdc4429d3c8>"
      ]
     },
     "metadata": {},
     "output_type": "display_data"
    },
    {
     "data": {
      "text/html": [
       "<pre style=\"white-space:pre;overflow-x:auto;line-height:normal;font-family:Menlo,'DejaVu Sans Mono',consolas,'Courier New',monospace\"><span style=\"color: #7fbfbf\">[18:45:29] </span>METRIC   Round <span style=\"color: #000080; font-weight: bold\">3</span>, collaborator one is sending metric for task train: cross_entropy       <span style=\"color: #000080; font-weight: bold\">0.08398710936307907</span>                      <a href=\"file:///home/radionov/.envs/old_api_fixes/lib/python3.6/site-packages/openfl/component/collaborator/collaborator.py\"><span style=\"color: #7f7f7f\">collaborator.py</span></a><span style=\"color: #7f7f7f\">:374</span>\n",
       "</pre>\n"
      ],
      "text/plain": [
       "<rich.jupyter.JupyterRenderable at 0x7fdc310442b0>"
      ]
     },
     "metadata": {},
     "output_type": "display_data"
    },
    {
     "data": {
      "text/html": [
       "<pre style=\"white-space:pre;overflow-x:auto;line-height:normal;font-family:Menlo,'DejaVu Sans Mono',consolas,'Courier New',monospace\"><span style=\"color: #7fbfbf\">           </span>METRIC   Round <span style=\"color: #000080; font-weight: bold\">3</span>, collaborator one is sending metric for task locally_tuned_model_validation: acc        <span style=\"color: #000080; font-weight: bold\">0.9738</span>                   <a href=\"file:///home/radionov/.envs/old_api_fixes/lib/python3.6/site-packages/openfl/component/collaborator/collaborator.py\"><span style=\"color: #7f7f7f\">collaborator.py</span></a><span style=\"color: #7f7f7f\">:374</span>\n",
       "</pre>\n"
      ],
      "text/plain": [
       "<rich.jupyter.JupyterRenderable at 0x7fdc31044358>"
      ]
     },
     "metadata": {},
     "output_type": "display_data"
    },
    {
     "data": {
      "text/html": [
       "<pre style=\"white-space:pre;overflow-x:auto;line-height:normal;font-family:Menlo,'DejaVu Sans Mono',consolas,'Courier New',monospace\"><span style=\"color: #7fbfbf\">           </span>METRIC   Round <span style=\"color: #000080; font-weight: bold\">3</span>, collaborator two is sending metric for task aggregated_model_validation: acc   <span style=\"color: #000080; font-weight: bold\">0.9738</span>                           <a href=\"file:///home/radionov/.envs/old_api_fixes/lib/python3.6/site-packages/openfl/component/collaborator/collaborator.py\"><span style=\"color: #7f7f7f\">collaborator.py</span></a><span style=\"color: #7f7f7f\">:374</span>\n",
       "</pre>\n"
      ],
      "text/plain": [
       "<rich.jupyter.JupyterRenderable at 0x7fdc442a6278>"
      ]
     },
     "metadata": {},
     "output_type": "display_data"
    },
    {
     "data": {
      "text/html": [
       "<pre style=\"white-space:pre;overflow-x:auto;line-height:normal;font-family:Menlo,'DejaVu Sans Mono',consolas,'Courier New',monospace\"><span style=\"color: #7fbfbf\">[18:45:33] </span>METRIC   Round <span style=\"color: #000080; font-weight: bold\">3</span>, collaborator two is sending metric for task train: cross_entropy       <span style=\"color: #000080; font-weight: bold\">0.0855974555015564</span>                       <a href=\"file:///home/radionov/.envs/old_api_fixes/lib/python3.6/site-packages/openfl/component/collaborator/collaborator.py\"><span style=\"color: #7f7f7f\">collaborator.py</span></a><span style=\"color: #7f7f7f\">:374</span>\n",
       "</pre>\n"
      ],
      "text/plain": [
       "<rich.jupyter.JupyterRenderable at 0x7fdc4429df60>"
      ]
     },
     "metadata": {},
     "output_type": "display_data"
    },
    {
     "data": {
      "text/html": [
       "<pre style=\"white-space:pre;overflow-x:auto;line-height:normal;font-family:Menlo,'DejaVu Sans Mono',consolas,'Courier New',monospace\"><span style=\"color: #7fbfbf\">           </span>METRIC   Round <span style=\"color: #000080; font-weight: bold\">3</span>, collaborator two is sending metric for task locally_tuned_model_validation: acc        <span style=\"color: #000080; font-weight: bold\">0.976</span>                    <a href=\"file:///home/radionov/.envs/old_api_fixes/lib/python3.6/site-packages/openfl/component/collaborator/collaborator.py\"><span style=\"color: #7f7f7f\">collaborator.py</span></a><span style=\"color: #7f7f7f\">:374</span>\n",
       "</pre>\n"
      ],
      "text/plain": [
       "<rich.jupyter.JupyterRenderable at 0x7fdc310698d0>"
      ]
     },
     "metadata": {},
     "output_type": "display_data"
    },
    {
     "data": {
      "text/html": [
       "<pre style=\"white-space:pre;overflow-x:auto;line-height:normal;font-family:Menlo,'DejaVu Sans Mono',consolas,'Courier New',monospace\"><span style=\"color: #7fbfbf\">           </span>METRIC   Round <span style=\"color: #000080; font-weight: bold\">3</span>, aggregator: locally_tuned_model_validation                                                                        <a href=\"file:///home/radionov/.envs/old_api_fixes/lib/python3.6/site-packages/openfl/component/aggregator/aggregator.py\"><span style=\"color: #7f7f7f\">aggregator.py</span></a><span style=\"color: #7f7f7f\">:779</span>\n",
       "                    <span style=\"font-weight: bold\">&lt;</span><span style=\"color: #ff00ff; font-weight: bold\">openfl.component.aggregation_functions.weighted_average.WeightedAverage</span><span style=\"color: #000000\"> object at </span><span style=\"color: #000080; font-weight: bold\">0x7fdc4458a208</span><span style=\"font-weight: bold\">&gt;</span> acc:     <span style=\"color: #000080; font-weight: bold\">0.9749</span>                          \n",
       "</pre>\n"
      ],
      "text/plain": [
       "<rich.jupyter.JupyterRenderable at 0x7fdc31069390>"
      ]
     },
     "metadata": {},
     "output_type": "display_data"
    },
    {
     "data": {
      "text/html": [
       "<pre style=\"white-space:pre;overflow-x:auto;line-height:normal;font-family:Menlo,'DejaVu Sans Mono',consolas,'Courier New',monospace\"><span style=\"color: #7fbfbf\">           </span>METRIC   Round <span style=\"color: #000080; font-weight: bold\">3</span>, aggregator: train <span style=\"font-weight: bold\">&lt;</span><span style=\"color: #ff00ff; font-weight: bold\">openfl.component.aggregation_functions.weighted_average.WeightedAverage</span><span style=\"color: #000000\"> object at </span>             <a href=\"file:///home/radionov/.envs/old_api_fixes/lib/python3.6/site-packages/openfl/component/aggregator/aggregator.py\"><span style=\"color: #7f7f7f\">aggregator.py</span></a><span style=\"color: #7f7f7f\">:779</span>\n",
       "                    <span style=\"color: #000080; font-weight: bold\">0x7fdc4458a208</span><span style=\"font-weight: bold\">&gt;</span> cross_entropy:    <span style=\"color: #000080; font-weight: bold\">0.0848</span>                                                                                                    \n",
       "</pre>\n"
      ],
      "text/plain": [
       "<rich.jupyter.JupyterRenderable at 0x7fdc310692b0>"
      ]
     },
     "metadata": {},
     "output_type": "display_data"
    },
    {
     "data": {
      "text/html": [
       "<pre style=\"white-space:pre;overflow-x:auto;line-height:normal;font-family:Menlo,'DejaVu Sans Mono',consolas,'Courier New',monospace\"><span style=\"color: #7fbfbf\">[18:45:34] </span>METRIC   Round <span style=\"color: #000080; font-weight: bold\">3</span>, aggregator: aggregated_model_validation <span style=\"font-weight: bold\">&lt;</span><span style=\"color: #ff00ff; font-weight: bold\">openfl.component.aggregation_functions.weighted_average.WeightedAverage</span><span style=\"color: #000000\"> </span> <a href=\"file:///home/radionov/.envs/old_api_fixes/lib/python3.6/site-packages/openfl/component/aggregator/aggregator.py\"><span style=\"color: #7f7f7f\">aggregator.py</span></a><span style=\"color: #7f7f7f\">:779</span>\n",
       "                    <span style=\"color: #000000\">object at </span><span style=\"color: #000080; font-weight: bold\">0x7fdc4458a208</span><span style=\"font-weight: bold\">&gt;</span> acc:        <span style=\"color: #000080; font-weight: bold\">0.9765</span>                                                                                                \n",
       "</pre>\n"
      ],
      "text/plain": [
       "<rich.jupyter.JupyterRenderable at 0x7fdc31069160>"
      ]
     },
     "metadata": {},
     "output_type": "display_data"
    },
    {
     "data": {
      "text/html": [
       "<pre style=\"white-space:pre;overflow-x:auto;line-height:normal;font-family:Menlo,'DejaVu Sans Mono',consolas,'Courier New',monospace\"><span style=\"color: #7fbfbf\">           </span>METRIC   Round <span style=\"color: #000080; font-weight: bold\">3</span>: saved the best model with score <span style=\"color: #000080; font-weight: bold\">0.976500</span>                                                                          <a href=\"file:///home/radionov/.envs/old_api_fixes/lib/python3.6/site-packages/openfl/component/aggregator/aggregator.py\"><span style=\"color: #7f7f7f\">aggregator.py</span></a><span style=\"color: #7f7f7f\">:792</span>\n",
       "</pre>\n"
      ],
      "text/plain": [
       "<rich.jupyter.JupyterRenderable at 0x7fdc31069ac8>"
      ]
     },
     "metadata": {},
     "output_type": "display_data"
    },
    {
     "data": {
      "text/html": [
       "<pre style=\"white-space:pre;overflow-x:auto;line-height:normal;font-family:Menlo,'DejaVu Sans Mono',consolas,'Courier New',monospace\"><span style=\"color: #7fbfbf\">           </span>METRIC   Round <span style=\"color: #000080; font-weight: bold\">4</span>, collaborator one is sending metric for task aggregated_model_validation: acc   <span style=\"color: #000080; font-weight: bold\">0.9816</span>                           <a href=\"file:///home/radionov/.envs/old_api_fixes/lib/python3.6/site-packages/openfl/component/collaborator/collaborator.py\"><span style=\"color: #7f7f7f\">collaborator.py</span></a><span style=\"color: #7f7f7f\">:374</span>\n",
       "</pre>\n"
      ],
      "text/plain": [
       "<rich.jupyter.JupyterRenderable at 0x7fdc31069cc0>"
      ]
     },
     "metadata": {},
     "output_type": "display_data"
    },
    {
     "data": {
      "text/html": [
       "<pre style=\"white-space:pre;overflow-x:auto;line-height:normal;font-family:Menlo,'DejaVu Sans Mono',consolas,'Courier New',monospace\"><span style=\"color: #7fbfbf\">[18:45:38] </span>METRIC   Round <span style=\"color: #000080; font-weight: bold\">4</span>, collaborator one is sending metric for task train: cross_entropy       <span style=\"color: #000080; font-weight: bold\">0.06992660462856293</span>                      <a href=\"file:///home/radionov/.envs/old_api_fixes/lib/python3.6/site-packages/openfl/component/collaborator/collaborator.py\"><span style=\"color: #7f7f7f\">collaborator.py</span></a><span style=\"color: #7f7f7f\">:374</span>\n",
       "</pre>\n"
      ],
      "text/plain": [
       "<rich.jupyter.JupyterRenderable at 0x7fdc31070080>"
      ]
     },
     "metadata": {},
     "output_type": "display_data"
    },
    {
     "data": {
      "text/html": [
       "<pre style=\"white-space:pre;overflow-x:auto;line-height:normal;font-family:Menlo,'DejaVu Sans Mono',consolas,'Courier New',monospace\"><span style=\"color: #7fbfbf\">           </span>METRIC   Round <span style=\"color: #000080; font-weight: bold\">4</span>, collaborator one is sending metric for task locally_tuned_model_validation: acc        <span style=\"color: #000080; font-weight: bold\">0.9808</span>                   <a href=\"file:///home/radionov/.envs/old_api_fixes/lib/python3.6/site-packages/openfl/component/collaborator/collaborator.py\"><span style=\"color: #7f7f7f\">collaborator.py</span></a><span style=\"color: #7f7f7f\">:374</span>\n",
       "</pre>\n"
      ],
      "text/plain": [
       "<rich.jupyter.JupyterRenderable at 0x7fdc442ab978>"
      ]
     },
     "metadata": {},
     "output_type": "display_data"
    },
    {
     "data": {
      "text/html": [
       "<pre style=\"white-space:pre;overflow-x:auto;line-height:normal;font-family:Menlo,'DejaVu Sans Mono',consolas,'Courier New',monospace\"><span style=\"color: #7fbfbf\">           </span>METRIC   Round <span style=\"color: #000080; font-weight: bold\">4</span>, collaborator two is sending metric for task aggregated_model_validation: acc   <span style=\"color: #000080; font-weight: bold\">0.9788</span>                           <a href=\"file:///home/radionov/.envs/old_api_fixes/lib/python3.6/site-packages/openfl/component/collaborator/collaborator.py\"><span style=\"color: #7f7f7f\">collaborator.py</span></a><span style=\"color: #7f7f7f\">:374</span>\n",
       "</pre>\n"
      ],
      "text/plain": [
       "<rich.jupyter.JupyterRenderable at 0x7fdc31070630>"
      ]
     },
     "metadata": {},
     "output_type": "display_data"
    },
    {
     "data": {
      "text/html": [
       "<pre style=\"white-space:pre;overflow-x:auto;line-height:normal;font-family:Menlo,'DejaVu Sans Mono',consolas,'Courier New',monospace\"><span style=\"color: #7fbfbf\">[18:45:42] </span>METRIC   Round <span style=\"color: #000080; font-weight: bold\">4</span>, collaborator two is sending metric for task train: cross_entropy       <span style=\"color: #000080; font-weight: bold\">0.07252811640501022</span>                      <a href=\"file:///home/radionov/.envs/old_api_fixes/lib/python3.6/site-packages/openfl/component/collaborator/collaborator.py\"><span style=\"color: #7f7f7f\">collaborator.py</span></a><span style=\"color: #7f7f7f\">:374</span>\n",
       "</pre>\n"
      ],
      "text/plain": [
       "<rich.jupyter.JupyterRenderable at 0x7fdc310698d0>"
      ]
     },
     "metadata": {},
     "output_type": "display_data"
    },
    {
     "data": {
      "text/html": [
       "<pre style=\"white-space:pre;overflow-x:auto;line-height:normal;font-family:Menlo,'DejaVu Sans Mono',consolas,'Courier New',monospace\"><span style=\"color: #7fbfbf\">           </span>METRIC   Round <span style=\"color: #000080; font-weight: bold\">4</span>, collaborator two is sending metric for task locally_tuned_model_validation: acc        <span style=\"color: #000080; font-weight: bold\">0.9776</span>                   <a href=\"file:///home/radionov/.envs/old_api_fixes/lib/python3.6/site-packages/openfl/component/collaborator/collaborator.py\"><span style=\"color: #7f7f7f\">collaborator.py</span></a><span style=\"color: #7f7f7f\">:374</span>\n",
       "</pre>\n"
      ],
      "text/plain": [
       "<rich.jupyter.JupyterRenderable at 0x7fdc31069fd0>"
      ]
     },
     "metadata": {},
     "output_type": "display_data"
    },
    {
     "data": {
      "text/html": [
       "<pre style=\"white-space:pre;overflow-x:auto;line-height:normal;font-family:Menlo,'DejaVu Sans Mono',consolas,'Courier New',monospace\"><span style=\"color: #7fbfbf\">           </span>METRIC   Round <span style=\"color: #000080; font-weight: bold\">4</span>, aggregator: locally_tuned_model_validation                                                                        <a href=\"file:///home/radionov/.envs/old_api_fixes/lib/python3.6/site-packages/openfl/component/aggregator/aggregator.py\"><span style=\"color: #7f7f7f\">aggregator.py</span></a><span style=\"color: #7f7f7f\">:779</span>\n",
       "                    <span style=\"font-weight: bold\">&lt;</span><span style=\"color: #ff00ff; font-weight: bold\">openfl.component.aggregation_functions.weighted_average.WeightedAverage</span><span style=\"color: #000000\"> object at </span><span style=\"color: #000080; font-weight: bold\">0x7fdc4458a208</span><span style=\"font-weight: bold\">&gt;</span> acc:     <span style=\"color: #000080; font-weight: bold\">0.9792</span>                          \n",
       "</pre>\n"
      ],
      "text/plain": [
       "<rich.jupyter.JupyterRenderable at 0x7fdc310690f0>"
      ]
     },
     "metadata": {},
     "output_type": "display_data"
    },
    {
     "data": {
      "text/html": [
       "<pre style=\"white-space:pre;overflow-x:auto;line-height:normal;font-family:Menlo,'DejaVu Sans Mono',consolas,'Courier New',monospace\"><span style=\"color: #7fbfbf\">           </span>METRIC   Round <span style=\"color: #000080; font-weight: bold\">4</span>, aggregator: train <span style=\"font-weight: bold\">&lt;</span><span style=\"color: #ff00ff; font-weight: bold\">openfl.component.aggregation_functions.weighted_average.WeightedAverage</span><span style=\"color: #000000\"> object at </span>             <a href=\"file:///home/radionov/.envs/old_api_fixes/lib/python3.6/site-packages/openfl/component/aggregator/aggregator.py\"><span style=\"color: #7f7f7f\">aggregator.py</span></a><span style=\"color: #7f7f7f\">:779</span>\n",
       "                    <span style=\"color: #000080; font-weight: bold\">0x7fdc4458a208</span><span style=\"font-weight: bold\">&gt;</span> cross_entropy:    <span style=\"color: #000080; font-weight: bold\">0.0712</span>                                                                                                    \n",
       "</pre>\n"
      ],
      "text/plain": [
       "<rich.jupyter.JupyterRenderable at 0x7fdc31047748>"
      ]
     },
     "metadata": {},
     "output_type": "display_data"
    },
    {
     "data": {
      "text/html": [
       "<pre style=\"white-space:pre;overflow-x:auto;line-height:normal;font-family:Menlo,'DejaVu Sans Mono',consolas,'Courier New',monospace\"><span style=\"color: #7fbfbf\">[18:45:43] </span>METRIC   Round <span style=\"color: #000080; font-weight: bold\">4</span>, aggregator: aggregated_model_validation <span style=\"font-weight: bold\">&lt;</span><span style=\"color: #ff00ff; font-weight: bold\">openfl.component.aggregation_functions.weighted_average.WeightedAverage</span><span style=\"color: #000000\"> </span> <a href=\"file:///home/radionov/.envs/old_api_fixes/lib/python3.6/site-packages/openfl/component/aggregator/aggregator.py\"><span style=\"color: #7f7f7f\">aggregator.py</span></a><span style=\"color: #7f7f7f\">:779</span>\n",
       "                    <span style=\"color: #000000\">object at </span><span style=\"color: #000080; font-weight: bold\">0x7fdc4458a208</span><span style=\"font-weight: bold\">&gt;</span> acc:        <span style=\"color: #000080; font-weight: bold\">0.9802</span>                                                                                                \n",
       "</pre>\n"
      ],
      "text/plain": [
       "<rich.jupyter.JupyterRenderable at 0x7fdc31047a58>"
      ]
     },
     "metadata": {},
     "output_type": "display_data"
    },
    {
     "data": {
      "text/html": [
       "<pre style=\"white-space:pre;overflow-x:auto;line-height:normal;font-family:Menlo,'DejaVu Sans Mono',consolas,'Courier New',monospace\"><span style=\"color: #7fbfbf\">           </span>METRIC   Round <span style=\"color: #000080; font-weight: bold\">4</span>: saved the best model with score <span style=\"color: #000080; font-weight: bold\">0.980200</span>                                                                          <a href=\"file:///home/radionov/.envs/old_api_fixes/lib/python3.6/site-packages/openfl/component/aggregator/aggregator.py\"><span style=\"color: #7f7f7f\">aggregator.py</span></a><span style=\"color: #7f7f7f\">:792</span>\n",
       "</pre>\n"
      ],
      "text/plain": [
       "<rich.jupyter.JupyterRenderable at 0x7fdc310479e8>"
      ]
     },
     "metadata": {},
     "output_type": "display_data"
    },
    {
     "data": {
      "text/html": [
       "<pre style=\"white-space:pre;overflow-x:auto;line-height:normal;font-family:Menlo,'DejaVu Sans Mono',consolas,'Courier New',monospace\"><span style=\"color: #7fbfbf\">           </span>METRIC   Round <span style=\"color: #000080; font-weight: bold\">5</span>, collaborator one is sending metric for task aggregated_model_validation: acc   <span style=\"color: #000080; font-weight: bold\">0.9822</span>                           <a href=\"file:///home/radionov/.envs/old_api_fixes/lib/python3.6/site-packages/openfl/component/collaborator/collaborator.py\"><span style=\"color: #7f7f7f\">collaborator.py</span></a><span style=\"color: #7f7f7f\">:374</span>\n",
       "</pre>\n"
      ],
      "text/plain": [
       "<rich.jupyter.JupyterRenderable at 0x7fdc31047c18>"
      ]
     },
     "metadata": {},
     "output_type": "display_data"
    },
    {
     "data": {
      "text/html": [
       "<pre style=\"white-space:pre;overflow-x:auto;line-height:normal;font-family:Menlo,'DejaVu Sans Mono',consolas,'Courier New',monospace\"><span style=\"color: #7fbfbf\">[18:45:47] </span>METRIC   Round <span style=\"color: #000080; font-weight: bold\">5</span>, collaborator one is sending metric for task train: cross_entropy       <span style=\"color: #000080; font-weight: bold\">0.06201956793665886</span>                      <a href=\"file:///home/radionov/.envs/old_api_fixes/lib/python3.6/site-packages/openfl/component/collaborator/collaborator.py\"><span style=\"color: #7f7f7f\">collaborator.py</span></a><span style=\"color: #7f7f7f\">:374</span>\n",
       "</pre>\n"
      ],
      "text/plain": [
       "<rich.jupyter.JupyterRenderable at 0x7fdc31079128>"
      ]
     },
     "metadata": {},
     "output_type": "display_data"
    },
    {
     "data": {
      "text/html": [
       "<pre style=\"white-space:pre;overflow-x:auto;line-height:normal;font-family:Menlo,'DejaVu Sans Mono',consolas,'Courier New',monospace\"><span style=\"color: #7fbfbf\">           </span>METRIC   Round <span style=\"color: #000080; font-weight: bold\">5</span>, collaborator one is sending metric for task locally_tuned_model_validation: acc        <span style=\"color: #000080; font-weight: bold\">0.977</span>                    <a href=\"file:///home/radionov/.envs/old_api_fixes/lib/python3.6/site-packages/openfl/component/collaborator/collaborator.py\"><span style=\"color: #7f7f7f\">collaborator.py</span></a><span style=\"color: #7f7f7f\">:374</span>\n",
       "</pre>\n"
      ],
      "text/plain": [
       "<rich.jupyter.JupyterRenderable at 0x7fdc31069fd0>"
      ]
     },
     "metadata": {},
     "output_type": "display_data"
    },
    {
     "data": {
      "text/html": [
       "<pre style=\"white-space:pre;overflow-x:auto;line-height:normal;font-family:Menlo,'DejaVu Sans Mono',consolas,'Courier New',monospace\"><span style=\"color: #7fbfbf\">           </span>METRIC   Round <span style=\"color: #000080; font-weight: bold\">5</span>, collaborator two is sending metric for task aggregated_model_validation: acc   <span style=\"color: #000080; font-weight: bold\">0.9792</span>                           <a href=\"file:///home/radionov/.envs/old_api_fixes/lib/python3.6/site-packages/openfl/component/collaborator/collaborator.py\"><span style=\"color: #7f7f7f\">collaborator.py</span></a><span style=\"color: #7f7f7f\">:374</span>\n",
       "</pre>\n"
      ],
      "text/plain": [
       "<rich.jupyter.JupyterRenderable at 0x7fdc31079668>"
      ]
     },
     "metadata": {},
     "output_type": "display_data"
    },
    {
     "data": {
      "text/html": [
       "<pre style=\"white-space:pre;overflow-x:auto;line-height:normal;font-family:Menlo,'DejaVu Sans Mono',consolas,'Courier New',monospace\"><span style=\"color: #7fbfbf\">[18:45:51] </span>METRIC   Round <span style=\"color: #000080; font-weight: bold\">5</span>, collaborator two is sending metric for task train: cross_entropy       <span style=\"color: #000080; font-weight: bold\">0.06293138861656189</span>                      <a href=\"file:///home/radionov/.envs/old_api_fixes/lib/python3.6/site-packages/openfl/component/collaborator/collaborator.py\"><span style=\"color: #7f7f7f\">collaborator.py</span></a><span style=\"color: #7f7f7f\">:374</span>\n",
       "</pre>\n"
      ],
      "text/plain": [
       "<rich.jupyter.JupyterRenderable at 0x7fdc4429dfd0>"
      ]
     },
     "metadata": {},
     "output_type": "display_data"
    },
    {
     "data": {
      "text/html": [
       "<pre style=\"white-space:pre;overflow-x:auto;line-height:normal;font-family:Menlo,'DejaVu Sans Mono',consolas,'Courier New',monospace\"><span style=\"color: #7fbfbf\">           </span>METRIC   Round <span style=\"color: #000080; font-weight: bold\">5</span>, collaborator two is sending metric for task locally_tuned_model_validation: acc        <span style=\"color: #000080; font-weight: bold\">0.9736</span>                   <a href=\"file:///home/radionov/.envs/old_api_fixes/lib/python3.6/site-packages/openfl/component/collaborator/collaborator.py\"><span style=\"color: #7f7f7f\">collaborator.py</span></a><span style=\"color: #7f7f7f\">:374</span>\n",
       "</pre>\n"
      ],
      "text/plain": [
       "<rich.jupyter.JupyterRenderable at 0x7fdc31050588>"
      ]
     },
     "metadata": {},
     "output_type": "display_data"
    },
    {
     "data": {
      "text/html": [
       "<pre style=\"white-space:pre;overflow-x:auto;line-height:normal;font-family:Menlo,'DejaVu Sans Mono',consolas,'Courier New',monospace\"><span style=\"color: #7fbfbf\">           </span>METRIC   Round <span style=\"color: #000080; font-weight: bold\">5</span>, aggregator: locally_tuned_model_validation                                                                        <a href=\"file:///home/radionov/.envs/old_api_fixes/lib/python3.6/site-packages/openfl/component/aggregator/aggregator.py\"><span style=\"color: #7f7f7f\">aggregator.py</span></a><span style=\"color: #7f7f7f\">:779</span>\n",
       "                    <span style=\"font-weight: bold\">&lt;</span><span style=\"color: #ff00ff; font-weight: bold\">openfl.component.aggregation_functions.weighted_average.WeightedAverage</span><span style=\"color: #000000\"> object at </span><span style=\"color: #000080; font-weight: bold\">0x7fdc4458a208</span><span style=\"font-weight: bold\">&gt;</span> acc:     <span style=\"color: #000080; font-weight: bold\">0.9753</span>                          \n",
       "</pre>\n"
      ],
      "text/plain": [
       "<rich.jupyter.JupyterRenderable at 0x7fdc310507f0>"
      ]
     },
     "metadata": {},
     "output_type": "display_data"
    },
    {
     "data": {
      "text/html": [
       "<pre style=\"white-space:pre;overflow-x:auto;line-height:normal;font-family:Menlo,'DejaVu Sans Mono',consolas,'Courier New',monospace\"><span style=\"color: #7fbfbf\">           </span>METRIC   Round <span style=\"color: #000080; font-weight: bold\">5</span>, aggregator: train <span style=\"font-weight: bold\">&lt;</span><span style=\"color: #ff00ff; font-weight: bold\">openfl.component.aggregation_functions.weighted_average.WeightedAverage</span><span style=\"color: #000000\"> object at </span>             <a href=\"file:///home/radionov/.envs/old_api_fixes/lib/python3.6/site-packages/openfl/component/aggregator/aggregator.py\"><span style=\"color: #7f7f7f\">aggregator.py</span></a><span style=\"color: #7f7f7f\">:779</span>\n",
       "                    <span style=\"color: #000080; font-weight: bold\">0x7fdc4458a208</span><span style=\"font-weight: bold\">&gt;</span> cross_entropy:    <span style=\"color: #000080; font-weight: bold\">0.0625</span>                                                                                                    \n",
       "</pre>\n"
      ],
      "text/plain": [
       "<rich.jupyter.JupyterRenderable at 0x7fdc31050860>"
      ]
     },
     "metadata": {},
     "output_type": "display_data"
    },
    {
     "data": {
      "text/html": [
       "<pre style=\"white-space:pre;overflow-x:auto;line-height:normal;font-family:Menlo,'DejaVu Sans Mono',consolas,'Courier New',monospace\"><span style=\"color: #7fbfbf\">[18:45:52] </span>METRIC   Round <span style=\"color: #000080; font-weight: bold\">5</span>, aggregator: aggregated_model_validation <span style=\"font-weight: bold\">&lt;</span><span style=\"color: #ff00ff; font-weight: bold\">openfl.component.aggregation_functions.weighted_average.WeightedAverage</span><span style=\"color: #000000\"> </span> <a href=\"file:///home/radionov/.envs/old_api_fixes/lib/python3.6/site-packages/openfl/component/aggregator/aggregator.py\"><span style=\"color: #7f7f7f\">aggregator.py</span></a><span style=\"color: #7f7f7f\">:779</span>\n",
       "                    <span style=\"color: #000000\">object at </span><span style=\"color: #000080; font-weight: bold\">0x7fdc4458a208</span><span style=\"font-weight: bold\">&gt;</span> acc:        <span style=\"color: #000080; font-weight: bold\">0.9807</span>                                                                                                \n",
       "</pre>\n"
      ],
      "text/plain": [
       "<rich.jupyter.JupyterRenderable at 0x7fdc310509e8>"
      ]
     },
     "metadata": {},
     "output_type": "display_data"
    },
    {
     "data": {
      "text/html": [
       "<pre style=\"white-space:pre;overflow-x:auto;line-height:normal;font-family:Menlo,'DejaVu Sans Mono',consolas,'Courier New',monospace\"><span style=\"color: #7fbfbf\">           </span>METRIC   Round <span style=\"color: #000080; font-weight: bold\">5</span>: saved the best model with score <span style=\"color: #000080; font-weight: bold\">0.980700</span>                                                                          <a href=\"file:///home/radionov/.envs/old_api_fixes/lib/python3.6/site-packages/openfl/component/aggregator/aggregator.py\"><span style=\"color: #7f7f7f\">aggregator.py</span></a><span style=\"color: #7f7f7f\">:792</span>\n",
       "</pre>\n"
      ],
      "text/plain": [
       "<rich.jupyter.JupyterRenderable at 0x7fdc310508d0>"
      ]
     },
     "metadata": {},
     "output_type": "display_data"
    },
    {
     "data": {
      "text/html": [
       "<pre style=\"white-space:pre;overflow-x:auto;line-height:normal;font-family:Menlo,'DejaVu Sans Mono',consolas,'Courier New',monospace\"><span style=\"color: #7fbfbf\">           </span>METRIC   Round <span style=\"color: #000080; font-weight: bold\">6</span>, collaborator one is sending metric for task aggregated_model_validation: acc   <span style=\"color: #000080; font-weight: bold\">0.9814</span>                           <a href=\"file:///home/radionov/.envs/old_api_fixes/lib/python3.6/site-packages/openfl/component/collaborator/collaborator.py\"><span style=\"color: #7f7f7f\">collaborator.py</span></a><span style=\"color: #7f7f7f\">:374</span>\n",
       "</pre>\n"
      ],
      "text/plain": [
       "<rich.jupyter.JupyterRenderable at 0x7fdc31050ba8>"
      ]
     },
     "metadata": {},
     "output_type": "display_data"
    },
    {
     "data": {
      "text/html": [
       "<pre style=\"white-space:pre;overflow-x:auto;line-height:normal;font-family:Menlo,'DejaVu Sans Mono',consolas,'Courier New',monospace\"><span style=\"color: #7fbfbf\">[18:45:56] </span>METRIC   Round <span style=\"color: #000080; font-weight: bold\">6</span>, collaborator one is sending metric for task train: cross_entropy       <span style=\"color: #000080; font-weight: bold\">0.054464191198349</span>                        <a href=\"file:///home/radionov/.envs/old_api_fixes/lib/python3.6/site-packages/openfl/component/collaborator/collaborator.py\"><span style=\"color: #7f7f7f\">collaborator.py</span></a><span style=\"color: #7f7f7f\">:374</span>\n",
       "</pre>\n"
      ],
      "text/plain": [
       "<rich.jupyter.JupyterRenderable at 0x7fdc31048048>"
      ]
     },
     "metadata": {},
     "output_type": "display_data"
    },
    {
     "data": {
      "text/html": [
       "<pre style=\"white-space:pre;overflow-x:auto;line-height:normal;font-family:Menlo,'DejaVu Sans Mono',consolas,'Courier New',monospace\"><span style=\"color: #7fbfbf\">           </span>METRIC   Round <span style=\"color: #000080; font-weight: bold\">6</span>, collaborator one is sending metric for task locally_tuned_model_validation: acc        <span style=\"color: #000080; font-weight: bold\">0.9798</span>                   <a href=\"file:///home/radionov/.envs/old_api_fixes/lib/python3.6/site-packages/openfl/component/collaborator/collaborator.py\"><span style=\"color: #7f7f7f\">collaborator.py</span></a><span style=\"color: #7f7f7f\">:374</span>\n",
       "</pre>\n"
      ],
      "text/plain": [
       "<rich.jupyter.JupyterRenderable at 0x7fdc31048080>"
      ]
     },
     "metadata": {},
     "output_type": "display_data"
    },
    {
     "data": {
      "text/html": [
       "<pre style=\"white-space:pre;overflow-x:auto;line-height:normal;font-family:Menlo,'DejaVu Sans Mono',consolas,'Courier New',monospace\"><span style=\"color: #7fbfbf\">           </span>METRIC   Round <span style=\"color: #000080; font-weight: bold\">6</span>, collaborator two is sending metric for task aggregated_model_validation: acc   <span style=\"color: #000080; font-weight: bold\">0.98</span>                             <a href=\"file:///home/radionov/.envs/old_api_fixes/lib/python3.6/site-packages/openfl/component/collaborator/collaborator.py\"><span style=\"color: #7f7f7f\">collaborator.py</span></a><span style=\"color: #7f7f7f\">:374</span>\n",
       "</pre>\n"
      ],
      "text/plain": [
       "<rich.jupyter.JupyterRenderable at 0x7fdc31048f28>"
      ]
     },
     "metadata": {},
     "output_type": "display_data"
    },
    {
     "data": {
      "text/html": [
       "<pre style=\"white-space:pre;overflow-x:auto;line-height:normal;font-family:Menlo,'DejaVu Sans Mono',consolas,'Courier New',monospace\"><span style=\"color: #7fbfbf\">[18:46:00] </span>METRIC   Round <span style=\"color: #000080; font-weight: bold\">6</span>, collaborator two is sending metric for task train: cross_entropy       <span style=\"color: #000080; font-weight: bold\">0.05447222664952278</span>                      <a href=\"file:///home/radionov/.envs/old_api_fixes/lib/python3.6/site-packages/openfl/component/collaborator/collaborator.py\"><span style=\"color: #7f7f7f\">collaborator.py</span></a><span style=\"color: #7f7f7f\">:374</span>\n",
       "</pre>\n"
      ],
      "text/plain": [
       "<rich.jupyter.JupyterRenderable at 0x7fdc442a6fd0>"
      ]
     },
     "metadata": {},
     "output_type": "display_data"
    },
    {
     "data": {
      "text/html": [
       "<pre style=\"white-space:pre;overflow-x:auto;line-height:normal;font-family:Menlo,'DejaVu Sans Mono',consolas,'Courier New',monospace\"><span style=\"color: #7fbfbf\">[18:46:01] </span>METRIC   Round <span style=\"color: #000080; font-weight: bold\">6</span>, collaborator two is sending metric for task locally_tuned_model_validation: acc        <span style=\"color: #000080; font-weight: bold\">0.9824</span>                   <a href=\"file:///home/radionov/.envs/old_api_fixes/lib/python3.6/site-packages/openfl/component/collaborator/collaborator.py\"><span style=\"color: #7f7f7f\">collaborator.py</span></a><span style=\"color: #7f7f7f\">:374</span>\n",
       "</pre>\n"
      ],
      "text/plain": [
       "<rich.jupyter.JupyterRenderable at 0x7fdc31050b38>"
      ]
     },
     "metadata": {},
     "output_type": "display_data"
    },
    {
     "data": {
      "text/html": [
       "<pre style=\"white-space:pre;overflow-x:auto;line-height:normal;font-family:Menlo,'DejaVu Sans Mono',consolas,'Courier New',monospace\"><span style=\"color: #7fbfbf\">           </span>METRIC   Round <span style=\"color: #000080; font-weight: bold\">6</span>, aggregator: locally_tuned_model_validation                                                                        <a href=\"file:///home/radionov/.envs/old_api_fixes/lib/python3.6/site-packages/openfl/component/aggregator/aggregator.py\"><span style=\"color: #7f7f7f\">aggregator.py</span></a><span style=\"color: #7f7f7f\">:779</span>\n",
       "                    <span style=\"font-weight: bold\">&lt;</span><span style=\"color: #ff00ff; font-weight: bold\">openfl.component.aggregation_functions.weighted_average.WeightedAverage</span><span style=\"color: #000000\"> object at </span><span style=\"color: #000080; font-weight: bold\">0x7fdc4458a208</span><span style=\"font-weight: bold\">&gt;</span> acc:     <span style=\"color: #000080; font-weight: bold\">0.9811</span>                          \n",
       "</pre>\n"
      ],
      "text/plain": [
       "<rich.jupyter.JupyterRenderable at 0x7fdc310666d8>"
      ]
     },
     "metadata": {},
     "output_type": "display_data"
    },
    {
     "data": {
      "text/html": [
       "<pre style=\"white-space:pre;overflow-x:auto;line-height:normal;font-family:Menlo,'DejaVu Sans Mono',consolas,'Courier New',monospace\"><span style=\"color: #7fbfbf\">           </span>METRIC   Round <span style=\"color: #000080; font-weight: bold\">6</span>, aggregator: train <span style=\"font-weight: bold\">&lt;</span><span style=\"color: #ff00ff; font-weight: bold\">openfl.component.aggregation_functions.weighted_average.WeightedAverage</span><span style=\"color: #000000\"> object at </span>             <a href=\"file:///home/radionov/.envs/old_api_fixes/lib/python3.6/site-packages/openfl/component/aggregator/aggregator.py\"><span style=\"color: #7f7f7f\">aggregator.py</span></a><span style=\"color: #7f7f7f\">:779</span>\n",
       "                    <span style=\"color: #000080; font-weight: bold\">0x7fdc4458a208</span><span style=\"font-weight: bold\">&gt;</span> cross_entropy:    <span style=\"color: #000080; font-weight: bold\">0.0545</span>                                                                                                    \n",
       "</pre>\n"
      ],
      "text/plain": [
       "<rich.jupyter.JupyterRenderable at 0x7fdc31066828>"
      ]
     },
     "metadata": {},
     "output_type": "display_data"
    },
    {
     "data": {
      "text/html": [
       "<pre style=\"white-space:pre;overflow-x:auto;line-height:normal;font-family:Menlo,'DejaVu Sans Mono',consolas,'Courier New',monospace\"><span style=\"color: #7fbfbf\">           </span>METRIC   Round <span style=\"color: #000080; font-weight: bold\">6</span>, aggregator: aggregated_model_validation <span style=\"font-weight: bold\">&lt;</span><span style=\"color: #ff00ff; font-weight: bold\">openfl.component.aggregation_functions.weighted_average.WeightedAverage</span><span style=\"color: #000000\"> </span> <a href=\"file:///home/radionov/.envs/old_api_fixes/lib/python3.6/site-packages/openfl/component/aggregator/aggregator.py\"><span style=\"color: #7f7f7f\">aggregator.py</span></a><span style=\"color: #7f7f7f\">:779</span>\n",
       "                    <span style=\"color: #000000\">object at </span><span style=\"color: #000080; font-weight: bold\">0x7fdc4458a208</span><span style=\"font-weight: bold\">&gt;</span> acc:        <span style=\"color: #000080; font-weight: bold\">0.9807</span>                                                                                                \n",
       "</pre>\n"
      ],
      "text/plain": [
       "<rich.jupyter.JupyterRenderable at 0x7fdc310669b0>"
      ]
     },
     "metadata": {},
     "output_type": "display_data"
    },
    {
     "data": {
      "text/html": [
       "<pre style=\"white-space:pre;overflow-x:auto;line-height:normal;font-family:Menlo,'DejaVu Sans Mono',consolas,'Courier New',monospace\"><span style=\"color: #7fbfbf\">           </span>METRIC   Round <span style=\"color: #000080; font-weight: bold\">7</span>, collaborator one is sending metric for task aggregated_model_validation: acc   <span style=\"color: #000080; font-weight: bold\">0.9844</span>                           <a href=\"file:///home/radionov/.envs/old_api_fixes/lib/python3.6/site-packages/openfl/component/collaborator/collaborator.py\"><span style=\"color: #7f7f7f\">collaborator.py</span></a><span style=\"color: #7f7f7f\">:374</span>\n",
       "</pre>\n"
      ],
      "text/plain": [
       "<rich.jupyter.JupyterRenderable at 0x7fdc31066780>"
      ]
     },
     "metadata": {},
     "output_type": "display_data"
    },
    {
     "data": {
      "text/html": [
       "<pre style=\"white-space:pre;overflow-x:auto;line-height:normal;font-family:Menlo,'DejaVu Sans Mono',consolas,'Courier New',monospace\"><span style=\"color: #7fbfbf\">[18:46:05] </span>METRIC   Round <span style=\"color: #000080; font-weight: bold\">7</span>, collaborator one is sending metric for task train: cross_entropy       <span style=\"color: #000080; font-weight: bold\">0.047989167273044586</span>                     <a href=\"file:///home/radionov/.envs/old_api_fixes/lib/python3.6/site-packages/openfl/component/collaborator/collaborator.py\"><span style=\"color: #7f7f7f\">collaborator.py</span></a><span style=\"color: #7f7f7f\">:374</span>\n",
       "</pre>\n"
      ],
      "text/plain": [
       "<rich.jupyter.JupyterRenderable at 0x7fdc31044470>"
      ]
     },
     "metadata": {},
     "output_type": "display_data"
    },
    {
     "data": {
      "text/html": [
       "<pre style=\"white-space:pre;overflow-x:auto;line-height:normal;font-family:Menlo,'DejaVu Sans Mono',consolas,'Courier New',monospace\"><span style=\"color: #7fbfbf\">           </span>METRIC   Round <span style=\"color: #000080; font-weight: bold\">7</span>, collaborator one is sending metric for task locally_tuned_model_validation: acc        <span style=\"color: #000080; font-weight: bold\">0.9858</span>                   <a href=\"file:///home/radionov/.envs/old_api_fixes/lib/python3.6/site-packages/openfl/component/collaborator/collaborator.py\"><span style=\"color: #7f7f7f\">collaborator.py</span></a><span style=\"color: #7f7f7f\">:374</span>\n",
       "</pre>\n"
      ],
      "text/plain": [
       "<rich.jupyter.JupyterRenderable at 0x7fdc31066d30>"
      ]
     },
     "metadata": {},
     "output_type": "display_data"
    },
    {
     "data": {
      "text/html": [
       "<pre style=\"white-space:pre;overflow-x:auto;line-height:normal;font-family:Menlo,'DejaVu Sans Mono',consolas,'Courier New',monospace\"><span style=\"color: #7fbfbf\">           </span>METRIC   Round <span style=\"color: #000080; font-weight: bold\">7</span>, collaborator two is sending metric for task aggregated_model_validation: acc   <span style=\"color: #000080; font-weight: bold\">0.984</span>                            <a href=\"file:///home/radionov/.envs/old_api_fixes/lib/python3.6/site-packages/openfl/component/collaborator/collaborator.py\"><span style=\"color: #7f7f7f\">collaborator.py</span></a><span style=\"color: #7f7f7f\">:374</span>\n",
       "</pre>\n"
      ],
      "text/plain": [
       "<rich.jupyter.JupyterRenderable at 0x7fdc31017320>"
      ]
     },
     "metadata": {},
     "output_type": "display_data"
    },
    {
     "data": {
      "text/html": [
       "<pre style=\"white-space:pre;overflow-x:auto;line-height:normal;font-family:Menlo,'DejaVu Sans Mono',consolas,'Courier New',monospace\"><span style=\"color: #7fbfbf\">[18:46:09] </span>METRIC   Round <span style=\"color: #000080; font-weight: bold\">7</span>, collaborator two is sending metric for task train: cross_entropy       <span style=\"color: #000080; font-weight: bold\">0.05028608441352844</span>                      <a href=\"file:///home/radionov/.envs/old_api_fixes/lib/python3.6/site-packages/openfl/component/collaborator/collaborator.py\"><span style=\"color: #7f7f7f\">collaborator.py</span></a><span style=\"color: #7f7f7f\">:374</span>\n",
       "</pre>\n"
      ],
      "text/plain": [
       "<rich.jupyter.JupyterRenderable at 0x7fdc442a6fd0>"
      ]
     },
     "metadata": {},
     "output_type": "display_data"
    },
    {
     "data": {
      "text/html": [
       "<pre style=\"white-space:pre;overflow-x:auto;line-height:normal;font-family:Menlo,'DejaVu Sans Mono',consolas,'Courier New',monospace\"><span style=\"color: #7fbfbf\">           </span>METRIC   Round <span style=\"color: #000080; font-weight: bold\">7</span>, collaborator two is sending metric for task locally_tuned_model_validation: acc        <span style=\"color: #000080; font-weight: bold\">0.9812</span>                   <a href=\"file:///home/radionov/.envs/old_api_fixes/lib/python3.6/site-packages/openfl/component/collaborator/collaborator.py\"><span style=\"color: #7f7f7f\">collaborator.py</span></a><span style=\"color: #7f7f7f\">:374</span>\n",
       "</pre>\n"
      ],
      "text/plain": [
       "<rich.jupyter.JupyterRenderable at 0x7fdc310171d0>"
      ]
     },
     "metadata": {},
     "output_type": "display_data"
    },
    {
     "data": {
      "text/html": [
       "<pre style=\"white-space:pre;overflow-x:auto;line-height:normal;font-family:Menlo,'DejaVu Sans Mono',consolas,'Courier New',monospace\"><span style=\"color: #7fbfbf\">           </span>METRIC   Round <span style=\"color: #000080; font-weight: bold\">7</span>, aggregator: locally_tuned_model_validation                                                                        <a href=\"file:///home/radionov/.envs/old_api_fixes/lib/python3.6/site-packages/openfl/component/aggregator/aggregator.py\"><span style=\"color: #7f7f7f\">aggregator.py</span></a><span style=\"color: #7f7f7f\">:779</span>\n",
       "                    <span style=\"font-weight: bold\">&lt;</span><span style=\"color: #ff00ff; font-weight: bold\">openfl.component.aggregation_functions.weighted_average.WeightedAverage</span><span style=\"color: #000000\"> object at </span><span style=\"color: #000080; font-weight: bold\">0x7fdc4458a208</span><span style=\"font-weight: bold\">&gt;</span> acc:     <span style=\"color: #000080; font-weight: bold\">0.9835</span>                          \n",
       "</pre>\n"
      ],
      "text/plain": [
       "<rich.jupyter.JupyterRenderable at 0x7fdc310171d0>"
      ]
     },
     "metadata": {},
     "output_type": "display_data"
    },
    {
     "data": {
      "text/html": [
       "<pre style=\"white-space:pre;overflow-x:auto;line-height:normal;font-family:Menlo,'DejaVu Sans Mono',consolas,'Courier New',monospace\"><span style=\"color: #7fbfbf\">           </span>METRIC   Round <span style=\"color: #000080; font-weight: bold\">7</span>, aggregator: train <span style=\"font-weight: bold\">&lt;</span><span style=\"color: #ff00ff; font-weight: bold\">openfl.component.aggregation_functions.weighted_average.WeightedAverage</span><span style=\"color: #000000\"> object at </span>             <a href=\"file:///home/radionov/.envs/old_api_fixes/lib/python3.6/site-packages/openfl/component/aggregator/aggregator.py\"><span style=\"color: #7f7f7f\">aggregator.py</span></a><span style=\"color: #7f7f7f\">:779</span>\n",
       "                    <span style=\"color: #000080; font-weight: bold\">0x7fdc4458a208</span><span style=\"font-weight: bold\">&gt;</span> cross_entropy:    <span style=\"color: #000080; font-weight: bold\">0.0491</span>                                                                                                    \n",
       "</pre>\n"
      ],
      "text/plain": [
       "<rich.jupyter.JupyterRenderable at 0x7fdc31017710>"
      ]
     },
     "metadata": {},
     "output_type": "display_data"
    },
    {
     "data": {
      "text/html": [
       "<pre style=\"white-space:pre;overflow-x:auto;line-height:normal;font-family:Menlo,'DejaVu Sans Mono',consolas,'Courier New',monospace\"><span style=\"color: #7fbfbf\">[18:46:10] </span>METRIC   Round <span style=\"color: #000080; font-weight: bold\">7</span>, aggregator: aggregated_model_validation <span style=\"font-weight: bold\">&lt;</span><span style=\"color: #ff00ff; font-weight: bold\">openfl.component.aggregation_functions.weighted_average.WeightedAverage</span><span style=\"color: #000000\"> </span> <a href=\"file:///home/radionov/.envs/old_api_fixes/lib/python3.6/site-packages/openfl/component/aggregator/aggregator.py\"><span style=\"color: #7f7f7f\">aggregator.py</span></a><span style=\"color: #7f7f7f\">:779</span>\n",
       "                    <span style=\"color: #000000\">object at </span><span style=\"color: #000080; font-weight: bold\">0x7fdc4458a208</span><span style=\"font-weight: bold\">&gt;</span> acc:        <span style=\"color: #000080; font-weight: bold\">0.9842</span>                                                                                                \n",
       "</pre>\n"
      ],
      "text/plain": [
       "<rich.jupyter.JupyterRenderable at 0x7fdc31017cc0>"
      ]
     },
     "metadata": {},
     "output_type": "display_data"
    },
    {
     "data": {
      "text/html": [
       "<pre style=\"white-space:pre;overflow-x:auto;line-height:normal;font-family:Menlo,'DejaVu Sans Mono',consolas,'Courier New',monospace\"><span style=\"color: #7fbfbf\">           </span>METRIC   Round <span style=\"color: #000080; font-weight: bold\">7</span>: saved the best model with score <span style=\"color: #000080; font-weight: bold\">0.984200</span>                                                                          <a href=\"file:///home/radionov/.envs/old_api_fixes/lib/python3.6/site-packages/openfl/component/aggregator/aggregator.py\"><span style=\"color: #7f7f7f\">aggregator.py</span></a><span style=\"color: #7f7f7f\">:792</span>\n",
       "</pre>\n"
      ],
      "text/plain": [
       "<rich.jupyter.JupyterRenderable at 0x7fdc310326d8>"
      ]
     },
     "metadata": {},
     "output_type": "display_data"
    },
    {
     "data": {
      "text/html": [
       "<pre style=\"white-space:pre;overflow-x:auto;line-height:normal;font-family:Menlo,'DejaVu Sans Mono',consolas,'Courier New',monospace\"><span style=\"color: #7fbfbf\">           </span>METRIC   Round <span style=\"color: #000080; font-weight: bold\">8</span>, collaborator one is sending metric for task aggregated_model_validation: acc   <span style=\"color: #000080; font-weight: bold\">0.9868</span>                           <a href=\"file:///home/radionov/.envs/old_api_fixes/lib/python3.6/site-packages/openfl/component/collaborator/collaborator.py\"><span style=\"color: #7f7f7f\">collaborator.py</span></a><span style=\"color: #7f7f7f\">:374</span>\n",
       "</pre>\n"
      ],
      "text/plain": [
       "<rich.jupyter.JupyterRenderable at 0x7fdc310328d0>"
      ]
     },
     "metadata": {},
     "output_type": "display_data"
    },
    {
     "data": {
      "text/html": [
       "<pre style=\"white-space:pre;overflow-x:auto;line-height:normal;font-family:Menlo,'DejaVu Sans Mono',consolas,'Courier New',monospace\"><span style=\"color: #7fbfbf\">[18:46:14] </span>METRIC   Round <span style=\"color: #000080; font-weight: bold\">8</span>, collaborator one is sending metric for task train: cross_entropy       <span style=\"color: #000080; font-weight: bold\">0.04267152026295662</span>                      <a href=\"file:///home/radionov/.envs/old_api_fixes/lib/python3.6/site-packages/openfl/component/collaborator/collaborator.py\"><span style=\"color: #7f7f7f\">collaborator.py</span></a><span style=\"color: #7f7f7f\">:374</span>\n",
       "</pre>\n"
      ],
      "text/plain": [
       "<rich.jupyter.JupyterRenderable at 0x7fdc31017c50>"
      ]
     },
     "metadata": {},
     "output_type": "display_data"
    },
    {
     "data": {
      "text/html": [
       "<pre style=\"white-space:pre;overflow-x:auto;line-height:normal;font-family:Menlo,'DejaVu Sans Mono',consolas,'Courier New',monospace\"><span style=\"color: #7fbfbf\">           </span>METRIC   Round <span style=\"color: #000080; font-weight: bold\">8</span>, collaborator one is sending metric for task locally_tuned_model_validation: acc        <span style=\"color: #000080; font-weight: bold\">0.985</span>                    <a href=\"file:///home/radionov/.envs/old_api_fixes/lib/python3.6/site-packages/openfl/component/collaborator/collaborator.py\"><span style=\"color: #7f7f7f\">collaborator.py</span></a><span style=\"color: #7f7f7f\">:374</span>\n",
       "</pre>\n"
      ],
      "text/plain": [
       "<rich.jupyter.JupyterRenderable at 0x7fdc31010748>"
      ]
     },
     "metadata": {},
     "output_type": "display_data"
    },
    {
     "data": {
      "text/html": [
       "<pre style=\"white-space:pre;overflow-x:auto;line-height:normal;font-family:Menlo,'DejaVu Sans Mono',consolas,'Courier New',monospace\"><span style=\"color: #7fbfbf\">           </span>METRIC   Round <span style=\"color: #000080; font-weight: bold\">8</span>, collaborator two is sending metric for task aggregated_model_validation: acc   <span style=\"color: #000080; font-weight: bold\">0.9854</span>                           <a href=\"file:///home/radionov/.envs/old_api_fixes/lib/python3.6/site-packages/openfl/component/collaborator/collaborator.py\"><span style=\"color: #7f7f7f\">collaborator.py</span></a><span style=\"color: #7f7f7f\">:374</span>\n",
       "</pre>\n"
      ],
      "text/plain": [
       "<rich.jupyter.JupyterRenderable at 0x7fdc310107b8>"
      ]
     },
     "metadata": {},
     "output_type": "display_data"
    },
    {
     "data": {
      "text/html": [
       "<pre style=\"white-space:pre;overflow-x:auto;line-height:normal;font-family:Menlo,'DejaVu Sans Mono',consolas,'Courier New',monospace\"><span style=\"color: #7fbfbf\">[18:46:18] </span>METRIC   Round <span style=\"color: #000080; font-weight: bold\">8</span>, collaborator two is sending metric for task train: cross_entropy       <span style=\"color: #000080; font-weight: bold\">0.04288477078080177</span>                      <a href=\"file:///home/radionov/.envs/old_api_fixes/lib/python3.6/site-packages/openfl/component/collaborator/collaborator.py\"><span style=\"color: #7f7f7f\">collaborator.py</span></a><span style=\"color: #7f7f7f\">:374</span>\n",
       "</pre>\n"
      ],
      "text/plain": [
       "<rich.jupyter.JupyterRenderable at 0x7fdc31017358>"
      ]
     },
     "metadata": {},
     "output_type": "display_data"
    },
    {
     "data": {
      "text/html": [
       "<pre style=\"white-space:pre;overflow-x:auto;line-height:normal;font-family:Menlo,'DejaVu Sans Mono',consolas,'Courier New',monospace\"><span style=\"color: #7fbfbf\">           </span>METRIC   Round <span style=\"color: #000080; font-weight: bold\">8</span>, collaborator two is sending metric for task locally_tuned_model_validation: acc        <span style=\"color: #000080; font-weight: bold\">0.9832</span>                   <a href=\"file:///home/radionov/.envs/old_api_fixes/lib/python3.6/site-packages/openfl/component/collaborator/collaborator.py\"><span style=\"color: #7f7f7f\">collaborator.py</span></a><span style=\"color: #7f7f7f\">:374</span>\n",
       "</pre>\n"
      ],
      "text/plain": [
       "<rich.jupyter.JupyterRenderable at 0x7fdc31010240>"
      ]
     },
     "metadata": {},
     "output_type": "display_data"
    },
    {
     "data": {
      "text/html": [
       "<pre style=\"white-space:pre;overflow-x:auto;line-height:normal;font-family:Menlo,'DejaVu Sans Mono',consolas,'Courier New',monospace\"><span style=\"color: #7fbfbf\">           </span>METRIC   Round <span style=\"color: #000080; font-weight: bold\">8</span>, aggregator: locally_tuned_model_validation                                                                        <a href=\"file:///home/radionov/.envs/old_api_fixes/lib/python3.6/site-packages/openfl/component/aggregator/aggregator.py\"><span style=\"color: #7f7f7f\">aggregator.py</span></a><span style=\"color: #7f7f7f\">:779</span>\n",
       "                    <span style=\"font-weight: bold\">&lt;</span><span style=\"color: #ff00ff; font-weight: bold\">openfl.component.aggregation_functions.weighted_average.WeightedAverage</span><span style=\"color: #000000\"> object at </span><span style=\"color: #000080; font-weight: bold\">0x7fdc4458a208</span><span style=\"font-weight: bold\">&gt;</span> acc:     <span style=\"color: #000080; font-weight: bold\">0.9841</span>                          \n",
       "</pre>\n"
      ],
      "text/plain": [
       "<rich.jupyter.JupyterRenderable at 0x7fdc31010240>"
      ]
     },
     "metadata": {},
     "output_type": "display_data"
    },
    {
     "data": {
      "text/html": [
       "<pre style=\"white-space:pre;overflow-x:auto;line-height:normal;font-family:Menlo,'DejaVu Sans Mono',consolas,'Courier New',monospace\"><span style=\"color: #7fbfbf\">           </span>METRIC   Round <span style=\"color: #000080; font-weight: bold\">8</span>, aggregator: train <span style=\"font-weight: bold\">&lt;</span><span style=\"color: #ff00ff; font-weight: bold\">openfl.component.aggregation_functions.weighted_average.WeightedAverage</span><span style=\"color: #000000\"> object at </span>             <a href=\"file:///home/radionov/.envs/old_api_fixes/lib/python3.6/site-packages/openfl/component/aggregator/aggregator.py\"><span style=\"color: #7f7f7f\">aggregator.py</span></a><span style=\"color: #7f7f7f\">:779</span>\n",
       "                    <span style=\"color: #000080; font-weight: bold\">0x7fdc4458a208</span><span style=\"font-weight: bold\">&gt;</span> cross_entropy:    <span style=\"color: #000080; font-weight: bold\">0.0428</span>                                                                                                    \n",
       "</pre>\n"
      ],
      "text/plain": [
       "<rich.jupyter.JupyterRenderable at 0x7fdc31010d68>"
      ]
     },
     "metadata": {},
     "output_type": "display_data"
    },
    {
     "data": {
      "text/html": [
       "<pre style=\"white-space:pre;overflow-x:auto;line-height:normal;font-family:Menlo,'DejaVu Sans Mono',consolas,'Courier New',monospace\"><span style=\"color: #7fbfbf\">[18:46:19] </span>METRIC   Round <span style=\"color: #000080; font-weight: bold\">8</span>, aggregator: aggregated_model_validation <span style=\"font-weight: bold\">&lt;</span><span style=\"color: #ff00ff; font-weight: bold\">openfl.component.aggregation_functions.weighted_average.WeightedAverage</span><span style=\"color: #000000\"> </span> <a href=\"file:///home/radionov/.envs/old_api_fixes/lib/python3.6/site-packages/openfl/component/aggregator/aggregator.py\"><span style=\"color: #7f7f7f\">aggregator.py</span></a><span style=\"color: #7f7f7f\">:779</span>\n",
       "                    <span style=\"color: #000000\">object at </span><span style=\"color: #000080; font-weight: bold\">0x7fdc4458a208</span><span style=\"font-weight: bold\">&gt;</span> acc:        <span style=\"color: #000080; font-weight: bold\">0.9861</span>                                                                                                \n",
       "</pre>\n"
      ],
      "text/plain": [
       "<rich.jupyter.JupyterRenderable at 0x7fdc31010898>"
      ]
     },
     "metadata": {},
     "output_type": "display_data"
    },
    {
     "data": {
      "text/html": [
       "<pre style=\"white-space:pre;overflow-x:auto;line-height:normal;font-family:Menlo,'DejaVu Sans Mono',consolas,'Courier New',monospace\"><span style=\"color: #7fbfbf\">           </span>METRIC   Round <span style=\"color: #000080; font-weight: bold\">8</span>: saved the best model with score <span style=\"color: #000080; font-weight: bold\">0.986100</span>                                                                          <a href=\"file:///home/radionov/.envs/old_api_fixes/lib/python3.6/site-packages/openfl/component/aggregator/aggregator.py\"><span style=\"color: #7f7f7f\">aggregator.py</span></a><span style=\"color: #7f7f7f\">:792</span>\n",
       "</pre>\n"
      ],
      "text/plain": [
       "<rich.jupyter.JupyterRenderable at 0x7fdc31010898>"
      ]
     },
     "metadata": {},
     "output_type": "display_data"
    },
    {
     "data": {
      "text/html": [
       "<pre style=\"white-space:pre;overflow-x:auto;line-height:normal;font-family:Menlo,'DejaVu Sans Mono',consolas,'Courier New',monospace\"><span style=\"color: #7fbfbf\">           </span>METRIC   Round <span style=\"color: #000080; font-weight: bold\">9</span>, collaborator one is sending metric for task aggregated_model_validation: acc   <span style=\"color: #000080; font-weight: bold\">0.9854</span>                           <a href=\"file:///home/radionov/.envs/old_api_fixes/lib/python3.6/site-packages/openfl/component/collaborator/collaborator.py\"><span style=\"color: #7f7f7f\">collaborator.py</span></a><span style=\"color: #7f7f7f\">:374</span>\n",
       "</pre>\n"
      ],
      "text/plain": [
       "<rich.jupyter.JupyterRenderable at 0x7fdc31018080>"
      ]
     },
     "metadata": {},
     "output_type": "display_data"
    },
    {
     "data": {
      "text/html": [
       "<pre style=\"white-space:pre;overflow-x:auto;line-height:normal;font-family:Menlo,'DejaVu Sans Mono',consolas,'Courier New',monospace\"><span style=\"color: #7fbfbf\">[18:46:23] </span>METRIC   Round <span style=\"color: #000080; font-weight: bold\">9</span>, collaborator one is sending metric for task train: cross_entropy       <span style=\"color: #000080; font-weight: bold\">0.0381833091378212</span>                       <a href=\"file:///home/radionov/.envs/old_api_fixes/lib/python3.6/site-packages/openfl/component/collaborator/collaborator.py\"><span style=\"color: #7f7f7f\">collaborator.py</span></a><span style=\"color: #7f7f7f\">:374</span>\n",
       "</pre>\n"
      ],
      "text/plain": [
       "<rich.jupyter.JupyterRenderable at 0x7fdc31048f28>"
      ]
     },
     "metadata": {},
     "output_type": "display_data"
    },
    {
     "data": {
      "text/html": [
       "<pre style=\"white-space:pre;overflow-x:auto;line-height:normal;font-family:Menlo,'DejaVu Sans Mono',consolas,'Courier New',monospace\"><span style=\"color: #7fbfbf\">           </span>METRIC   Round <span style=\"color: #000080; font-weight: bold\">9</span>, collaborator one is sending metric for task locally_tuned_model_validation: acc        <span style=\"color: #000080; font-weight: bold\">0.984</span>                    <a href=\"file:///home/radionov/.envs/old_api_fixes/lib/python3.6/site-packages/openfl/component/collaborator/collaborator.py\"><span style=\"color: #7f7f7f\">collaborator.py</span></a><span style=\"color: #7f7f7f\">:374</span>\n",
       "</pre>\n"
      ],
      "text/plain": [
       "<rich.jupyter.JupyterRenderable at 0x7fdc31018c50>"
      ]
     },
     "metadata": {},
     "output_type": "display_data"
    },
    {
     "data": {
      "text/html": [
       "<pre style=\"white-space:pre;overflow-x:auto;line-height:normal;font-family:Menlo,'DejaVu Sans Mono',consolas,'Courier New',monospace\"><span style=\"color: #7fbfbf\">           </span>METRIC   Round <span style=\"color: #000080; font-weight: bold\">9</span>, collaborator two is sending metric for task aggregated_model_validation: acc   <span style=\"color: #000080; font-weight: bold\">0.9856</span>                           <a href=\"file:///home/radionov/.envs/old_api_fixes/lib/python3.6/site-packages/openfl/component/collaborator/collaborator.py\"><span style=\"color: #7f7f7f\">collaborator.py</span></a><span style=\"color: #7f7f7f\">:374</span>\n",
       "</pre>\n"
      ],
      "text/plain": [
       "<rich.jupyter.JupyterRenderable at 0x7fdc31024518>"
      ]
     },
     "metadata": {},
     "output_type": "display_data"
    },
    {
     "data": {
      "text/html": [
       "<pre style=\"white-space:pre;overflow-x:auto;line-height:normal;font-family:Menlo,'DejaVu Sans Mono',consolas,'Courier New',monospace\"><span style=\"color: #7fbfbf\">[18:46:27] </span>METRIC   Round <span style=\"color: #000080; font-weight: bold\">9</span>, collaborator two is sending metric for task train: cross_entropy       <span style=\"color: #000080; font-weight: bold\">0.039417896419763565</span>                     <a href=\"file:///home/radionov/.envs/old_api_fixes/lib/python3.6/site-packages/openfl/component/collaborator/collaborator.py\"><span style=\"color: #7f7f7f\">collaborator.py</span></a><span style=\"color: #7f7f7f\">:374</span>\n",
       "</pre>\n"
      ],
      "text/plain": [
       "<rich.jupyter.JupyterRenderable at 0x7fdc31018dd8>"
      ]
     },
     "metadata": {},
     "output_type": "display_data"
    },
    {
     "data": {
      "text/html": [
       "<pre style=\"white-space:pre;overflow-x:auto;line-height:normal;font-family:Menlo,'DejaVu Sans Mono',consolas,'Courier New',monospace\"><span style=\"color: #7fbfbf\">           </span>METRIC   Round <span style=\"color: #000080; font-weight: bold\">9</span>, collaborator two is sending metric for task locally_tuned_model_validation: acc        <span style=\"color: #000080; font-weight: bold\">0.9838</span>                   <a href=\"file:///home/radionov/.envs/old_api_fixes/lib/python3.6/site-packages/openfl/component/collaborator/collaborator.py\"><span style=\"color: #7f7f7f\">collaborator.py</span></a><span style=\"color: #7f7f7f\">:374</span>\n",
       "</pre>\n"
      ],
      "text/plain": [
       "<rich.jupyter.JupyterRenderable at 0x7fdc31024048>"
      ]
     },
     "metadata": {},
     "output_type": "display_data"
    },
    {
     "data": {
      "text/html": [
       "<pre style=\"white-space:pre;overflow-x:auto;line-height:normal;font-family:Menlo,'DejaVu Sans Mono',consolas,'Courier New',monospace\"><span style=\"color: #7fbfbf\">           </span>METRIC   Round <span style=\"color: #000080; font-weight: bold\">9</span>, aggregator: locally_tuned_model_validation                                                                        <a href=\"file:///home/radionov/.envs/old_api_fixes/lib/python3.6/site-packages/openfl/component/aggregator/aggregator.py\"><span style=\"color: #7f7f7f\">aggregator.py</span></a><span style=\"color: #7f7f7f\">:779</span>\n",
       "                    <span style=\"font-weight: bold\">&lt;</span><span style=\"color: #ff00ff; font-weight: bold\">openfl.component.aggregation_functions.weighted_average.WeightedAverage</span><span style=\"color: #000000\"> object at </span><span style=\"color: #000080; font-weight: bold\">0x7fdc4458a208</span><span style=\"font-weight: bold\">&gt;</span> acc:     <span style=\"color: #000080; font-weight: bold\">0.9839</span>                          \n",
       "</pre>\n"
      ],
      "text/plain": [
       "<rich.jupyter.JupyterRenderable at 0x7fdc31024b00>"
      ]
     },
     "metadata": {},
     "output_type": "display_data"
    },
    {
     "data": {
      "text/html": [
       "<pre style=\"white-space:pre;overflow-x:auto;line-height:normal;font-family:Menlo,'DejaVu Sans Mono',consolas,'Courier New',monospace\"><span style=\"color: #7fbfbf\">           </span>METRIC   Round <span style=\"color: #000080; font-weight: bold\">9</span>, aggregator: train <span style=\"font-weight: bold\">&lt;</span><span style=\"color: #ff00ff; font-weight: bold\">openfl.component.aggregation_functions.weighted_average.WeightedAverage</span><span style=\"color: #000000\"> object at </span>             <a href=\"file:///home/radionov/.envs/old_api_fixes/lib/python3.6/site-packages/openfl/component/aggregator/aggregator.py\"><span style=\"color: #7f7f7f\">aggregator.py</span></a><span style=\"color: #7f7f7f\">:779</span>\n",
       "                    <span style=\"color: #000080; font-weight: bold\">0x7fdc4458a208</span><span style=\"font-weight: bold\">&gt;</span> cross_entropy:    <span style=\"color: #000080; font-weight: bold\">0.0388</span>                                                                                                    \n",
       "</pre>\n"
      ],
      "text/plain": [
       "<rich.jupyter.JupyterRenderable at 0x7fdc31024ef0>"
      ]
     },
     "metadata": {},
     "output_type": "display_data"
    },
    {
     "data": {
      "text/html": [
       "<pre style=\"white-space:pre;overflow-x:auto;line-height:normal;font-family:Menlo,'DejaVu Sans Mono',consolas,'Courier New',monospace\"><span style=\"color: #7fbfbf\">           </span>METRIC   Round <span style=\"color: #000080; font-weight: bold\">9</span>, aggregator: aggregated_model_validation <span style=\"font-weight: bold\">&lt;</span><span style=\"color: #ff00ff; font-weight: bold\">openfl.component.aggregation_functions.weighted_average.WeightedAverage</span><span style=\"color: #000000\"> </span> <a href=\"file:///home/radionov/.envs/old_api_fixes/lib/python3.6/site-packages/openfl/component/aggregator/aggregator.py\"><span style=\"color: #7f7f7f\">aggregator.py</span></a><span style=\"color: #7f7f7f\">:779</span>\n",
       "                    <span style=\"color: #000000\">object at </span><span style=\"color: #000080; font-weight: bold\">0x7fdc4458a208</span><span style=\"font-weight: bold\">&gt;</span> acc:        <span style=\"color: #000080; font-weight: bold\">0.9855</span>                                                                                                \n",
       "</pre>\n"
      ],
      "text/plain": [
       "<rich.jupyter.JupyterRenderable at 0x7fdc31024278>"
      ]
     },
     "metadata": {},
     "output_type": "display_data"
    },
    {
     "data": {
      "text/html": [
       "<pre style=\"white-space:pre;overflow-x:auto;line-height:normal;font-family:Menlo,'DejaVu Sans Mono',consolas,'Courier New',monospace\"><span style=\"color: #7fbfbf\">[18:46:28] </span>METRIC   Round <span style=\"color: #000080; font-weight: bold\">10</span>, collaborator one is sending metric for task aggregated_model_validation: acc  <span style=\"color: #000080; font-weight: bold\">0.9866</span>                           <a href=\"file:///home/radionov/.envs/old_api_fixes/lib/python3.6/site-packages/openfl/component/collaborator/collaborator.py\"><span style=\"color: #7f7f7f\">collaborator.py</span></a><span style=\"color: #7f7f7f\">:374</span>\n",
       "</pre>\n"
      ],
      "text/plain": [
       "<rich.jupyter.JupyterRenderable at 0x7fdc31012b70>"
      ]
     },
     "metadata": {},
     "output_type": "display_data"
    },
    {
     "data": {
      "text/html": [
       "<pre style=\"white-space:pre;overflow-x:auto;line-height:normal;font-family:Menlo,'DejaVu Sans Mono',consolas,'Courier New',monospace\"><span style=\"color: #7fbfbf\">[18:46:31] </span>METRIC   Round <span style=\"color: #000080; font-weight: bold\">10</span>, collaborator one is sending metric for task train: cross_entropy      <span style=\"color: #000080; font-weight: bold\">0.03471986576914787</span>                      <a href=\"file:///home/radionov/.envs/old_api_fixes/lib/python3.6/site-packages/openfl/component/collaborator/collaborator.py\"><span style=\"color: #7f7f7f\">collaborator.py</span></a><span style=\"color: #7f7f7f\">:374</span>\n",
       "</pre>\n"
      ],
      "text/plain": [
       "<rich.jupyter.JupyterRenderable at 0x7fdc31024ef0>"
      ]
     },
     "metadata": {},
     "output_type": "display_data"
    },
    {
     "data": {
      "text/html": [
       "<pre style=\"white-space:pre;overflow-x:auto;line-height:normal;font-family:Menlo,'DejaVu Sans Mono',consolas,'Courier New',monospace\"><span style=\"color: #7fbfbf\">[18:46:32] </span>METRIC   Round <span style=\"color: #000080; font-weight: bold\">10</span>, collaborator one is sending metric for task locally_tuned_model_validation: acc       <span style=\"color: #000080; font-weight: bold\">0.986</span>                    <a href=\"file:///home/radionov/.envs/old_api_fixes/lib/python3.6/site-packages/openfl/component/collaborator/collaborator.py\"><span style=\"color: #7f7f7f\">collaborator.py</span></a><span style=\"color: #7f7f7f\">:374</span>\n",
       "</pre>\n"
      ],
      "text/plain": [
       "<rich.jupyter.JupyterRenderable at 0x7fdc3101e668>"
      ]
     },
     "metadata": {},
     "output_type": "display_data"
    },
    {
     "data": {
      "text/html": [
       "<pre style=\"white-space:pre;overflow-x:auto;line-height:normal;font-family:Menlo,'DejaVu Sans Mono',consolas,'Courier New',monospace\"><span style=\"color: #7fbfbf\">           </span>METRIC   Round <span style=\"color: #000080; font-weight: bold\">10</span>, collaborator two is sending metric for task aggregated_model_validation: acc  <span style=\"color: #000080; font-weight: bold\">0.9842</span>                           <a href=\"file:///home/radionov/.envs/old_api_fixes/lib/python3.6/site-packages/openfl/component/collaborator/collaborator.py\"><span style=\"color: #7f7f7f\">collaborator.py</span></a><span style=\"color: #7f7f7f\">:374</span>\n",
       "</pre>\n"
      ],
      "text/plain": [
       "<rich.jupyter.JupyterRenderable at 0x7fdc3101e240>"
      ]
     },
     "metadata": {},
     "output_type": "display_data"
    },
    {
     "data": {
      "text/html": [
       "<pre style=\"white-space:pre;overflow-x:auto;line-height:normal;font-family:Menlo,'DejaVu Sans Mono',consolas,'Courier New',monospace\"><span style=\"color: #7fbfbf\">[18:46:36] </span>METRIC   Round <span style=\"color: #000080; font-weight: bold\">10</span>, collaborator two is sending metric for task train: cross_entropy      <span style=\"color: #000080; font-weight: bold\">0.035540871322155</span>                        <a href=\"file:///home/radionov/.envs/old_api_fixes/lib/python3.6/site-packages/openfl/component/collaborator/collaborator.py\"><span style=\"color: #7f7f7f\">collaborator.py</span></a><span style=\"color: #7f7f7f\">:374</span>\n",
       "</pre>\n"
      ],
      "text/plain": [
       "<rich.jupyter.JupyterRenderable at 0x7fdc31024358>"
      ]
     },
     "metadata": {},
     "output_type": "display_data"
    },
    {
     "data": {
      "text/html": [
       "<pre style=\"white-space:pre;overflow-x:auto;line-height:normal;font-family:Menlo,'DejaVu Sans Mono',consolas,'Courier New',monospace\"><span style=\"color: #7fbfbf\">           </span>METRIC   Round <span style=\"color: #000080; font-weight: bold\">10</span>, collaborator two is sending metric for task locally_tuned_model_validation: acc       <span style=\"color: #000080; font-weight: bold\">0.9836</span>                   <a href=\"file:///home/radionov/.envs/old_api_fixes/lib/python3.6/site-packages/openfl/component/collaborator/collaborator.py\"><span style=\"color: #7f7f7f\">collaborator.py</span></a><span style=\"color: #7f7f7f\">:374</span>\n",
       "</pre>\n"
      ],
      "text/plain": [
       "<rich.jupyter.JupyterRenderable at 0x7fdc3101ec50>"
      ]
     },
     "metadata": {},
     "output_type": "display_data"
    },
    {
     "data": {
      "text/html": [
       "<pre style=\"white-space:pre;overflow-x:auto;line-height:normal;font-family:Menlo,'DejaVu Sans Mono',consolas,'Courier New',monospace\"><span style=\"color: #7fbfbf\">           </span>METRIC   Round <span style=\"color: #000080; font-weight: bold\">10</span>, aggregator: locally_tuned_model_validation                                                                       <a href=\"file:///home/radionov/.envs/old_api_fixes/lib/python3.6/site-packages/openfl/component/aggregator/aggregator.py\"><span style=\"color: #7f7f7f\">aggregator.py</span></a><span style=\"color: #7f7f7f\">:779</span>\n",
       "                    <span style=\"font-weight: bold\">&lt;</span><span style=\"color: #ff00ff; font-weight: bold\">openfl.component.aggregation_functions.weighted_average.WeightedAverage</span><span style=\"color: #000000\"> object at </span><span style=\"color: #000080; font-weight: bold\">0x7fdc4458a208</span><span style=\"font-weight: bold\">&gt;</span> acc:    <span style=\"color: #000080; font-weight: bold\">0.9848</span>                           \n",
       "</pre>\n"
      ],
      "text/plain": [
       "<rich.jupyter.JupyterRenderable at 0x7fdc3101ea20>"
      ]
     },
     "metadata": {},
     "output_type": "display_data"
    },
    {
     "data": {
      "text/html": [
       "<pre style=\"white-space:pre;overflow-x:auto;line-height:normal;font-family:Menlo,'DejaVu Sans Mono',consolas,'Courier New',monospace\"><span style=\"color: #7fbfbf\">           </span>METRIC   Round <span style=\"color: #000080; font-weight: bold\">10</span>, aggregator: train <span style=\"font-weight: bold\">&lt;</span><span style=\"color: #ff00ff; font-weight: bold\">openfl.component.aggregation_functions.weighted_average.WeightedAverage</span><span style=\"color: #000000\"> object at </span>            <a href=\"file:///home/radionov/.envs/old_api_fixes/lib/python3.6/site-packages/openfl/component/aggregator/aggregator.py\"><span style=\"color: #7f7f7f\">aggregator.py</span></a><span style=\"color: #7f7f7f\">:779</span>\n",
       "                    <span style=\"color: #000080; font-weight: bold\">0x7fdc4458a208</span><span style=\"font-weight: bold\">&gt;</span> cross_entropy:   <span style=\"color: #000080; font-weight: bold\">0.0351</span>                                                                                                     \n",
       "</pre>\n"
      ],
      "text/plain": [
       "<rich.jupyter.JupyterRenderable at 0x7fdc3101e6d8>"
      ]
     },
     "metadata": {},
     "output_type": "display_data"
    },
    {
     "data": {
      "text/html": [
       "<pre style=\"white-space:pre;overflow-x:auto;line-height:normal;font-family:Menlo,'DejaVu Sans Mono',consolas,'Courier New',monospace\"><span style=\"color: #7fbfbf\">           </span>METRIC   Round <span style=\"color: #000080; font-weight: bold\">10</span>, aggregator: aggregated_model_validation <span style=\"font-weight: bold\">&lt;</span><span style=\"color: #ff00ff; font-weight: bold\">openfl.component.aggregation_functions.weighted_average.WeightedAverage</span> <a href=\"file:///home/radionov/.envs/old_api_fixes/lib/python3.6/site-packages/openfl/component/aggregator/aggregator.py\"><span style=\"color: #7f7f7f\">aggregator.py</span></a><span style=\"color: #7f7f7f\">:779</span>\n",
       "                    <span style=\"color: #000000\">object at </span><span style=\"color: #000080; font-weight: bold\">0x7fdc4458a208</span><span style=\"font-weight: bold\">&gt;</span> acc:       <span style=\"color: #000080; font-weight: bold\">0.9854</span>                                                                                                 \n",
       "</pre>\n"
      ],
      "text/plain": [
       "<rich.jupyter.JupyterRenderable at 0x7fdc3101ec50>"
      ]
     },
     "metadata": {},
     "output_type": "display_data"
    },
    {
     "data": {
      "text/html": [
       "<pre style=\"white-space:pre;overflow-x:auto;line-height:normal;font-family:Menlo,'DejaVu Sans Mono',consolas,'Courier New',monospace\"><span style=\"color: #7fbfbf\">           </span>METRIC   Round <span style=\"color: #000080; font-weight: bold\">11</span>, collaborator one is sending metric for task aggregated_model_validation: acc  <span style=\"color: #000080; font-weight: bold\">0.9884</span>                           <a href=\"file:///home/radionov/.envs/old_api_fixes/lib/python3.6/site-packages/openfl/component/collaborator/collaborator.py\"><span style=\"color: #7f7f7f\">collaborator.py</span></a><span style=\"color: #7f7f7f\">:374</span>\n",
       "</pre>\n"
      ],
      "text/plain": [
       "<rich.jupyter.JupyterRenderable at 0x7fdc3101ba20>"
      ]
     },
     "metadata": {},
     "output_type": "display_data"
    },
    {
     "data": {
      "text/html": [
       "<pre style=\"white-space:pre;overflow-x:auto;line-height:normal;font-family:Menlo,'DejaVu Sans Mono',consolas,'Courier New',monospace\"><span style=\"color: #7fbfbf\">[18:46:40] </span>METRIC   Round <span style=\"color: #000080; font-weight: bold\">11</span>, collaborator one is sending metric for task train: cross_entropy      <span style=\"color: #000080; font-weight: bold\">0.03147872909903526</span>                      <a href=\"file:///home/radionov/.envs/old_api_fixes/lib/python3.6/site-packages/openfl/component/collaborator/collaborator.py\"><span style=\"color: #7f7f7f\">collaborator.py</span></a><span style=\"color: #7f7f7f\">:374</span>\n",
       "</pre>\n"
      ],
      "text/plain": [
       "<rich.jupyter.JupyterRenderable at 0x7fdc3101e7f0>"
      ]
     },
     "metadata": {},
     "output_type": "display_data"
    },
    {
     "data": {
      "text/html": [
       "<pre style=\"white-space:pre;overflow-x:auto;line-height:normal;font-family:Menlo,'DejaVu Sans Mono',consolas,'Courier New',monospace\"><span style=\"color: #7fbfbf\">           </span>METRIC   Round <span style=\"color: #000080; font-weight: bold\">11</span>, collaborator one is sending metric for task locally_tuned_model_validation: acc       <span style=\"color: #000080; font-weight: bold\">0.984</span>                    <a href=\"file:///home/radionov/.envs/old_api_fixes/lib/python3.6/site-packages/openfl/component/collaborator/collaborator.py\"><span style=\"color: #7f7f7f\">collaborator.py</span></a><span style=\"color: #7f7f7f\">:374</span>\n",
       "</pre>\n"
      ],
      "text/plain": [
       "<rich.jupyter.JupyterRenderable at 0x7fdc1bfc55c0>"
      ]
     },
     "metadata": {},
     "output_type": "display_data"
    },
    {
     "data": {
      "text/html": [
       "<pre style=\"white-space:pre;overflow-x:auto;line-height:normal;font-family:Menlo,'DejaVu Sans Mono',consolas,'Courier New',monospace\"><span style=\"color: #7fbfbf\">[18:46:41] </span>METRIC   Round <span style=\"color: #000080; font-weight: bold\">11</span>, collaborator two is sending metric for task aggregated_model_validation: acc  <span style=\"color: #000080; font-weight: bold\">0.9868</span>                           <a href=\"file:///home/radionov/.envs/old_api_fixes/lib/python3.6/site-packages/openfl/component/collaborator/collaborator.py\"><span style=\"color: #7f7f7f\">collaborator.py</span></a><span style=\"color: #7f7f7f\">:374</span>\n",
       "</pre>\n"
      ],
      "text/plain": [
       "<rich.jupyter.JupyterRenderable at 0x7fdc1bfc5048>"
      ]
     },
     "metadata": {},
     "output_type": "display_data"
    },
    {
     "data": {
      "text/html": [
       "<pre style=\"white-space:pre;overflow-x:auto;line-height:normal;font-family:Menlo,'DejaVu Sans Mono',consolas,'Courier New',monospace\"><span style=\"color: #7fbfbf\">[18:46:44] </span>METRIC   Round <span style=\"color: #000080; font-weight: bold\">11</span>, collaborator two is sending metric for task train: cross_entropy      <span style=\"color: #000080; font-weight: bold\">0.03303537890315056</span>                      <a href=\"file:///home/radionov/.envs/old_api_fixes/lib/python3.6/site-packages/openfl/component/collaborator/collaborator.py\"><span style=\"color: #7f7f7f\">collaborator.py</span></a><span style=\"color: #7f7f7f\">:374</span>\n",
       "</pre>\n"
      ],
      "text/plain": [
       "<rich.jupyter.JupyterRenderable at 0x7fdc3101b978>"
      ]
     },
     "metadata": {},
     "output_type": "display_data"
    },
    {
     "data": {
      "text/html": [
       "<pre style=\"white-space:pre;overflow-x:auto;line-height:normal;font-family:Menlo,'DejaVu Sans Mono',consolas,'Courier New',monospace\"><span style=\"color: #7fbfbf\">[18:46:45] </span>METRIC   Round <span style=\"color: #000080; font-weight: bold\">11</span>, collaborator two is sending metric for task locally_tuned_model_validation: acc       <span style=\"color: #000080; font-weight: bold\">0.9844</span>                   <a href=\"file:///home/radionov/.envs/old_api_fixes/lib/python3.6/site-packages/openfl/component/collaborator/collaborator.py\"><span style=\"color: #7f7f7f\">collaborator.py</span></a><span style=\"color: #7f7f7f\">:374</span>\n",
       "</pre>\n"
      ],
      "text/plain": [
       "<rich.jupyter.JupyterRenderable at 0x7fdc1bfc5128>"
      ]
     },
     "metadata": {},
     "output_type": "display_data"
    },
    {
     "data": {
      "text/html": [
       "<pre style=\"white-space:pre;overflow-x:auto;line-height:normal;font-family:Menlo,'DejaVu Sans Mono',consolas,'Courier New',monospace\"><span style=\"color: #7fbfbf\">           </span>METRIC   Round <span style=\"color: #000080; font-weight: bold\">11</span>, aggregator: locally_tuned_model_validation                                                                       <a href=\"file:///home/radionov/.envs/old_api_fixes/lib/python3.6/site-packages/openfl/component/aggregator/aggregator.py\"><span style=\"color: #7f7f7f\">aggregator.py</span></a><span style=\"color: #7f7f7f\">:779</span>\n",
       "                    <span style=\"font-weight: bold\">&lt;</span><span style=\"color: #ff00ff; font-weight: bold\">openfl.component.aggregation_functions.weighted_average.WeightedAverage</span><span style=\"color: #000000\"> object at </span><span style=\"color: #000080; font-weight: bold\">0x7fdc4458a208</span><span style=\"font-weight: bold\">&gt;</span> acc:    <span style=\"color: #000080; font-weight: bold\">0.9842</span>                           \n",
       "</pre>\n"
      ],
      "text/plain": [
       "<rich.jupyter.JupyterRenderable at 0x7fdc1bfc5780>"
      ]
     },
     "metadata": {},
     "output_type": "display_data"
    },
    {
     "data": {
      "text/html": [
       "<pre style=\"white-space:pre;overflow-x:auto;line-height:normal;font-family:Menlo,'DejaVu Sans Mono',consolas,'Courier New',monospace\"><span style=\"color: #7fbfbf\">           </span>METRIC   Round <span style=\"color: #000080; font-weight: bold\">11</span>, aggregator: train <span style=\"font-weight: bold\">&lt;</span><span style=\"color: #ff00ff; font-weight: bold\">openfl.component.aggregation_functions.weighted_average.WeightedAverage</span><span style=\"color: #000000\"> object at </span>            <a href=\"file:///home/radionov/.envs/old_api_fixes/lib/python3.6/site-packages/openfl/component/aggregator/aggregator.py\"><span style=\"color: #7f7f7f\">aggregator.py</span></a><span style=\"color: #7f7f7f\">:779</span>\n",
       "                    <span style=\"color: #000080; font-weight: bold\">0x7fdc4458a208</span><span style=\"font-weight: bold\">&gt;</span> cross_entropy:   <span style=\"color: #000080; font-weight: bold\">0.0323</span>                                                                                                     \n",
       "</pre>\n"
      ],
      "text/plain": [
       "<rich.jupyter.JupyterRenderable at 0x7fdc1bfc59e8>"
      ]
     },
     "metadata": {},
     "output_type": "display_data"
    },
    {
     "data": {
      "text/html": [
       "<pre style=\"white-space:pre;overflow-x:auto;line-height:normal;font-family:Menlo,'DejaVu Sans Mono',consolas,'Courier New',monospace\"><span style=\"color: #7fbfbf\">           </span>METRIC   Round <span style=\"color: #000080; font-weight: bold\">11</span>, aggregator: aggregated_model_validation <span style=\"font-weight: bold\">&lt;</span><span style=\"color: #ff00ff; font-weight: bold\">openfl.component.aggregation_functions.weighted_average.WeightedAverage</span> <a href=\"file:///home/radionov/.envs/old_api_fixes/lib/python3.6/site-packages/openfl/component/aggregator/aggregator.py\"><span style=\"color: #7f7f7f\">aggregator.py</span></a><span style=\"color: #7f7f7f\">:779</span>\n",
       "                    <span style=\"color: #000000\">object at </span><span style=\"color: #000080; font-weight: bold\">0x7fdc4458a208</span><span style=\"font-weight: bold\">&gt;</span> acc:       <span style=\"color: #000080; font-weight: bold\">0.9876</span>                                                                                                 \n",
       "</pre>\n"
      ],
      "text/plain": [
       "<rich.jupyter.JupyterRenderable at 0x7fdc1bfc5780>"
      ]
     },
     "metadata": {},
     "output_type": "display_data"
    },
    {
     "data": {
      "text/html": [
       "<pre style=\"white-space:pre;overflow-x:auto;line-height:normal;font-family:Menlo,'DejaVu Sans Mono',consolas,'Courier New',monospace\"><span style=\"color: #7fbfbf\">           </span>METRIC   Round <span style=\"color: #000080; font-weight: bold\">11</span>: saved the best model with score <span style=\"color: #000080; font-weight: bold\">0.987600</span>                                                                         <a href=\"file:///home/radionov/.envs/old_api_fixes/lib/python3.6/site-packages/openfl/component/aggregator/aggregator.py\"><span style=\"color: #7f7f7f\">aggregator.py</span></a><span style=\"color: #7f7f7f\">:792</span>\n",
       "</pre>\n"
      ],
      "text/plain": [
       "<rich.jupyter.JupyterRenderable at 0x7fdc1bfc5128>"
      ]
     },
     "metadata": {},
     "output_type": "display_data"
    },
    {
     "data": {
      "text/html": [
       "<pre style=\"white-space:pre;overflow-x:auto;line-height:normal;font-family:Menlo,'DejaVu Sans Mono',consolas,'Courier New',monospace\"><span style=\"color: #7fbfbf\">           </span>METRIC   Round <span style=\"color: #000080; font-weight: bold\">12</span>, collaborator one is sending metric for task aggregated_model_validation: acc  <span style=\"color: #000080; font-weight: bold\">0.9862</span>                           <a href=\"file:///home/radionov/.envs/old_api_fixes/lib/python3.6/site-packages/openfl/component/collaborator/collaborator.py\"><span style=\"color: #7f7f7f\">collaborator.py</span></a><span style=\"color: #7f7f7f\">:374</span>\n",
       "</pre>\n"
      ],
      "text/plain": [
       "<rich.jupyter.JupyterRenderable at 0x7fdc1bfe19e8>"
      ]
     },
     "metadata": {},
     "output_type": "display_data"
    },
    {
     "data": {
      "text/html": [
       "<pre style=\"white-space:pre;overflow-x:auto;line-height:normal;font-family:Menlo,'DejaVu Sans Mono',consolas,'Courier New',monospace\"><span style=\"color: #7fbfbf\">[18:46:49] </span>METRIC   Round <span style=\"color: #000080; font-weight: bold\">12</span>, collaborator one is sending metric for task train: cross_entropy      <span style=\"color: #000080; font-weight: bold\">0.030347060412168503</span>                     <a href=\"file:///home/radionov/.envs/old_api_fixes/lib/python3.6/site-packages/openfl/component/collaborator/collaborator.py\"><span style=\"color: #7f7f7f\">collaborator.py</span></a><span style=\"color: #7f7f7f\">:374</span>\n",
       "</pre>\n"
      ],
      "text/plain": [
       "<rich.jupyter.JupyterRenderable at 0x7fdc1bfc50b8>"
      ]
     },
     "metadata": {},
     "output_type": "display_data"
    },
    {
     "data": {
      "text/html": [
       "<pre style=\"white-space:pre;overflow-x:auto;line-height:normal;font-family:Menlo,'DejaVu Sans Mono',consolas,'Courier New',monospace\"><span style=\"color: #7fbfbf\">           </span>METRIC   Round <span style=\"color: #000080; font-weight: bold\">12</span>, collaborator one is sending metric for task locally_tuned_model_validation: acc       <span style=\"color: #000080; font-weight: bold\">0.9866</span>                   <a href=\"file:///home/radionov/.envs/old_api_fixes/lib/python3.6/site-packages/openfl/component/collaborator/collaborator.py\"><span style=\"color: #7f7f7f\">collaborator.py</span></a><span style=\"color: #7f7f7f\">:374</span>\n",
       "</pre>\n"
      ],
      "text/plain": [
       "<rich.jupyter.JupyterRenderable at 0x7fdc1bfe1198>"
      ]
     },
     "metadata": {},
     "output_type": "display_data"
    },
    {
     "data": {
      "text/html": [
       "<pre style=\"white-space:pre;overflow-x:auto;line-height:normal;font-family:Menlo,'DejaVu Sans Mono',consolas,'Courier New',monospace\"><span style=\"color: #7fbfbf\">           </span>METRIC   Round <span style=\"color: #000080; font-weight: bold\">12</span>, collaborator two is sending metric for task aggregated_model_validation: acc  <span style=\"color: #000080; font-weight: bold\">0.985</span>                            <a href=\"file:///home/radionov/.envs/old_api_fixes/lib/python3.6/site-packages/openfl/component/collaborator/collaborator.py\"><span style=\"color: #7f7f7f\">collaborator.py</span></a><span style=\"color: #7f7f7f\">:374</span>\n",
       "</pre>\n"
      ],
      "text/plain": [
       "<rich.jupyter.JupyterRenderable at 0x7fdc1bfe8588>"
      ]
     },
     "metadata": {},
     "output_type": "display_data"
    },
    {
     "data": {
      "text/html": [
       "<pre style=\"white-space:pre;overflow-x:auto;line-height:normal;font-family:Menlo,'DejaVu Sans Mono',consolas,'Courier New',monospace\"><span style=\"color: #7fbfbf\">[18:46:53] </span>METRIC   Round <span style=\"color: #000080; font-weight: bold\">12</span>, collaborator two is sending metric for task train: cross_entropy      <span style=\"color: #000080; font-weight: bold\">0.03026270493865013</span>                      <a href=\"file:///home/radionov/.envs/old_api_fixes/lib/python3.6/site-packages/openfl/component/collaborator/collaborator.py\"><span style=\"color: #7f7f7f\">collaborator.py</span></a><span style=\"color: #7f7f7f\">:374</span>\n",
       "</pre>\n"
      ],
      "text/plain": [
       "<rich.jupyter.JupyterRenderable at 0x7fdc1bfc5be0>"
      ]
     },
     "metadata": {},
     "output_type": "display_data"
    },
    {
     "data": {
      "text/html": [
       "<pre style=\"white-space:pre;overflow-x:auto;line-height:normal;font-family:Menlo,'DejaVu Sans Mono',consolas,'Courier New',monospace\"><span style=\"color: #7fbfbf\">           </span>METRIC   Round <span style=\"color: #000080; font-weight: bold\">12</span>, collaborator two is sending metric for task locally_tuned_model_validation: acc       <span style=\"color: #000080; font-weight: bold\">0.986</span>                    <a href=\"file:///home/radionov/.envs/old_api_fixes/lib/python3.6/site-packages/openfl/component/collaborator/collaborator.py\"><span style=\"color: #7f7f7f\">collaborator.py</span></a><span style=\"color: #7f7f7f\">:374</span>\n",
       "</pre>\n"
      ],
      "text/plain": [
       "<rich.jupyter.JupyterRenderable at 0x7fdc1bfe89b0>"
      ]
     },
     "metadata": {},
     "output_type": "display_data"
    },
    {
     "data": {
      "text/html": [
       "<pre style=\"white-space:pre;overflow-x:auto;line-height:normal;font-family:Menlo,'DejaVu Sans Mono',consolas,'Courier New',monospace\"><span style=\"color: #7fbfbf\">[18:46:54] </span>METRIC   Round <span style=\"color: #000080; font-weight: bold\">12</span>, aggregator: locally_tuned_model_validation                                                                       <a href=\"file:///home/radionov/.envs/old_api_fixes/lib/python3.6/site-packages/openfl/component/aggregator/aggregator.py\"><span style=\"color: #7f7f7f\">aggregator.py</span></a><span style=\"color: #7f7f7f\">:779</span>\n",
       "                    <span style=\"font-weight: bold\">&lt;</span><span style=\"color: #ff00ff; font-weight: bold\">openfl.component.aggregation_functions.weighted_average.WeightedAverage</span><span style=\"color: #000000\"> object at </span><span style=\"color: #000080; font-weight: bold\">0x7fdc4458a208</span><span style=\"font-weight: bold\">&gt;</span> acc:    <span style=\"color: #000080; font-weight: bold\">0.9863</span>                           \n",
       "</pre>\n"
      ],
      "text/plain": [
       "<rich.jupyter.JupyterRenderable at 0x7fdc1bfe81d0>"
      ]
     },
     "metadata": {},
     "output_type": "display_data"
    },
    {
     "data": {
      "text/html": [
       "<pre style=\"white-space:pre;overflow-x:auto;line-height:normal;font-family:Menlo,'DejaVu Sans Mono',consolas,'Courier New',monospace\"><span style=\"color: #7fbfbf\">           </span>METRIC   Round <span style=\"color: #000080; font-weight: bold\">12</span>, aggregator: train <span style=\"font-weight: bold\">&lt;</span><span style=\"color: #ff00ff; font-weight: bold\">openfl.component.aggregation_functions.weighted_average.WeightedAverage</span><span style=\"color: #000000\"> object at </span>            <a href=\"file:///home/radionov/.envs/old_api_fixes/lib/python3.6/site-packages/openfl/component/aggregator/aggregator.py\"><span style=\"color: #7f7f7f\">aggregator.py</span></a><span style=\"color: #7f7f7f\">:779</span>\n",
       "                    <span style=\"color: #000080; font-weight: bold\">0x7fdc4458a208</span><span style=\"font-weight: bold\">&gt;</span> cross_entropy:   <span style=\"color: #000080; font-weight: bold\">0.0303</span>                                                                                                     \n",
       "</pre>\n"
      ],
      "text/plain": [
       "<rich.jupyter.JupyterRenderable at 0x7fdc1bfe8320>"
      ]
     },
     "metadata": {},
     "output_type": "display_data"
    },
    {
     "data": {
      "text/html": [
       "<pre style=\"white-space:pre;overflow-x:auto;line-height:normal;font-family:Menlo,'DejaVu Sans Mono',consolas,'Courier New',monospace\"><span style=\"color: #7fbfbf\">           </span>METRIC   Round <span style=\"color: #000080; font-weight: bold\">12</span>, aggregator: aggregated_model_validation <span style=\"font-weight: bold\">&lt;</span><span style=\"color: #ff00ff; font-weight: bold\">openfl.component.aggregation_functions.weighted_average.WeightedAverage</span> <a href=\"file:///home/radionov/.envs/old_api_fixes/lib/python3.6/site-packages/openfl/component/aggregator/aggregator.py\"><span style=\"color: #7f7f7f\">aggregator.py</span></a><span style=\"color: #7f7f7f\">:779</span>\n",
       "                    <span style=\"color: #000000\">object at </span><span style=\"color: #000080; font-weight: bold\">0x7fdc4458a208</span><span style=\"font-weight: bold\">&gt;</span> acc:       <span style=\"color: #000080; font-weight: bold\">0.9856</span>                                                                                                 \n",
       "</pre>\n"
      ],
      "text/plain": [
       "<rich.jupyter.JupyterRenderable at 0x7fdc1bfe89e8>"
      ]
     },
     "metadata": {},
     "output_type": "display_data"
    },
    {
     "data": {
      "text/html": [
       "<pre style=\"white-space:pre;overflow-x:auto;line-height:normal;font-family:Menlo,'DejaVu Sans Mono',consolas,'Courier New',monospace\"><span style=\"color: #7fbfbf\">           </span>METRIC   Round <span style=\"color: #000080; font-weight: bold\">13</span>, collaborator one is sending metric for task aggregated_model_validation: acc  <span style=\"color: #000080; font-weight: bold\">0.9878</span>                           <a href=\"file:///home/radionov/.envs/old_api_fixes/lib/python3.6/site-packages/openfl/component/collaborator/collaborator.py\"><span style=\"color: #7f7f7f\">collaborator.py</span></a><span style=\"color: #7f7f7f\">:374</span>\n",
       "</pre>\n"
      ],
      "text/plain": [
       "<rich.jupyter.JupyterRenderable at 0x7fdc1bfdd780>"
      ]
     },
     "metadata": {},
     "output_type": "display_data"
    },
    {
     "data": {
      "text/html": [
       "<pre style=\"white-space:pre;overflow-x:auto;line-height:normal;font-family:Menlo,'DejaVu Sans Mono',consolas,'Courier New',monospace\"><span style=\"color: #7fbfbf\">[18:46:58] </span>METRIC   Round <span style=\"color: #000080; font-weight: bold\">13</span>, collaborator one is sending metric for task train: cross_entropy      <span style=\"color: #000080; font-weight: bold\">0.026174968108534813</span>                     <a href=\"file:///home/radionov/.envs/old_api_fixes/lib/python3.6/site-packages/openfl/component/collaborator/collaborator.py\"><span style=\"color: #7f7f7f\">collaborator.py</span></a><span style=\"color: #7f7f7f\">:374</span>\n",
       "</pre>\n"
      ],
      "text/plain": [
       "<rich.jupyter.JupyterRenderable at 0x7fdc1bfe8550>"
      ]
     },
     "metadata": {},
     "output_type": "display_data"
    },
    {
     "data": {
      "text/html": [
       "<pre style=\"white-space:pre;overflow-x:auto;line-height:normal;font-family:Menlo,'DejaVu Sans Mono',consolas,'Courier New',monospace\"><span style=\"color: #7fbfbf\">           </span>METRIC   Round <span style=\"color: #000080; font-weight: bold\">13</span>, collaborator one is sending metric for task locally_tuned_model_validation: acc       <span style=\"color: #000080; font-weight: bold\">0.9848</span>                   <a href=\"file:///home/radionov/.envs/old_api_fixes/lib/python3.6/site-packages/openfl/component/collaborator/collaborator.py\"><span style=\"color: #7f7f7f\">collaborator.py</span></a><span style=\"color: #7f7f7f\">:374</span>\n",
       "</pre>\n"
      ],
      "text/plain": [
       "<rich.jupyter.JupyterRenderable at 0x7fdc1bfdd0f0>"
      ]
     },
     "metadata": {},
     "output_type": "display_data"
    },
    {
     "data": {
      "text/html": [
       "<pre style=\"white-space:pre;overflow-x:auto;line-height:normal;font-family:Menlo,'DejaVu Sans Mono',consolas,'Courier New',monospace\"><span style=\"color: #7fbfbf\">           </span>METRIC   Round <span style=\"color: #000080; font-weight: bold\">13</span>, collaborator two is sending metric for task aggregated_model_validation: acc  <span style=\"color: #000080; font-weight: bold\">0.9882</span>                           <a href=\"file:///home/radionov/.envs/old_api_fixes/lib/python3.6/site-packages/openfl/component/collaborator/collaborator.py\"><span style=\"color: #7f7f7f\">collaborator.py</span></a><span style=\"color: #7f7f7f\">:374</span>\n",
       "</pre>\n"
      ],
      "text/plain": [
       "<rich.jupyter.JupyterRenderable at 0x7fdc1bfe2438>"
      ]
     },
     "metadata": {},
     "output_type": "display_data"
    },
    {
     "data": {
      "text/html": [
       "<pre style=\"white-space:pre;overflow-x:auto;line-height:normal;font-family:Menlo,'DejaVu Sans Mono',consolas,'Courier New',monospace\"><span style=\"color: #7fbfbf\">[18:47:02] </span>METRIC   Round <span style=\"color: #000080; font-weight: bold\">13</span>, collaborator two is sending metric for task train: cross_entropy      <span style=\"color: #000080; font-weight: bold\">0.026753785088658333</span>                     <a href=\"file:///home/radionov/.envs/old_api_fixes/lib/python3.6/site-packages/openfl/component/collaborator/collaborator.py\"><span style=\"color: #7f7f7f\">collaborator.py</span></a><span style=\"color: #7f7f7f\">:374</span>\n",
       "</pre>\n"
      ],
      "text/plain": [
       "<rich.jupyter.JupyterRenderable at 0x7fdc31066ac8>"
      ]
     },
     "metadata": {},
     "output_type": "display_data"
    },
    {
     "data": {
      "text/html": [
       "<pre style=\"white-space:pre;overflow-x:auto;line-height:normal;font-family:Menlo,'DejaVu Sans Mono',consolas,'Courier New',monospace\"><span style=\"color: #7fbfbf\">           </span>METRIC   Round <span style=\"color: #000080; font-weight: bold\">13</span>, collaborator two is sending metric for task locally_tuned_model_validation: acc       <span style=\"color: #000080; font-weight: bold\">0.984</span>                    <a href=\"file:///home/radionov/.envs/old_api_fixes/lib/python3.6/site-packages/openfl/component/collaborator/collaborator.py\"><span style=\"color: #7f7f7f\">collaborator.py</span></a><span style=\"color: #7f7f7f\">:374</span>\n",
       "</pre>\n"
      ],
      "text/plain": [
       "<rich.jupyter.JupyterRenderable at 0x7fdc1bfe2668>"
      ]
     },
     "metadata": {},
     "output_type": "display_data"
    },
    {
     "data": {
      "text/html": [
       "<pre style=\"white-space:pre;overflow-x:auto;line-height:normal;font-family:Menlo,'DejaVu Sans Mono',consolas,'Courier New',monospace\"><span style=\"color: #7fbfbf\">           </span>METRIC   Round <span style=\"color: #000080; font-weight: bold\">13</span>, aggregator: locally_tuned_model_validation                                                                       <a href=\"file:///home/radionov/.envs/old_api_fixes/lib/python3.6/site-packages/openfl/component/aggregator/aggregator.py\"><span style=\"color: #7f7f7f\">aggregator.py</span></a><span style=\"color: #7f7f7f\">:779</span>\n",
       "                    <span style=\"font-weight: bold\">&lt;</span><span style=\"color: #ff00ff; font-weight: bold\">openfl.component.aggregation_functions.weighted_average.WeightedAverage</span><span style=\"color: #000000\"> object at </span><span style=\"color: #000080; font-weight: bold\">0x7fdc4458a208</span><span style=\"font-weight: bold\">&gt;</span> acc:    <span style=\"color: #000080; font-weight: bold\">0.9844</span>                           \n",
       "</pre>\n"
      ],
      "text/plain": [
       "<rich.jupyter.JupyterRenderable at 0x7fdc1bfe2908>"
      ]
     },
     "metadata": {},
     "output_type": "display_data"
    },
    {
     "data": {
      "text/html": [
       "<pre style=\"white-space:pre;overflow-x:auto;line-height:normal;font-family:Menlo,'DejaVu Sans Mono',consolas,'Courier New',monospace\"><span style=\"color: #7fbfbf\">           </span>METRIC   Round <span style=\"color: #000080; font-weight: bold\">13</span>, aggregator: train <span style=\"font-weight: bold\">&lt;</span><span style=\"color: #ff00ff; font-weight: bold\">openfl.component.aggregation_functions.weighted_average.WeightedAverage</span><span style=\"color: #000000\"> object at </span>            <a href=\"file:///home/radionov/.envs/old_api_fixes/lib/python3.6/site-packages/openfl/component/aggregator/aggregator.py\"><span style=\"color: #7f7f7f\">aggregator.py</span></a><span style=\"color: #7f7f7f\">:779</span>\n",
       "                    <span style=\"color: #000080; font-weight: bold\">0x7fdc4458a208</span><span style=\"font-weight: bold\">&gt;</span> cross_entropy:   <span style=\"color: #000080; font-weight: bold\">0.0265</span>                                                                                                     \n",
       "</pre>\n"
      ],
      "text/plain": [
       "<rich.jupyter.JupyterRenderable at 0x7fdc1bfe2198>"
      ]
     },
     "metadata": {},
     "output_type": "display_data"
    },
    {
     "data": {
      "text/html": [
       "<pre style=\"white-space:pre;overflow-x:auto;line-height:normal;font-family:Menlo,'DejaVu Sans Mono',consolas,'Courier New',monospace\"><span style=\"color: #7fbfbf\">[18:47:03] </span>METRIC   Round <span style=\"color: #000080; font-weight: bold\">13</span>, aggregator: aggregated_model_validation <span style=\"font-weight: bold\">&lt;</span><span style=\"color: #ff00ff; font-weight: bold\">openfl.component.aggregation_functions.weighted_average.WeightedAverage</span> <a href=\"file:///home/radionov/.envs/old_api_fixes/lib/python3.6/site-packages/openfl/component/aggregator/aggregator.py\"><span style=\"color: #7f7f7f\">aggregator.py</span></a><span style=\"color: #7f7f7f\">:779</span>\n",
       "                    <span style=\"color: #000000\">object at </span><span style=\"color: #000080; font-weight: bold\">0x7fdc4458a208</span><span style=\"font-weight: bold\">&gt;</span> acc:       <span style=\"color: #000080; font-weight: bold\">0.9880</span>                                                                                                 \n",
       "</pre>\n"
      ],
      "text/plain": [
       "<rich.jupyter.JupyterRenderable at 0x7fdc1bfe29e8>"
      ]
     },
     "metadata": {},
     "output_type": "display_data"
    },
    {
     "data": {
      "text/html": [
       "<pre style=\"white-space:pre;overflow-x:auto;line-height:normal;font-family:Menlo,'DejaVu Sans Mono',consolas,'Courier New',monospace\"><span style=\"color: #7fbfbf\">           </span>METRIC   Round <span style=\"color: #000080; font-weight: bold\">13</span>: saved the best model with score <span style=\"color: #000080; font-weight: bold\">0.988000</span>                                                                         <a href=\"file:///home/radionov/.envs/old_api_fixes/lib/python3.6/site-packages/openfl/component/aggregator/aggregator.py\"><span style=\"color: #7f7f7f\">aggregator.py</span></a><span style=\"color: #7f7f7f\">:792</span>\n",
       "</pre>\n"
      ],
      "text/plain": [
       "<rich.jupyter.JupyterRenderable at 0x7fdc1bfe25f8>"
      ]
     },
     "metadata": {},
     "output_type": "display_data"
    },
    {
     "data": {
      "text/html": [
       "<pre style=\"white-space:pre;overflow-x:auto;line-height:normal;font-family:Menlo,'DejaVu Sans Mono',consolas,'Courier New',monospace\"><span style=\"color: #7fbfbf\">           </span>METRIC   Round <span style=\"color: #000080; font-weight: bold\">14</span>, collaborator one is sending metric for task aggregated_model_validation: acc  <span style=\"color: #000080; font-weight: bold\">0.988</span>                            <a href=\"file:///home/radionov/.envs/old_api_fixes/lib/python3.6/site-packages/openfl/component/collaborator/collaborator.py\"><span style=\"color: #7f7f7f\">collaborator.py</span></a><span style=\"color: #7f7f7f\">:374</span>\n",
       "</pre>\n"
      ],
      "text/plain": [
       "<rich.jupyter.JupyterRenderable at 0x7fdc1bfe51d0>"
      ]
     },
     "metadata": {},
     "output_type": "display_data"
    },
    {
     "data": {
      "text/html": [
       "<pre style=\"white-space:pre;overflow-x:auto;line-height:normal;font-family:Menlo,'DejaVu Sans Mono',consolas,'Courier New',monospace\"><span style=\"color: #7fbfbf\">[18:47:07] </span>METRIC   Round <span style=\"color: #000080; font-weight: bold\">14</span>, collaborator one is sending metric for task train: cross_entropy      <span style=\"color: #000080; font-weight: bold\">0.025695396587252617</span>                     <a href=\"file:///home/radionov/.envs/old_api_fixes/lib/python3.6/site-packages/openfl/component/collaborator/collaborator.py\"><span style=\"color: #7f7f7f\">collaborator.py</span></a><span style=\"color: #7f7f7f\">:374</span>\n",
       "</pre>\n"
      ],
      "text/plain": [
       "<rich.jupyter.JupyterRenderable at 0x7fdc1bfe27b8>"
      ]
     },
     "metadata": {},
     "output_type": "display_data"
    },
    {
     "data": {
      "text/html": [
       "<pre style=\"white-space:pre;overflow-x:auto;line-height:normal;font-family:Menlo,'DejaVu Sans Mono',consolas,'Courier New',monospace\"><span style=\"color: #7fbfbf\">           </span>METRIC   Round <span style=\"color: #000080; font-weight: bold\">14</span>, collaborator one is sending metric for task locally_tuned_model_validation: acc       <span style=\"color: #000080; font-weight: bold\">0.9852</span>                   <a href=\"file:///home/radionov/.envs/old_api_fixes/lib/python3.6/site-packages/openfl/component/collaborator/collaborator.py\"><span style=\"color: #7f7f7f\">collaborator.py</span></a><span style=\"color: #7f7f7f\">:374</span>\n",
       "</pre>\n"
      ],
      "text/plain": [
       "<rich.jupyter.JupyterRenderable at 0x7fdc1bfe5710>"
      ]
     },
     "metadata": {},
     "output_type": "display_data"
    },
    {
     "data": {
      "text/html": [
       "<pre style=\"white-space:pre;overflow-x:auto;line-height:normal;font-family:Menlo,'DejaVu Sans Mono',consolas,'Courier New',monospace\"><span style=\"color: #7fbfbf\">           </span>METRIC   Round <span style=\"color: #000080; font-weight: bold\">14</span>, collaborator two is sending metric for task aggregated_model_validation: acc  <span style=\"color: #000080; font-weight: bold\">0.986</span>                            <a href=\"file:///home/radionov/.envs/old_api_fixes/lib/python3.6/site-packages/openfl/component/collaborator/collaborator.py\"><span style=\"color: #7f7f7f\">collaborator.py</span></a><span style=\"color: #7f7f7f\">:374</span>\n",
       "</pre>\n"
      ],
      "text/plain": [
       "<rich.jupyter.JupyterRenderable at 0x7fdc1bfc6198>"
      ]
     },
     "metadata": {},
     "output_type": "display_data"
    },
    {
     "data": {
      "text/html": [
       "<pre style=\"white-space:pre;overflow-x:auto;line-height:normal;font-family:Menlo,'DejaVu Sans Mono',consolas,'Courier New',monospace\"><span style=\"color: #7fbfbf\">[18:47:11] </span>METRIC   Round <span style=\"color: #000080; font-weight: bold\">14</span>, collaborator two is sending metric for task train: cross_entropy      <span style=\"color: #000080; font-weight: bold\">0.02396019920706749</span>                      <a href=\"file:///home/radionov/.envs/old_api_fixes/lib/python3.6/site-packages/openfl/component/collaborator/collaborator.py\"><span style=\"color: #7f7f7f\">collaborator.py</span></a><span style=\"color: #7f7f7f\">:374</span>\n",
       "</pre>\n"
      ],
      "text/plain": [
       "<rich.jupyter.JupyterRenderable at 0x7fdc1bfe5b00>"
      ]
     },
     "metadata": {},
     "output_type": "display_data"
    },
    {
     "data": {
      "text/html": [
       "<pre style=\"white-space:pre;overflow-x:auto;line-height:normal;font-family:Menlo,'DejaVu Sans Mono',consolas,'Courier New',monospace\"><span style=\"color: #7fbfbf\">           </span>METRIC   Round <span style=\"color: #000080; font-weight: bold\">14</span>, collaborator two is sending metric for task locally_tuned_model_validation: acc       <span style=\"color: #000080; font-weight: bold\">0.9862</span>                   <a href=\"file:///home/radionov/.envs/old_api_fixes/lib/python3.6/site-packages/openfl/component/collaborator/collaborator.py\"><span style=\"color: #7f7f7f\">collaborator.py</span></a><span style=\"color: #7f7f7f\">:374</span>\n",
       "</pre>\n"
      ],
      "text/plain": [
       "<rich.jupyter.JupyterRenderable at 0x7fdc1bfc6f98>"
      ]
     },
     "metadata": {},
     "output_type": "display_data"
    },
    {
     "data": {
      "text/html": [
       "<pre style=\"white-space:pre;overflow-x:auto;line-height:normal;font-family:Menlo,'DejaVu Sans Mono',consolas,'Courier New',monospace\"><span style=\"color: #7fbfbf\">           </span>METRIC   Round <span style=\"color: #000080; font-weight: bold\">14</span>, aggregator: locally_tuned_model_validation                                                                       <a href=\"file:///home/radionov/.envs/old_api_fixes/lib/python3.6/site-packages/openfl/component/aggregator/aggregator.py\"><span style=\"color: #7f7f7f\">aggregator.py</span></a><span style=\"color: #7f7f7f\">:779</span>\n",
       "                    <span style=\"font-weight: bold\">&lt;</span><span style=\"color: #ff00ff; font-weight: bold\">openfl.component.aggregation_functions.weighted_average.WeightedAverage</span><span style=\"color: #000000\"> object at </span><span style=\"color: #000080; font-weight: bold\">0x7fdc4458a208</span><span style=\"font-weight: bold\">&gt;</span> acc:    <span style=\"color: #000080; font-weight: bold\">0.9857</span>                           \n",
       "</pre>\n"
      ],
      "text/plain": [
       "<rich.jupyter.JupyterRenderable at 0x7fdc1bfc6fd0>"
      ]
     },
     "metadata": {},
     "output_type": "display_data"
    },
    {
     "data": {
      "text/html": [
       "<pre style=\"white-space:pre;overflow-x:auto;line-height:normal;font-family:Menlo,'DejaVu Sans Mono',consolas,'Courier New',monospace\"><span style=\"color: #7fbfbf\">           </span>METRIC   Round <span style=\"color: #000080; font-weight: bold\">14</span>, aggregator: train <span style=\"font-weight: bold\">&lt;</span><span style=\"color: #ff00ff; font-weight: bold\">openfl.component.aggregation_functions.weighted_average.WeightedAverage</span><span style=\"color: #000000\"> object at </span>            <a href=\"file:///home/radionov/.envs/old_api_fixes/lib/python3.6/site-packages/openfl/component/aggregator/aggregator.py\"><span style=\"color: #7f7f7f\">aggregator.py</span></a><span style=\"color: #7f7f7f\">:779</span>\n",
       "                    <span style=\"color: #000080; font-weight: bold\">0x7fdc4458a208</span><span style=\"font-weight: bold\">&gt;</span> cross_entropy:   <span style=\"color: #000080; font-weight: bold\">0.0248</span>                                                                                                     \n",
       "</pre>\n"
      ],
      "text/plain": [
       "<rich.jupyter.JupyterRenderable at 0x7fdc1bfc6f98>"
      ]
     },
     "metadata": {},
     "output_type": "display_data"
    },
    {
     "data": {
      "text/html": [
       "<pre style=\"white-space:pre;overflow-x:auto;line-height:normal;font-family:Menlo,'DejaVu Sans Mono',consolas,'Courier New',monospace\"><span style=\"color: #7fbfbf\">[18:47:12] </span>METRIC   Round <span style=\"color: #000080; font-weight: bold\">14</span>, aggregator: aggregated_model_validation <span style=\"font-weight: bold\">&lt;</span><span style=\"color: #ff00ff; font-weight: bold\">openfl.component.aggregation_functions.weighted_average.WeightedAverage</span> <a href=\"file:///home/radionov/.envs/old_api_fixes/lib/python3.6/site-packages/openfl/component/aggregator/aggregator.py\"><span style=\"color: #7f7f7f\">aggregator.py</span></a><span style=\"color: #7f7f7f\">:779</span>\n",
       "                    <span style=\"color: #000000\">object at </span><span style=\"color: #000080; font-weight: bold\">0x7fdc4458a208</span><span style=\"font-weight: bold\">&gt;</span> acc:       <span style=\"color: #000080; font-weight: bold\">0.9870</span>                                                                                                 \n",
       "</pre>\n"
      ],
      "text/plain": [
       "<rich.jupyter.JupyterRenderable at 0x7fdc1bfc65f8>"
      ]
     },
     "metadata": {},
     "output_type": "display_data"
    }
   ],
   "source": [
    "# Run experiment, return trained FederatedModel\n",
    "\n",
    "final_fl_model = fx.run_experiment(collaborators, override_config={\n",
    "    'aggregator.settings.rounds_to_train': 5,\n",
    "    'aggregator.settings.tensorboard': write_metric\n",
    "})"
   ]
  },
  {
   "cell_type": "code",
   "execution_count": 12,
   "metadata": {},
   "outputs": [],
   "source": [
    "#Save final model\n",
    "final_fl_model.save_native('final_pytorch_model')"
   ]
  }
 ],
 "metadata": {
  "kernelspec": {
   "display_name": "Python 3",
   "language": "python",
   "name": "python3"
  },
  "language_info": {
   "codemirror_mode": {
    "name": "ipython",
    "version": 3
   },
   "file_extension": ".py",
   "mimetype": "text/x-python",
   "name": "python",
   "nbconvert_exporter": "python",
   "pygments_lexer": "ipython3",
   "version": "3.6.9"
  }
 },
 "nbformat": 4,
 "nbformat_minor": 4
}
