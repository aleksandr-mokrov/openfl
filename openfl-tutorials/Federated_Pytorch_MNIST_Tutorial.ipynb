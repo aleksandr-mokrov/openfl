{
 "cells": [
  {
   "cell_type": "markdown",
   "metadata": {},
   "source": [
    "# Federated PyTorch MNIST Tutorial"
   ]
  },
  {
   "cell_type": "code",
   "execution_count": 1,
   "metadata": {},
   "outputs": [
    {
     "name": "stdout",
     "output_type": "stream",
     "text": [
      "Processing /home/radionov/fork/openfl\n",
      "Requirement already satisfied: torch in /home/radionov/.envs/old_api_fixes/lib/python3.6/site-packages (1.8.1)\n",
      "Requirement already satisfied: torchvision in /home/radionov/.envs/old_api_fixes/lib/python3.6/site-packages (0.9.1)\n",
      "Requirement already satisfied: Click>=7.0 in /home/radionov/.envs/old_api_fixes/lib/python3.6/site-packages (from openfl==1.5) (8.0.0)\n",
      "Requirement already satisfied: PyYAML>=5.4.1 in /home/radionov/.envs/old_api_fixes/lib/python3.6/site-packages (from openfl==1.5) (5.4.1)\n",
      "Requirement already satisfied: numpy in /home/radionov/.envs/old_api_fixes/lib/python3.6/site-packages (from openfl==1.5) (1.19.5)\n",
      "Requirement already satisfied: pandas in /home/radionov/.envs/old_api_fixes/lib/python3.6/site-packages (from openfl==1.5) (1.1.5)\n",
      "Requirement already satisfied: protobuf in /home/radionov/.envs/old_api_fixes/lib/python3.6/site-packages (from openfl==1.5) (3.17.0)\n",
      "Requirement already satisfied: grpcio==1.30.0 in /home/radionov/.envs/old_api_fixes/lib/python3.6/site-packages (from openfl==1.5) (1.30.0)\n",
      "Requirement already satisfied: grpcio-tools==1.30.0 in /home/radionov/.envs/old_api_fixes/lib/python3.6/site-packages (from openfl==1.5) (1.30.0)\n",
      "Requirement already satisfied: rich==9.1.0 in /home/radionov/.envs/old_api_fixes/lib/python3.6/site-packages (from openfl==1.5) (9.1.0)\n",
      "Requirement already satisfied: tqdm in /home/radionov/.envs/old_api_fixes/lib/python3.6/site-packages (from openfl==1.5) (4.60.0)\n",
      "Requirement already satisfied: scikit-learn in /home/radionov/.envs/old_api_fixes/lib/python3.6/site-packages (from openfl==1.5) (0.24.2)\n",
      "Requirement already satisfied: docker in /home/radionov/.envs/old_api_fixes/lib/python3.6/site-packages (from openfl==1.5) (5.0.0)\n",
      "Requirement already satisfied: jupyter in /home/radionov/.envs/old_api_fixes/lib/python3.6/site-packages (from openfl==1.5) (1.0.0)\n",
      "Requirement already satisfied: ipykernel in /home/radionov/.envs/old_api_fixes/lib/python3.6/site-packages (from openfl==1.5) (5.5.5)\n",
      "Requirement already satisfied: flatten_json in /home/radionov/.envs/old_api_fixes/lib/python3.6/site-packages (from openfl==1.5) (0.1.13)\n",
      "Requirement already satisfied: cryptography>=3.4.6 in /home/radionov/.envs/old_api_fixes/lib/python3.6/site-packages (from openfl==1.5) (3.4.7)\n",
      "Requirement already satisfied: cloudpickle in /home/radionov/.envs/old_api_fixes/lib/python3.6/site-packages (from openfl==1.5) (1.6.0)\n",
      "Requirement already satisfied: six>=1.5.2 in /home/radionov/.envs/old_api_fixes/lib/python3.6/site-packages (from grpcio==1.30.0->openfl==1.5) (1.16.0)\n",
      "Requirement already satisfied: colorama<0.5.0,>=0.4.0 in /home/radionov/.envs/old_api_fixes/lib/python3.6/site-packages (from rich==9.1.0->openfl==1.5) (0.4.4)\n",
      "Requirement already satisfied: dataclasses<0.8,>=0.7 in /home/radionov/.envs/old_api_fixes/lib/python3.6/site-packages (from rich==9.1.0->openfl==1.5) (0.7)\n",
      "Requirement already satisfied: pygments<3.0.0,>=2.6.0 in /home/radionov/.envs/old_api_fixes/lib/python3.6/site-packages (from rich==9.1.0->openfl==1.5) (2.9.0)\n",
      "Requirement already satisfied: commonmark<0.10.0,>=0.9.0 in /home/radionov/.envs/old_api_fixes/lib/python3.6/site-packages (from rich==9.1.0->openfl==1.5) (0.9.1)\n",
      "Requirement already satisfied: typing-extensions<4.0.0,>=3.7.4 in /home/radionov/.envs/old_api_fixes/lib/python3.6/site-packages (from rich==9.1.0->openfl==1.5) (3.10.0.0)\n",
      "Requirement already satisfied: cffi>=1.12 in /home/radionov/.envs/old_api_fixes/lib/python3.6/site-packages (from cryptography>=3.4.6->openfl==1.5) (1.14.5)\n",
      "Requirement already satisfied: pycparser in /home/radionov/.envs/old_api_fixes/lib/python3.6/site-packages (from cffi>=1.12->cryptography>=3.4.6->openfl==1.5) (2.20)\n",
      "Requirement already satisfied: pillow>=4.1.1 in /home/radionov/.envs/old_api_fixes/lib/python3.6/site-packages (from torchvision) (8.2.0)\n",
      "Requirement already satisfied: websocket-client>=0.32.0 in /home/radionov/.envs/old_api_fixes/lib/python3.6/site-packages (from docker->openfl==1.5) (0.59.0)\n",
      "Requirement already satisfied: requests!=2.18.0,>=2.14.2 in /home/radionov/.envs/old_api_fixes/lib/python3.6/site-packages (from docker->openfl==1.5) (2.25.1)\n",
      "Requirement already satisfied: certifi>=2017.4.17 in /home/radionov/.envs/old_api_fixes/lib/python3.6/site-packages (from requests!=2.18.0,>=2.14.2->docker->openfl==1.5) (2020.12.5)\n",
      "Requirement already satisfied: idna<3,>=2.5 in /home/radionov/.envs/old_api_fixes/lib/python3.6/site-packages (from requests!=2.18.0,>=2.14.2->docker->openfl==1.5) (2.10)\n",
      "Requirement already satisfied: urllib3<1.27,>=1.21.1 in /home/radionov/.envs/old_api_fixes/lib/python3.6/site-packages (from requests!=2.18.0,>=2.14.2->docker->openfl==1.5) (1.26.4)\n",
      "Requirement already satisfied: chardet<5,>=3.0.2 in /home/radionov/.envs/old_api_fixes/lib/python3.6/site-packages (from requests!=2.18.0,>=2.14.2->docker->openfl==1.5) (4.0.0)\n",
      "Requirement already satisfied: traitlets>=4.1.0 in /home/radionov/.envs/old_api_fixes/lib/python3.6/site-packages (from ipykernel->openfl==1.5) (4.3.3)\n",
      "Requirement already satisfied: tornado>=4.2 in /home/radionov/.envs/old_api_fixes/lib/python3.6/site-packages (from ipykernel->openfl==1.5) (6.1)\n",
      "Requirement already satisfied: ipython>=5.0.0 in /home/radionov/.envs/old_api_fixes/lib/python3.6/site-packages (from ipykernel->openfl==1.5) (7.16.1)\n",
      "Requirement already satisfied: jupyter-client in /home/radionov/.envs/old_api_fixes/lib/python3.6/site-packages (from ipykernel->openfl==1.5) (6.1.12)\n",
      "Requirement already satisfied: pexpect in /home/radionov/.envs/old_api_fixes/lib/python3.6/site-packages (from ipython>=5.0.0->ipykernel->openfl==1.5) (4.8.0)\n",
      "Requirement already satisfied: prompt-toolkit!=3.0.0,!=3.0.1,<3.1.0,>=2.0.0 in /home/radionov/.envs/old_api_fixes/lib/python3.6/site-packages (from ipython>=5.0.0->ipykernel->openfl==1.5) (3.0.18)\n",
      "Requirement already satisfied: pickleshare in /home/radionov/.envs/old_api_fixes/lib/python3.6/site-packages (from ipython>=5.0.0->ipykernel->openfl==1.5) (0.7.5)\n",
      "Requirement already satisfied: setuptools>=18.5 in /home/radionov/.envs/old_api_fixes/lib/python3.6/site-packages (from ipython>=5.0.0->ipykernel->openfl==1.5) (56.0.0)\n",
      "Requirement already satisfied: backcall in /home/radionov/.envs/old_api_fixes/lib/python3.6/site-packages (from ipython>=5.0.0->ipykernel->openfl==1.5) (0.2.0)\n",
      "Requirement already satisfied: jedi>=0.10 in /home/radionov/.envs/old_api_fixes/lib/python3.6/site-packages (from ipython>=5.0.0->ipykernel->openfl==1.5) (0.18.0)\n",
      "Requirement already satisfied: decorator in /home/radionov/.envs/old_api_fixes/lib/python3.6/site-packages (from ipython>=5.0.0->ipykernel->openfl==1.5) (5.0.7)\n",
      "Requirement already satisfied: parso<0.9.0,>=0.8.0 in /home/radionov/.envs/old_api_fixes/lib/python3.6/site-packages (from jedi>=0.10->ipython>=5.0.0->ipykernel->openfl==1.5) (0.8.2)\n",
      "Requirement already satisfied: wcwidth in /home/radionov/.envs/old_api_fixes/lib/python3.6/site-packages (from prompt-toolkit!=3.0.0,!=3.0.1,<3.1.0,>=2.0.0->ipython>=5.0.0->ipykernel->openfl==1.5) (0.2.5)\n",
      "Requirement already satisfied: ipython-genutils in /home/radionov/.envs/old_api_fixes/lib/python3.6/site-packages (from traitlets>=4.1.0->ipykernel->openfl==1.5) (0.2.0)\n",
      "Requirement already satisfied: notebook in /home/radionov/.envs/old_api_fixes/lib/python3.6/site-packages (from jupyter->openfl==1.5) (6.3.0)\n",
      "Requirement already satisfied: qtconsole in /home/radionov/.envs/old_api_fixes/lib/python3.6/site-packages (from jupyter->openfl==1.5) (5.1.0)\n",
      "Requirement already satisfied: ipywidgets in /home/radionov/.envs/old_api_fixes/lib/python3.6/site-packages (from jupyter->openfl==1.5) (7.6.3)\n",
      "Requirement already satisfied: nbconvert in /home/radionov/.envs/old_api_fixes/lib/python3.6/site-packages (from jupyter->openfl==1.5) (6.0.7)\n",
      "Requirement already satisfied: jupyter-console in /home/radionov/.envs/old_api_fixes/lib/python3.6/site-packages (from jupyter->openfl==1.5) (6.4.0)\n",
      "Requirement already satisfied: jupyterlab-widgets>=1.0.0 in /home/radionov/.envs/old_api_fixes/lib/python3.6/site-packages (from ipywidgets->jupyter->openfl==1.5) (1.0.0)\n",
      "Requirement already satisfied: widgetsnbextension~=3.5.0 in /home/radionov/.envs/old_api_fixes/lib/python3.6/site-packages (from ipywidgets->jupyter->openfl==1.5) (3.5.1)\n",
      "Requirement already satisfied: nbformat>=4.2.0 in /home/radionov/.envs/old_api_fixes/lib/python3.6/site-packages (from ipywidgets->jupyter->openfl==1.5) (5.1.3)\n",
      "Requirement already satisfied: jsonschema!=2.5.0,>=2.4 in /home/radionov/.envs/old_api_fixes/lib/python3.6/site-packages (from nbformat>=4.2.0->ipywidgets->jupyter->openfl==1.5) (3.2.0)\n",
      "Requirement already satisfied: jupyter-core in /home/radionov/.envs/old_api_fixes/lib/python3.6/site-packages (from nbformat>=4.2.0->ipywidgets->jupyter->openfl==1.5) (4.7.1)\n",
      "Requirement already satisfied: attrs>=17.4.0 in /home/radionov/.envs/old_api_fixes/lib/python3.6/site-packages (from jsonschema!=2.5.0,>=2.4->nbformat>=4.2.0->ipywidgets->jupyter->openfl==1.5) (21.2.0)\n",
      "Requirement already satisfied: importlib-metadata in /home/radionov/.envs/old_api_fixes/lib/python3.6/site-packages (from jsonschema!=2.5.0,>=2.4->nbformat>=4.2.0->ipywidgets->jupyter->openfl==1.5) (4.0.1)\n",
      "Requirement already satisfied: pyrsistent>=0.14.0 in /home/radionov/.envs/old_api_fixes/lib/python3.6/site-packages (from jsonschema!=2.5.0,>=2.4->nbformat>=4.2.0->ipywidgets->jupyter->openfl==1.5) (0.17.3)\n"
     ]
    },
    {
     "name": "stdout",
     "output_type": "stream",
     "text": [
      "Requirement already satisfied: pyzmq>=17 in /home/radionov/.envs/old_api_fixes/lib/python3.6/site-packages (from notebook->jupyter->openfl==1.5) (22.0.3)\n",
      "Requirement already satisfied: Send2Trash>=1.5.0 in /home/radionov/.envs/old_api_fixes/lib/python3.6/site-packages (from notebook->jupyter->openfl==1.5) (1.5.0)\n",
      "Requirement already satisfied: prometheus-client in /home/radionov/.envs/old_api_fixes/lib/python3.6/site-packages (from notebook->jupyter->openfl==1.5) (0.10.1)\n",
      "Requirement already satisfied: jinja2 in /home/radionov/.envs/old_api_fixes/lib/python3.6/site-packages (from notebook->jupyter->openfl==1.5) (3.0.0)\n",
      "Requirement already satisfied: argon2-cffi in /home/radionov/.envs/old_api_fixes/lib/python3.6/site-packages (from notebook->jupyter->openfl==1.5) (20.1.0)\n",
      "Requirement already satisfied: terminado>=0.8.3 in /home/radionov/.envs/old_api_fixes/lib/python3.6/site-packages (from notebook->jupyter->openfl==1.5) (0.9.5)\n",
      "Requirement already satisfied: python-dateutil>=2.1 in /home/radionov/.envs/old_api_fixes/lib/python3.6/site-packages (from jupyter-client->ipykernel->openfl==1.5) (2.8.1)\n",
      "Requirement already satisfied: ptyprocess in /home/radionov/.envs/old_api_fixes/lib/python3.6/site-packages (from terminado>=0.8.3->notebook->jupyter->openfl==1.5) (0.7.0)\n",
      "Requirement already satisfied: zipp>=0.5 in /home/radionov/.envs/old_api_fixes/lib/python3.6/site-packages (from importlib-metadata->jsonschema!=2.5.0,>=2.4->nbformat>=4.2.0->ipywidgets->jupyter->openfl==1.5) (3.4.1)\n",
      "Requirement already satisfied: MarkupSafe>=2.0.0rc2 in /home/radionov/.envs/old_api_fixes/lib/python3.6/site-packages (from jinja2->notebook->jupyter->openfl==1.5) (2.0.0)\n",
      "Requirement already satisfied: mistune<2,>=0.8.1 in /home/radionov/.envs/old_api_fixes/lib/python3.6/site-packages (from nbconvert->jupyter->openfl==1.5) (0.8.4)\n",
      "Requirement already satisfied: testpath in /home/radionov/.envs/old_api_fixes/lib/python3.6/site-packages (from nbconvert->jupyter->openfl==1.5) (0.4.4)\n",
      "Requirement already satisfied: pandocfilters>=1.4.1 in /home/radionov/.envs/old_api_fixes/lib/python3.6/site-packages (from nbconvert->jupyter->openfl==1.5) (1.4.3)\n",
      "Requirement already satisfied: defusedxml in /home/radionov/.envs/old_api_fixes/lib/python3.6/site-packages (from nbconvert->jupyter->openfl==1.5) (0.7.1)\n",
      "Requirement already satisfied: nbclient<0.6.0,>=0.5.0 in /home/radionov/.envs/old_api_fixes/lib/python3.6/site-packages (from nbconvert->jupyter->openfl==1.5) (0.5.3)\n",
      "Requirement already satisfied: entrypoints>=0.2.2 in /home/radionov/.envs/old_api_fixes/lib/python3.6/site-packages (from nbconvert->jupyter->openfl==1.5) (0.3)\n",
      "Requirement already satisfied: bleach in /home/radionov/.envs/old_api_fixes/lib/python3.6/site-packages (from nbconvert->jupyter->openfl==1.5) (3.3.0)\n",
      "Requirement already satisfied: jupyterlab-pygments in /home/radionov/.envs/old_api_fixes/lib/python3.6/site-packages (from nbconvert->jupyter->openfl==1.5) (0.1.2)\n",
      "Requirement already satisfied: async-generator in /home/radionov/.envs/old_api_fixes/lib/python3.6/site-packages (from nbclient<0.6.0,>=0.5.0->nbconvert->jupyter->openfl==1.5) (1.10)\n",
      "Requirement already satisfied: nest-asyncio in /home/radionov/.envs/old_api_fixes/lib/python3.6/site-packages (from nbclient<0.6.0,>=0.5.0->nbconvert->jupyter->openfl==1.5) (1.5.1)\n",
      "Requirement already satisfied: webencodings in /home/radionov/.envs/old_api_fixes/lib/python3.6/site-packages (from bleach->nbconvert->jupyter->openfl==1.5) (0.5.1)\n",
      "Requirement already satisfied: packaging in /home/radionov/.envs/old_api_fixes/lib/python3.6/site-packages (from bleach->nbconvert->jupyter->openfl==1.5) (20.9)\n",
      "Requirement already satisfied: pyparsing>=2.0.2 in /home/radionov/.envs/old_api_fixes/lib/python3.6/site-packages (from packaging->bleach->nbconvert->jupyter->openfl==1.5) (2.4.7)\n",
      "Requirement already satisfied: pytz>=2017.2 in /home/radionov/.envs/old_api_fixes/lib/python3.6/site-packages (from pandas->openfl==1.5) (2021.1)\n",
      "Requirement already satisfied: qtpy in /home/radionov/.envs/old_api_fixes/lib/python3.6/site-packages (from qtconsole->jupyter->openfl==1.5) (1.9.0)\n",
      "Requirement already satisfied: threadpoolctl>=2.0.0 in /home/radionov/.envs/old_api_fixes/lib/python3.6/site-packages (from scikit-learn->openfl==1.5) (2.1.0)\n",
      "Requirement already satisfied: joblib>=0.11 in /home/radionov/.envs/old_api_fixes/lib/python3.6/site-packages (from scikit-learn->openfl==1.5) (1.0.1)\n",
      "Requirement already satisfied: scipy>=0.19.1 in /home/radionov/.envs/old_api_fixes/lib/python3.6/site-packages (from scikit-learn->openfl==1.5) (1.5.4)\n",
      "Building wheels for collected packages: openfl\n",
      "  Building wheel for openfl (setup.py) ... \u001b[?25ldone\n",
      "\u001b[?25h  Created wheel for openfl: filename=openfl-1.5-py3-none-any.whl size=1339000 sha256=c9603f2a859f4e0dfda8206913c15df755af914b7f93618cbdebdd20921d215c\n",
      "  Stored in directory: /tmp/pip-ephem-wheel-cache-_14639wo/wheels/ad/78/eb/c87d3fd9ebd84a4104cb86785533043194630de211eeccc174\n",
      "Successfully built openfl\n",
      "Installing collected packages: openfl\n",
      "  Attempting uninstall: openfl\n",
      "    Found existing installation: openfl 1.5\n",
      "    Uninstalling openfl-1.5:\n",
      "      Successfully uninstalled openfl-1.5\n",
      "Successfully installed openfl-1.5\n",
      "\u001b[33mWARNING: You are using pip version 21.0.1; however, version 21.1.1 is available.\n",
      "You should consider upgrading via the '/home/radionov/.envs/old_api_fixes/bin/python -m pip install --upgrade pip' command.\u001b[0m\n"
     ]
    }
   ],
   "source": [
    "#Install dependencies if not already installed\n",
    "!pip install torch torchvision .."
   ]
  },
  {
   "cell_type": "code",
   "execution_count": 2,
   "metadata": {},
   "outputs": [],
   "source": [
    "import numpy as np\n",
    "import torch\n",
    "import torch.nn as nn\n",
    "import torch.nn.functional as F\n",
    "import torch.optim as optim\n",
    "\n",
    "import torchvision\n",
    "import torchvision.transforms as transforms\n",
    "import openfl.native as fx\n",
    "from openfl.federated import FederatedModel,FederatedDataSet\n"
   ]
  },
  {
   "cell_type": "markdown",
   "metadata": {},
   "source": [
    "After importing the required packages, the next step is setting up our openfl workspace. To do this, simply run the `fx.init()` command as follows:"
   ]
  },
  {
   "cell_type": "code",
   "execution_count": 3,
   "metadata": {
    "scrolled": true
   },
   "outputs": [
    {
     "name": "stdout",
     "output_type": "stream",
     "text": [
      "Creating Workspace Directories\n",
      "Creating Workspace Templates\n",
      "Successfully installed packages from /home/radionov/.local/workspace/requirements.txt.\n",
      "\n",
      "New workspace directory structure:\n",
      "workspace\n",
      "├── impl\n",
      "│   ├── __init__.py\n",
      "│   ├── pt_cnn_fetschallenge.py\n",
      "│   ├── challenge_assigner.py\n",
      "│   ├── ptmnist_inmemory.py\n",
      "│   ├── __pycache__\n",
      "│   │   ├── ptmnist_inmemory.cpython-36.pyc\n",
      "│   │   ├── __init__.cpython-36.pyc\n",
      "│   │   ├── mnist_utils.cpython-36.pyc\n",
      "│   │   ├── challenge_assigner.cpython-36.pyc\n",
      "│   │   └── pt_cnn_fetschallenge.cpython-36.pyc\n",
      "│   └── mnist_utils.py\n",
      "├── agg__2021-05-19 10:25:59.267948.metric\n",
      "├── .workspace\n",
      "├── two__2021-05-19 10:25:59.271813.metric\n",
      "├── data\n",
      "│   ├── MICCAI_BraTS2020_TrainingData\n",
      "│   │   ├── BraTS20_Training_210\n",
      "│   │   ├── BraTS20_Training_023\n",
      "│   │   ├── BraTS20_Training_101\n",
      "│   │   ├── BraTS20_Training_227\n",
      "│   │   ├── BraTS20_Training_097\n",
      "│   │   ├── BraTS20_Training_046\n",
      "│   │   ├── BraTS20_Training_038\n",
      "│   │   ├── BraTS20_Training_296\n",
      "│   │   ├── BraTS20_Training_302\n",
      "│   │   ├── BraTS20_Training_211\n",
      "│   │   ├── BraTS20_Training_040\n",
      "│   │   ├── BraTS20_Training_099\n",
      "│   │   ├── BraTS20_Training_140\n",
      "│   │   ├── BraTS20_Training_272\n",
      "│   │   ├── BraTS20_Training_027\n",
      "│   │   ├── BraTS20_Training_098\n",
      "│   │   ├── BraTS20_Training_356\n",
      "│   │   ├── BraTS20_Training_112\n",
      "│   │   ├── BraTS20_Training_163\n",
      "│   │   ├── BraTS20_Training_312\n",
      "│   │   ├── BraTS20_Training_334\n",
      "│   │   ├── BraTS20_Training_186\n",
      "│   │   ├── BraTS20_Training_282\n",
      "│   │   ├── BraTS20_Training_003\n",
      "│   │   ├── BraTS20_Training_346\n",
      "│   │   ├── BraTS20_Training_135\n",
      "│   │   ├── BraTS20_Training_072\n",
      "│   │   ├── BraTS20_Training_260\n",
      "│   │   ├── BraTS20_Training_329\n",
      "│   │   ├── BraTS20_Training_057\n",
      "│   │   ├── BraTS20_Training_183\n",
      "│   │   ├── BraTS20_Training_107\n",
      "│   │   ├── BraTS20_Training_293\n",
      "│   │   ├── BraTS20_Training_321\n",
      "│   │   ├── BraTS20_Training_285\n",
      "│   │   ├── BraTS20_Training_288\n",
      "│   │   ├── BraTS20_Training_362\n",
      "│   │   ├── BraTS20_Training_155\n",
      "│   │   ├── BraTS20_Training_175\n",
      "│   │   ├── BraTS20_Training_087\n",
      "│   │   ├── BraTS20_Training_367\n",
      "│   │   ├── BraTS20_Training_021\n",
      "│   │   ├── BraTS20_Training_197\n",
      "│   │   ├── BraTS20_Training_171\n",
      "│   │   ├── BraTS20_Training_361\n",
      "│   │   ├── BraTS20_Training_090\n",
      "│   │   ├── BraTS20_Training_005\n",
      "│   │   ├── BraTS20_Training_191\n",
      "│   │   ├── BraTS20_Training_025\n",
      "│   │   ├── BraTS20_Training_036\n",
      "│   │   ├── BraTS20_Training_209\n",
      "│   │   ├── BraTS20_Training_096\n",
      "│   │   ├── BraTS20_Training_051\n",
      "│   │   ├── BraTS20_Training_196\n",
      "│   │   ├── BraTS20_Training_111\n",
      "│   │   ├── BraTS20_Training_286\n",
      "│   │   ├── BraTS20_Training_050\n",
      "│   │   ├── BraTS20_Training_303\n",
      "│   │   ├── BraTS20_Training_161\n",
      "│   │   ├── BraTS20_Training_193\n",
      "│   │   ├── BraTS20_Training_315\n",
      "│   │   ├── BraTS20_Training_004\n",
      "│   │   ├── BraTS20_Training_167\n",
      "│   │   ├── BraTS20_Training_216\n",
      "│   │   ├── BraTS20_Training_224\n",
      "│   │   ├── BraTS20_Training_248\n",
      "│   │   ├── BraTS20_Training_053\n",
      "│   │   ├── BraTS20_Training_077\n",
      "│   │   ├── BraTS20_Training_247\n",
      "│   │   ├── BraTS20_Training_298\n",
      "│   │   ├── BraTS20_Training_143\n",
      "│   │   ├── BraTS20_Training_323\n",
      "│   │   ├── BraTS20_Training_084\n",
      "│   │   ├── BraTS20_Training_137\n",
      "│   │   ├── BraTS20_Training_145\n",
      "│   │   ├── BraTS20_Training_314\n",
      "│   │   ├── BraTS20_Training_287\n",
      "│   │   ├── BraTS20_Training_308\n",
      "│   │   ├── BraTS20_Training_113\n",
      "│   │   ├── BraTS20_Training_170\n",
      "│   │   ├── BraTS20_Training_100\n",
      "│   │   ├── BraTS20_Training_271\n",
      "│   │   ├── BraTS20_Training_221\n",
      "│   │   ├── BraTS20_Training_307\n",
      "│   │   ├── BraTS20_Training_249\n",
      "│   │   ├── BraTS20_Training_019\n",
      "│   │   ├── BraTS20_Training_309\n",
      "│   │   ├── BraTS20_Training_316\n",
      "│   │   ├── BraTS20_Training_231\n",
      "│   │   ├── BraTS20_Training_061\n",
      "│   │   ├── BraTS20_Training_332\n",
      "│   │   ├── BraTS20_Training_176\n",
      "│   │   ├── BraTS20_Training_301\n",
      "│   │   ├── BraTS20_Training_008\n",
      "│   │   ├── BraTS20_Training_223\n",
      "│   │   ├── BraTS20_Training_181\n",
      "│   │   ├── BraTS20_Training_206\n",
      "│   │   ├── BraTS20_Training_317\n",
      "│   │   ├── BraTS20_Training_311\n",
      "│   │   ├── BraTS20_Training_150\n",
      "│   │   ├── BraTS20_Training_131\n",
      "│   │   ├── BraTS20_Training_141\n",
      "│   │   ├── BraTS20_Training_152\n",
      "│   │   ├── BraTS20_Training_255\n",
      "│   │   ├── BraTS20_Training_014\n",
      "│   │   ├── BraTS20_Training_192\n",
      "│   │   ├── BraTS20_Training_300\n",
      "│   │   ├── BraTS20_Training_354\n",
      "│   │   ├── BraTS20_Training_355\n",
      "│   │   ├── BraTS20_Training_173\n",
      "│   │   ├── BraTS20_Training_164\n",
      "│   │   ├── BraTS20_Training_269\n",
      "│   │   ├── BraTS20_Training_190\n",
      "│   │   ├── BraTS20_Training_198\n",
      "│   │   ├── BraTS20_Training_094\n",
      "│   │   ├── BraTS20_Training_189\n",
      "│   │   ├── BraTS20_Training_149\n",
      "│   │   ├── BraTS20_Training_066\n",
      "│   │   ├── BraTS20_Training_124\n",
      "│   │   ├── BraTS20_Training_184\n",
      "│   │   ├── BraTS20_Training_292\n",
      "│   │   ├── BraTS20_Training_134\n",
      "│   │   ├── BraTS20_Training_054\n",
      "│   │   ├── BraTS20_Training_350\n",
      "│   │   ├── BraTS20_Training_056\n",
      "│   │   ├── BraTS20_Training_358\n",
      "│   │   ├── BraTS20_Training_031\n",
      "│   │   ├── BraTS20_Training_076\n",
      "│   │   ├── BraTS20_Training_119\n",
      "│   │   ├── BraTS20_Training_068\n",
      "│   │   ├── BraTS20_Training_352\n",
      "│   │   ├── BraTS20_Training_229\n",
      "│   │   ├── BraTS20_Training_237\n",
      "│   │   ├── BraTS20_Training_078\n",
      "│   │   ├── BraTS20_Training_291\n",
      "│   │   ├── BraTS20_Training_049\n",
      "│   │   ├── BraTS20_Training_219\n",
      "│   │   ├── BraTS20_Training_151\n",
      "│   │   ├── BraTS20_Training_159\n",
      "│   │   ├── BraTS20_Training_007\n",
      "│   │   ├── BraTS20_Training_039\n",
      "│   │   ├── BraTS20_Training_074\n",
      "│   │   ├── BraTS20_Training_071\n",
      "│   │   ├── BraTS20_Training_148\n",
      "│   │   ├── BraTS20_Training_069\n",
      "│   │   ├── BraTS20_Training_232\n",
      "│   │   ├── BraTS20_Training_195\n",
      "│   │   ├── BraTS20_Training_178\n",
      "│   │   ├── BraTS20_Training_299\n",
      "│   │   ├── BraTS20_Training_337\n",
      "│   │   ├── BraTS20_Training_083\n",
      "│   │   ├── BraTS20_Training_283\n",
      "│   │   ├── BraTS20_Training_212\n",
      "│   │   ├── BraTS20_Training_045\n",
      "│   │   ├── BraTS20_Training_158\n",
      "│   │   ├── BraTS20_Training_339\n",
      "│   │   ├── BraTS20_Training_125\n",
      "│   │   ├── BraTS20_Training_073\n",
      "│   │   ├── survival_info.csv\n",
      "│   │   ├── BraTS20_Training_360\n",
      "│   │   ├── BraTS20_Training_121\n",
      "│   │   ├── BraTS20_Training_270\n",
      "│   │   ├── BraTS20_Training_290\n",
      "│   │   ├── BraTS20_Training_338\n",
      "│   │   ├── BraTS20_Training_114\n",
      "│   │   ├── BraTS20_Training_199\n",
      "│   │   ├── BraTS20_Training_241\n",
      "│   │   ├── BraTS20_Training_185\n",
      "│   │   ├── BraTS20_Training_020\n",
      "│   │   ├── BraTS20_Training_132\n",
      "│   │   ├── BraTS20_Training_136\n",
      "│   │   ├── BraTS20_Training_035\n",
      "│   │   ├── BraTS20_Training_234\n",
      "│   │   ├── BraTS20_Training_006\n",
      "│   │   ├── BraTS20_Training_289\n",
      "│   │   ├── BraTS20_Training_277\n",
      "│   │   ├── BraTS20_Training_026\n",
      "│   │   ├── BraTS20_Training_168\n",
      "│   │   ├── BraTS20_Training_138\n",
      "│   │   ├── BraTS20_Training_327\n",
      "│   │   ├── BraTS20_Training_328\n",
      "│   │   ├── BraTS20_Training_215\n",
      "│   │   ├── BraTS20_Training_281\n",
      "│   │   ├── BraTS20_Training_363\n",
      "│   │   ├── BraTS20_Training_165\n",
      "│   │   ├── BraTS20_Training_273\n",
      "│   │   ├── BraTS20_Training_081\n",
      "│   │   ├── BraTS20_Training_230\n",
      "│   │   ├── BraTS20_Training_065\n",
      "│   │   ├── BraTS20_Training_280\n",
      "│   │   ├── BraTS20_Training_120\n",
      "│   │   ├── BraTS20_Training_154\n",
      "│   │   ├── BraTS20_Training_243\n",
      "│   │   ├── BraTS20_Training_105\n",
      "│   │   ├── BraTS20_Training_349\n",
      "│   │   ├── BraTS20_Training_156\n",
      "│   │   ├── BraTS20_Training_085\n",
      "│   │   ├── BraTS20_Training_147\n",
      "│   │   ├── BraTS20_Training_110\n",
      "│   │   ├── BraTS20_Training_059\n",
      "│   │   ├── BraTS20_Training_080\n",
      "│   │   ├── BraTS20_Training_024\n",
      "│   │   ├── BraTS20_Training_245\n",
      "│   │   ├── BraTS20_Training_139\n",
      "│   │   ├── BraTS20_Training_265\n",
      "│   │   ├── BraTS20_Training_102\n",
      "│   │   ├── BraTS20_Training_267\n",
      "│   │   ├── BraTS20_Training_306\n",
      "│   │   ├── BraTS20_Training_240\n",
      "│   │   ├── BraTS20_Training_157\n",
      "│   │   ├── BraTS20_Training_116\n",
      "│   │   ├── BraTS20_Training_347\n",
      "│   │   ├── BraTS20_Training_126\n",
      "│   │   ├── BraTS20_Training_028\n",
      "│   │   ├── BraTS20_Training_342\n",
      "│   │   ├── BraTS20_Training_274\n",
      "│   │   ├── BraTS20_Training_244\n",
      "│   │   ├── BraTS20_Training_262\n",
      "│   │   ├── BraTS20_Training_343\n",
      "│   │   ├── BraTS20_Training_086\n",
      "│   │   ├── BraTS20_Training_169\n",
      "│   │   ├── BraTS20_Training_294\n",
      "│   │   ├── BraTS20_Training_109\n",
      "│   │   ├── BraTS20_Training_011\n",
      "│   │   ├── BraTS20_Training_235\n",
      "│   │   ├── BraTS20_Training_254\n",
      "│   │   ├── BraTS20_Training_106\n"
     ]
    },
    {
     "name": "stdout",
     "output_type": "stream",
     "text": [
      "│   │   ├── BraTS20_Training_064\n",
      "│   │   ├── BraTS20_Training_180\n",
      "│   │   ├── BraTS20_Training_261\n",
      "│   │   ├── BraTS20_Training_207\n",
      "│   │   ├── BraTS20_Training_055\n",
      "│   │   ├── BraTS20_Training_368\n",
      "│   │   ├── BraTS20_Training_047\n",
      "│   │   ├── BraTS20_Training_070\n",
      "│   │   ├── BraTS20_Training_369\n",
      "│   │   ├── BraTS20_Training_133\n",
      "│   │   ├── BraTS20_Training_062\n",
      "│   │   ├── BraTS20_Training_201\n",
      "│   │   ├── BraTS20_Training_228\n",
      "│   │   ├── BraTS20_Training_295\n",
      "│   │   ├── BraTS20_Training_214\n",
      "│   │   ├── BraTS20_Training_122\n",
      "│   │   ├── BraTS20_Training_030\n",
      "│   │   ├── BraTS20_Training_320\n",
      "│   │   ├── BraTS20_Training_222\n",
      "│   │   ├── BraTS20_Training_304\n",
      "│   │   ├── BraTS20_Training_103\n",
      "│   │   ├── BraTS20_Training_032\n",
      "│   │   ├── BraTS20_Training_330\n",
      "│   │   ├── BraTS20_Training_060\n",
      "│   │   ├── BraTS20_Training_276\n",
      "│   │   ├── BraTS20_Training_364\n",
      "│   │   ├── BraTS20_Training_029\n",
      "│   │   ├── BraTS20_Training_034\n",
      "│   │   ├── BraTS20_Training_166\n",
      "│   │   ├── BraTS20_Training_205\n",
      "│   │   ├── BraTS20_Training_093\n",
      "│   │   ├── BraTS20_Training_041\n",
      "│   │   ├── BraTS20_Training_002\n",
      "│   │   ├── BraTS20_Training_188\n",
      "│   │   ├── BraTS20_Training_213\n",
      "│   │   ├── BraTS20_Training_322\n",
      "│   │   ├── BraTS20_Training_033\n",
      "│   │   ├── BraTS20_Training_335\n",
      "│   │   ├── name_mapping.csv\n",
      "│   │   ├── BraTS20_Training_310\n",
      "│   │   ├── BraTS20_Training_278\n",
      "│   │   ├── BraTS20_Training_182\n",
      "│   │   ├── BraTS20_Training_016\n",
      "│   │   ├── BraTS20_Training_225\n",
      "│   │   ├── BraTS20_Training_297\n",
      "│   │   ├── BraTS20_Training_318\n",
      "│   │   ├── BraTS20_Training_044\n",
      "│   │   ├── BraTS20_Training_226\n",
      "│   │   ├── BraTS20_Training_263\n",
      "│   │   ├── BraTS20_Training_187\n",
      "│   │   ├── BraTS20_Training_117\n",
      "│   │   ├── BraTS20_Training_123\n",
      "│   │   ├── BraTS20_Training_043\n",
      "│   │   ├── BraTS20_Training_345\n",
      "│   │   ├── BraTS20_Training_233\n",
      "│   │   ├── BraTS20_Training_010\n",
      "│   │   ├── BraTS20_Training_067\n",
      "│   │   ├── BraTS20_Training_052\n",
      "│   │   ├── BraTS20_Training_257\n",
      "│   │   ├── BraTS20_Training_128\n",
      "│   │   ├── BraTS20_Training_220\n",
      "│   │   ├── BraTS20_Training_089\n",
      "│   │   ├── BraTS20_Training_001\n",
      "│   │   ├── BraTS20_Training_058\n",
      "│   │   ├── BraTS20_Training_325\n",
      "│   │   ├── BraTS20_Training_200\n",
      "│   │   ├── BraTS20_Training_129\n",
      "│   │   ├── BraTS20_Training_095\n",
      "│   │   ├── BraTS20_Training_015\n",
      "│   │   ├── BraTS20_Training_340\n",
      "│   │   ├── BraTS20_Training_305\n",
      "│   │   ├── BraTS20_Training_238\n",
      "│   │   ├── BraTS20_Training_258\n",
      "│   │   ├── BraTS20_Training_251\n",
      "│   │   ├── BraTS20_Training_079\n",
      "│   │   ├── BraTS20_Training_017\n",
      "│   │   ├── BraTS20_Training_341\n",
      "│   │   ├── BraTS20_Training_326\n",
      "│   │   ├── BraTS20_Training_365\n",
      "│   │   ├── BraTS20_Training_063\n",
      "│   │   ├── BraTS20_Training_012\n",
      "│   │   ├── BraTS20_Training_284\n",
      "│   │   ├── BraTS20_Training_172\n",
      "│   │   ├── BraTS20_Training_357\n",
      "│   │   ├── BraTS20_Training_088\n",
      "│   │   ├── BraTS20_Training_268\n",
      "│   │   ├── BraTS20_Training_333\n",
      "│   │   ├── BraTS20_Training_246\n",
      "│   │   ├── BraTS20_Training_250\n",
      "│   │   ├── BraTS20_Training_259\n",
      "│   │   ├── BraTS20_Training_179\n",
      "│   │   ├── BraTS20_Training_208\n",
      "│   │   ├── BraTS20_Training_242\n",
      "│   │   ├── BraTS20_Training_252\n",
      "│   │   ├── BraTS20_Training_075\n",
      "│   │   ├── BraTS20_Training_217\n",
      "│   │   ├── BraTS20_Training_239\n",
      "│   │   ├── BraTS20_Training_162\n",
      "│   │   ├── BraTS20_Training_204\n",
      "│   │   ├── BraTS20_Training_218\n",
      "│   │   ├── BraTS20_Training_336\n",
      "│   │   ├── BraTS20_Training_194\n",
      "│   │   ├── BraTS20_Training_048\n",
      "│   │   ├── BraTS20_Training_177\n",
      "│   │   ├── BraTS20_Training_253\n",
      "│   │   ├── BraTS20_Training_127\n",
      "│   │   ├── BraTS20_Training_091\n",
      "│   │   ├── BraTS20_Training_264\n",
      "│   │   ├── BraTS20_Training_108\n",
      "│   │   ├── BraTS20_Training_202\n",
      "│   │   ├── BraTS20_Training_082\n",
      "│   │   ├── BraTS20_Training_275\n",
      "│   │   ├── BraTS20_Training_266\n",
      "│   │   ├── BraTS20_Training_344\n",
      "│   │   ├── BraTS20_Training_331\n",
      "│   │   ├── BraTS20_Training_348\n",
      "│   │   ├── BraTS20_Training_366\n",
      "│   │   ├── BraTS20_Training_353\n",
      "│   │   ├── BraTS20_Training_146\n",
      "│   │   ├── BraTS20_Training_279\n",
      "│   │   ├── BraTS20_Training_037\n",
      "│   │   ├── BraTS20_Training_142\n",
      "│   │   ├── BraTS20_Training_009\n",
      "│   │   ├── BraTS20_Training_256\n",
      "│   │   ├── BraTS20_Training_359\n",
      "│   │   ├── BraTS20_Training_319\n",
      "│   │   ├── BraTS20_Training_042\n",
      "│   │   ├── BraTS20_Training_236\n",
      "│   │   ├── BraTS20_Training_160\n",
      "│   │   ├── BraTS20_Training_118\n",
      "│   │   ├── BraTS20_Training_092\n",
      "│   │   ├── BraTS20_Training_313\n",
      "│   │   ├── BraTS20_Training_203\n",
      "│   │   ├── BraTS20_Training_144\n",
      "│   │   ├── BraTS20_Training_174\n",
      "│   │   ├── BraTS20_Training_104\n",
      "│   │   ├── BraTS20_Training_013\n",
      "│   │   ├── BraTS20_Training_018\n",
      "│   │   ├── BraTS20_Training_022\n",
      "│   │   ├── BraTS20_Training_351\n",
      "│   │   ├── BraTS20_Training_153\n",
      "│   │   ├── BraTS20_Training_130\n",
      "│   │   ├── BraTS20_Training_115\n",
      "│   │   └── BraTS20_Training_324\n",
      "│   └── MNIST\n",
      "│       ├── raw\n",
      "│       └── processed\n",
      "├── cert\n",
      "│   ├── col_one.csr\n",
      "│   ├── server\n",
      "│   │   ├── agg_nnlicv674.crt\n",
      "│   │   ├── agg_nnlicv674.key\n",
      "│   │   ├── agg_none.csr\n",
      "│   │   ├── agg_nnlicv674.csr\n",
      "│   │   ├── agg_none.key\n",
      "│   │   └── agg_none.crt\n",
      "│   ├── config\n",
      "│   │   ├── client.conf\n",
      "│   │   ├── root-ca.conf\n",
      "│   │   ├── signing-ca.conf\n",
      "│   │   └── server.conf\n",
      "│   ├── col_two.csr\n",
      "│   ├── ca\n",
      "│   │   ├── root-ca.crt\n",
      "│   │   ├── signing-ca\n",
      "│   │   ├── signing-ca.crt\n",
      "│   │   ├── root-ca\n",
      "│   │   ├── signing-ca.csr\n",
      "│   │   └── root-ca.csr\n",
      "│   ├── cert_chain.crt\n",
      "│   └── client\n",
      "│       ├── col_two.crt\n",
      "│       ├── col_one.key\n",
      "│       ├── col_two.key\n",
      "│       └── col_one.crt\n",
      "├── tiny-imagenet-200\n",
      "│   ├── train\n",
      "│   │   ├── n02963159\n",
      "│   │   ├── n03424325\n",
      "│   │   ├── n04507155\n",
      "│   │   ├── n02190166\n",
      "│   │   ├── n09332890\n",
      "│   │   ├── n07873807\n",
      "│   │   ├── n03983396\n",
      "│   │   ├── n03733131\n",
      "│   │   ├── n01855672\n",
      "│   │   ├── n02124075\n",
      "│   │   ├── n02999410\n",
      "│   │   ├── n02410509\n",
      "│   │   ├── n03814639\n",
      "│   │   ├── n02403003\n",
      "│   │   ├── n03837869\n",
      "│   │   ├── n02281406\n",
      "│   │   ├── n03637318\n",
      "│   │   ├── n02002724\n",
      "│   │   ├── n02125311\n",
      "│   │   ├── n03617480\n",
      "│   │   ├── n04251144\n",
      "│   │   ├── n03393912\n",
      "│   │   ├── n01882714\n",
      "│   │   ├── n03089624\n",
      "│   │   ├── n04133789\n",
      "│   │   ├── n02099601\n",
      "│   │   ├── n03976657\n",
      "│   │   ├── n01944390\n",
      "│   │   ├── n03100240\n",
      "│   │   ├── n04285008\n",
      "│   │   ├── n04486054\n",
      "│   │   ├── n02769748\n",
      "│   │   ├── n03388043\n",
      "│   │   ├── n02909870\n",
      "│   │   ├── n07715103\n",
      "│   │   ├── n04456115\n",
      "│   │   ├── n02099712\n",
      "│   │   ├── n04067472\n",
      "│   │   ├── n09256479\n",
      "│   │   ├── n03447447\n",
      "│   │   ├── n02233338\n",
      "│   │   ├── n02814533\n",
      "│   │   ├── n03400231\n",
      "│   │   ├── n06596364\n",
      "│   │   ├── n04146614\n",
      "│   │   ├── n02113799\n",
      "│   │   ├── n04265275\n",
      "│   │   ├── n03544143\n",
      "│   │   ├── n07720875\n",
      "│   │   ├── n04328186\n",
      "│   │   ├── n02132136\n",
      "│   │   ├── n04532106\n",
      "│   │   ├── n03977966\n",
      "│   │   ├── n01984695\n",
      "│   │   ├── n03126707\n",
      "│   │   ├── n03992509\n",
      "│   │   ├── n02231487\n",
      "│   │   ├── n02730930\n",
      "│   │   ├── n03179701\n",
      "│   │   ├── n09428293\n",
      "│   │   ├── n02793495\n",
      "│   │   ├── n03026506\n",
      "│   │   ├── n04149813\n",
      "│   │   ├── n01698640\n",
      "│   │   ├── n02106662\n",
      "│   │   ├── n03599486\n",
      "│   │   ├── n02699494\n",
      "│   │   ├── n03014705\n",
      "│   │   ├── n03796401\n",
      "│   │   ├── n02892201\n",
      "│   │   ├── n04487081\n",
      "│   │   ├── n02226429\n",
      "│   │   ├── n02917067\n",
      "│   │   ├── n02364673\n",
      "│   │   ├── n04597913\n",
      "│   │   ├── n04254777\n",
      "│   │   ├── n01629819\n",
      "│   │   ├── n02927161\n",
      "│   │   ├── n01644900\n",
      "│   │   ├── n03042490\n",
      "│   │   ├── n04366367\n",
      "│   │   ├── n04399382\n",
      "│   │   ├── n04023962\n",
      "│   │   ├── n02094433\n",
      "│   │   ├── n03854065\n",
      "│   │   ├── n01443537\n",
      "│   │   ├── n01768244\n",
      "│   │   ├── n07920052\n",
      "│   │   ├── n04376876\n",
      "│   │   ├── n02841315\n",
      "│   │   ├── n02074367\n",
      "│   │   ├── n03902125\n",
      "│   │   ├── n02788148\n",
      "│   │   ├── n07749582\n",
      "│   │   ├── n02123394\n",
      "│   │   ├── n03662601\n",
      "│   │   ├── n02802426\n",
      "│   │   ├── n01774384\n",
      "│   │   ├── n07711569\n",
      "│   │   ├── n03706229\n",
      "│   │   ├── n02165456\n",
      "│   │   ├── n07614500\n",
      "│   │   ├── n02906734\n",
      "│   │   ├── n07615774\n",
      "│   │   ├── n04398044\n",
      "│   │   ├── n09193705\n",
      "│   │   ├── n02486410\n",
      "│   │   ├── n02437312\n",
      "│   │   ├── n02883205\n",
      "│   │   ├── n02206856\n",
      "│   │   ├── n02823428\n",
      "│   │   ├── n04371430\n",
      "│   │   ├── n01950731\n",
      "│   │   ├── n02085620\n",
      "│   │   ├── n01742172\n",
      "│   │   ├── n03970156\n",
      "│   │   ├── n03670208\n",
      "│   │   ├── n07579787\n",
      "│   │   ├── n02236044\n",
      "│   │   ├── n01770393\n",
      "│   │   ├── n04099969\n",
      "│   │   ├── n02321529\n",
      "│   │   ├── n03763968\n",
      "│   │   ├── n03444034\n"
     ]
    },
    {
     "name": "stdout",
     "output_type": "stream",
     "text": [
      "│   │   ├── n02791270\n",
      "│   │   ├── n04275548\n",
      "│   │   ├── n01917289\n",
      "│   │   ├── n01910747\n",
      "│   │   ├── n07768694\n",
      "│   │   ├── n03255030\n",
      "│   │   ├── n04532670\n",
      "│   │   ├── n04259630\n",
      "│   │   ├── n02279972\n",
      "│   │   ├── n02480495\n",
      "│   │   ├── n03250847\n",
      "│   │   ├── n03770439\n",
      "│   │   ├── n04118538\n",
      "│   │   ├── n03891332\n",
      "│   │   ├── n04356056\n",
      "│   │   ├── n04465501\n",
      "│   │   ├── n04070727\n",
      "│   │   ├── n12267677\n",
      "│   │   ├── n03160309\n",
      "│   │   ├── n02481823\n",
      "│   │   ├── n04560804\n",
      "│   │   ├── n04501370\n",
      "│   │   ├── n02666196\n",
      "│   │   ├── n03404251\n",
      "│   │   ├── n01641577\n",
      "│   │   ├── n03649909\n",
      "│   │   ├── n03584254\n",
      "│   │   ├── n02056570\n",
      "│   │   ├── n02808440\n",
      "│   │   ├── n02058221\n",
      "│   │   ├── n04596742\n",
      "│   │   ├── n02395406\n",
      "│   │   ├── n02948072\n",
      "│   │   ├── n02268443\n",
      "│   │   ├── n02669723\n",
      "│   │   ├── n02423022\n",
      "│   │   ├── n07695742\n",
      "│   │   ├── n03937543\n",
      "│   │   ├── n03980874\n",
      "│   │   ├── n01983481\n",
      "│   │   ├── n07734744\n",
      "│   │   ├── n02795169\n",
      "│   │   ├── n02129165\n",
      "│   │   ├── n04311004\n",
      "│   │   ├── n04562935\n",
      "│   │   ├── n02977058\n",
      "│   │   ├── n03930313\n",
      "│   │   ├── n04417672\n",
      "│   │   ├── n04540053\n",
      "│   │   ├── n02815834\n",
      "│   │   ├── n02504458\n",
      "│   │   ├── n09246464\n",
      "│   │   ├── n01774750\n",
      "│   │   ├── n07747607\n",
      "│   │   ├── n04008634\n",
      "│   │   ├── n03201208\n",
      "│   │   ├── n02509815\n",
      "│   │   ├── n04074963\n",
      "│   │   ├── n04179913\n",
      "│   │   ├── n03355925\n",
      "│   │   ├── n02843684\n",
      "│   │   ├── n07871810\n",
      "│   │   ├── n07583066\n",
      "│   │   ├── n02415577\n",
      "│   │   ├── n07753592\n",
      "│   │   ├── n01945685\n",
      "│   │   ├── n02814860\n",
      "│   │   ├── n03085013\n",
      "│   │   ├── n02988304\n",
      "│   │   ├── n03804744\n",
      "│   │   ├── n02837789\n",
      "│   │   ├── n02123045\n",
      "│   │   ├── n02950826\n",
      "│   │   ├── n07875152\n",
      "│   │   ├── n03838899\n",
      "│   │   └── n01784675\n",
      "│   ├── test\n",
      "│   │   └── images\n",
      "│   ├── val\n",
      "│   │   ├── images\n",
      "│   │   └── val_annotations.txt\n",
      "│   ├── wnids.txt\n",
      "│   └── words.txt\n",
      "├── final_pytorch_model\n",
      "├── runs\n",
      "├── plan\n",
      "│   ├── .plan.yaml.swp\n",
      "│   ├── data.yaml\n",
      "│   ├── plan.yaml\n",
      "│   ├── defaults\n",
      "│   │   ├── assigner.yaml\n",
      "│   │   ├── aggregator.yaml\n",
      "│   │   ├── tasks_tensorflow.yaml\n",
      "│   │   ├── data_loader.yaml\n",
      "│   │   ├── task_runner.yaml\n",
      "│   │   ├── tasks_keras.yaml\n",
      "│   │   ├── tasks_torch.yaml\n",
      "│   │   ├── defaults\n",
      "│   │   ├── compression_pipeline.yaml\n",
      "│   │   ├── tasks_fast_estimator.yaml\n",
      "│   │   ├── collaborator.yaml\n",
      "│   │   └── network.yaml\n",
      "│   ├── plans\n",
      "│   │   └── default\n",
      "│   └── cols.yaml\n",
      "├── save\n",
      "│   ├── torch_cnn_mnist_init.pbuf\n",
      "│   ├── fets_challenge_init.pbuf\n",
      "│   ├── fets_challenge_last.pbuf\n",
      "│   ├── keras_cnn_mnist_best.pbuf\n",
      "│   ├── torch_3dunet_brats_best.pbuf\n",
      "│   ├── keras_cnn_mnist_last.pbuf\n",
      "│   ├── torch_3dunet_brats_last.pbuf\n",
      "│   ├── torch_3dunet_brats_init.pbuf\n",
      "│   ├── fets_challenge_best.pbuf\n",
      "│   ├── keras_cnn_mnist_init.pbuf\n",
      "│   ├── torch_cnn_mnist_best.pbuf\n",
      "│   └── torch_cnn_mnist_last.pbuf\n",
      "├── logs\n",
      "│   └── aggregator_plan.yaml_e0b0ead0_plan.yaml_e0b0ead0\n",
      "│       └── events.out.tfevents.1621243258.nnlicv674.15945.0\n",
      "├── code\n",
      "│   ├── __init__.py\n",
      "│   ├── fed_3dunet_runner_new_net.py\n",
      "│   ├── keras_cnn.py\n",
      "│   ├── pt_cnn.py\n",
      "│   ├── ptmnist_inmemory.py\n",
      "│   ├── tfmnist_inmemory.py\n",
      "│   ├── 1.py\n",
      "│   ├── data_loader.py\n",
      "│   ├── mnist_utils.py\n",
      "│   ├── pt_3dunet_parts.py\n",
      "│   └── fed_3dunet_runner.py\n",
      "├── spam_metric.log\n",
      "├── final_model.pth\n",
      "├── two__2021-05-19 11:35:42.992803.metric\n",
      "├── agg_to_col_two_signed_cert.zip\n",
      "├── one__2021-05-19 11:35:42.991053.metric\n",
      "├── one__2021-05-19 10:25:59.270070.metric\n",
      "├── agg_to_col_one_signed_cert.zip\n",
      "├── two__2021-05-19 11:38:51.764534.metric\n",
      "├── requirements.txt\n",
      "├── tiny-imagenet-200.zip\n",
      "├── final_model\n",
      "│   ├── assets\n",
      "│   ├── saved_model.pb\n",
      "│   └── variables\n",
      "│       ├── variables.index\n",
      "│       └── variables.data-00000-of-00001\n",
      "├── one__2021-05-19 11:41:52.968074.metric\n",
      "├── two__2021-05-19 11:41:52.969769.metric\n",
      "└── one__2021-05-19 11:38:51.753462.metric\n",
      "\n",
      "601 directories, 96 files\n",
      "Setting Up Certificate Authority...\n",
      "\n",
      "1.  Create Root CA\n",
      "1.1 Create Directories\n",
      "1.2 Create Database\n",
      "1.3 Create CA Request and Certificate\n",
      "2.  Create Signing Certificate\n",
      "2.1 Create Directories\n",
      "2.2 Create Database\n",
      "2.3 Create Signing Certificate CSR\n",
      "2.4 Sign Signing Certificate CSR\n",
      "3   Create Certificate Chain\n",
      "\n",
      "Done.\n",
      "Creating AGGREGATOR certificate key pair with following settings: CN=\u001b[31mnnlicv674\u001b[0m, SAN=\u001b[31mDNS:nnlicv674\u001b[0m\n",
      "  Writing AGGREGATOR certificate key pair to: \u001b[32mcert/server\u001b[0m\n",
      "The CSR Hash for file \u001b[32mserver/agg_nnlicv674.csr\u001b[0m = \u001b[31m959adabd386bd5f6db839eb85106266c2a85bb27c18780edb7ff3543ef62cce5a4a407e8d22822bba0919c7c5a3b28e7\u001b[0m\n",
      " Signing AGGREGATOR certificate\n",
      "Creating COLLABORATOR certificate key pair with following settings: CN=\u001b[31mone\u001b[0m, SAN=\u001b[31mDNS:one\u001b[0m\n",
      "  Moving COLLABORATOR certificate to: \u001b[32mcert/col_one\u001b[0m\n",
      "The CSR Hash for file \u001b[32mcol_one.csr\u001b[0m = \u001b[31m8b44d236bea66f13f97cac23661090b7e17e4eba9638990baec2eaea1076b4cbef30d3e4ca0292017ea5772496426c86\u001b[0m\n",
      " Signing COLLABORATOR certificate\n",
      "\n",
      "Registering \u001b[32mone\u001b[0m in \u001b[32mplan/cols.yaml\u001b[0m\n",
      "Creating COLLABORATOR certificate key pair with following settings: CN=\u001b[31mtwo\u001b[0m, SAN=\u001b[31mDNS:two\u001b[0m\n",
      "  Moving COLLABORATOR certificate to: \u001b[32mcert/col_two\u001b[0m\n",
      "The CSR Hash for file \u001b[32mcol_two.csr\u001b[0m = \u001b[31mc305b1300cbbd00ed2836b69210cfb7bbaa3bdac4283d460307ee3634fdec72c2690738d032ab4bca5339ef65dd4f215\u001b[0m\n",
      " Signing COLLABORATOR certificate\n",
      "\n",
      "Registering \u001b[32mtwo\u001b[0m in \u001b[32mplan/cols.yaml\u001b[0m\n"
     ]
    }
   ],
   "source": [
    "#Setup default workspace, logging, etc.\n",
    "fx.init('torch_cnn_mnist',log_level='METRIC', log_file='./spam_metric.log')"
   ]
  },
  {
   "cell_type": "markdown",
   "metadata": {},
   "source": [
    "Now we are ready to define our dataset and model to perform federated learning on. The dataset should be composed of a numpy arrayWe start with a simple fully connected model that is trained on the MNIST dataset. "
   ]
  },
  {
   "cell_type": "code",
   "execution_count": 4,
   "metadata": {},
   "outputs": [
    {
     "name": "stderr",
     "output_type": "stream",
     "text": [
      "/home/radionov/.envs/old_api_fixes/lib/python3.6/site-packages/torchvision/datasets/mnist.py:64: UserWarning: train_data has been renamed data\n",
      "  warnings.warn(\"train_data has been renamed data\")\n",
      "/home/radionov/.envs/old_api_fixes/lib/python3.6/site-packages/torchvision/datasets/mnist.py:54: UserWarning: train_labels has been renamed targets\n",
      "  warnings.warn(\"train_labels has been renamed targets\")\n",
      "/home/radionov/.envs/old_api_fixes/lib/python3.6/site-packages/torchvision/datasets/mnist.py:69: UserWarning: test_data has been renamed data\n",
      "  warnings.warn(\"test_data has been renamed data\")\n",
      "/home/radionov/.envs/old_api_fixes/lib/python3.6/site-packages/torchvision/datasets/mnist.py:59: UserWarning: test_labels has been renamed targets\n",
      "  warnings.warn(\"test_labels has been renamed targets\")\n"
     ]
    }
   ],
   "source": [
    "def one_hot(labels, classes):\n",
    "    return np.eye(classes)[labels]\n",
    "\n",
    "transform = transforms.Compose(\n",
    "    [transforms.ToTensor(),\n",
    "     transforms.Normalize((0.5, 0.5, 0.5), (0.5, 0.5, 0.5))])\n",
    "\n",
    "trainset = torchvision.datasets.MNIST(root='./data', train=True,\n",
    "                                        download=True, transform=transform)\n",
    "\n",
    "train_images,train_labels = trainset.train_data, np.array(trainset.train_labels)\n",
    "train_images = torch.from_numpy(np.expand_dims(train_images, axis=1)).float()\n",
    "\n",
    "validset = torchvision.datasets.MNIST(root='./data', train=False,\n",
    "                                       download=True, transform=transform)\n",
    "\n",
    "valid_images,valid_labels = validset.test_data, np.array(validset.test_labels)\n",
    "valid_images = torch.from_numpy(np.expand_dims(valid_images, axis=1)).float()\n",
    "valid_labels = one_hot(valid_labels,10)"
   ]
  },
  {
   "cell_type": "code",
   "execution_count": 5,
   "metadata": {},
   "outputs": [],
   "source": [
    "feature_shape = train_images.shape[1]\n",
    "classes       = 10\n",
    "\n",
    "fl_data = FederatedDataSet(train_images,train_labels,valid_images,valid_labels,batch_size=32,num_classes=classes)\n",
    "\n",
    "class Net(nn.Module):\n",
    "    def __init__(self):\n",
    "        super(Net, self).__init__()\n",
    "        self.conv1 = nn.Conv2d(1, 16, 3)\n",
    "        self.pool = nn.MaxPool2d(2, 2)\n",
    "        self.conv2 = nn.Conv2d(16, 32, 3)\n",
    "        self.fc1 = nn.Linear(32 * 5 * 5, 32)\n",
    "        self.fc2 = nn.Linear(32, 84)\n",
    "        self.fc3 = nn.Linear(84, 10)\n",
    "\n",
    "    def forward(self, x):\n",
    "        x = self.pool(F.relu(self.conv1(x)))\n",
    "        x = self.pool(F.relu(self.conv2(x)))\n",
    "        x = x.view(x.size(0),-1)\n",
    "        x = F.relu(self.fc1(x))\n",
    "        x = F.relu(self.fc2(x))\n",
    "        x = self.fc3(x)\n",
    "        return F.log_softmax(x, dim=1)\n",
    "    \n",
    "optimizer = lambda x: optim.Adam(x, lr=1e-4)\n",
    "\n",
    "def cross_entropy(output, target):\n",
    "    \"\"\"Binary cross-entropy metric\n",
    "    \"\"\"\n",
    "    return F.cross_entropy(input=output,target=target)"
   ]
  },
  {
   "cell_type": "code",
   "execution_count": 6,
   "metadata": {},
   "outputs": [
    {
     "data": {
      "text/html": [
       "<pre style=\"white-space:pre;overflow-x:auto;line-height:normal;font-family:Menlo,'DejaVu Sans Mono',consolas,'Courier New',monospace\"><span style=\"color: #7fbfbf\">[13:26:55] </span><span style=\"color: #800000\">WARNING</span>  tried to remove tensor: __opt_state_needed not present in the tensor dict                                                       <a href=\"file:///home/radionov/.envs/old_api_fixes/lib/python3.6/site-packages/openfl/utilities/utils.py\"><span style=\"color: #7f7f7f\">utils.py</span></a><span style=\"color: #7f7f7f\">:135</span>\n",
       "</pre>\n"
      ],
      "text/plain": [
       "<rich.jupyter.JupyterRenderable at 0x7f17a9c38208>"
      ]
     },
     "metadata": {},
     "output_type": "display_data"
    }
   ],
   "source": [
    "\n",
    "#Create a federated model using the pytorch class, lambda optimizer function, and loss function\n",
    "fl_model = FederatedModel(build_model=Net,optimizer=optimizer,loss_fn=cross_entropy,data_loader=fl_data)"
   ]
  },
  {
   "cell_type": "markdown",
   "metadata": {},
   "source": [
    "The `FederatedModel` object is a wrapper around your Keras, Tensorflow or PyTorch model that makes it compatible with openfl. It provides built in federated training and validation functions that we will see used below. Using it's `setup` function, collaborator models and datasets can be automatically defined for the experiment. "
   ]
  },
  {
   "cell_type": "code",
   "execution_count": 7,
   "metadata": {},
   "outputs": [
    {
     "data": {
      "text/html": [
       "<pre style=\"white-space:pre;overflow-x:auto;line-height:normal;font-family:Menlo,'DejaVu Sans Mono',consolas,'Courier New',monospace\"><span style=\"color: #7fbfbf\">           </span><span style=\"color: #800000\">WARNING</span>  tried to remove tensor: __opt_state_needed not present in the tensor dict                                                       <a href=\"file:///home/radionov/.envs/old_api_fixes/lib/python3.6/site-packages/openfl/utilities/utils.py\"><span style=\"color: #7f7f7f\">utils.py</span></a><span style=\"color: #7f7f7f\">:135</span>\n",
       "</pre>\n"
      ],
      "text/plain": [
       "<rich.jupyter.JupyterRenderable at 0x7f17a9bce2b0>"
      ]
     },
     "metadata": {},
     "output_type": "display_data"
    },
    {
     "data": {
      "text/html": [
       "<pre style=\"white-space:pre;overflow-x:auto;line-height:normal;font-family:Menlo,'DejaVu Sans Mono',consolas,'Courier New',monospace\"><span style=\"color: #7fbfbf\">           </span><span style=\"color: #800000\">WARNING</span>  tried to remove tensor: __opt_state_needed not present in the tensor dict                                                       <a href=\"file:///home/radionov/.envs/old_api_fixes/lib/python3.6/site-packages/openfl/utilities/utils.py\"><span style=\"color: #7f7f7f\">utils.py</span></a><span style=\"color: #7f7f7f\">:135</span>\n",
       "</pre>\n"
      ],
      "text/plain": [
       "<rich.jupyter.JupyterRenderable at 0x7f17a9bce438>"
      ]
     },
     "metadata": {},
     "output_type": "display_data"
    }
   ],
   "source": [
    "collaborator_models = fl_model.setup(num_collaborators=2)\n",
    "collaborators = {'one':collaborator_models[0],'two':collaborator_models[1]}#, 'three':collaborator_models[2]}"
   ]
  },
  {
   "cell_type": "code",
   "execution_count": 8,
   "metadata": {},
   "outputs": [
    {
     "name": "stdout",
     "output_type": "stream",
     "text": [
      "Original training data size: 60000\n",
      "Original validation data size: 10000\n",
      "\n",
      "Collaborator one's training data size: 30000\n",
      "Collaborator one's validation data size: 5000\n",
      "\n",
      "Collaborator two's training data size: 30000\n",
      "Collaborator two's validation data size: 5000\n",
      "\n"
     ]
    }
   ],
   "source": [
    "#Original MNIST dataset\n",
    "print(f'Original training data size: {len(train_images)}')\n",
    "print(f'Original validation data size: {len(valid_images)}\\n')\n",
    "\n",
    "#Collaborator one's data\n",
    "print(f'Collaborator one\\'s training data size: {len(collaborator_models[0].data_loader.X_train)}')\n",
    "print(f'Collaborator one\\'s validation data size: {len(collaborator_models[0].data_loader.X_valid)}\\n')\n",
    "\n",
    "#Collaborator two's data\n",
    "print(f'Collaborator two\\'s training data size: {len(collaborator_models[1].data_loader.X_train)}')\n",
    "print(f'Collaborator two\\'s validation data size: {len(collaborator_models[1].data_loader.X_valid)}\\n')\n",
    "\n",
    "#Collaborator three's data\n",
    "#print(f'Collaborator three\\'s training data size: {len(collaborator_models[2].data_loader.X_train)}')\n",
    "#print(f'Collaborator three\\'s validation data size: {len(collaborator_models[2].data_loader.X_valid)}')"
   ]
  },
  {
   "cell_type": "markdown",
   "metadata": {},
   "source": [
    "We can see the current plan values by running the `fx.get_plan()` function"
   ]
  },
  {
   "cell_type": "code",
   "execution_count": 9,
   "metadata": {},
   "outputs": [
    {
     "name": "stdout",
     "output_type": "stream",
     "text": [
      "{\n",
      "    \"aggregator.settings.best_state_path\": \"save/torch_cnn_mnist_best.pbuf\",\n",
      "    \"aggregator.settings.db_store_rounds\": 1,\n",
      "    \"aggregator.settings.init_state_path\": \"save/torch_cnn_mnist_init.pbuf\",\n",
      "    \"aggregator.settings.last_state_path\": \"save/torch_cnn_mnist_last.pbuf\",\n",
      "    \"aggregator.settings.metric_log\": true,\n",
      "    \"aggregator.settings.rounds_to_train\": 10,\n",
      "    \"aggregator.settings.tensor_board\": true,\n",
      "    \"aggregator.template\": \"openfl.component.Aggregator\",\n",
      "    \"assigner.settings.task_groups\": [\n",
      "        {\n",
      "            \"name\": \"train_and_validate\",\n",
      "            \"percentage\": 1.0,\n",
      "            \"tasks\": [\n",
      "                \"aggregated_model_validation\",\n",
      "                \"train\",\n",
      "                \"locally_tuned_model_validation\"\n",
      "            ]\n",
      "        }\n",
      "    ],\n",
      "    \"assigner.template\": \"openfl.component.RandomGroupedAssigner\",\n",
      "    \"collaborator.settings.db_store_rounds\": 1,\n",
      "    \"collaborator.settings.delta_updates\": false,\n",
      "    \"collaborator.settings.opt_treatment\": \"RESET\",\n",
      "    \"collaborator.template\": \"openfl.component.Collaborator\",\n",
      "    \"compression_pipeline.settings\": {},\n",
      "    \"compression_pipeline.template\": \"openfl.pipelines.NoCompressionPipeline\",\n",
      "    \"data_loader.settings.batch_size\": 256,\n",
      "    \"data_loader.settings.collaborator_count\": 2,\n",
      "    \"data_loader.settings.data_group_name\": \"mnist\",\n",
      "    \"data_loader.template\": \"code.ptmnist_inmemory.PyTorchMNISTInMemory\",\n",
      "    \"network.settings.agg_addr\": \"auto\",\n",
      "    \"network.settings.agg_port\": \"auto\",\n",
      "    \"network.settings.cert_folder\": \"cert\",\n",
      "    \"network.settings.client_reconnect_interval\": 5,\n",
      "    \"network.settings.disable_client_auth\": false,\n",
      "    \"network.settings.disable_tls\": false,\n",
      "    \"network.settings.hash_salt\": \"auto\",\n",
      "    \"network.template\": \"openfl.federation.Network\",\n",
      "    \"task_runner.settings\": {},\n",
      "    \"task_runner.template\": \"code.pt_cnn.PyTorchCNN\",\n",
      "    \"tasks.aggregated_model_validation.function\": \"validate\",\n",
      "    \"tasks.aggregated_model_validation.kwargs\": {\n",
      "        \"apply\": \"global\",\n",
      "        \"metrics\": [\n",
      "            \"acc\"\n",
      "        ]\n",
      "    },\n",
      "    \"tasks.locally_tuned_model_validation.function\": \"validate\",\n",
      "    \"tasks.locally_tuned_model_validation.kwargs\": {\n",
      "        \"apply\": \"local\",\n",
      "        \"metrics\": [\n",
      "            \"acc\"\n",
      "        ]\n",
      "    },\n",
      "    \"tasks.settings\": {},\n",
      "    \"tasks.train.function\": \"train_batches\",\n",
      "    \"tasks.train.kwargs\": {\n",
      "        \"metrics\": [\n",
      "            \"loss\"\n",
      "        ]\n",
      "    }\n",
      "}\n"
     ]
    }
   ],
   "source": [
    " #Get the current values of the plan. Each of these can be overridden\n",
    "print(fx.get_plan())"
   ]
  },
  {
   "cell_type": "markdown",
   "metadata": {},
   "source": [
    "Now we are ready to run our experiment. If we want to pass in custom plan settings, we can easily do that with the `override_config` parameter"
   ]
  },
  {
   "cell_type": "code",
   "execution_count": 10,
   "metadata": {
    "scrolled": false
   },
   "outputs": [
    {
     "name": "stderr",
     "output_type": "stream",
     "text": [
      "/home/radionov/.envs/old_api_fixes/lib/python3.6/site-packages/openfl/federated/task/runner_pt.py:276: UserWarning: The given NumPy array is not writeable, and PyTorch does not support non-writeable tensors. This means you can write to the underlying (supposedly non-writeable) NumPy array using the tensor. You may want to copy the array to protect its data or make it writeable before converting it to a tensor. This type of warning will be suppressed for the rest of this program. (Triggered internally at  /pytorch/torch/csrc/utils/tensor_numpy.cpp:143.)\n",
      "  new_state[k] = pt.from_numpy(tensor_dict.pop(k)).to(device)\n",
      "/home/radionov/.envs/old_api_fixes/lib/python3.6/site-packages/openfl/federated/task/runner_pt.py:101: UserWarning: To copy construct from a tensor, it is recommended to use sourceTensor.clone().detach() or sourceTensor.clone().detach().requires_grad_(True), rather than torch.tensor(sourceTensor).\n",
      "  data, target = pt.tensor(data).to(self.device), pt.tensor(\n"
     ]
    },
    {
     "data": {
      "text/html": [
       "<pre style=\"white-space:pre;overflow-x:auto;line-height:normal;font-family:Menlo,'DejaVu Sans Mono',consolas,'Courier New',monospace\"><span style=\"color: #7fbfbf\">[13:26:57] </span>METRIC   Collaborator one is sending metric for task aggregated_model_validation, round number <span style=\"color: #000080; font-weight: bold\">0</span>: acc    <span style=\"color: #000080; font-weight: bold\">0.1208</span>                   <a href=\"file:///home/radionov/.envs/old_api_fixes/lib/python3.6/site-packages/openfl/component/collaborator/collaborator.py\"><span style=\"color: #7f7f7f\">collaborator.py</span></a><span style=\"color: #7f7f7f\">:382</span>\n",
       "</pre>\n"
      ],
      "text/plain": [
       "<rich.jupyter.JupyterRenderable at 0x7f17a9c4edd8>"
      ]
     },
     "metadata": {},
     "output_type": "display_data"
    },
    {
     "name": "stderr",
     "output_type": "stream",
     "text": [
      "/home/radionov/.envs/old_api_fixes/lib/python3.6/site-packages/openfl/federated/task/runner_pt.py:452: UserWarning: To copy construct from a tensor, it is recommended to use sourceTensor.clone().detach() or sourceTensor.clone().detach().requires_grad_(True), rather than torch.tensor(sourceTensor).\n",
      "  data, target = pt.tensor(data).to(self.device), pt.tensor(\n"
     ]
    },
    {
     "data": {
      "text/html": [
       "<pre style=\"white-space:pre;overflow-x:auto;line-height:normal;font-family:Menlo,'DejaVu Sans Mono',consolas,'Courier New',monospace\"><span style=\"color: #7fbfbf\">[13:27:02] </span>METRIC   Collaborator one is sending metric for task train, round number <span style=\"color: #000080; font-weight: bold\">0</span>: cross_entropy        <span style=\"color: #000080; font-weight: bold\">0.49269649386405945</span>              <a href=\"file:///home/radionov/.envs/old_api_fixes/lib/python3.6/site-packages/openfl/component/collaborator/collaborator.py\"><span style=\"color: #7f7f7f\">collaborator.py</span></a><span style=\"color: #7f7f7f\">:382</span>\n",
       "</pre>\n"
      ],
      "text/plain": [
       "<rich.jupyter.JupyterRenderable at 0x7f1604ec96d8>"
      ]
     },
     "metadata": {},
     "output_type": "display_data"
    },
    {
     "data": {
      "text/html": [
       "<pre style=\"white-space:pre;overflow-x:auto;line-height:normal;font-family:Menlo,'DejaVu Sans Mono',consolas,'Courier New',monospace\"><span style=\"color: #7fbfbf\">           </span>METRIC   Collaborator one is sending metric for task locally_tuned_model_validation, round number <span style=\"color: #000080; font-weight: bold\">0</span>: acc <span style=\"color: #000080; font-weight: bold\">0.9562</span>                   <a href=\"file:///home/radionov/.envs/old_api_fixes/lib/python3.6/site-packages/openfl/component/collaborator/collaborator.py\"><span style=\"color: #7f7f7f\">collaborator.py</span></a><span style=\"color: #7f7f7f\">:382</span>\n",
       "</pre>\n"
      ],
      "text/plain": [
       "<rich.jupyter.JupyterRenderable at 0x7f1604ec9a58>"
      ]
     },
     "metadata": {},
     "output_type": "display_data"
    },
    {
     "data": {
      "text/html": [
       "<pre style=\"white-space:pre;overflow-x:auto;line-height:normal;font-family:Menlo,'DejaVu Sans Mono',consolas,'Courier New',monospace\"><span style=\"color: #7fbfbf\">           </span>METRIC   Collaborator two is sending metric for task aggregated_model_validation, round number <span style=\"color: #000080; font-weight: bold\">0</span>: acc    <span style=\"color: #000080; font-weight: bold\">0.1208</span>                   <a href=\"file:///home/radionov/.envs/old_api_fixes/lib/python3.6/site-packages/openfl/component/collaborator/collaborator.py\"><span style=\"color: #7f7f7f\">collaborator.py</span></a><span style=\"color: #7f7f7f\">:382</span>\n",
       "</pre>\n"
      ],
      "text/plain": [
       "<rich.jupyter.JupyterRenderable at 0x7f1604469e80>"
      ]
     },
     "metadata": {},
     "output_type": "display_data"
    },
    {
     "data": {
      "text/html": [
       "<pre style=\"white-space:pre;overflow-x:auto;line-height:normal;font-family:Menlo,'DejaVu Sans Mono',consolas,'Courier New',monospace\"><span style=\"color: #7fbfbf\">[13:27:06] </span>METRIC   Collaborator two is sending metric for task train, round number <span style=\"color: #000080; font-weight: bold\">0</span>: cross_entropy        <span style=\"color: #000080; font-weight: bold\">0.5016754865646362</span>               <a href=\"file:///home/radionov/.envs/old_api_fixes/lib/python3.6/site-packages/openfl/component/collaborator/collaborator.py\"><span style=\"color: #7f7f7f\">collaborator.py</span></a><span style=\"color: #7f7f7f\">:382</span>\n",
       "</pre>\n"
      ],
      "text/plain": [
       "<rich.jupyter.JupyterRenderable at 0x7f1604475240>"
      ]
     },
     "metadata": {},
     "output_type": "display_data"
    },
    {
     "data": {
      "text/html": [
       "<pre style=\"white-space:pre;overflow-x:auto;line-height:normal;font-family:Menlo,'DejaVu Sans Mono',consolas,'Courier New',monospace\"><span style=\"color: #7fbfbf\">           </span>METRIC   Collaborator two is sending metric for task locally_tuned_model_validation, round number <span style=\"color: #000080; font-weight: bold\">0</span>: acc <span style=\"color: #000080; font-weight: bold\">0.9508</span>                   <a href=\"file:///home/radionov/.envs/old_api_fixes/lib/python3.6/site-packages/openfl/component/collaborator/collaborator.py\"><span style=\"color: #7f7f7f\">collaborator.py</span></a><span style=\"color: #7f7f7f\">:382</span>\n",
       "</pre>\n"
      ],
      "text/plain": [
       "<rich.jupyter.JupyterRenderable at 0x7f1604ec9320>"
      ]
     },
     "metadata": {},
     "output_type": "display_data"
    },
    {
     "data": {
      "text/html": [
       "<pre style=\"white-space:pre;overflow-x:auto;line-height:normal;font-family:Menlo,'DejaVu Sans Mono',consolas,'Courier New',monospace\"><span style=\"color: #7fbfbf\">           </span>METRIC   Aggregator, round <span style=\"color: #000080; font-weight: bold\">0</span> aggregated_model_validation acc:    <span style=\"color: #000080; font-weight: bold\">0.1208</span>                                                             <a href=\"file:///home/radionov/.envs/old_api_fixes/lib/python3.6/site-packages/openfl/component/aggregator/aggregator.py\"><span style=\"color: #7f7f7f\">aggregator.py</span></a><span style=\"color: #7f7f7f\">:779</span>\n",
       "</pre>\n"
      ],
      "text/plain": [
       "<rich.jupyter.JupyterRenderable at 0x7f1604ee7b70>"
      ]
     },
     "metadata": {},
     "output_type": "display_data"
    },
    {
     "data": {
      "text/html": [
       "<pre style=\"white-space:pre;overflow-x:auto;line-height:normal;font-family:Menlo,'DejaVu Sans Mono',consolas,'Courier New',monospace\"><span style=\"color: #7fbfbf\">           </span>METRIC   Saved the best model with score <span style=\"color: #000080; font-weight: bold\">0.120800</span>                                                                                   <a href=\"file:///home/radionov/.envs/old_api_fixes/lib/python3.6/site-packages/openfl/component/aggregator/aggregator.py\"><span style=\"color: #7f7f7f\">aggregator.py</span></a><span style=\"color: #7f7f7f\">:789</span>\n",
       "</pre>\n"
      ],
      "text/plain": [
       "<rich.jupyter.JupyterRenderable at 0x7f1604475320>"
      ]
     },
     "metadata": {},
     "output_type": "display_data"
    },
    {
     "data": {
      "text/html": [
       "<pre style=\"white-space:pre;overflow-x:auto;line-height:normal;font-family:Menlo,'DejaVu Sans Mono',consolas,'Courier New',monospace\"><span style=\"color: #7fbfbf\">           </span>METRIC   Aggregator, round <span style=\"color: #000080; font-weight: bold\">0</span> locally_tuned_model_validation acc: <span style=\"color: #000080; font-weight: bold\">0.9535</span>                                                             <a href=\"file:///home/radionov/.envs/old_api_fixes/lib/python3.6/site-packages/openfl/component/aggregator/aggregator.py\"><span style=\"color: #7f7f7f\">aggregator.py</span></a><span style=\"color: #7f7f7f\">:779</span>\n",
       "</pre>\n"
      ],
      "text/plain": [
       "<rich.jupyter.JupyterRenderable at 0x7f1604475550>"
      ]
     },
     "metadata": {},
     "output_type": "display_data"
    },
    {
     "data": {
      "text/html": [
       "<pre style=\"white-space:pre;overflow-x:auto;line-height:normal;font-family:Menlo,'DejaVu Sans Mono',consolas,'Courier New',monospace\"><span style=\"color: #7fbfbf\">           </span>METRIC   Aggregator, round <span style=\"color: #000080; font-weight: bold\">0</span> train cross_entropy:        <span style=\"color: #000080; font-weight: bold\">0.4972</span>                                                                     <a href=\"file:///home/radionov/.envs/old_api_fixes/lib/python3.6/site-packages/openfl/component/aggregator/aggregator.py\"><span style=\"color: #7f7f7f\">aggregator.py</span></a><span style=\"color: #7f7f7f\">:779</span>\n",
       "</pre>\n"
      ],
      "text/plain": [
       "<rich.jupyter.JupyterRenderable at 0x7f1604475470>"
      ]
     },
     "metadata": {},
     "output_type": "display_data"
    },
    {
     "data": {
      "text/html": [
       "<pre style=\"white-space:pre;overflow-x:auto;line-height:normal;font-family:Menlo,'DejaVu Sans Mono',consolas,'Courier New',monospace\"><span style=\"color: #7fbfbf\">           </span>METRIC   Collaborator one is sending metric for task aggregated_model_validation, round number <span style=\"color: #000080; font-weight: bold\">1</span>: acc    <span style=\"color: #000080; font-weight: bold\">0.9556</span>                   <a href=\"file:///home/radionov/.envs/old_api_fixes/lib/python3.6/site-packages/openfl/component/collaborator/collaborator.py\"><span style=\"color: #7f7f7f\">collaborator.py</span></a><span style=\"color: #7f7f7f\">:382</span>\n",
       "</pre>\n"
      ],
      "text/plain": [
       "<rich.jupyter.JupyterRenderable at 0x7f1604473f60>"
      ]
     },
     "metadata": {},
     "output_type": "display_data"
    },
    {
     "data": {
      "text/html": [
       "<pre style=\"white-space:pre;overflow-x:auto;line-height:normal;font-family:Menlo,'DejaVu Sans Mono',consolas,'Courier New',monospace\"><span style=\"color: #7fbfbf\">[13:27:10] </span>METRIC   Collaborator one is sending metric for task train, round number <span style=\"color: #000080; font-weight: bold\">1</span>: cross_entropy        <span style=\"color: #000080; font-weight: bold\">0.14202682673931122</span>              <a href=\"file:///home/radionov/.envs/old_api_fixes/lib/python3.6/site-packages/openfl/component/collaborator/collaborator.py\"><span style=\"color: #7f7f7f\">collaborator.py</span></a><span style=\"color: #7f7f7f\">:382</span>\n",
       "</pre>\n"
      ],
      "text/plain": [
       "<rich.jupyter.JupyterRenderable at 0x7f160448e240>"
      ]
     },
     "metadata": {},
     "output_type": "display_data"
    },
    {
     "data": {
      "text/html": [
       "<pre style=\"white-space:pre;overflow-x:auto;line-height:normal;font-family:Menlo,'DejaVu Sans Mono',consolas,'Courier New',monospace\"><span style=\"color: #7fbfbf\">           </span>METRIC   Collaborator one is sending metric for task locally_tuned_model_validation, round number <span style=\"color: #000080; font-weight: bold\">1</span>: acc <span style=\"color: #000080; font-weight: bold\">0.9624</span>                   <a href=\"file:///home/radionov/.envs/old_api_fixes/lib/python3.6/site-packages/openfl/component/collaborator/collaborator.py\"><span style=\"color: #7f7f7f\">collaborator.py</span></a><span style=\"color: #7f7f7f\">:382</span>\n",
       "</pre>\n"
      ],
      "text/plain": [
       "<rich.jupyter.JupyterRenderable at 0x7f160448e320>"
      ]
     },
     "metadata": {},
     "output_type": "display_data"
    },
    {
     "data": {
      "text/html": [
       "<pre style=\"white-space:pre;overflow-x:auto;line-height:normal;font-family:Menlo,'DejaVu Sans Mono',consolas,'Courier New',monospace\"><span style=\"color: #7fbfbf\">           </span>METRIC   Collaborator two is sending metric for task aggregated_model_validation, round number <span style=\"color: #000080; font-weight: bold\">1</span>: acc    <span style=\"color: #000080; font-weight: bold\">0.9532</span>                   <a href=\"file:///home/radionov/.envs/old_api_fixes/lib/python3.6/site-packages/openfl/component/collaborator/collaborator.py\"><span style=\"color: #7f7f7f\">collaborator.py</span></a><span style=\"color: #7f7f7f\">:382</span>\n",
       "</pre>\n"
      ],
      "text/plain": [
       "<rich.jupyter.JupyterRenderable at 0x7f1604ee7630>"
      ]
     },
     "metadata": {},
     "output_type": "display_data"
    },
    {
     "data": {
      "text/html": [
       "<pre style=\"white-space:pre;overflow-x:auto;line-height:normal;font-family:Menlo,'DejaVu Sans Mono',consolas,'Courier New',monospace\"><span style=\"color: #7fbfbf\">[13:27:15] </span>METRIC   Collaborator two is sending metric for task train, round number <span style=\"color: #000080; font-weight: bold\">1</span>: cross_entropy        <span style=\"color: #000080; font-weight: bold\">0.13811413943767548</span>              <a href=\"file:///home/radionov/.envs/old_api_fixes/lib/python3.6/site-packages/openfl/component/collaborator/collaborator.py\"><span style=\"color: #7f7f7f\">collaborator.py</span></a><span style=\"color: #7f7f7f\">:382</span>\n",
       "</pre>\n"
      ],
      "text/plain": [
       "<rich.jupyter.JupyterRenderable at 0x7f1604473b38>"
      ]
     },
     "metadata": {},
     "output_type": "display_data"
    },
    {
     "data": {
      "text/html": [
       "<pre style=\"white-space:pre;overflow-x:auto;line-height:normal;font-family:Menlo,'DejaVu Sans Mono',consolas,'Courier New',monospace\"><span style=\"color: #7fbfbf\">           </span>METRIC   Collaborator two is sending metric for task locally_tuned_model_validation, round number <span style=\"color: #000080; font-weight: bold\">1</span>: acc <span style=\"color: #000080; font-weight: bold\">0.9668</span>                   <a href=\"file:///home/radionov/.envs/old_api_fixes/lib/python3.6/site-packages/openfl/component/collaborator/collaborator.py\"><span style=\"color: #7f7f7f\">collaborator.py</span></a><span style=\"color: #7f7f7f\">:382</span>\n",
       "</pre>\n"
      ],
      "text/plain": [
       "<rich.jupyter.JupyterRenderable at 0x7f1604473dd8>"
      ]
     },
     "metadata": {},
     "output_type": "display_data"
    },
    {
     "data": {
      "text/html": [
       "<pre style=\"white-space:pre;overflow-x:auto;line-height:normal;font-family:Menlo,'DejaVu Sans Mono',consolas,'Courier New',monospace\"><span style=\"color: #7fbfbf\">           </span>METRIC   Aggregator, round <span style=\"color: #000080; font-weight: bold\">1</span> aggregated_model_validation acc:    <span style=\"color: #000080; font-weight: bold\">0.9544</span>                                                             <a href=\"file:///home/radionov/.envs/old_api_fixes/lib/python3.6/site-packages/openfl/component/aggregator/aggregator.py\"><span style=\"color: #7f7f7f\">aggregator.py</span></a><span style=\"color: #7f7f7f\">:779</span>\n",
       "</pre>\n"
      ],
      "text/plain": [
       "<rich.jupyter.JupyterRenderable at 0x7f1604476898>"
      ]
     },
     "metadata": {},
     "output_type": "display_data"
    },
    {
     "data": {
      "text/html": [
       "<pre style=\"white-space:pre;overflow-x:auto;line-height:normal;font-family:Menlo,'DejaVu Sans Mono',consolas,'Courier New',monospace\"><span style=\"color: #7fbfbf\">           </span>METRIC   Saved the best model with score <span style=\"color: #000080; font-weight: bold\">0.954400</span>                                                                                   <a href=\"file:///home/radionov/.envs/old_api_fixes/lib/python3.6/site-packages/openfl/component/aggregator/aggregator.py\"><span style=\"color: #7f7f7f\">aggregator.py</span></a><span style=\"color: #7f7f7f\">:789</span>\n",
       "</pre>\n"
      ],
      "text/plain": [
       "<rich.jupyter.JupyterRenderable at 0x7f16044767f0>"
      ]
     },
     "metadata": {},
     "output_type": "display_data"
    },
    {
     "data": {
      "text/html": [
       "<pre style=\"white-space:pre;overflow-x:auto;line-height:normal;font-family:Menlo,'DejaVu Sans Mono',consolas,'Courier New',monospace\"><span style=\"color: #7fbfbf\">           </span>METRIC   Aggregator, round <span style=\"color: #000080; font-weight: bold\">1</span> locally_tuned_model_validation acc: <span style=\"color: #000080; font-weight: bold\">0.9646</span>                                                             <a href=\"file:///home/radionov/.envs/old_api_fixes/lib/python3.6/site-packages/openfl/component/aggregator/aggregator.py\"><span style=\"color: #7f7f7f\">aggregator.py</span></a><span style=\"color: #7f7f7f\">:779</span>\n",
       "</pre>\n"
      ],
      "text/plain": [
       "<rich.jupyter.JupyterRenderable at 0x7f1604476278>"
      ]
     },
     "metadata": {},
     "output_type": "display_data"
    },
    {
     "data": {
      "text/html": [
       "<pre style=\"white-space:pre;overflow-x:auto;line-height:normal;font-family:Menlo,'DejaVu Sans Mono',consolas,'Courier New',monospace\"><span style=\"color: #7fbfbf\">           </span>METRIC   Aggregator, round <span style=\"color: #000080; font-weight: bold\">1</span> train cross_entropy:        <span style=\"color: #000080; font-weight: bold\">0.1401</span>                                                                     <a href=\"file:///home/radionov/.envs/old_api_fixes/lib/python3.6/site-packages/openfl/component/aggregator/aggregator.py\"><span style=\"color: #7f7f7f\">aggregator.py</span></a><span style=\"color: #7f7f7f\">:779</span>\n",
       "</pre>\n"
      ],
      "text/plain": [
       "<rich.jupyter.JupyterRenderable at 0x7f1604476668>"
      ]
     },
     "metadata": {},
     "output_type": "display_data"
    },
    {
     "data": {
      "text/html": [
       "<pre style=\"white-space:pre;overflow-x:auto;line-height:normal;font-family:Menlo,'DejaVu Sans Mono',consolas,'Courier New',monospace\"><span style=\"color: #7fbfbf\">           </span>METRIC   Collaborator one is sending metric for task aggregated_model_validation, round number <span style=\"color: #000080; font-weight: bold\">2</span>: acc    <span style=\"color: #000080; font-weight: bold\">0.9674</span>                   <a href=\"file:///home/radionov/.envs/old_api_fixes/lib/python3.6/site-packages/openfl/component/collaborator/collaborator.py\"><span style=\"color: #7f7f7f\">collaborator.py</span></a><span style=\"color: #7f7f7f\">:382</span>\n",
       "</pre>\n"
      ],
      "text/plain": [
       "<rich.jupyter.JupyterRenderable at 0x7f1604476f28>"
      ]
     },
     "metadata": {},
     "output_type": "display_data"
    },
    {
     "data": {
      "text/html": [
       "<pre style=\"white-space:pre;overflow-x:auto;line-height:normal;font-family:Menlo,'DejaVu Sans Mono',consolas,'Courier New',monospace\"><span style=\"color: #7fbfbf\">[13:27:19] </span>METRIC   Collaborator one is sending metric for task train, round number <span style=\"color: #000080; font-weight: bold\">2</span>: cross_entropy        <span style=\"color: #000080; font-weight: bold\">0.09644493460655212</span>              <a href=\"file:///home/radionov/.envs/old_api_fixes/lib/python3.6/site-packages/openfl/component/collaborator/collaborator.py\"><span style=\"color: #7f7f7f\">collaborator.py</span></a><span style=\"color: #7f7f7f\">:382</span>\n",
       "</pre>\n"
      ],
      "text/plain": [
       "<rich.jupyter.JupyterRenderable at 0x7f160442d1d0>"
      ]
     },
     "metadata": {},
     "output_type": "display_data"
    },
    {
     "data": {
      "text/html": [
       "<pre style=\"white-space:pre;overflow-x:auto;line-height:normal;font-family:Menlo,'DejaVu Sans Mono',consolas,'Courier New',monospace\"><span style=\"color: #7fbfbf\">           </span>METRIC   Collaborator one is sending metric for task locally_tuned_model_validation, round number <span style=\"color: #000080; font-weight: bold\">2</span>: acc <span style=\"color: #000080; font-weight: bold\">0.9764</span>                   <a href=\"file:///home/radionov/.envs/old_api_fixes/lib/python3.6/site-packages/openfl/component/collaborator/collaborator.py\"><span style=\"color: #7f7f7f\">collaborator.py</span></a><span style=\"color: #7f7f7f\">:382</span>\n",
       "</pre>\n"
      ],
      "text/plain": [
       "<rich.jupyter.JupyterRenderable at 0x7f1604ec9320>"
      ]
     },
     "metadata": {},
     "output_type": "display_data"
    },
    {
     "data": {
      "text/html": [
       "<pre style=\"white-space:pre;overflow-x:auto;line-height:normal;font-family:Menlo,'DejaVu Sans Mono',consolas,'Courier New',monospace\"><span style=\"color: #7fbfbf\">           </span>METRIC   Collaborator two is sending metric for task aggregated_model_validation, round number <span style=\"color: #000080; font-weight: bold\">2</span>: acc    <span style=\"color: #000080; font-weight: bold\">0.9644</span>                   <a href=\"file:///home/radionov/.envs/old_api_fixes/lib/python3.6/site-packages/openfl/component/collaborator/collaborator.py\"><span style=\"color: #7f7f7f\">collaborator.py</span></a><span style=\"color: #7f7f7f\">:382</span>\n",
       "</pre>\n"
      ],
      "text/plain": [
       "<rich.jupyter.JupyterRenderable at 0x7f160442d320>"
      ]
     },
     "metadata": {},
     "output_type": "display_data"
    },
    {
     "data": {
      "text/html": [
       "<pre style=\"white-space:pre;overflow-x:auto;line-height:normal;font-family:Menlo,'DejaVu Sans Mono',consolas,'Courier New',monospace\"><span style=\"color: #7fbfbf\">[13:27:23] </span>METRIC   Collaborator two is sending metric for task train, round number <span style=\"color: #000080; font-weight: bold\">2</span>: cross_entropy        <span style=\"color: #000080; font-weight: bold\">0.09445426613092422</span>              <a href=\"file:///home/radionov/.envs/old_api_fixes/lib/python3.6/site-packages/openfl/component/collaborator/collaborator.py\"><span style=\"color: #7f7f7f\">collaborator.py</span></a><span style=\"color: #7f7f7f\">:382</span>\n",
       "</pre>\n"
      ],
      "text/plain": [
       "<rich.jupyter.JupyterRenderable at 0x7f1604473dd8>"
      ]
     },
     "metadata": {},
     "output_type": "display_data"
    },
    {
     "data": {
      "text/html": [
       "<pre style=\"white-space:pre;overflow-x:auto;line-height:normal;font-family:Menlo,'DejaVu Sans Mono',consolas,'Courier New',monospace\"><span style=\"color: #7fbfbf\">[13:27:24] </span>METRIC   Collaborator two is sending metric for task locally_tuned_model_validation, round number <span style=\"color: #000080; font-weight: bold\">2</span>: acc <span style=\"color: #000080; font-weight: bold\">0.9754</span>                   <a href=\"file:///home/radionov/.envs/old_api_fixes/lib/python3.6/site-packages/openfl/component/collaborator/collaborator.py\"><span style=\"color: #7f7f7f\">collaborator.py</span></a><span style=\"color: #7f7f7f\">:382</span>\n",
       "</pre>\n"
      ],
      "text/plain": [
       "<rich.jupyter.JupyterRenderable at 0x7f1604476f28>"
      ]
     },
     "metadata": {},
     "output_type": "display_data"
    },
    {
     "data": {
      "text/html": [
       "<pre style=\"white-space:pre;overflow-x:auto;line-height:normal;font-family:Menlo,'DejaVu Sans Mono',consolas,'Courier New',monospace\"><span style=\"color: #7fbfbf\">           </span>METRIC   Aggregator, round <span style=\"color: #000080; font-weight: bold\">2</span> aggregated_model_validation acc:    <span style=\"color: #000080; font-weight: bold\">0.9659</span>                                                             <a href=\"file:///home/radionov/.envs/old_api_fixes/lib/python3.6/site-packages/openfl/component/aggregator/aggregator.py\"><span style=\"color: #7f7f7f\">aggregator.py</span></a><span style=\"color: #7f7f7f\">:779</span>\n",
       "</pre>\n"
      ],
      "text/plain": [
       "<rich.jupyter.JupyterRenderable at 0x7f1604438630>"
      ]
     },
     "metadata": {},
     "output_type": "display_data"
    },
    {
     "data": {
      "text/html": [
       "<pre style=\"white-space:pre;overflow-x:auto;line-height:normal;font-family:Menlo,'DejaVu Sans Mono',consolas,'Courier New',monospace\"><span style=\"color: #7fbfbf\">           </span>METRIC   Saved the best model with score <span style=\"color: #000080; font-weight: bold\">0.965900</span>                                                                                   <a href=\"file:///home/radionov/.envs/old_api_fixes/lib/python3.6/site-packages/openfl/component/aggregator/aggregator.py\"><span style=\"color: #7f7f7f\">aggregator.py</span></a><span style=\"color: #7f7f7f\">:789</span>\n",
       "</pre>\n"
      ],
      "text/plain": [
       "<rich.jupyter.JupyterRenderable at 0x7f16044382e8>"
      ]
     },
     "metadata": {},
     "output_type": "display_data"
    },
    {
     "data": {
      "text/html": [
       "<pre style=\"white-space:pre;overflow-x:auto;line-height:normal;font-family:Menlo,'DejaVu Sans Mono',consolas,'Courier New',monospace\"><span style=\"color: #7fbfbf\">           </span>METRIC   Aggregator, round <span style=\"color: #000080; font-weight: bold\">2</span> locally_tuned_model_validation acc: <span style=\"color: #000080; font-weight: bold\">0.9759</span>                                                             <a href=\"file:///home/radionov/.envs/old_api_fixes/lib/python3.6/site-packages/openfl/component/aggregator/aggregator.py\"><span style=\"color: #7f7f7f\">aggregator.py</span></a><span style=\"color: #7f7f7f\">:779</span>\n",
       "</pre>\n"
      ],
      "text/plain": [
       "<rich.jupyter.JupyterRenderable at 0x7f1604438940>"
      ]
     },
     "metadata": {},
     "output_type": "display_data"
    },
    {
     "data": {
      "text/html": [
       "<pre style=\"white-space:pre;overflow-x:auto;line-height:normal;font-family:Menlo,'DejaVu Sans Mono',consolas,'Courier New',monospace\"><span style=\"color: #7fbfbf\">           </span>METRIC   Aggregator, round <span style=\"color: #000080; font-weight: bold\">2</span> train cross_entropy:        <span style=\"color: #000080; font-weight: bold\">0.0954</span>                                                                     <a href=\"file:///home/radionov/.envs/old_api_fixes/lib/python3.6/site-packages/openfl/component/aggregator/aggregator.py\"><span style=\"color: #7f7f7f\">aggregator.py</span></a><span style=\"color: #7f7f7f\">:779</span>\n",
       "</pre>\n"
      ],
      "text/plain": [
       "<rich.jupyter.JupyterRenderable at 0x7f1604476dd8>"
      ]
     },
     "metadata": {},
     "output_type": "display_data"
    },
    {
     "data": {
      "text/html": [
       "<pre style=\"white-space:pre;overflow-x:auto;line-height:normal;font-family:Menlo,'DejaVu Sans Mono',consolas,'Courier New',monospace\"><span style=\"color: #7fbfbf\">           </span>METRIC   Collaborator one is sending metric for task aggregated_model_validation, round number <span style=\"color: #000080; font-weight: bold\">3</span>: acc    <span style=\"color: #000080; font-weight: bold\">0.9798</span>                   <a href=\"file:///home/radionov/.envs/old_api_fixes/lib/python3.6/site-packages/openfl/component/collaborator/collaborator.py\"><span style=\"color: #7f7f7f\">collaborator.py</span></a><span style=\"color: #7f7f7f\">:382</span>\n",
       "</pre>\n"
      ],
      "text/plain": [
       "<rich.jupyter.JupyterRenderable at 0x7f16044387f0>"
      ]
     },
     "metadata": {},
     "output_type": "display_data"
    },
    {
     "data": {
      "text/html": [
       "<pre style=\"white-space:pre;overflow-x:auto;line-height:normal;font-family:Menlo,'DejaVu Sans Mono',consolas,'Courier New',monospace\"><span style=\"color: #7fbfbf\">[13:27:28] </span>METRIC   Collaborator one is sending metric for task train, round number <span style=\"color: #000080; font-weight: bold\">3</span>: cross_entropy        <span style=\"color: #000080; font-weight: bold\">0.07487713545560837</span>              <a href=\"file:///home/radionov/.envs/old_api_fixes/lib/python3.6/site-packages/openfl/component/collaborator/collaborator.py\"><span style=\"color: #7f7f7f\">collaborator.py</span></a><span style=\"color: #7f7f7f\">:382</span>\n",
       "</pre>\n"
      ],
      "text/plain": [
       "<rich.jupyter.JupyterRenderable at 0x7f1604475438>"
      ]
     },
     "metadata": {},
     "output_type": "display_data"
    },
    {
     "data": {
      "text/html": [
       "<pre style=\"white-space:pre;overflow-x:auto;line-height:normal;font-family:Menlo,'DejaVu Sans Mono',consolas,'Courier New',monospace\"><span style=\"color: #7fbfbf\">           </span>METRIC   Collaborator one is sending metric for task locally_tuned_model_validation, round number <span style=\"color: #000080; font-weight: bold\">3</span>: acc <span style=\"color: #000080; font-weight: bold\">0.9788</span>                   <a href=\"file:///home/radionov/.envs/old_api_fixes/lib/python3.6/site-packages/openfl/component/collaborator/collaborator.py\"><span style=\"color: #7f7f7f\">collaborator.py</span></a><span style=\"color: #7f7f7f\">:382</span>\n",
       "</pre>\n"
      ],
      "text/plain": [
       "<rich.jupyter.JupyterRenderable at 0x7f1604438358>"
      ]
     },
     "metadata": {},
     "output_type": "display_data"
    },
    {
     "data": {
      "text/html": [
       "<pre style=\"white-space:pre;overflow-x:auto;line-height:normal;font-family:Menlo,'DejaVu Sans Mono',consolas,'Courier New',monospace\"><span style=\"color: #7fbfbf\">           </span>METRIC   Collaborator two is sending metric for task aggregated_model_validation, round number <span style=\"color: #000080; font-weight: bold\">3</span>: acc    <span style=\"color: #000080; font-weight: bold\">0.9788</span>                   <a href=\"file:///home/radionov/.envs/old_api_fixes/lib/python3.6/site-packages/openfl/component/collaborator/collaborator.py\"><span style=\"color: #7f7f7f\">collaborator.py</span></a><span style=\"color: #7f7f7f\">:382</span>\n",
       "</pre>\n"
      ],
      "text/plain": [
       "<rich.jupyter.JupyterRenderable at 0x7f16044257b8>"
      ]
     },
     "metadata": {},
     "output_type": "display_data"
    },
    {
     "data": {
      "text/html": [
       "<pre style=\"white-space:pre;overflow-x:auto;line-height:normal;font-family:Menlo,'DejaVu Sans Mono',consolas,'Courier New',monospace\"><span style=\"color: #7fbfbf\">[13:27:32] </span>METRIC   Collaborator two is sending metric for task train, round number <span style=\"color: #000080; font-weight: bold\">3</span>: cross_entropy        <span style=\"color: #000080; font-weight: bold\">0.07287652790546417</span>              <a href=\"file:///home/radionov/.envs/old_api_fixes/lib/python3.6/site-packages/openfl/component/collaborator/collaborator.py\"><span style=\"color: #7f7f7f\">collaborator.py</span></a><span style=\"color: #7f7f7f\">:382</span>\n",
       "</pre>\n"
      ],
      "text/plain": [
       "<rich.jupyter.JupyterRenderable at 0x7f16044252e8>"
      ]
     },
     "metadata": {},
     "output_type": "display_data"
    },
    {
     "data": {
      "text/html": [
       "<pre style=\"white-space:pre;overflow-x:auto;line-height:normal;font-family:Menlo,'DejaVu Sans Mono',consolas,'Courier New',monospace\"><span style=\"color: #7fbfbf\">           </span>METRIC   Collaborator two is sending metric for task locally_tuned_model_validation, round number <span style=\"color: #000080; font-weight: bold\">3</span>: acc <span style=\"color: #000080; font-weight: bold\">0.9802</span>                   <a href=\"file:///home/radionov/.envs/old_api_fixes/lib/python3.6/site-packages/openfl/component/collaborator/collaborator.py\"><span style=\"color: #7f7f7f\">collaborator.py</span></a><span style=\"color: #7f7f7f\">:382</span>\n",
       "</pre>\n"
      ],
      "text/plain": [
       "<rich.jupyter.JupyterRenderable at 0x7f1604438c50>"
      ]
     },
     "metadata": {},
     "output_type": "display_data"
    },
    {
     "data": {
      "text/html": [
       "<pre style=\"white-space:pre;overflow-x:auto;line-height:normal;font-family:Menlo,'DejaVu Sans Mono',consolas,'Courier New',monospace\"><span style=\"color: #7fbfbf\">           </span>METRIC   Aggregator, round <span style=\"color: #000080; font-weight: bold\">3</span> aggregated_model_validation acc:    <span style=\"color: #000080; font-weight: bold\">0.9793</span>                                                             <a href=\"file:///home/radionov/.envs/old_api_fixes/lib/python3.6/site-packages/openfl/component/aggregator/aggregator.py\"><span style=\"color: #7f7f7f\">aggregator.py</span></a><span style=\"color: #7f7f7f\">:779</span>\n",
       "</pre>\n"
      ],
      "text/plain": [
       "<rich.jupyter.JupyterRenderable at 0x7f1604425240>"
      ]
     },
     "metadata": {},
     "output_type": "display_data"
    },
    {
     "data": {
      "text/html": [
       "<pre style=\"white-space:pre;overflow-x:auto;line-height:normal;font-family:Menlo,'DejaVu Sans Mono',consolas,'Courier New',monospace\"><span style=\"color: #7fbfbf\">           </span>METRIC   Saved the best model with score <span style=\"color: #000080; font-weight: bold\">0.979300</span>                                                                                   <a href=\"file:///home/radionov/.envs/old_api_fixes/lib/python3.6/site-packages/openfl/component/aggregator/aggregator.py\"><span style=\"color: #7f7f7f\">aggregator.py</span></a><span style=\"color: #7f7f7f\">:789</span>\n",
       "</pre>\n"
      ],
      "text/plain": [
       "<rich.jupyter.JupyterRenderable at 0x7f1604425400>"
      ]
     },
     "metadata": {},
     "output_type": "display_data"
    },
    {
     "data": {
      "text/html": [
       "<pre style=\"white-space:pre;overflow-x:auto;line-height:normal;font-family:Menlo,'DejaVu Sans Mono',consolas,'Courier New',monospace\"><span style=\"color: #7fbfbf\">           </span>METRIC   Aggregator, round <span style=\"color: #000080; font-weight: bold\">3</span> locally_tuned_model_validation acc: <span style=\"color: #000080; font-weight: bold\">0.9795</span>                                                             <a href=\"file:///home/radionov/.envs/old_api_fixes/lib/python3.6/site-packages/openfl/component/aggregator/aggregator.py\"><span style=\"color: #7f7f7f\">aggregator.py</span></a><span style=\"color: #7f7f7f\">:779</span>\n",
       "</pre>\n"
      ],
      "text/plain": [
       "<rich.jupyter.JupyterRenderable at 0x7f1604425978>"
      ]
     },
     "metadata": {},
     "output_type": "display_data"
    },
    {
     "data": {
      "text/html": [
       "<pre style=\"white-space:pre;overflow-x:auto;line-height:normal;font-family:Menlo,'DejaVu Sans Mono',consolas,'Courier New',monospace\"><span style=\"color: #7fbfbf\">           </span>METRIC   Aggregator, round <span style=\"color: #000080; font-weight: bold\">3</span> train cross_entropy:        <span style=\"color: #000080; font-weight: bold\">0.0739</span>                                                                     <a href=\"file:///home/radionov/.envs/old_api_fixes/lib/python3.6/site-packages/openfl/component/aggregator/aggregator.py\"><span style=\"color: #7f7f7f\">aggregator.py</span></a><span style=\"color: #7f7f7f\">:779</span>\n",
       "</pre>\n"
      ],
      "text/plain": [
       "<rich.jupyter.JupyterRenderable at 0x7f1604425828>"
      ]
     },
     "metadata": {},
     "output_type": "display_data"
    },
    {
     "data": {
      "text/html": [
       "<pre style=\"white-space:pre;overflow-x:auto;line-height:normal;font-family:Menlo,'DejaVu Sans Mono',consolas,'Courier New',monospace\"><span style=\"color: #7fbfbf\">[13:27:33] </span>METRIC   Collaborator one is sending metric for task aggregated_model_validation, round number <span style=\"color: #000080; font-weight: bold\">4</span>: acc    <span style=\"color: #000080; font-weight: bold\">0.9814</span>                   <a href=\"file:///home/radionov/.envs/old_api_fixes/lib/python3.6/site-packages/openfl/component/collaborator/collaborator.py\"><span style=\"color: #7f7f7f\">collaborator.py</span></a><span style=\"color: #7f7f7f\">:382</span>\n",
       "</pre>\n"
      ],
      "text/plain": [
       "<rich.jupyter.JupyterRenderable at 0x7f1604431748>"
      ]
     },
     "metadata": {},
     "output_type": "display_data"
    },
    {
     "data": {
      "text/html": [
       "<pre style=\"white-space:pre;overflow-x:auto;line-height:normal;font-family:Menlo,'DejaVu Sans Mono',consolas,'Courier New',monospace\"><span style=\"color: #7fbfbf\">[13:27:37] </span>METRIC   Collaborator one is sending metric for task train, round number <span style=\"color: #000080; font-weight: bold\">4</span>: cross_entropy        <span style=\"color: #000080; font-weight: bold\">0.060961563140153885</span>             <a href=\"file:///home/radionov/.envs/old_api_fixes/lib/python3.6/site-packages/openfl/component/collaborator/collaborator.py\"><span style=\"color: #7f7f7f\">collaborator.py</span></a><span style=\"color: #7f7f7f\">:382</span>\n",
       "</pre>\n"
      ],
      "text/plain": [
       "<rich.jupyter.JupyterRenderable at 0x7f1604431588>"
      ]
     },
     "metadata": {},
     "output_type": "display_data"
    },
    {
     "data": {
      "text/html": [
       "<pre style=\"white-space:pre;overflow-x:auto;line-height:normal;font-family:Menlo,'DejaVu Sans Mono',consolas,'Courier New',monospace\"><span style=\"color: #7fbfbf\">           </span>METRIC   Collaborator one is sending metric for task locally_tuned_model_validation, round number <span style=\"color: #000080; font-weight: bold\">4</span>: acc <span style=\"color: #000080; font-weight: bold\">0.9812</span>                   <a href=\"file:///home/radionov/.envs/old_api_fixes/lib/python3.6/site-packages/openfl/component/collaborator/collaborator.py\"><span style=\"color: #7f7f7f\">collaborator.py</span></a><span style=\"color: #7f7f7f\">:382</span>\n",
       "</pre>\n"
      ],
      "text/plain": [
       "<rich.jupyter.JupyterRenderable at 0x7f16044257f0>"
      ]
     },
     "metadata": {},
     "output_type": "display_data"
    },
    {
     "data": {
      "text/html": [
       "<pre style=\"white-space:pre;overflow-x:auto;line-height:normal;font-family:Menlo,'DejaVu Sans Mono',consolas,'Courier New',monospace\"><span style=\"color: #7fbfbf\">           </span>METRIC   Collaborator two is sending metric for task aggregated_model_validation, round number <span style=\"color: #000080; font-weight: bold\">4</span>: acc    <span style=\"color: #000080; font-weight: bold\">0.9832</span>                   <a href=\"file:///home/radionov/.envs/old_api_fixes/lib/python3.6/site-packages/openfl/component/collaborator/collaborator.py\"><span style=\"color: #7f7f7f\">collaborator.py</span></a><span style=\"color: #7f7f7f\">:382</span>\n",
       "</pre>\n"
      ],
      "text/plain": [
       "<rich.jupyter.JupyterRenderable at 0x7f1604421080>"
      ]
     },
     "metadata": {},
     "output_type": "display_data"
    },
    {
     "data": {
      "text/html": [
       "<pre style=\"white-space:pre;overflow-x:auto;line-height:normal;font-family:Menlo,'DejaVu Sans Mono',consolas,'Courier New',monospace\"><span style=\"color: #7fbfbf\">[13:27:41] </span>METRIC   Collaborator two is sending metric for task train, round number <span style=\"color: #000080; font-weight: bold\">4</span>: cross_entropy        <span style=\"color: #000080; font-weight: bold\">0.06103095784783363</span>              <a href=\"file:///home/radionov/.envs/old_api_fixes/lib/python3.6/site-packages/openfl/component/collaborator/collaborator.py\"><span style=\"color: #7f7f7f\">collaborator.py</span></a><span style=\"color: #7f7f7f\">:382</span>\n",
       "</pre>\n"
      ],
      "text/plain": [
       "<rich.jupyter.JupyterRenderable at 0x7f16044211d0>"
      ]
     },
     "metadata": {},
     "output_type": "display_data"
    },
    {
     "data": {
      "text/html": [
       "<pre style=\"white-space:pre;overflow-x:auto;line-height:normal;font-family:Menlo,'DejaVu Sans Mono',consolas,'Courier New',monospace\"><span style=\"color: #7fbfbf\">[13:27:42] </span>METRIC   Collaborator two is sending metric for task locally_tuned_model_validation, round number <span style=\"color: #000080; font-weight: bold\">4</span>: acc <span style=\"color: #000080; font-weight: bold\">0.9842</span>                   <a href=\"file:///home/radionov/.envs/old_api_fixes/lib/python3.6/site-packages/openfl/component/collaborator/collaborator.py\"><span style=\"color: #7f7f7f\">collaborator.py</span></a><span style=\"color: #7f7f7f\">:382</span>\n",
       "</pre>\n"
      ],
      "text/plain": [
       "<rich.jupyter.JupyterRenderable at 0x7f16044210b8>"
      ]
     },
     "metadata": {},
     "output_type": "display_data"
    },
    {
     "data": {
      "text/html": [
       "<pre style=\"white-space:pre;overflow-x:auto;line-height:normal;font-family:Menlo,'DejaVu Sans Mono',consolas,'Courier New',monospace\"><span style=\"color: #7fbfbf\">           </span>METRIC   Aggregator, round <span style=\"color: #000080; font-weight: bold\">4</span> aggregated_model_validation acc:    <span style=\"color: #000080; font-weight: bold\">0.9823</span>                                                             <a href=\"file:///home/radionov/.envs/old_api_fixes/lib/python3.6/site-packages/openfl/component/aggregator/aggregator.py\"><span style=\"color: #7f7f7f\">aggregator.py</span></a><span style=\"color: #7f7f7f\">:779</span>\n",
       "</pre>\n"
      ],
      "text/plain": [
       "<rich.jupyter.JupyterRenderable at 0x7f16044310b8>"
      ]
     },
     "metadata": {},
     "output_type": "display_data"
    },
    {
     "data": {
      "text/html": [
       "<pre style=\"white-space:pre;overflow-x:auto;line-height:normal;font-family:Menlo,'DejaVu Sans Mono',consolas,'Courier New',monospace\"><span style=\"color: #7fbfbf\">           </span>METRIC   Saved the best model with score <span style=\"color: #000080; font-weight: bold\">0.982300</span>                                                                                   <a href=\"file:///home/radionov/.envs/old_api_fixes/lib/python3.6/site-packages/openfl/component/aggregator/aggregator.py\"><span style=\"color: #7f7f7f\">aggregator.py</span></a><span style=\"color: #7f7f7f\">:789</span>\n",
       "</pre>\n"
      ],
      "text/plain": [
       "<rich.jupyter.JupyterRenderable at 0x7f1604421358>"
      ]
     },
     "metadata": {},
     "output_type": "display_data"
    },
    {
     "data": {
      "text/html": [
       "<pre style=\"white-space:pre;overflow-x:auto;line-height:normal;font-family:Menlo,'DejaVu Sans Mono',consolas,'Courier New',monospace\"><span style=\"color: #7fbfbf\">           </span>METRIC   Aggregator, round <span style=\"color: #000080; font-weight: bold\">4</span> locally_tuned_model_validation acc: <span style=\"color: #000080; font-weight: bold\">0.9827</span>                                                             <a href=\"file:///home/radionov/.envs/old_api_fixes/lib/python3.6/site-packages/openfl/component/aggregator/aggregator.py\"><span style=\"color: #7f7f7f\">aggregator.py</span></a><span style=\"color: #7f7f7f\">:779</span>\n",
       "</pre>\n"
      ],
      "text/plain": [
       "<rich.jupyter.JupyterRenderable at 0x7f1604421f98>"
      ]
     },
     "metadata": {},
     "output_type": "display_data"
    },
    {
     "data": {
      "text/html": [
       "<pre style=\"white-space:pre;overflow-x:auto;line-height:normal;font-family:Menlo,'DejaVu Sans Mono',consolas,'Courier New',monospace\"><span style=\"color: #7fbfbf\">           </span>METRIC   Aggregator, round <span style=\"color: #000080; font-weight: bold\">4</span> train cross_entropy:        <span style=\"color: #000080; font-weight: bold\">0.0610</span>                                                                     <a href=\"file:///home/radionov/.envs/old_api_fixes/lib/python3.6/site-packages/openfl/component/aggregator/aggregator.py\"><span style=\"color: #7f7f7f\">aggregator.py</span></a><span style=\"color: #7f7f7f\">:779</span>\n",
       "</pre>\n"
      ],
      "text/plain": [
       "<rich.jupyter.JupyterRenderable at 0x7f1604431ba8>"
      ]
     },
     "metadata": {},
     "output_type": "display_data"
    },
    {
     "data": {
      "text/html": [
       "<pre style=\"white-space:pre;overflow-x:auto;line-height:normal;font-family:Menlo,'DejaVu Sans Mono',consolas,'Courier New',monospace\"><span style=\"color: #7fbfbf\">           </span>METRIC   Collaborator one is sending metric for task aggregated_model_validation, round number <span style=\"color: #000080; font-weight: bold\">5</span>: acc    <span style=\"color: #000080; font-weight: bold\">0.9844</span>                   <a href=\"file:///home/radionov/.envs/old_api_fixes/lib/python3.6/site-packages/openfl/component/collaborator/collaborator.py\"><span style=\"color: #7f7f7f\">collaborator.py</span></a><span style=\"color: #7f7f7f\">:382</span>\n",
       "</pre>\n"
      ],
      "text/plain": [
       "<rich.jupyter.JupyterRenderable at 0x7f16044456d8>"
      ]
     },
     "metadata": {},
     "output_type": "display_data"
    },
    {
     "data": {
      "text/html": [
       "<pre style=\"white-space:pre;overflow-x:auto;line-height:normal;font-family:Menlo,'DejaVu Sans Mono',consolas,'Courier New',monospace\"><span style=\"color: #7fbfbf\">[13:27:46] </span>METRIC   Collaborator one is sending metric for task train, round number <span style=\"color: #000080; font-weight: bold\">5</span>: cross_entropy        <span style=\"color: #000080; font-weight: bold\">0.054077114909887314</span>             <a href=\"file:///home/radionov/.envs/old_api_fixes/lib/python3.6/site-packages/openfl/component/collaborator/collaborator.py\"><span style=\"color: #7f7f7f\">collaborator.py</span></a><span style=\"color: #7f7f7f\">:382</span>\n",
       "</pre>\n"
      ],
      "text/plain": [
       "<rich.jupyter.JupyterRenderable at 0x7f1604425978>"
      ]
     },
     "metadata": {},
     "output_type": "display_data"
    },
    {
     "data": {
      "text/html": [
       "<pre style=\"white-space:pre;overflow-x:auto;line-height:normal;font-family:Menlo,'DejaVu Sans Mono',consolas,'Courier New',monospace\"><span style=\"color: #7fbfbf\">           </span>METRIC   Collaborator one is sending metric for task locally_tuned_model_validation, round number <span style=\"color: #000080; font-weight: bold\">5</span>: acc <span style=\"color: #000080; font-weight: bold\">0.9816</span>                   <a href=\"file:///home/radionov/.envs/old_api_fixes/lib/python3.6/site-packages/openfl/component/collaborator/collaborator.py\"><span style=\"color: #7f7f7f\">collaborator.py</span></a><span style=\"color: #7f7f7f\">:382</span>\n",
       "</pre>\n"
      ],
      "text/plain": [
       "<rich.jupyter.JupyterRenderable at 0x7f1604431978>"
      ]
     },
     "metadata": {},
     "output_type": "display_data"
    },
    {
     "data": {
      "text/html": [
       "<pre style=\"white-space:pre;overflow-x:auto;line-height:normal;font-family:Menlo,'DejaVu Sans Mono',consolas,'Courier New',monospace\"><span style=\"color: #7fbfbf\">[13:27:47] </span>METRIC   Collaborator two is sending metric for task aggregated_model_validation, round number <span style=\"color: #000080; font-weight: bold\">5</span>: acc    <span style=\"color: #000080; font-weight: bold\">0.986</span>                    <a href=\"file:///home/radionov/.envs/old_api_fixes/lib/python3.6/site-packages/openfl/component/collaborator/collaborator.py\"><span style=\"color: #7f7f7f\">collaborator.py</span></a><span style=\"color: #7f7f7f\">:382</span>\n",
       "</pre>\n"
      ],
      "text/plain": [
       "<rich.jupyter.JupyterRenderable at 0x7f1604416390>"
      ]
     },
     "metadata": {},
     "output_type": "display_data"
    },
    {
     "data": {
      "text/html": [
       "<pre style=\"white-space:pre;overflow-x:auto;line-height:normal;font-family:Menlo,'DejaVu Sans Mono',consolas,'Courier New',monospace\"><span style=\"color: #7fbfbf\">[13:27:51] </span>METRIC   Collaborator two is sending metric for task train, round number <span style=\"color: #000080; font-weight: bold\">5</span>: cross_entropy        <span style=\"color: #000080; font-weight: bold\">0.052050184458494186</span>             <a href=\"file:///home/radionov/.envs/old_api_fixes/lib/python3.6/site-packages/openfl/component/collaborator/collaborator.py\"><span style=\"color: #7f7f7f\">collaborator.py</span></a><span style=\"color: #7f7f7f\">:382</span>\n",
       "</pre>\n"
      ],
      "text/plain": [
       "<rich.jupyter.JupyterRenderable at 0x7f1604416470>"
      ]
     },
     "metadata": {},
     "output_type": "display_data"
    },
    {
     "data": {
      "text/html": [
       "<pre style=\"white-space:pre;overflow-x:auto;line-height:normal;font-family:Menlo,'DejaVu Sans Mono',consolas,'Courier New',monospace\"><span style=\"color: #7fbfbf\">           </span>METRIC   Collaborator two is sending metric for task locally_tuned_model_validation, round number <span style=\"color: #000080; font-weight: bold\">5</span>: acc <span style=\"color: #000080; font-weight: bold\">0.9854</span>                   <a href=\"file:///home/radionov/.envs/old_api_fixes/lib/python3.6/site-packages/openfl/component/collaborator/collaborator.py\"><span style=\"color: #7f7f7f\">collaborator.py</span></a><span style=\"color: #7f7f7f\">:382</span>\n",
       "</pre>\n"
      ],
      "text/plain": [
       "<rich.jupyter.JupyterRenderable at 0x7f16044213c8>"
      ]
     },
     "metadata": {},
     "output_type": "display_data"
    },
    {
     "data": {
      "text/html": [
       "<pre style=\"white-space:pre;overflow-x:auto;line-height:normal;font-family:Menlo,'DejaVu Sans Mono',consolas,'Courier New',monospace\"><span style=\"color: #7fbfbf\">           </span>METRIC   Aggregator, round <span style=\"color: #000080; font-weight: bold\">5</span> aggregated_model_validation acc:    <span style=\"color: #000080; font-weight: bold\">0.9852</span>                                                             <a href=\"file:///home/radionov/.envs/old_api_fixes/lib/python3.6/site-packages/openfl/component/aggregator/aggregator.py\"><span style=\"color: #7f7f7f\">aggregator.py</span></a><span style=\"color: #7f7f7f\">:779</span>\n",
       "</pre>\n"
      ],
      "text/plain": [
       "<rich.jupyter.JupyterRenderable at 0x7f1604416048>"
      ]
     },
     "metadata": {},
     "output_type": "display_data"
    },
    {
     "data": {
      "text/html": [
       "<pre style=\"white-space:pre;overflow-x:auto;line-height:normal;font-family:Menlo,'DejaVu Sans Mono',consolas,'Courier New',monospace\"><span style=\"color: #7fbfbf\">           </span>METRIC   Saved the best model with score <span style=\"color: #000080; font-weight: bold\">0.985200</span>                                                                                   <a href=\"file:///home/radionov/.envs/old_api_fixes/lib/python3.6/site-packages/openfl/component/aggregator/aggregator.py\"><span style=\"color: #7f7f7f\">aggregator.py</span></a><span style=\"color: #7f7f7f\">:789</span>\n",
       "</pre>\n"
      ],
      "text/plain": [
       "<rich.jupyter.JupyterRenderable at 0x7f1604445780>"
      ]
     },
     "metadata": {},
     "output_type": "display_data"
    },
    {
     "data": {
      "text/html": [
       "<pre style=\"white-space:pre;overflow-x:auto;line-height:normal;font-family:Menlo,'DejaVu Sans Mono',consolas,'Courier New',monospace\"><span style=\"color: #7fbfbf\">           </span>METRIC   Aggregator, round <span style=\"color: #000080; font-weight: bold\">5</span> locally_tuned_model_validation acc: <span style=\"color: #000080; font-weight: bold\">0.9835</span>                                                             <a href=\"file:///home/radionov/.envs/old_api_fixes/lib/python3.6/site-packages/openfl/component/aggregator/aggregator.py\"><span style=\"color: #7f7f7f\">aggregator.py</span></a><span style=\"color: #7f7f7f\">:779</span>\n",
       "</pre>\n"
      ],
      "text/plain": [
       "<rich.jupyter.JupyterRenderable at 0x7f16044164a8>"
      ]
     },
     "metadata": {},
     "output_type": "display_data"
    },
    {
     "data": {
      "text/html": [
       "<pre style=\"white-space:pre;overflow-x:auto;line-height:normal;font-family:Menlo,'DejaVu Sans Mono',consolas,'Courier New',monospace\"><span style=\"color: #7fbfbf\">           </span>METRIC   Aggregator, round <span style=\"color: #000080; font-weight: bold\">5</span> train cross_entropy:        <span style=\"color: #000080; font-weight: bold\">0.0531</span>                                                                     <a href=\"file:///home/radionov/.envs/old_api_fixes/lib/python3.6/site-packages/openfl/component/aggregator/aggregator.py\"><span style=\"color: #7f7f7f\">aggregator.py</span></a><span style=\"color: #7f7f7f\">:779</span>\n",
       "</pre>\n"
      ],
      "text/plain": [
       "<rich.jupyter.JupyterRenderable at 0x7f1604445278>"
      ]
     },
     "metadata": {},
     "output_type": "display_data"
    },
    {
     "data": {
      "text/html": [
       "<pre style=\"white-space:pre;overflow-x:auto;line-height:normal;font-family:Menlo,'DejaVu Sans Mono',consolas,'Courier New',monospace\"><span style=\"color: #7fbfbf\">[13:27:52] </span>METRIC   Collaborator one is sending metric for task aggregated_model_validation, round number <span style=\"color: #000080; font-weight: bold\">6</span>: acc    <span style=\"color: #000080; font-weight: bold\">0.9848</span>                   <a href=\"file:///home/radionov/.envs/old_api_fixes/lib/python3.6/site-packages/openfl/component/collaborator/collaborator.py\"><span style=\"color: #7f7f7f\">collaborator.py</span></a><span style=\"color: #7f7f7f\">:382</span>\n",
       "</pre>\n"
      ],
      "text/plain": [
       "<rich.jupyter.JupyterRenderable at 0x7f16043ea668>"
      ]
     },
     "metadata": {},
     "output_type": "display_data"
    },
    {
     "data": {
      "text/html": [
       "<pre style=\"white-space:pre;overflow-x:auto;line-height:normal;font-family:Menlo,'DejaVu Sans Mono',consolas,'Courier New',monospace\"><span style=\"color: #7fbfbf\">[13:27:56] </span>METRIC   Collaborator one is sending metric for task train, round number <span style=\"color: #000080; font-weight: bold\">6</span>: cross_entropy        <span style=\"color: #000080; font-weight: bold\">0.04898661747574806</span>              <a href=\"file:///home/radionov/.envs/old_api_fixes/lib/python3.6/site-packages/openfl/component/collaborator/collaborator.py\"><span style=\"color: #7f7f7f\">collaborator.py</span></a><span style=\"color: #7f7f7f\">:382</span>\n",
       "</pre>\n"
      ],
      "text/plain": [
       "<rich.jupyter.JupyterRenderable at 0x7f16043ea518>"
      ]
     },
     "metadata": {},
     "output_type": "display_data"
    },
    {
     "data": {
      "text/html": [
       "<pre style=\"white-space:pre;overflow-x:auto;line-height:normal;font-family:Menlo,'DejaVu Sans Mono',consolas,'Courier New',monospace\"><span style=\"color: #7fbfbf\">           </span>METRIC   Collaborator one is sending metric for task locally_tuned_model_validation, round number <span style=\"color: #000080; font-weight: bold\">6</span>: acc <span style=\"color: #000080; font-weight: bold\">0.9838</span>                   <a href=\"file:///home/radionov/.envs/old_api_fixes/lib/python3.6/site-packages/openfl/component/collaborator/collaborator.py\"><span style=\"color: #7f7f7f\">collaborator.py</span></a><span style=\"color: #7f7f7f\">:382</span>\n",
       "</pre>\n"
      ],
      "text/plain": [
       "<rich.jupyter.JupyterRenderable at 0x7f1604416780>"
      ]
     },
     "metadata": {},
     "output_type": "display_data"
    },
    {
     "data": {
      "text/html": [
       "<pre style=\"white-space:pre;overflow-x:auto;line-height:normal;font-family:Menlo,'DejaVu Sans Mono',consolas,'Courier New',monospace\"><span style=\"color: #7fbfbf\">           </span>METRIC   Collaborator two is sending metric for task aggregated_model_validation, round number <span style=\"color: #000080; font-weight: bold\">6</span>: acc    <span style=\"color: #000080; font-weight: bold\">0.9842</span>                   <a href=\"file:///home/radionov/.envs/old_api_fixes/lib/python3.6/site-packages/openfl/component/collaborator/collaborator.py\"><span style=\"color: #7f7f7f\">collaborator.py</span></a><span style=\"color: #7f7f7f\">:382</span>\n",
       "</pre>\n"
      ],
      "text/plain": [
       "<rich.jupyter.JupyterRenderable at 0x7f1604425a58>"
      ]
     },
     "metadata": {},
     "output_type": "display_data"
    },
    {
     "data": {
      "text/html": [
       "<pre style=\"white-space:pre;overflow-x:auto;line-height:normal;font-family:Menlo,'DejaVu Sans Mono',consolas,'Courier New',monospace\"><span style=\"color: #7fbfbf\">[13:28:00] </span>METRIC   Collaborator two is sending metric for task train, round number <span style=\"color: #000080; font-weight: bold\">6</span>: cross_entropy        <span style=\"color: #000080; font-weight: bold\">0.04581660032272339</span>              <a href=\"file:///home/radionov/.envs/old_api_fixes/lib/python3.6/site-packages/openfl/component/collaborator/collaborator.py\"><span style=\"color: #7f7f7f\">collaborator.py</span></a><span style=\"color: #7f7f7f\">:382</span>\n",
       "</pre>\n"
      ],
      "text/plain": [
       "<rich.jupyter.JupyterRenderable at 0x7f16043da2b0>"
      ]
     },
     "metadata": {},
     "output_type": "display_data"
    },
    {
     "data": {
      "text/html": [
       "<pre style=\"white-space:pre;overflow-x:auto;line-height:normal;font-family:Menlo,'DejaVu Sans Mono',consolas,'Courier New',monospace\"><span style=\"color: #7fbfbf\">[13:28:01] </span>METRIC   Collaborator two is sending metric for task locally_tuned_model_validation, round number <span style=\"color: #000080; font-weight: bold\">6</span>: acc <span style=\"color: #000080; font-weight: bold\">0.98</span>                     <a href=\"file:///home/radionov/.envs/old_api_fixes/lib/python3.6/site-packages/openfl/component/collaborator/collaborator.py\"><span style=\"color: #7f7f7f\">collaborator.py</span></a><span style=\"color: #7f7f7f\">:382</span>\n",
       "</pre>\n"
      ],
      "text/plain": [
       "<rich.jupyter.JupyterRenderable at 0x7f1604421780>"
      ]
     },
     "metadata": {},
     "output_type": "display_data"
    },
    {
     "data": {
      "text/html": [
       "<pre style=\"white-space:pre;overflow-x:auto;line-height:normal;font-family:Menlo,'DejaVu Sans Mono',consolas,'Courier New',monospace\"><span style=\"color: #7fbfbf\">           </span>METRIC   Aggregator, round <span style=\"color: #000080; font-weight: bold\">6</span> aggregated_model_validation acc:    <span style=\"color: #000080; font-weight: bold\">0.9845</span>                                                             <a href=\"file:///home/radionov/.envs/old_api_fixes/lib/python3.6/site-packages/openfl/component/aggregator/aggregator.py\"><span style=\"color: #7f7f7f\">aggregator.py</span></a><span style=\"color: #7f7f7f\">:779</span>\n",
       "</pre>\n"
      ],
      "text/plain": [
       "<rich.jupyter.JupyterRenderable at 0x7f16043da438>"
      ]
     },
     "metadata": {},
     "output_type": "display_data"
    },
    {
     "data": {
      "text/html": [
       "<pre style=\"white-space:pre;overflow-x:auto;line-height:normal;font-family:Menlo,'DejaVu Sans Mono',consolas,'Courier New',monospace\"><span style=\"color: #7fbfbf\">           </span>METRIC   Aggregator, round <span style=\"color: #000080; font-weight: bold\">6</span> locally_tuned_model_validation acc: <span style=\"color: #000080; font-weight: bold\">0.9819</span>                                                             <a href=\"file:///home/radionov/.envs/old_api_fixes/lib/python3.6/site-packages/openfl/component/aggregator/aggregator.py\"><span style=\"color: #7f7f7f\">aggregator.py</span></a><span style=\"color: #7f7f7f\">:779</span>\n",
       "</pre>\n"
      ],
      "text/plain": [
       "<rich.jupyter.JupyterRenderable at 0x7f1604416358>"
      ]
     },
     "metadata": {},
     "output_type": "display_data"
    },
    {
     "data": {
      "text/html": [
       "<pre style=\"white-space:pre;overflow-x:auto;line-height:normal;font-family:Menlo,'DejaVu Sans Mono',consolas,'Courier New',monospace\"><span style=\"color: #7fbfbf\">           </span>METRIC   Aggregator, round <span style=\"color: #000080; font-weight: bold\">6</span> train cross_entropy:        <span style=\"color: #000080; font-weight: bold\">0.0474</span>                                                                     <a href=\"file:///home/radionov/.envs/old_api_fixes/lib/python3.6/site-packages/openfl/component/aggregator/aggregator.py\"><span style=\"color: #7f7f7f\">aggregator.py</span></a><span style=\"color: #7f7f7f\">:779</span>\n",
       "</pre>\n"
      ],
      "text/plain": [
       "<rich.jupyter.JupyterRenderable at 0x7f16043da080>"
      ]
     },
     "metadata": {},
     "output_type": "display_data"
    },
    {
     "data": {
      "text/html": [
       "<pre style=\"white-space:pre;overflow-x:auto;line-height:normal;font-family:Menlo,'DejaVu Sans Mono',consolas,'Courier New',monospace\"><span style=\"color: #7fbfbf\">           </span>METRIC   Collaborator one is sending metric for task aggregated_model_validation, round number <span style=\"color: #000080; font-weight: bold\">7</span>: acc    <span style=\"color: #000080; font-weight: bold\">0.9848</span>                   <a href=\"file:///home/radionov/.envs/old_api_fixes/lib/python3.6/site-packages/openfl/component/collaborator/collaborator.py\"><span style=\"color: #7f7f7f\">collaborator.py</span></a><span style=\"color: #7f7f7f\">:382</span>\n",
       "</pre>\n"
      ],
      "text/plain": [
       "<rich.jupyter.JupyterRenderable at 0x7f16043f45c0>"
      ]
     },
     "metadata": {},
     "output_type": "display_data"
    },
    {
     "data": {
      "text/html": [
       "<pre style=\"white-space:pre;overflow-x:auto;line-height:normal;font-family:Menlo,'DejaVu Sans Mono',consolas,'Courier New',monospace\"><span style=\"color: #7fbfbf\">[13:28:05] </span>METRIC   Collaborator one is sending metric for task train, round number <span style=\"color: #000080; font-weight: bold\">7</span>: cross_entropy        <span style=\"color: #000080; font-weight: bold\">0.04197382181882858</span>              <a href=\"file:///home/radionov/.envs/old_api_fixes/lib/python3.6/site-packages/openfl/component/collaborator/collaborator.py\"><span style=\"color: #7f7f7f\">collaborator.py</span></a><span style=\"color: #7f7f7f\">:382</span>\n",
       "</pre>\n"
      ],
      "text/plain": [
       "<rich.jupyter.JupyterRenderable at 0x7f16043f4278>"
      ]
     },
     "metadata": {},
     "output_type": "display_data"
    },
    {
     "data": {
      "text/html": [
       "<pre style=\"white-space:pre;overflow-x:auto;line-height:normal;font-family:Menlo,'DejaVu Sans Mono',consolas,'Courier New',monospace\"><span style=\"color: #7fbfbf\">           </span>METRIC   Collaborator one is sending metric for task locally_tuned_model_validation, round number <span style=\"color: #000080; font-weight: bold\">7</span>: acc <span style=\"color: #000080; font-weight: bold\">0.983</span>                    <a href=\"file:///home/radionov/.envs/old_api_fixes/lib/python3.6/site-packages/openfl/component/collaborator/collaborator.py\"><span style=\"color: #7f7f7f\">collaborator.py</span></a><span style=\"color: #7f7f7f\">:382</span>\n",
       "</pre>\n"
      ],
      "text/plain": [
       "<rich.jupyter.JupyterRenderable at 0x7f16043da748>"
      ]
     },
     "metadata": {},
     "output_type": "display_data"
    },
    {
     "data": {
      "text/html": [
       "<pre style=\"white-space:pre;overflow-x:auto;line-height:normal;font-family:Menlo,'DejaVu Sans Mono',consolas,'Courier New',monospace\"><span style=\"color: #7fbfbf\">           </span>METRIC   Collaborator two is sending metric for task aggregated_model_validation, round number <span style=\"color: #000080; font-weight: bold\">7</span>: acc    <span style=\"color: #000080; font-weight: bold\">0.984</span>                    <a href=\"file:///home/radionov/.envs/old_api_fixes/lib/python3.6/site-packages/openfl/component/collaborator/collaborator.py\"><span style=\"color: #7f7f7f\">collaborator.py</span></a><span style=\"color: #7f7f7f\">:382</span>\n",
       "</pre>\n"
      ],
      "text/plain": [
       "<rich.jupyter.JupyterRenderable at 0x7f16043f40b8>"
      ]
     },
     "metadata": {},
     "output_type": "display_data"
    },
    {
     "data": {
      "text/html": [
       "<pre style=\"white-space:pre;overflow-x:auto;line-height:normal;font-family:Menlo,'DejaVu Sans Mono',consolas,'Courier New',monospace\"><span style=\"color: #7fbfbf\">[13:28:09] </span>METRIC   Collaborator two is sending metric for task train, round number <span style=\"color: #000080; font-weight: bold\">7</span>: cross_entropy        <span style=\"color: #000080; font-weight: bold\">0.04144279658794403</span>              <a href=\"file:///home/radionov/.envs/old_api_fixes/lib/python3.6/site-packages/openfl/component/collaborator/collaborator.py\"><span style=\"color: #7f7f7f\">collaborator.py</span></a><span style=\"color: #7f7f7f\">:382</span>\n",
       "</pre>\n"
      ],
      "text/plain": [
       "<rich.jupyter.JupyterRenderable at 0x7f1604413550>"
      ]
     },
     "metadata": {},
     "output_type": "display_data"
    },
    {
     "data": {
      "text/html": [
       "<pre style=\"white-space:pre;overflow-x:auto;line-height:normal;font-family:Menlo,'DejaVu Sans Mono',consolas,'Courier New',monospace\"><span style=\"color: #7fbfbf\">           </span>METRIC   Collaborator two is sending metric for task locally_tuned_model_validation, round number <span style=\"color: #000080; font-weight: bold\">7</span>: acc <span style=\"color: #000080; font-weight: bold\">0.9858</span>                   <a href=\"file:///home/radionov/.envs/old_api_fixes/lib/python3.6/site-packages/openfl/component/collaborator/collaborator.py\"><span style=\"color: #7f7f7f\">collaborator.py</span></a><span style=\"color: #7f7f7f\">:382</span>\n",
       "</pre>\n"
      ],
      "text/plain": [
       "<rich.jupyter.JupyterRenderable at 0x7f1604413198>"
      ]
     },
     "metadata": {},
     "output_type": "display_data"
    },
    {
     "data": {
      "text/html": [
       "<pre style=\"white-space:pre;overflow-x:auto;line-height:normal;font-family:Menlo,'DejaVu Sans Mono',consolas,'Courier New',monospace\"><span style=\"color: #7fbfbf\">           </span>METRIC   Aggregator, round <span style=\"color: #000080; font-weight: bold\">7</span> aggregated_model_validation acc:    <span style=\"color: #000080; font-weight: bold\">0.9844</span>                                                             <a href=\"file:///home/radionov/.envs/old_api_fixes/lib/python3.6/site-packages/openfl/component/aggregator/aggregator.py\"><span style=\"color: #7f7f7f\">aggregator.py</span></a><span style=\"color: #7f7f7f\">:779</span>\n",
       "</pre>\n"
      ],
      "text/plain": [
       "<rich.jupyter.JupyterRenderable at 0x7f16043da2e8>"
      ]
     },
     "metadata": {},
     "output_type": "display_data"
    },
    {
     "data": {
      "text/html": [
       "<pre style=\"white-space:pre;overflow-x:auto;line-height:normal;font-family:Menlo,'DejaVu Sans Mono',consolas,'Courier New',monospace\"><span style=\"color: #7fbfbf\">           </span>METRIC   Aggregator, round <span style=\"color: #000080; font-weight: bold\">7</span> locally_tuned_model_validation acc: <span style=\"color: #000080; font-weight: bold\">0.9844</span>                                                             <a href=\"file:///home/radionov/.envs/old_api_fixes/lib/python3.6/site-packages/openfl/component/aggregator/aggregator.py\"><span style=\"color: #7f7f7f\">aggregator.py</span></a><span style=\"color: #7f7f7f\">:779</span>\n",
       "</pre>\n"
      ],
      "text/plain": [
       "<rich.jupyter.JupyterRenderable at 0x7f16044131d0>"
      ]
     },
     "metadata": {},
     "output_type": "display_data"
    },
    {
     "data": {
      "text/html": [
       "<pre style=\"white-space:pre;overflow-x:auto;line-height:normal;font-family:Menlo,'DejaVu Sans Mono',consolas,'Courier New',monospace\"><span style=\"color: #7fbfbf\">[13:28:10] </span>METRIC   Aggregator, round <span style=\"color: #000080; font-weight: bold\">7</span> train cross_entropy:        <span style=\"color: #000080; font-weight: bold\">0.0417</span>                                                                     <a href=\"file:///home/radionov/.envs/old_api_fixes/lib/python3.6/site-packages/openfl/component/aggregator/aggregator.py\"><span style=\"color: #7f7f7f\">aggregator.py</span></a><span style=\"color: #7f7f7f\">:779</span>\n",
       "</pre>\n"
      ],
      "text/plain": [
       "<rich.jupyter.JupyterRenderable at 0x7f16044135f8>"
      ]
     },
     "metadata": {},
     "output_type": "display_data"
    },
    {
     "data": {
      "text/html": [
       "<pre style=\"white-space:pre;overflow-x:auto;line-height:normal;font-family:Menlo,'DejaVu Sans Mono',consolas,'Courier New',monospace\"><span style=\"color: #7fbfbf\">           </span>METRIC   Collaborator one is sending metric for task aggregated_model_validation, round number <span style=\"color: #000080; font-weight: bold\">8</span>: acc    <span style=\"color: #000080; font-weight: bold\">0.9866</span>                   <a href=\"file:///home/radionov/.envs/old_api_fixes/lib/python3.6/site-packages/openfl/component/collaborator/collaborator.py\"><span style=\"color: #7f7f7f\">collaborator.py</span></a><span style=\"color: #7f7f7f\">:382</span>\n",
       "</pre>\n"
      ],
      "text/plain": [
       "<rich.jupyter.JupyterRenderable at 0x7f16043fb4a8>"
      ]
     },
     "metadata": {},
     "output_type": "display_data"
    },
    {
     "data": {
      "text/html": [
       "<pre style=\"white-space:pre;overflow-x:auto;line-height:normal;font-family:Menlo,'DejaVu Sans Mono',consolas,'Courier New',monospace\"><span style=\"color: #7fbfbf\">[13:28:14] </span>METRIC   Collaborator one is sending metric for task train, round number <span style=\"color: #000080; font-weight: bold\">8</span>: cross_entropy        <span style=\"color: #000080; font-weight: bold\">0.03753461688756943</span>              <a href=\"file:///home/radionov/.envs/old_api_fixes/lib/python3.6/site-packages/openfl/component/collaborator/collaborator.py\"><span style=\"color: #7f7f7f\">collaborator.py</span></a><span style=\"color: #7f7f7f\">:382</span>\n",
       "</pre>\n"
      ],
      "text/plain": [
       "<rich.jupyter.JupyterRenderable at 0x7f16043fb5c0>"
      ]
     },
     "metadata": {},
     "output_type": "display_data"
    },
    {
     "data": {
      "text/html": [
       "<pre style=\"white-space:pre;overflow-x:auto;line-height:normal;font-family:Menlo,'DejaVu Sans Mono',consolas,'Courier New',monospace\"><span style=\"color: #7fbfbf\">           </span>METRIC   Collaborator one is sending metric for task locally_tuned_model_validation, round number <span style=\"color: #000080; font-weight: bold\">8</span>: acc <span style=\"color: #000080; font-weight: bold\">0.986</span>                    <a href=\"file:///home/radionov/.envs/old_api_fixes/lib/python3.6/site-packages/openfl/component/collaborator/collaborator.py\"><span style=\"color: #7f7f7f\">collaborator.py</span></a><span style=\"color: #7f7f7f\">:382</span>\n",
       "</pre>\n"
      ],
      "text/plain": [
       "<rich.jupyter.JupyterRenderable at 0x7f1604421390>"
      ]
     },
     "metadata": {},
     "output_type": "display_data"
    },
    {
     "data": {
      "text/html": [
       "<pre style=\"white-space:pre;overflow-x:auto;line-height:normal;font-family:Menlo,'DejaVu Sans Mono',consolas,'Courier New',monospace\"><span style=\"color: #7fbfbf\">           </span>METRIC   Collaborator two is sending metric for task aggregated_model_validation, round number <span style=\"color: #000080; font-weight: bold\">8</span>: acc    <span style=\"color: #000080; font-weight: bold\">0.9858</span>                   <a href=\"file:///home/radionov/.envs/old_api_fixes/lib/python3.6/site-packages/openfl/component/collaborator/collaborator.py\"><span style=\"color: #7f7f7f\">collaborator.py</span></a><span style=\"color: #7f7f7f\">:382</span>\n",
       "</pre>\n"
      ],
      "text/plain": [
       "<rich.jupyter.JupyterRenderable at 0x7f1604413860>"
      ]
     },
     "metadata": {},
     "output_type": "display_data"
    },
    {
     "data": {
      "text/html": [
       "<pre style=\"white-space:pre;overflow-x:auto;line-height:normal;font-family:Menlo,'DejaVu Sans Mono',consolas,'Courier New',monospace\"><span style=\"color: #7fbfbf\">[13:28:18] </span>METRIC   Collaborator two is sending metric for task train, round number <span style=\"color: #000080; font-weight: bold\">8</span>: cross_entropy        <span style=\"color: #000080; font-weight: bold\">0.03790319710969925</span>              <a href=\"file:///home/radionov/.envs/old_api_fixes/lib/python3.6/site-packages/openfl/component/collaborator/collaborator.py\"><span style=\"color: #7f7f7f\">collaborator.py</span></a><span style=\"color: #7f7f7f\">:382</span>\n",
       "</pre>\n"
      ],
      "text/plain": [
       "<rich.jupyter.JupyterRenderable at 0x7f16043da2e8>"
      ]
     },
     "metadata": {},
     "output_type": "display_data"
    },
    {
     "data": {
      "text/html": [
       "<pre style=\"white-space:pre;overflow-x:auto;line-height:normal;font-family:Menlo,'DejaVu Sans Mono',consolas,'Courier New',monospace\"><span style=\"color: #7fbfbf\">           </span>METRIC   Collaborator two is sending metric for task locally_tuned_model_validation, round number <span style=\"color: #000080; font-weight: bold\">8</span>: acc <span style=\"color: #000080; font-weight: bold\">0.9842</span>                   <a href=\"file:///home/radionov/.envs/old_api_fixes/lib/python3.6/site-packages/openfl/component/collaborator/collaborator.py\"><span style=\"color: #7f7f7f\">collaborator.py</span></a><span style=\"color: #7f7f7f\">:382</span>\n",
       "</pre>\n"
      ],
      "text/plain": [
       "<rich.jupyter.JupyterRenderable at 0x7f16043da2e8>"
      ]
     },
     "metadata": {},
     "output_type": "display_data"
    },
    {
     "data": {
      "text/html": [
       "<pre style=\"white-space:pre;overflow-x:auto;line-height:normal;font-family:Menlo,'DejaVu Sans Mono',consolas,'Courier New',monospace\"><span style=\"color: #7fbfbf\">           </span>METRIC   Aggregator, round <span style=\"color: #000080; font-weight: bold\">8</span> aggregated_model_validation acc:    <span style=\"color: #000080; font-weight: bold\">0.9862</span>                                                             <a href=\"file:///home/radionov/.envs/old_api_fixes/lib/python3.6/site-packages/openfl/component/aggregator/aggregator.py\"><span style=\"color: #7f7f7f\">aggregator.py</span></a><span style=\"color: #7f7f7f\">:779</span>\n",
       "</pre>\n"
      ],
      "text/plain": [
       "<rich.jupyter.JupyterRenderable at 0x7f1604409cf8>"
      ]
     },
     "metadata": {},
     "output_type": "display_data"
    },
    {
     "data": {
      "text/html": [
       "<pre style=\"white-space:pre;overflow-x:auto;line-height:normal;font-family:Menlo,'DejaVu Sans Mono',consolas,'Courier New',monospace\"><span style=\"color: #7fbfbf\">           </span>METRIC   Saved the best model with score <span style=\"color: #000080; font-weight: bold\">0.986200</span>                                                                                   <a href=\"file:///home/radionov/.envs/old_api_fixes/lib/python3.6/site-packages/openfl/component/aggregator/aggregator.py\"><span style=\"color: #7f7f7f\">aggregator.py</span></a><span style=\"color: #7f7f7f\">:789</span>\n",
       "</pre>\n"
      ],
      "text/plain": [
       "<rich.jupyter.JupyterRenderable at 0x7f1604409a20>"
      ]
     },
     "metadata": {},
     "output_type": "display_data"
    },
    {
     "data": {
      "text/html": [
       "<pre style=\"white-space:pre;overflow-x:auto;line-height:normal;font-family:Menlo,'DejaVu Sans Mono',consolas,'Courier New',monospace\"><span style=\"color: #7fbfbf\">           </span>METRIC   Aggregator, round <span style=\"color: #000080; font-weight: bold\">8</span> locally_tuned_model_validation acc: <span style=\"color: #000080; font-weight: bold\">0.9851</span>                                                             <a href=\"file:///home/radionov/.envs/old_api_fixes/lib/python3.6/site-packages/openfl/component/aggregator/aggregator.py\"><span style=\"color: #7f7f7f\">aggregator.py</span></a><span style=\"color: #7f7f7f\">:779</span>\n",
       "</pre>\n"
      ],
      "text/plain": [
       "<rich.jupyter.JupyterRenderable at 0x7f1604409b38>"
      ]
     },
     "metadata": {},
     "output_type": "display_data"
    },
    {
     "data": {
      "text/html": [
       "<pre style=\"white-space:pre;overflow-x:auto;line-height:normal;font-family:Menlo,'DejaVu Sans Mono',consolas,'Courier New',monospace\"><span style=\"color: #7fbfbf\">           </span>METRIC   Aggregator, round <span style=\"color: #000080; font-weight: bold\">8</span> train cross_entropy:        <span style=\"color: #000080; font-weight: bold\">0.0377</span>                                                                     <a href=\"file:///home/radionov/.envs/old_api_fixes/lib/python3.6/site-packages/openfl/component/aggregator/aggregator.py\"><span style=\"color: #7f7f7f\">aggregator.py</span></a><span style=\"color: #7f7f7f\">:779</span>\n",
       "</pre>\n"
      ],
      "text/plain": [
       "<rich.jupyter.JupyterRenderable at 0x7f1604409da0>"
      ]
     },
     "metadata": {},
     "output_type": "display_data"
    },
    {
     "data": {
      "text/html": [
       "<pre style=\"white-space:pre;overflow-x:auto;line-height:normal;font-family:Menlo,'DejaVu Sans Mono',consolas,'Courier New',monospace\"><span style=\"color: #7fbfbf\">[13:28:19] </span>METRIC   Collaborator one is sending metric for task aggregated_model_validation, round number <span style=\"color: #000080; font-weight: bold\">9</span>: acc    <span style=\"color: #000080; font-weight: bold\">0.9864</span>                   <a href=\"file:///home/radionov/.envs/old_api_fixes/lib/python3.6/site-packages/openfl/component/collaborator/collaborator.py\"><span style=\"color: #7f7f7f\">collaborator.py</span></a><span style=\"color: #7f7f7f\">:382</span>\n",
       "</pre>\n"
      ],
      "text/plain": [
       "<rich.jupyter.JupyterRenderable at 0x7f1604409320>"
      ]
     },
     "metadata": {},
     "output_type": "display_data"
    },
    {
     "data": {
      "text/html": [
       "<pre style=\"white-space:pre;overflow-x:auto;line-height:normal;font-family:Menlo,'DejaVu Sans Mono',consolas,'Courier New',monospace\"><span style=\"color: #7fbfbf\">[13:28:23] </span>METRIC   Collaborator one is sending metric for task train, round number <span style=\"color: #000080; font-weight: bold\">9</span>: cross_entropy        <span style=\"color: #000080; font-weight: bold\">0.03402350842952728</span>              <a href=\"file:///home/radionov/.envs/old_api_fixes/lib/python3.6/site-packages/openfl/component/collaborator/collaborator.py\"><span style=\"color: #7f7f7f\">collaborator.py</span></a><span style=\"color: #7f7f7f\">:382</span>\n",
       "</pre>\n"
      ],
      "text/plain": [
       "<rich.jupyter.JupyterRenderable at 0x7f16043fd4a8>"
      ]
     },
     "metadata": {},
     "output_type": "display_data"
    },
    {
     "data": {
      "text/html": [
       "<pre style=\"white-space:pre;overflow-x:auto;line-height:normal;font-family:Menlo,'DejaVu Sans Mono',consolas,'Courier New',monospace\"><span style=\"color: #7fbfbf\">           </span>METRIC   Collaborator one is sending metric for task locally_tuned_model_validation, round number <span style=\"color: #000080; font-weight: bold\">9</span>: acc <span style=\"color: #000080; font-weight: bold\">0.9844</span>                   <a href=\"file:///home/radionov/.envs/old_api_fixes/lib/python3.6/site-packages/openfl/component/collaborator/collaborator.py\"><span style=\"color: #7f7f7f\">collaborator.py</span></a><span style=\"color: #7f7f7f\">:382</span>\n",
       "</pre>\n"
      ],
      "text/plain": [
       "<rich.jupyter.JupyterRenderable at 0x7f16043fd080>"
      ]
     },
     "metadata": {},
     "output_type": "display_data"
    },
    {
     "data": {
      "text/html": [
       "<pre style=\"white-space:pre;overflow-x:auto;line-height:normal;font-family:Menlo,'DejaVu Sans Mono',consolas,'Courier New',monospace\"><span style=\"color: #7fbfbf\">           </span>METRIC   Collaborator two is sending metric for task aggregated_model_validation, round number <span style=\"color: #000080; font-weight: bold\">9</span>: acc    <span style=\"color: #000080; font-weight: bold\">0.9886</span>                   <a href=\"file:///home/radionov/.envs/old_api_fixes/lib/python3.6/site-packages/openfl/component/collaborator/collaborator.py\"><span style=\"color: #7f7f7f\">collaborator.py</span></a><span style=\"color: #7f7f7f\">:382</span>\n",
       "</pre>\n"
      ],
      "text/plain": [
       "<rich.jupyter.JupyterRenderable at 0x7f1604409da0>"
      ]
     },
     "metadata": {},
     "output_type": "display_data"
    },
    {
     "data": {
      "text/html": [
       "<pre style=\"white-space:pre;overflow-x:auto;line-height:normal;font-family:Menlo,'DejaVu Sans Mono',consolas,'Courier New',monospace\"><span style=\"color: #7fbfbf\">[13:28:27] </span>METRIC   Collaborator two is sending metric for task train, round number <span style=\"color: #000080; font-weight: bold\">9</span>: cross_entropy        <span style=\"color: #000080; font-weight: bold\">0.034014906734228134</span>             <a href=\"file:///home/radionov/.envs/old_api_fixes/lib/python3.6/site-packages/openfl/component/collaborator/collaborator.py\"><span style=\"color: #7f7f7f\">collaborator.py</span></a><span style=\"color: #7f7f7f\">:382</span>\n",
       "</pre>\n"
      ],
      "text/plain": [
       "<rich.jupyter.JupyterRenderable at 0x7f1604409eb8>"
      ]
     },
     "metadata": {},
     "output_type": "display_data"
    },
    {
     "data": {
      "text/html": [
       "<pre style=\"white-space:pre;overflow-x:auto;line-height:normal;font-family:Menlo,'DejaVu Sans Mono',consolas,'Courier New',monospace\"><span style=\"color: #7fbfbf\">           </span>METRIC   Collaborator two is sending metric for task locally_tuned_model_validation, round number <span style=\"color: #000080; font-weight: bold\">9</span>: acc <span style=\"color: #000080; font-weight: bold\">0.9852</span>                   <a href=\"file:///home/radionov/.envs/old_api_fixes/lib/python3.6/site-packages/openfl/component/collaborator/collaborator.py\"><span style=\"color: #7f7f7f\">collaborator.py</span></a><span style=\"color: #7f7f7f\">:382</span>\n",
       "</pre>\n"
      ],
      "text/plain": [
       "<rich.jupyter.JupyterRenderable at 0x7f16043ece10>"
      ]
     },
     "metadata": {},
     "output_type": "display_data"
    },
    {
     "data": {
      "text/html": [
       "<pre style=\"white-space:pre;overflow-x:auto;line-height:normal;font-family:Menlo,'DejaVu Sans Mono',consolas,'Courier New',monospace\"><span style=\"color: #7fbfbf\">           </span>METRIC   Aggregator, round <span style=\"color: #000080; font-weight: bold\">9</span> aggregated_model_validation acc:    <span style=\"color: #000080; font-weight: bold\">0.9875</span>                                                             <a href=\"file:///home/radionov/.envs/old_api_fixes/lib/python3.6/site-packages/openfl/component/aggregator/aggregator.py\"><span style=\"color: #7f7f7f\">aggregator.py</span></a><span style=\"color: #7f7f7f\">:779</span>\n",
       "</pre>\n"
      ],
      "text/plain": [
       "<rich.jupyter.JupyterRenderable at 0x7f16043ec470>"
      ]
     },
     "metadata": {},
     "output_type": "display_data"
    },
    {
     "data": {
      "text/html": [
       "<pre style=\"white-space:pre;overflow-x:auto;line-height:normal;font-family:Menlo,'DejaVu Sans Mono',consolas,'Courier New',monospace\"><span style=\"color: #7fbfbf\">           </span>METRIC   Saved the best model with score <span style=\"color: #000080; font-weight: bold\">0.987500</span>                                                                                   <a href=\"file:///home/radionov/.envs/old_api_fixes/lib/python3.6/site-packages/openfl/component/aggregator/aggregator.py\"><span style=\"color: #7f7f7f\">aggregator.py</span></a><span style=\"color: #7f7f7f\">:789</span>\n",
       "</pre>\n"
      ],
      "text/plain": [
       "<rich.jupyter.JupyterRenderable at 0x7f16043ec048>"
      ]
     },
     "metadata": {},
     "output_type": "display_data"
    },
    {
     "data": {
      "text/html": [
       "<pre style=\"white-space:pre;overflow-x:auto;line-height:normal;font-family:Menlo,'DejaVu Sans Mono',consolas,'Courier New',monospace\"><span style=\"color: #7fbfbf\">           </span>METRIC   Aggregator, round <span style=\"color: #000080; font-weight: bold\">9</span> locally_tuned_model_validation acc: <span style=\"color: #000080; font-weight: bold\">0.9848</span>                                                             <a href=\"file:///home/radionov/.envs/old_api_fixes/lib/python3.6/site-packages/openfl/component/aggregator/aggregator.py\"><span style=\"color: #7f7f7f\">aggregator.py</span></a><span style=\"color: #7f7f7f\">:779</span>\n",
       "</pre>\n"
      ],
      "text/plain": [
       "<rich.jupyter.JupyterRenderable at 0x7f16043ec2e8>"
      ]
     },
     "metadata": {},
     "output_type": "display_data"
    },
    {
     "data": {
      "text/html": [
       "<pre style=\"white-space:pre;overflow-x:auto;line-height:normal;font-family:Menlo,'DejaVu Sans Mono',consolas,'Courier New',monospace\"><span style=\"color: #7fbfbf\">           </span>METRIC   Aggregator, round <span style=\"color: #000080; font-weight: bold\">9</span> train cross_entropy:        <span style=\"color: #000080; font-weight: bold\">0.0340</span>                                                                     <a href=\"file:///home/radionov/.envs/old_api_fixes/lib/python3.6/site-packages/openfl/component/aggregator/aggregator.py\"><span style=\"color: #7f7f7f\">aggregator.py</span></a><span style=\"color: #7f7f7f\">:779</span>\n",
       "</pre>\n"
      ],
      "text/plain": [
       "<rich.jupyter.JupyterRenderable at 0x7f16043eccc0>"
      ]
     },
     "metadata": {},
     "output_type": "display_data"
    }
   ],
   "source": [
    "#Run experiment, return trained FederatedModel\n",
    "final_fl_model = fx.run_experiment(collaborators,{'aggregator.settings.rounds_to_train':10})"
   ]
  },
  {
   "cell_type": "code",
   "execution_count": 11,
   "metadata": {
    "code_folding": [
     9,
     32
    ]
   },
   "outputs": [
    {
     "data": {
      "text/plain": [
       "<Figure size 1152x432 with 0 Axes>"
      ]
     },
     "metadata": {},
     "output_type": "display_data"
    },
    {
     "data": {
      "image/png": "[encoded data removed]",
      "text/plain": [
       "<Figure size 1152x576 with 3 Axes>"
      ]
     },
     "metadata": {
      "needs_background": "light"
     },
     "output_type": "display_data"
    }
   ],
   "source": [
    "import matplotlib.pyplot as plt\n",
    "from matplotlib.pyplot import figure\n",
    "import sys\n",
    "from collections import defaultdict\n",
    "import glob\n",
    "\n",
    "factory = lambda : defaultdict(dict)\n",
    "rounds = defaultdict(factory)\n",
    "    \n",
    "for begin in ['agg','one', 'two']:\n",
    "    file = sorted(glob.glob(begin + '*.metric'))[-1]\n",
    "    with open(file) as f:\n",
    "        lines = f.readlines()\n",
    "    if begin != 'agg':\n",
    "        for line in lines:\n",
    "            line = line.split()\n",
    "            col_name = line[1]\n",
    "            task = line[2]\n",
    "            round = int(line[4])\n",
    "            metric = float(line[6])\n",
    "            assert(col_name == begin)\n",
    "            rounds[round][col_name][task] = metric\n",
    "    else:\n",
    "        for line in lines:\n",
    "            line = line.split()\n",
    "            if len(line) < 6:\n",
    "                continue\n",
    "            task = line[0]\n",
    "            round = int(line[5])\n",
    "            metric = float(line[3])\n",
    "            rounds[round]['agg'][task] = metric\n",
    "            \n",
    "def plot_collaborators_dict(rounds, agg=False):\n",
    "    conf = 120\n",
    "    figure(figsize=(16, 6))\n",
    "    if agg:\n",
    "        conf = 220\n",
    "        figure(figsize=(16, 8))\n",
    "    aggregated1 = []\n",
    "    train1 = []\n",
    "    local1 = []\n",
    "    for round in rounds.keys():\n",
    "        try:\n",
    "            aggregated1.append(rounds[round]['one']['aggregated_model_validation'])\n",
    "            train1.append(rounds[round]['one']['train'])\n",
    "            local1.append(rounds[round]['one']['locally_tuned_model_validation'])\n",
    "        except KeyError as e:\n",
    "            print('Key error',e, 'round', round)\n",
    "        \n",
    "    \n",
    "    ax1 = plt.subplot(conf+1)\n",
    "    ax1.plot(aggregated1, label='aggreg_val')\n",
    "    ax1.plot(train1, label='train')\n",
    "    ax1.plot(local1, label='local_val')\n",
    "    ax1.legend()\n",
    "    ax1.set_title('Col 1')\n",
    "\n",
    "    aggregated2 = []\n",
    "    train2 = []\n",
    "    local2 = []\n",
    "    for round in rounds.keys():\n",
    "        try:\n",
    "            aggregated2.append(rounds[round]['two']['aggregated_model_validation'])\n",
    "            train2.append(rounds[round]['two']['train'])\n",
    "            local2.append(rounds[round]['two']['locally_tuned_model_validation'])\n",
    "        except KeyError as e:\n",
    "            print('Key error',e, 'round', round)\n",
    "    ax2 = plt.subplot(conf+2)\n",
    "    ax2.plot(aggregated2, label='aggreg_val')\n",
    "    ax2.plot(train2, label='train')\n",
    "    ax2.plot(local2, label='local_val')\n",
    "    ax2.legend()\n",
    "    ax2.set_title('Col 2')\n",
    "    if agg:\n",
    "        aggregated3 = []\n",
    "        train3 = []\n",
    "        local3 = []\n",
    "        for round in rounds.keys():\n",
    "            try:\n",
    "                aggregated3.append(rounds[round]['agg']['aggregated_model_validation'])\n",
    "                train3.append(rounds[round]['agg']['train'])\n",
    "                local3.append(rounds[round]['agg']['locally_tuned_model_validation'])\n",
    "            except KeyError as e:\n",
    "                print('Key error',e, 'round', round)\n",
    "        ax3 = plt.subplot(conf+3)\n",
    "        ax3.plot(aggregated3, label='aggreg_val')\n",
    "        ax3.plot(train3, label='train')\n",
    "        ax3.plot(local3, label='local_val')\n",
    "        ax3.legend()\n",
    "        ax3.set_title('Agg')\n",
    "plot_collaborators_dict(rounds,True)"
   ]
  },
  {
   "cell_type": "code",
   "execution_count": 12,
   "metadata": {},
   "outputs": [],
   "source": [
    "#Save final model\n",
    "final_fl_model.save_native('final_pytorch_model')"
   ]
  },
  {
   "cell_type": "code",
   "execution_count": 13,
   "metadata": {},
   "outputs": [],
   "source": [
    "%reload_ext tensorboard"
   ]
  },
  {
   "cell_type": "code",
   "execution_count": null,
   "metadata": {},
   "outputs": [],
   "source": []
  }
 ],
 "metadata": {
  "kernelspec": {
   "display_name": "Python 3",
   "language": "python",
   "name": "python3"
  },
  "language_info": {
   "codemirror_mode": {
    "name": "ipython",
    "version": 3
   },
   "file_extension": ".py",
   "mimetype": "text/x-python",
   "name": "python",
   "nbconvert_exporter": "python",
   "pygments_lexer": "ipython3",
   "version": "3.6.9"
  }
 },
 "nbformat": 4,
 "nbformat_minor": 4
}
