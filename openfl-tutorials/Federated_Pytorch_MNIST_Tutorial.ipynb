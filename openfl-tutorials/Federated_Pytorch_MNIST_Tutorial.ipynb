{
 "cells": [
  {
   "cell_type": "markdown",
   "metadata": {},
   "source": [
    "# Federated PyTorch MNIST Tutorial"
   ]
  },
  {
   "cell_type": "code",
   "execution_count": null,
   "metadata": {
    "scrolled": true
   },
   "outputs": [],
   "source": [
    "#Install dependencies if not already installed\n",
    "!pip install torch torchvision .."
   ]
  },
  {
   "cell_type": "code",
   "execution_count": 2,
   "metadata": {},
   "outputs": [],
   "source": [
    "import numpy as np\n",
    "import torch\n",
    "import torch.nn as nn\n",
    "import torch.nn.functional as F\n",
    "import torch.optim as optim\n",
    "\n",
    "import torchvision\n",
    "import torchvision.transforms as transforms\n",
    "import openfl.native as fx\n",
    "from openfl.federated import FederatedModel,FederatedDataSet\n"
   ]
  },
  {
   "cell_type": "markdown",
   "metadata": {},
   "source": [
    "After importing the required packages, the next step is setting up our openfl workspace. To do this, simply run the `fx.init()` command as follows:"
   ]
  },
  {
   "cell_type": "code",
   "execution_count": null,
   "metadata": {
    "scrolled": true
   },
   "outputs": [],
   "source": [
    "#Setup default workspace, logging, etc.\n",
    "fx.init('torch_cnn_mnist', log_level='METRIC', log_file='./spam_metric.log')"
   ]
  },
  {
   "cell_type": "markdown",
   "metadata": {},
   "source": [
    "Now we are ready to define our dataset and model to perform federated learning on. The dataset should be composed of a numpy arrayWe start with a simple fully connected model that is trained on the MNIST dataset. "
   ]
  },
  {
   "cell_type": "code",
   "execution_count": null,
   "metadata": {
    "scrolled": true
   },
   "outputs": [],
   "source": [
    "def one_hot(labels, classes):\n",
    "    return np.eye(classes)[labels]\n",
    "\n",
    "transform = transforms.Compose(\n",
    "    [transforms.ToTensor(),\n",
    "     transforms.Normalize((0.5, 0.5, 0.5), (0.5, 0.5, 0.5))])\n",
    "\n",
    "trainset = torchvision.datasets.MNIST(root='./data', train=True,\n",
    "                                        download=True, transform=transform)\n",
    "\n",
    "train_images,train_labels = trainset.train_data, np.array(trainset.train_labels)\n",
    "train_images = torch.from_numpy(np.expand_dims(train_images, axis=1)).float()\n",
    "\n",
    "validset = torchvision.datasets.MNIST(root='./data', train=False,\n",
    "                                       download=True, transform=transform)\n",
    "\n",
    "valid_images,valid_labels = validset.test_data, np.array(validset.test_labels)\n",
    "valid_images = torch.from_numpy(np.expand_dims(valid_images, axis=1)).float()\n",
    "valid_labels = one_hot(valid_labels,10)"
   ]
  },
  {
   "cell_type": "code",
   "execution_count": 5,
   "metadata": {},
   "outputs": [],
   "source": [
    "feature_shape = train_images.shape[1]\n",
    "classes       = 10\n",
    "\n",
    "fl_data = FederatedDataSet(train_images,train_labels,valid_images,valid_labels,batch_size=32,num_classes=classes)\n",
    "\n",
    "class Net(nn.Module):\n",
    "    def __init__(self):\n",
    "        super(Net, self).__init__()\n",
    "        self.conv1 = nn.Conv2d(1, 16, 3)\n",
    "        self.pool = nn.MaxPool2d(2, 2)\n",
    "        self.conv2 = nn.Conv2d(16, 32, 3)\n",
    "        self.fc1 = nn.Linear(32 * 5 * 5, 32)\n",
    "        self.fc2 = nn.Linear(32, 84)\n",
    "        self.fc3 = nn.Linear(84, 10)\n",
    "\n",
    "    def forward(self, x):\n",
    "        x = self.pool(F.relu(self.conv1(x)))\n",
    "        x = self.pool(F.relu(self.conv2(x)))\n",
    "        x = x.view(x.size(0),-1)\n",
    "        x = F.relu(self.fc1(x))\n",
    "        x = F.relu(self.fc2(x))\n",
    "        x = self.fc3(x)\n",
    "        return F.log_softmax(x, dim=1)\n",
    "    \n",
    "optimizer = lambda x: optim.Adam(x, lr=1e-4)\n",
    "\n",
    "def cross_entropy(output, target):\n",
    "    \"\"\"Binary cross-entropy metric\n",
    "    \"\"\"\n",
    "    return F.cross_entropy(input=output,target=target)"
   ]
  },
  {
   "cell_type": "markdown",
   "metadata": {},
   "source": [
    "Here we can define metric logging function. It should has the following signature described below. You can use it to write metrics to tensorboard or some another specific logging."
   ]
  },
  {
   "cell_type": "code",
   "execution_count": 6,
   "metadata": {},
   "outputs": [],
   "source": [
    "from torch.utils.tensorboard import SummaryWriter\n",
    "\n",
    "writer = SummaryWriter('./logs/cnn_mnist', flush_secs=5)\n",
    "\n",
    "\n",
    "def write_metric(node_name, task_name, metric_name, metric, round_number):\n",
    "    writer.add_scalar(\"{}/{}/{}\".format(node_name, task_name, metric_name),\n",
    "                      metric, round_number)"
   ]
  },
  {
   "cell_type": "code",
   "execution_count": 7,
   "metadata": {},
   "outputs": [
    {
     "data": {
      "text/html": [
       "<pre style=\"white-space:pre;overflow-x:auto;line-height:normal;font-family:Menlo,'DejaVu Sans Mono',consolas,'Courier New',monospace\"><span style=\"color: #7fbfbf\">[12:58:17] </span><span style=\"color: #800000\">WARNING</span>  tried to remove tensor: __opt_state_needed not present in the tensor dict                                                       <a href=\"file:///home/radionov/.envs/old_api_fixes/lib/python3.6/site-packages/openfl/utilities/utils.py\"><span style=\"color: #7f7f7f\">utils.py</span></a><span style=\"color: #7f7f7f\">:113</span>\n",
       "</pre>\n"
      ],
      "text/plain": [
       "<rich.jupyter.JupyterRenderable at 0x7f2b8059b1d0>"
      ]
     },
     "metadata": {},
     "output_type": "display_data"
    }
   ],
   "source": [
    "\n",
    "#Create a federated model using the pytorch class, lambda optimizer function, and loss function\n",
    "fl_model = FederatedModel(build_model=Net,optimizer=optimizer,loss_fn=cross_entropy,data_loader=fl_data)"
   ]
  },
  {
   "cell_type": "markdown",
   "metadata": {},
   "source": [
    "The `FederatedModel` object is a wrapper around your Keras, Tensorflow or PyTorch model that makes it compatible with openfl. It provides built in federated training and validation functions that we will see used below. Using it's `setup` function, collaborator models and datasets can be automatically defined for the experiment. "
   ]
  },
  {
   "cell_type": "code",
   "execution_count": 8,
   "metadata": {},
   "outputs": [
    {
     "data": {
      "text/html": [
       "<pre style=\"white-space:pre;overflow-x:auto;line-height:normal;font-family:Menlo,'DejaVu Sans Mono',consolas,'Courier New',monospace\"><span style=\"color: #7fbfbf\">           </span><span style=\"color: #800000\">WARNING</span>  tried to remove tensor: __opt_state_needed not present in the tensor dict                                                       <a href=\"file:///home/radionov/.envs/old_api_fixes/lib/python3.6/site-packages/openfl/utilities/utils.py\"><span style=\"color: #7f7f7f\">utils.py</span></a><span style=\"color: #7f7f7f\">:113</span>\n",
       "</pre>\n"
      ],
      "text/plain": [
       "<rich.jupyter.JupyterRenderable at 0x7f2b80575b70>"
      ]
     },
     "metadata": {},
     "output_type": "display_data"
    },
    {
     "data": {
      "text/html": [
       "<pre style=\"white-space:pre;overflow-x:auto;line-height:normal;font-family:Menlo,'DejaVu Sans Mono',consolas,'Courier New',monospace\"><span style=\"color: #7fbfbf\">           </span><span style=\"color: #800000\">WARNING</span>  tried to remove tensor: __opt_state_needed not present in the tensor dict                                                       <a href=\"file:///home/radionov/.envs/old_api_fixes/lib/python3.6/site-packages/openfl/utilities/utils.py\"><span style=\"color: #7f7f7f\">utils.py</span></a><span style=\"color: #7f7f7f\">:113</span>\n",
       "</pre>\n"
      ],
      "text/plain": [
       "<rich.jupyter.JupyterRenderable at 0x7f2b8059bdd8>"
      ]
     },
     "metadata": {},
     "output_type": "display_data"
    }
   ],
   "source": [
    "collaborator_models = fl_model.setup(num_collaborators=2)\n",
    "collaborators = {'one':collaborator_models[0],'two':collaborator_models[1]}#, 'three':collaborator_models[2]}"
   ]
  },
  {
   "cell_type": "code",
   "execution_count": 9,
   "metadata": {},
   "outputs": [
    {
     "name": "stdout",
     "output_type": "stream",
     "text": [
      "Original training data size: 60000\n",
      "Original validation data size: 10000\n",
      "\n",
      "Collaborator one's training data size: 30000\n",
      "Collaborator one's validation data size: 5000\n",
      "\n",
      "Collaborator two's training data size: 30000\n",
      "Collaborator two's validation data size: 5000\n",
      "\n"
     ]
    }
   ],
   "source": [
    "#Original MNIST dataset\n",
    "print(f'Original training data size: {len(train_images)}')\n",
    "print(f'Original validation data size: {len(valid_images)}\\n')\n",
    "\n",
    "#Collaborator one's data\n",
    "print(f'Collaborator one\\'s training data size: {len(collaborator_models[0].data_loader.X_train)}')\n",
    "print(f'Collaborator one\\'s validation data size: {len(collaborator_models[0].data_loader.X_valid)}\\n')\n",
    "\n",
    "#Collaborator two's data\n",
    "print(f'Collaborator two\\'s training data size: {len(collaborator_models[1].data_loader.X_train)}')\n",
    "print(f'Collaborator two\\'s validation data size: {len(collaborator_models[1].data_loader.X_valid)}\\n')\n",
    "\n",
    "#Collaborator three's data\n",
    "#print(f'Collaborator three\\'s training data size: {len(collaborator_models[2].data_loader.X_train)}')\n",
    "#print(f'Collaborator three\\'s validation data size: {len(collaborator_models[2].data_loader.X_valid)}')"
   ]
  },
  {
   "cell_type": "markdown",
   "metadata": {},
   "source": [
    "We can see the current plan values by running the `fx.get_plan()` function"
   ]
  },
  {
   "cell_type": "code",
   "execution_count": null,
   "metadata": {
    "scrolled": true
   },
   "outputs": [],
   "source": [
    " #Get the current values of the plan. Each of these can be overridden\n",
    "print(fx.get_plan())"
   ]
  },
  {
   "cell_type": "markdown",
   "metadata": {},
   "source": [
    "Now we are ready to run our experiment. If we want to pass in custom plan settings, we can easily do that with the `override_config` parameter"
   ]
  },
  {
   "cell_type": "code",
   "execution_count": 11,
   "metadata": {
    "scrolled": false
   },
   "outputs": [
    {
     "name": "stderr",
     "output_type": "stream",
     "text": [
      "/home/radionov/.envs/old_api_fixes/lib/python3.6/site-packages/openfl/federated/task/runner_pt.py:276: UserWarning: The given NumPy array is not writeable, and PyTorch does not support non-writeable tensors. This means you can write to the underlying (supposedly non-writeable) NumPy array using the tensor. You may want to copy the array to protect its data or make it writeable before converting it to a tensor. This type of warning will be suppressed for the rest of this program. (Triggered internally at  /pytorch/torch/csrc/utils/tensor_numpy.cpp:143.)\n",
      "  new_state[k] = pt.from_numpy(tensor_dict.pop(k)).to(device)\n",
      "/home/radionov/.envs/old_api_fixes/lib/python3.6/site-packages/openfl/federated/task/runner_pt.py:101: UserWarning: To copy construct from a tensor, it is recommended to use sourceTensor.clone().detach() or sourceTensor.clone().detach().requires_grad_(True), rather than torch.tensor(sourceTensor).\n",
      "  data, target = pt.tensor(data).to(self.device), pt.tensor(\n"
     ]
    },
    {
     "data": {
      "text/html": [
       "<pre style=\"white-space:pre;overflow-x:auto;line-height:normal;font-family:Menlo,'DejaVu Sans Mono',consolas,'Courier New',monospace\"><span style=\"color: #7fbfbf\">[12:58:19] </span>METRIC   Round <span style=\"color: #000080; font-weight: bold\">0</span>, collaborator one is sending metric for task aggregated_model_validation: acc   <span style=\"color: #000080; font-weight: bold\">0.1388</span>                           <a href=\"file:///home/radionov/.envs/old_api_fixes/lib/python3.6/site-packages/openfl/component/collaborator/collaborator.py\"><span style=\"color: #7f7f7f\">collaborator.py</span></a><span style=\"color: #7f7f7f\">:374</span>\n",
       "</pre>\n"
      ],
      "text/plain": [
       "<rich.jupyter.JupyterRenderable at 0x7f2b8054ea20>"
      ]
     },
     "metadata": {},
     "output_type": "display_data"
    },
    {
     "name": "stderr",
     "output_type": "stream",
     "text": [
      "/home/radionov/.envs/old_api_fixes/lib/python3.6/site-packages/openfl/federated/task/runner_pt.py:452: UserWarning: To copy construct from a tensor, it is recommended to use sourceTensor.clone().detach() or sourceTensor.clone().detach().requires_grad_(True), rather than torch.tensor(sourceTensor).\n",
      "  data, target = pt.tensor(data).to(self.device), pt.tensor(\n"
     ]
    },
    {
     "data": {
      "text/html": [
       "<pre style=\"white-space:pre;overflow-x:auto;line-height:normal;font-family:Menlo,'DejaVu Sans Mono',consolas,'Courier New',monospace\"><span style=\"color: #7fbfbf\">[12:58:23] </span>METRIC   Round <span style=\"color: #000080; font-weight: bold\">0</span>, collaborator one is sending metric for task train: cross_entropy       <span style=\"color: #000080; font-weight: bold\">0.5070430636405945</span>                       <a href=\"file:///home/radionov/.envs/old_api_fixes/lib/python3.6/site-packages/openfl/component/collaborator/collaborator.py\"><span style=\"color: #7f7f7f\">collaborator.py</span></a><span style=\"color: #7f7f7f\">:374</span>\n",
       "</pre>\n"
      ],
      "text/plain": [
       "<rich.jupyter.JupyterRenderable at 0x7f2b8054aba8>"
      ]
     },
     "metadata": {},
     "output_type": "display_data"
    },
    {
     "data": {
      "text/html": [
       "<pre style=\"white-space:pre;overflow-x:auto;line-height:normal;font-family:Menlo,'DejaVu Sans Mono',consolas,'Courier New',monospace\"><span style=\"color: #7fbfbf\">           </span>METRIC   Round <span style=\"color: #000080; font-weight: bold\">0</span>, collaborator one is sending metric for task locally_tuned_model_validation: acc        <span style=\"color: #000080; font-weight: bold\">0.9422</span>                   <a href=\"file:///home/radionov/.envs/old_api_fixes/lib/python3.6/site-packages/openfl/component/collaborator/collaborator.py\"><span style=\"color: #7f7f7f\">collaborator.py</span></a><span style=\"color: #7f7f7f\">:374</span>\n",
       "</pre>\n"
      ],
      "text/plain": [
       "<rich.jupyter.JupyterRenderable at 0x7f2b8054ab38>"
      ]
     },
     "metadata": {},
     "output_type": "display_data"
    },
    {
     "data": {
      "text/html": [
       "<pre style=\"white-space:pre;overflow-x:auto;line-height:normal;font-family:Menlo,'DejaVu Sans Mono',consolas,'Courier New',monospace\"><span style=\"color: #7fbfbf\">           </span>METRIC   Round <span style=\"color: #000080; font-weight: bold\">0</span>, collaborator two is sending metric for task aggregated_model_validation: acc   <span style=\"color: #000080; font-weight: bold\">0.1244</span>                           <a href=\"file:///home/radionov/.envs/old_api_fixes/lib/python3.6/site-packages/openfl/component/collaborator/collaborator.py\"><span style=\"color: #7f7f7f\">collaborator.py</span></a><span style=\"color: #7f7f7f\">:374</span>\n",
       "</pre>\n"
      ],
      "text/plain": [
       "<rich.jupyter.JupyterRenderable at 0x7f2b8059f630>"
      ]
     },
     "metadata": {},
     "output_type": "display_data"
    },
    {
     "data": {
      "text/html": [
       "<pre style=\"white-space:pre;overflow-x:auto;line-height:normal;font-family:Menlo,'DejaVu Sans Mono',consolas,'Courier New',monospace\"><span style=\"color: #7fbfbf\">[12:58:27] </span>METRIC   Round <span style=\"color: #000080; font-weight: bold\">0</span>, collaborator two is sending metric for task train: cross_entropy       <span style=\"color: #000080; font-weight: bold\">0.4986061453819275</span>                       <a href=\"file:///home/radionov/.envs/old_api_fixes/lib/python3.6/site-packages/openfl/component/collaborator/collaborator.py\"><span style=\"color: #7f7f7f\">collaborator.py</span></a><span style=\"color: #7f7f7f\">:374</span>\n",
       "</pre>\n"
      ],
      "text/plain": [
       "<rich.jupyter.JupyterRenderable at 0x7f2b8054e550>"
      ]
     },
     "metadata": {},
     "output_type": "display_data"
    },
    {
     "data": {
      "text/html": [
       "<pre style=\"white-space:pre;overflow-x:auto;line-height:normal;font-family:Menlo,'DejaVu Sans Mono',consolas,'Courier New',monospace\"><span style=\"color: #7fbfbf\">           </span>METRIC   Round <span style=\"color: #000080; font-weight: bold\">0</span>, collaborator two is sending metric for task locally_tuned_model_validation: acc        <span style=\"color: #000080; font-weight: bold\">0.954</span>                    <a href=\"file:///home/radionov/.envs/old_api_fixes/lib/python3.6/site-packages/openfl/component/collaborator/collaborator.py\"><span style=\"color: #7f7f7f\">collaborator.py</span></a><span style=\"color: #7f7f7f\">:374</span>\n",
       "</pre>\n"
      ],
      "text/plain": [
       "<rich.jupyter.JupyterRenderable at 0x7f2b8054e518>"
      ]
     },
     "metadata": {},
     "output_type": "display_data"
    },
    {
     "data": {
      "text/html": [
       "<pre style=\"white-space:pre;overflow-x:auto;line-height:normal;font-family:Menlo,'DejaVu Sans Mono',consolas,'Courier New',monospace\"><span style=\"color: #7fbfbf\">           </span>METRIC   Round <span style=\"color: #000080; font-weight: bold\">0</span>, aggregator: aggregated_model_validation <span style=\"font-weight: bold\">&lt;</span><span style=\"color: #ff00ff; font-weight: bold\">openfl.component.aggregation_functions.weighted_average.WeightedAverage</span><span style=\"color: #000000\"> </span> <a href=\"file:///home/radionov/.envs/old_api_fixes/lib/python3.6/site-packages/openfl/component/aggregator/aggregator.py\"><span style=\"color: #7f7f7f\">aggregator.py</span></a><span style=\"color: #7f7f7f\">:771</span>\n",
       "                    <span style=\"color: #000000\">object at </span><span style=\"color: #000080; font-weight: bold\">0x7f2b8059bd68</span><span style=\"font-weight: bold\">&gt;</span> acc:        <span style=\"color: #000080; font-weight: bold\">0.1316</span>                                                                                                \n",
       "</pre>\n"
      ],
      "text/plain": [
       "<rich.jupyter.JupyterRenderable at 0x7f2b6b842748>"
      ]
     },
     "metadata": {},
     "output_type": "display_data"
    },
    {
     "data": {
      "text/html": [
       "<pre style=\"white-space:pre;overflow-x:auto;line-height:normal;font-family:Menlo,'DejaVu Sans Mono',consolas,'Courier New',monospace\"><span style=\"color: #7fbfbf\">           </span>METRIC   Round <span style=\"color: #000080; font-weight: bold\">0</span>: saved the best model with score <span style=\"color: #000080; font-weight: bold\">0.131600</span>                                                                          <a href=\"file:///home/radionov/.envs/old_api_fixes/lib/python3.6/site-packages/openfl/component/aggregator/aggregator.py\"><span style=\"color: #7f7f7f\">aggregator.py</span></a><span style=\"color: #7f7f7f\">:785</span>\n",
       "</pre>\n"
      ],
      "text/plain": [
       "<rich.jupyter.JupyterRenderable at 0x7f2b6b842518>"
      ]
     },
     "metadata": {},
     "output_type": "display_data"
    },
    {
     "data": {
      "text/html": [
       "<pre style=\"white-space:pre;overflow-x:auto;line-height:normal;font-family:Menlo,'DejaVu Sans Mono',consolas,'Courier New',monospace\"><span style=\"color: #7fbfbf\">           </span>METRIC   Round <span style=\"color: #000080; font-weight: bold\">0</span>, aggregator: train <span style=\"font-weight: bold\">&lt;</span><span style=\"color: #ff00ff; font-weight: bold\">openfl.component.aggregation_functions.weighted_average.WeightedAverage</span><span style=\"color: #000000\"> object at </span>             <a href=\"file:///home/radionov/.envs/old_api_fixes/lib/python3.6/site-packages/openfl/component/aggregator/aggregator.py\"><span style=\"color: #7f7f7f\">aggregator.py</span></a><span style=\"color: #7f7f7f\">:771</span>\n",
       "                    <span style=\"color: #000080; font-weight: bold\">0x7f2b8059bd68</span><span style=\"font-weight: bold\">&gt;</span> cross_entropy:    <span style=\"color: #000080; font-weight: bold\">0.5028</span>                                                                                                    \n",
       "</pre>\n"
      ],
      "text/plain": [
       "<rich.jupyter.JupyterRenderable at 0x7f2b6b842438>"
      ]
     },
     "metadata": {},
     "output_type": "display_data"
    },
    {
     "data": {
      "text/html": [
       "<pre style=\"white-space:pre;overflow-x:auto;line-height:normal;font-family:Menlo,'DejaVu Sans Mono',consolas,'Courier New',monospace\"><span style=\"color: #7fbfbf\">[12:58:28] </span>METRIC   Round <span style=\"color: #000080; font-weight: bold\">0</span>, aggregator: locally_tuned_model_validation                                                                        <a href=\"file:///home/radionov/.envs/old_api_fixes/lib/python3.6/site-packages/openfl/component/aggregator/aggregator.py\"><span style=\"color: #7f7f7f\">aggregator.py</span></a><span style=\"color: #7f7f7f\">:771</span>\n",
       "                    <span style=\"font-weight: bold\">&lt;</span><span style=\"color: #ff00ff; font-weight: bold\">openfl.component.aggregation_functions.weighted_average.WeightedAverage</span><span style=\"color: #000000\"> object at </span><span style=\"color: #000080; font-weight: bold\">0x7f2b8059bd68</span><span style=\"font-weight: bold\">&gt;</span> acc:     <span style=\"color: #000080; font-weight: bold\">0.9481</span>                          \n",
       "</pre>\n"
      ],
      "text/plain": [
       "<rich.jupyter.JupyterRenderable at 0x7f2b6b8429b0>"
      ]
     },
     "metadata": {},
     "output_type": "display_data"
    },
    {
     "data": {
      "text/html": [
       "<pre style=\"white-space:pre;overflow-x:auto;line-height:normal;font-family:Menlo,'DejaVu Sans Mono',consolas,'Courier New',monospace\"><span style=\"color: #7fbfbf\">           </span>METRIC   Round <span style=\"color: #000080; font-weight: bold\">1</span>, collaborator one is sending metric for task aggregated_model_validation: acc   <span style=\"color: #000080; font-weight: bold\">0.9104</span>                           <a href=\"file:///home/radionov/.envs/old_api_fixes/lib/python3.6/site-packages/openfl/component/collaborator/collaborator.py\"><span style=\"color: #7f7f7f\">collaborator.py</span></a><span style=\"color: #7f7f7f\">:374</span>\n",
       "</pre>\n"
      ],
      "text/plain": [
       "<rich.jupyter.JupyterRenderable at 0x7f2b6b86cc50>"
      ]
     },
     "metadata": {},
     "output_type": "display_data"
    },
    {
     "data": {
      "text/html": [
       "<pre style=\"white-space:pre;overflow-x:auto;line-height:normal;font-family:Menlo,'DejaVu Sans Mono',consolas,'Courier New',monospace\"><span style=\"color: #7fbfbf\">[12:58:32] </span>METRIC   Round <span style=\"color: #000080; font-weight: bold\">1</span>, collaborator one is sending metric for task train: cross_entropy       <span style=\"color: #000080; font-weight: bold\">0.14859113097190857</span>                      <a href=\"file:///home/radionov/.envs/old_api_fixes/lib/python3.6/site-packages/openfl/component/collaborator/collaborator.py\"><span style=\"color: #7f7f7f\">collaborator.py</span></a><span style=\"color: #7f7f7f\">:374</span>\n",
       "</pre>\n"
      ],
      "text/plain": [
       "<rich.jupyter.JupyterRenderable at 0x7f2b6b847198>"
      ]
     },
     "metadata": {},
     "output_type": "display_data"
    },
    {
     "data": {
      "text/html": [
       "<pre style=\"white-space:pre;overflow-x:auto;line-height:normal;font-family:Menlo,'DejaVu Sans Mono',consolas,'Courier New',monospace\"><span style=\"color: #7fbfbf\">           </span>METRIC   Round <span style=\"color: #000080; font-weight: bold\">1</span>, collaborator one is sending metric for task locally_tuned_model_validation: acc        <span style=\"color: #000080; font-weight: bold\">0.9656</span>                   <a href=\"file:///home/radionov/.envs/old_api_fixes/lib/python3.6/site-packages/openfl/component/collaborator/collaborator.py\"><span style=\"color: #7f7f7f\">collaborator.py</span></a><span style=\"color: #7f7f7f\">:374</span>\n",
       "</pre>\n"
      ],
      "text/plain": [
       "<rich.jupyter.JupyterRenderable at 0x7f2b6b8471d0>"
      ]
     },
     "metadata": {},
     "output_type": "display_data"
    },
    {
     "data": {
      "text/html": [
       "<pre style=\"white-space:pre;overflow-x:auto;line-height:normal;font-family:Menlo,'DejaVu Sans Mono',consolas,'Courier New',monospace\"><span style=\"color: #7fbfbf\">           </span>METRIC   Round <span style=\"color: #000080; font-weight: bold\">1</span>, collaborator two is sending metric for task aggregated_model_validation: acc   <span style=\"color: #000080; font-weight: bold\">0.9016</span>                           <a href=\"file:///home/radionov/.envs/old_api_fixes/lib/python3.6/site-packages/openfl/component/collaborator/collaborator.py\"><span style=\"color: #7f7f7f\">collaborator.py</span></a><span style=\"color: #7f7f7f\">:374</span>\n",
       "</pre>\n"
      ],
      "text/plain": [
       "<rich.jupyter.JupyterRenderable at 0x7f2b6b847f98>"
      ]
     },
     "metadata": {},
     "output_type": "display_data"
    },
    {
     "data": {
      "text/html": [
       "<pre style=\"white-space:pre;overflow-x:auto;line-height:normal;font-family:Menlo,'DejaVu Sans Mono',consolas,'Courier New',monospace\"><span style=\"color: #7fbfbf\">[12:58:36] </span>METRIC   Round <span style=\"color: #000080; font-weight: bold\">1</span>, collaborator two is sending metric for task train: cross_entropy       <span style=\"color: #000080; font-weight: bold\">0.14438636600971222</span>                      <a href=\"file:///home/radionov/.envs/old_api_fixes/lib/python3.6/site-packages/openfl/component/collaborator/collaborator.py\"><span style=\"color: #7f7f7f\">collaborator.py</span></a><span style=\"color: #7f7f7f\">:374</span>\n",
       "</pre>\n"
      ],
      "text/plain": [
       "<rich.jupyter.JupyterRenderable at 0x7f2b8054e588>"
      ]
     },
     "metadata": {},
     "output_type": "display_data"
    },
    {
     "data": {
      "text/html": [
       "<pre style=\"white-space:pre;overflow-x:auto;line-height:normal;font-family:Menlo,'DejaVu Sans Mono',consolas,'Courier New',monospace\"><span style=\"color: #7fbfbf\">           </span>METRIC   Round <span style=\"color: #000080; font-weight: bold\">1</span>, collaborator two is sending metric for task locally_tuned_model_validation: acc        <span style=\"color: #000080; font-weight: bold\">0.9672</span>                   <a href=\"file:///home/radionov/.envs/old_api_fixes/lib/python3.6/site-packages/openfl/component/collaborator/collaborator.py\"><span style=\"color: #7f7f7f\">collaborator.py</span></a><span style=\"color: #7f7f7f\">:374</span>\n",
       "</pre>\n"
      ],
      "text/plain": [
       "<rich.jupyter.JupyterRenderable at 0x7f2b6b86cba8>"
      ]
     },
     "metadata": {},
     "output_type": "display_data"
    },
    {
     "data": {
      "text/html": [
       "<pre style=\"white-space:pre;overflow-x:auto;line-height:normal;font-family:Menlo,'DejaVu Sans Mono',consolas,'Courier New',monospace\"><span style=\"color: #7fbfbf\">           </span>METRIC   Round <span style=\"color: #000080; font-weight: bold\">1</span>, aggregator: aggregated_model_validation <span style=\"font-weight: bold\">&lt;</span><span style=\"color: #ff00ff; font-weight: bold\">openfl.component.aggregation_functions.weighted_average.WeightedAverage</span><span style=\"color: #000000\"> </span> <a href=\"file:///home/radionov/.envs/old_api_fixes/lib/python3.6/site-packages/openfl/component/aggregator/aggregator.py\"><span style=\"color: #7f7f7f\">aggregator.py</span></a><span style=\"color: #7f7f7f\">:771</span>\n",
       "                    <span style=\"color: #000000\">object at </span><span style=\"color: #000080; font-weight: bold\">0x7f2b8059bd68</span><span style=\"font-weight: bold\">&gt;</span> acc:        <span style=\"color: #000080; font-weight: bold\">0.9060</span>                                                                                                \n",
       "</pre>\n"
      ],
      "text/plain": [
       "<rich.jupyter.JupyterRenderable at 0x7f2b6b847390>"
      ]
     },
     "metadata": {},
     "output_type": "display_data"
    },
    {
     "data": {
      "text/html": [
       "<pre style=\"white-space:pre;overflow-x:auto;line-height:normal;font-family:Menlo,'DejaVu Sans Mono',consolas,'Courier New',monospace\"><span style=\"color: #7fbfbf\">           </span>METRIC   Round <span style=\"color: #000080; font-weight: bold\">1</span>: saved the best model with score <span style=\"color: #000080; font-weight: bold\">0.906000</span>                                                                          <a href=\"file:///home/radionov/.envs/old_api_fixes/lib/python3.6/site-packages/openfl/component/aggregator/aggregator.py\"><span style=\"color: #7f7f7f\">aggregator.py</span></a><span style=\"color: #7f7f7f\">:785</span>\n",
       "</pre>\n"
      ],
      "text/plain": [
       "<rich.jupyter.JupyterRenderable at 0x7f2b6b867240>"
      ]
     },
     "metadata": {},
     "output_type": "display_data"
    },
    {
     "data": {
      "text/html": [
       "<pre style=\"white-space:pre;overflow-x:auto;line-height:normal;font-family:Menlo,'DejaVu Sans Mono',consolas,'Courier New',monospace\"><span style=\"color: #7fbfbf\">           </span>METRIC   Round <span style=\"color: #000080; font-weight: bold\">1</span>, aggregator: train <span style=\"font-weight: bold\">&lt;</span><span style=\"color: #ff00ff; font-weight: bold\">openfl.component.aggregation_functions.weighted_average.WeightedAverage</span><span style=\"color: #000000\"> object at </span>             <a href=\"file:///home/radionov/.envs/old_api_fixes/lib/python3.6/site-packages/openfl/component/aggregator/aggregator.py\"><span style=\"color: #7f7f7f\">aggregator.py</span></a><span style=\"color: #7f7f7f\">:771</span>\n",
       "                    <span style=\"color: #000080; font-weight: bold\">0x7f2b8059bd68</span><span style=\"font-weight: bold\">&gt;</span> cross_entropy:    <span style=\"color: #000080; font-weight: bold\">0.1465</span>                                                                                                    \n",
       "</pre>\n"
      ],
      "text/plain": [
       "<rich.jupyter.JupyterRenderable at 0x7f2b6b867438>"
      ]
     },
     "metadata": {},
     "output_type": "display_data"
    },
    {
     "data": {
      "text/html": [
       "<pre style=\"white-space:pre;overflow-x:auto;line-height:normal;font-family:Menlo,'DejaVu Sans Mono',consolas,'Courier New',monospace\"><span style=\"color: #7fbfbf\">[12:58:37] </span>METRIC   Round <span style=\"color: #000080; font-weight: bold\">1</span>, aggregator: locally_tuned_model_validation                                                                        <a href=\"file:///home/radionov/.envs/old_api_fixes/lib/python3.6/site-packages/openfl/component/aggregator/aggregator.py\"><span style=\"color: #7f7f7f\">aggregator.py</span></a><span style=\"color: #7f7f7f\">:771</span>\n",
       "                    <span style=\"font-weight: bold\">&lt;</span><span style=\"color: #ff00ff; font-weight: bold\">openfl.component.aggregation_functions.weighted_average.WeightedAverage</span><span style=\"color: #000000\"> object at </span><span style=\"color: #000080; font-weight: bold\">0x7f2b8059bd68</span><span style=\"font-weight: bold\">&gt;</span> acc:     <span style=\"color: #000080; font-weight: bold\">0.9664</span>                          \n",
       "</pre>\n"
      ],
      "text/plain": [
       "<rich.jupyter.JupyterRenderable at 0x7f2b6b867ac8>"
      ]
     },
     "metadata": {},
     "output_type": "display_data"
    },
    {
     "data": {
      "text/html": [
       "<pre style=\"white-space:pre;overflow-x:auto;line-height:normal;font-family:Menlo,'DejaVu Sans Mono',consolas,'Courier New',monospace\"><span style=\"color: #7fbfbf\">           </span>METRIC   Round <span style=\"color: #000080; font-weight: bold\">2</span>, collaborator one is sending metric for task aggregated_model_validation: acc   <span style=\"color: #000080; font-weight: bold\">0.9698</span>                           <a href=\"file:///home/radionov/.envs/old_api_fixes/lib/python3.6/site-packages/openfl/component/collaborator/collaborator.py\"><span style=\"color: #7f7f7f\">collaborator.py</span></a><span style=\"color: #7f7f7f\">:374</span>\n",
       "</pre>\n"
      ],
      "text/plain": [
       "<rich.jupyter.JupyterRenderable at 0x7f2b6b867748>"
      ]
     },
     "metadata": {},
     "output_type": "display_data"
    },
    {
     "data": {
      "text/html": [
       "<pre style=\"white-space:pre;overflow-x:auto;line-height:normal;font-family:Menlo,'DejaVu Sans Mono',consolas,'Courier New',monospace\"><span style=\"color: #7fbfbf\">[12:58:41] </span>METRIC   Round <span style=\"color: #000080; font-weight: bold\">2</span>, collaborator one is sending metric for task train: cross_entropy       <span style=\"color: #000080; font-weight: bold\">0.10016980022192001</span>                      <a href=\"file:///home/radionov/.envs/old_api_fixes/lib/python3.6/site-packages/openfl/component/collaborator/collaborator.py\"><span style=\"color: #7f7f7f\">collaborator.py</span></a><span style=\"color: #7f7f7f\">:374</span>\n",
       "</pre>\n"
      ],
      "text/plain": [
       "<rich.jupyter.JupyterRenderable at 0x7f2b9c4d2c50>"
      ]
     },
     "metadata": {},
     "output_type": "display_data"
    },
    {
     "data": {
      "text/html": [
       "<pre style=\"white-space:pre;overflow-x:auto;line-height:normal;font-family:Menlo,'DejaVu Sans Mono',consolas,'Courier New',monospace\"><span style=\"color: #7fbfbf\">           </span>METRIC   Round <span style=\"color: #000080; font-weight: bold\">2</span>, collaborator one is sending metric for task locally_tuned_model_validation: acc        <span style=\"color: #000080; font-weight: bold\">0.9746</span>                   <a href=\"file:///home/radionov/.envs/old_api_fixes/lib/python3.6/site-packages/openfl/component/collaborator/collaborator.py\"><span style=\"color: #7f7f7f\">collaborator.py</span></a><span style=\"color: #7f7f7f\">:374</span>\n",
       "</pre>\n"
      ],
      "text/plain": [
       "<rich.jupyter.JupyterRenderable at 0x7f2b6b865780>"
      ]
     },
     "metadata": {},
     "output_type": "display_data"
    },
    {
     "data": {
      "text/html": [
       "<pre style=\"white-space:pre;overflow-x:auto;line-height:normal;font-family:Menlo,'DejaVu Sans Mono',consolas,'Courier New',monospace\"><span style=\"color: #7fbfbf\">           </span>METRIC   Round <span style=\"color: #000080; font-weight: bold\">2</span>, collaborator two is sending metric for task aggregated_model_validation: acc   <span style=\"color: #000080; font-weight: bold\">0.9704</span>                           <a href=\"file:///home/radionov/.envs/old_api_fixes/lib/python3.6/site-packages/openfl/component/collaborator/collaborator.py\"><span style=\"color: #7f7f7f\">collaborator.py</span></a><span style=\"color: #7f7f7f\">:374</span>\n",
       "</pre>\n"
      ],
      "text/plain": [
       "<rich.jupyter.JupyterRenderable at 0x7f2b6b865860>"
      ]
     },
     "metadata": {},
     "output_type": "display_data"
    },
    {
     "data": {
      "text/html": [
       "<pre style=\"white-space:pre;overflow-x:auto;line-height:normal;font-family:Menlo,'DejaVu Sans Mono',consolas,'Courier New',monospace\"><span style=\"color: #7fbfbf\">[12:58:46] </span>METRIC   Round <span style=\"color: #000080; font-weight: bold\">2</span>, collaborator two is sending metric for task train: cross_entropy       <span style=\"color: #000080; font-weight: bold\">0.09617477655410767</span>                      <a href=\"file:///home/radionov/.envs/old_api_fixes/lib/python3.6/site-packages/openfl/component/collaborator/collaborator.py\"><span style=\"color: #7f7f7f\">collaborator.py</span></a><span style=\"color: #7f7f7f\">:374</span>\n",
       "</pre>\n"
      ],
      "text/plain": [
       "<rich.jupyter.JupyterRenderable at 0x7f2b6b847f60>"
      ]
     },
     "metadata": {},
     "output_type": "display_data"
    },
    {
     "data": {
      "text/html": [
       "<pre style=\"white-space:pre;overflow-x:auto;line-height:normal;font-family:Menlo,'DejaVu Sans Mono',consolas,'Courier New',monospace\"><span style=\"color: #7fbfbf\">           </span>METRIC   Round <span style=\"color: #000080; font-weight: bold\">2</span>, collaborator two is sending metric for task locally_tuned_model_validation: acc        <span style=\"color: #000080; font-weight: bold\">0.9756</span>                   <a href=\"file:///home/radionov/.envs/old_api_fixes/lib/python3.6/site-packages/openfl/component/collaborator/collaborator.py\"><span style=\"color: #7f7f7f\">collaborator.py</span></a><span style=\"color: #7f7f7f\">:374</span>\n",
       "</pre>\n"
      ],
      "text/plain": [
       "<rich.jupyter.JupyterRenderable at 0x7f2b6b865908>"
      ]
     },
     "metadata": {},
     "output_type": "display_data"
    },
    {
     "data": {
      "text/html": [
       "<pre style=\"white-space:pre;overflow-x:auto;line-height:normal;font-family:Menlo,'DejaVu Sans Mono',consolas,'Courier New',monospace\"><span style=\"color: #7fbfbf\">           </span>METRIC   Round <span style=\"color: #000080; font-weight: bold\">2</span>, aggregator: aggregated_model_validation <span style=\"font-weight: bold\">&lt;</span><span style=\"color: #ff00ff; font-weight: bold\">openfl.component.aggregation_functions.weighted_average.WeightedAverage</span><span style=\"color: #000000\"> </span> <a href=\"file:///home/radionov/.envs/old_api_fixes/lib/python3.6/site-packages/openfl/component/aggregator/aggregator.py\"><span style=\"color: #7f7f7f\">aggregator.py</span></a><span style=\"color: #7f7f7f\">:771</span>\n",
       "                    <span style=\"color: #000000\">object at </span><span style=\"color: #000080; font-weight: bold\">0x7f2b8059bd68</span><span style=\"font-weight: bold\">&gt;</span> acc:        <span style=\"color: #000080; font-weight: bold\">0.9701</span>                                                                                                \n",
       "</pre>\n"
      ],
      "text/plain": [
       "<rich.jupyter.JupyterRenderable at 0x7f2b6b853630>"
      ]
     },
     "metadata": {},
     "output_type": "display_data"
    },
    {
     "data": {
      "text/html": [
       "<pre style=\"white-space:pre;overflow-x:auto;line-height:normal;font-family:Menlo,'DejaVu Sans Mono',consolas,'Courier New',monospace\"><span style=\"color: #7fbfbf\">           </span>METRIC   Round <span style=\"color: #000080; font-weight: bold\">2</span>: saved the best model with score <span style=\"color: #000080; font-weight: bold\">0.970100</span>                                                                          <a href=\"file:///home/radionov/.envs/old_api_fixes/lib/python3.6/site-packages/openfl/component/aggregator/aggregator.py\"><span style=\"color: #7f7f7f\">aggregator.py</span></a><span style=\"color: #7f7f7f\">:785</span>\n",
       "</pre>\n"
      ],
      "text/plain": [
       "<rich.jupyter.JupyterRenderable at 0x7f2b6b8536a0>"
      ]
     },
     "metadata": {},
     "output_type": "display_data"
    },
    {
     "data": {
      "text/html": [
       "<pre style=\"white-space:pre;overflow-x:auto;line-height:normal;font-family:Menlo,'DejaVu Sans Mono',consolas,'Courier New',monospace\"><span style=\"color: #7fbfbf\">           </span>METRIC   Round <span style=\"color: #000080; font-weight: bold\">2</span>, aggregator: train <span style=\"font-weight: bold\">&lt;</span><span style=\"color: #ff00ff; font-weight: bold\">openfl.component.aggregation_functions.weighted_average.WeightedAverage</span><span style=\"color: #000000\"> object at </span>             <a href=\"file:///home/radionov/.envs/old_api_fixes/lib/python3.6/site-packages/openfl/component/aggregator/aggregator.py\"><span style=\"color: #7f7f7f\">aggregator.py</span></a><span style=\"color: #7f7f7f\">:771</span>\n",
       "                    <span style=\"color: #000080; font-weight: bold\">0x7f2b8059bd68</span><span style=\"font-weight: bold\">&gt;</span> cross_entropy:    <span style=\"color: #000080; font-weight: bold\">0.0982</span>                                                                                                    \n",
       "</pre>\n"
      ],
      "text/plain": [
       "<rich.jupyter.JupyterRenderable at 0x7f2b6b865e10>"
      ]
     },
     "metadata": {},
     "output_type": "display_data"
    },
    {
     "data": {
      "text/html": [
       "<pre style=\"white-space:pre;overflow-x:auto;line-height:normal;font-family:Menlo,'DejaVu Sans Mono',consolas,'Courier New',monospace\"><span style=\"color: #7fbfbf\">           </span>METRIC   Round <span style=\"color: #000080; font-weight: bold\">2</span>, aggregator: locally_tuned_model_validation                                                                        <a href=\"file:///home/radionov/.envs/old_api_fixes/lib/python3.6/site-packages/openfl/component/aggregator/aggregator.py\"><span style=\"color: #7f7f7f\">aggregator.py</span></a><span style=\"color: #7f7f7f\">:771</span>\n",
       "                    <span style=\"font-weight: bold\">&lt;</span><span style=\"color: #ff00ff; font-weight: bold\">openfl.component.aggregation_functions.weighted_average.WeightedAverage</span><span style=\"color: #000000\"> object at </span><span style=\"color: #000080; font-weight: bold\">0x7f2b8059bd68</span><span style=\"font-weight: bold\">&gt;</span> acc:     <span style=\"color: #000080; font-weight: bold\">0.9751</span>                          \n",
       "</pre>\n"
      ],
      "text/plain": [
       "<rich.jupyter.JupyterRenderable at 0x7f2b6b865908>"
      ]
     },
     "metadata": {},
     "output_type": "display_data"
    },
    {
     "data": {
      "text/html": [
       "<pre style=\"white-space:pre;overflow-x:auto;line-height:normal;font-family:Menlo,'DejaVu Sans Mono',consolas,'Courier New',monospace\"><span style=\"color: #7fbfbf\">           </span>METRIC   Round <span style=\"color: #000080; font-weight: bold\">3</span>, collaborator one is sending metric for task aggregated_model_validation: acc   <span style=\"color: #000080; font-weight: bold\">0.979</span>                            <a href=\"file:///home/radionov/.envs/old_api_fixes/lib/python3.6/site-packages/openfl/component/collaborator/collaborator.py\"><span style=\"color: #7f7f7f\">collaborator.py</span></a><span style=\"color: #7f7f7f\">:374</span>\n",
       "</pre>\n"
      ],
      "text/plain": [
       "<rich.jupyter.JupyterRenderable at 0x7f2b6b853668>"
      ]
     },
     "metadata": {},
     "output_type": "display_data"
    },
    {
     "data": {
      "text/html": [
       "<pre style=\"white-space:pre;overflow-x:auto;line-height:normal;font-family:Menlo,'DejaVu Sans Mono',consolas,'Courier New',monospace\"><span style=\"color: #7fbfbf\">[12:58:50] </span>METRIC   Round <span style=\"color: #000080; font-weight: bold\">3</span>, collaborator one is sending metric for task train: cross_entropy       <span style=\"color: #000080; font-weight: bold\">0.08107422292232513</span>                      <a href=\"file:///home/radionov/.envs/old_api_fixes/lib/python3.6/site-packages/openfl/component/collaborator/collaborator.py\"><span style=\"color: #7f7f7f\">collaborator.py</span></a><span style=\"color: #7f7f7f\">:374</span>\n",
       "</pre>\n"
      ],
      "text/plain": [
       "<rich.jupyter.JupyterRenderable at 0x7f2b8054e588>"
      ]
     },
     "metadata": {},
     "output_type": "display_data"
    },
    {
     "data": {
      "text/html": [
       "<pre style=\"white-space:pre;overflow-x:auto;line-height:normal;font-family:Menlo,'DejaVu Sans Mono',consolas,'Courier New',monospace\"><span style=\"color: #7fbfbf\">           </span>METRIC   Round <span style=\"color: #000080; font-weight: bold\">3</span>, collaborator one is sending metric for task locally_tuned_model_validation: acc        <span style=\"color: #000080; font-weight: bold\">0.98</span>                     <a href=\"file:///home/radionov/.envs/old_api_fixes/lib/python3.6/site-packages/openfl/component/collaborator/collaborator.py\"><span style=\"color: #7f7f7f\">collaborator.py</span></a><span style=\"color: #7f7f7f\">:374</span>\n",
       "</pre>\n"
      ],
      "text/plain": [
       "<rich.jupyter.JupyterRenderable at 0x7f2b6b853b00>"
      ]
     },
     "metadata": {},
     "output_type": "display_data"
    },
    {
     "data": {
      "text/html": [
       "<pre style=\"white-space:pre;overflow-x:auto;line-height:normal;font-family:Menlo,'DejaVu Sans Mono',consolas,'Courier New',monospace\"><span style=\"color: #7fbfbf\">[12:58:51] </span>METRIC   Round <span style=\"color: #000080; font-weight: bold\">3</span>, collaborator two is sending metric for task aggregated_model_validation: acc   <span style=\"color: #000080; font-weight: bold\">0.9772</span>                           <a href=\"file:///home/radionov/.envs/old_api_fixes/lib/python3.6/site-packages/openfl/component/collaborator/collaborator.py\"><span style=\"color: #7f7f7f\">collaborator.py</span></a><span style=\"color: #7f7f7f\">:374</span>\n",
       "</pre>\n"
      ],
      "text/plain": [
       "<rich.jupyter.JupyterRenderable at 0x7f2b6b83d0f0>"
      ]
     },
     "metadata": {},
     "output_type": "display_data"
    },
    {
     "data": {
      "text/html": [
       "<pre style=\"white-space:pre;overflow-x:auto;line-height:normal;font-family:Menlo,'DejaVu Sans Mono',consolas,'Courier New',monospace\"><span style=\"color: #7fbfbf\">[12:58:55] </span>METRIC   Round <span style=\"color: #000080; font-weight: bold\">3</span>, collaborator two is sending metric for task train: cross_entropy       <span style=\"color: #000080; font-weight: bold\">0.07425931841135025</span>                      <a href=\"file:///home/radionov/.envs/old_api_fixes/lib/python3.6/site-packages/openfl/component/collaborator/collaborator.py\"><span style=\"color: #7f7f7f\">collaborator.py</span></a><span style=\"color: #7f7f7f\">:374</span>\n",
       "</pre>\n"
      ],
      "text/plain": [
       "<rich.jupyter.JupyterRenderable at 0x7f2b6b86cba8>"
      ]
     },
     "metadata": {},
     "output_type": "display_data"
    },
    {
     "data": {
      "text/html": [
       "<pre style=\"white-space:pre;overflow-x:auto;line-height:normal;font-family:Menlo,'DejaVu Sans Mono',consolas,'Courier New',monospace\"><span style=\"color: #7fbfbf\">           </span>METRIC   Round <span style=\"color: #000080; font-weight: bold\">3</span>, collaborator two is sending metric for task locally_tuned_model_validation: acc        <span style=\"color: #000080; font-weight: bold\">0.9776</span>                   <a href=\"file:///home/radionov/.envs/old_api_fixes/lib/python3.6/site-packages/openfl/component/collaborator/collaborator.py\"><span style=\"color: #7f7f7f\">collaborator.py</span></a><span style=\"color: #7f7f7f\">:374</span>\n",
       "</pre>\n"
      ],
      "text/plain": [
       "<rich.jupyter.JupyterRenderable at 0x7f2b6b83d3c8>"
      ]
     },
     "metadata": {},
     "output_type": "display_data"
    },
    {
     "data": {
      "text/html": [
       "<pre style=\"white-space:pre;overflow-x:auto;line-height:normal;font-family:Menlo,'DejaVu Sans Mono',consolas,'Courier New',monospace\"><span style=\"color: #7fbfbf\">           </span>METRIC   Round <span style=\"color: #000080; font-weight: bold\">3</span>, aggregator: aggregated_model_validation <span style=\"font-weight: bold\">&lt;</span><span style=\"color: #ff00ff; font-weight: bold\">openfl.component.aggregation_functions.weighted_average.WeightedAverage</span><span style=\"color: #000000\"> </span> <a href=\"file:///home/radionov/.envs/old_api_fixes/lib/python3.6/site-packages/openfl/component/aggregator/aggregator.py\"><span style=\"color: #7f7f7f\">aggregator.py</span></a><span style=\"color: #7f7f7f\">:771</span>\n",
       "                    <span style=\"color: #000000\">object at </span><span style=\"color: #000080; font-weight: bold\">0x7f2b8059bd68</span><span style=\"font-weight: bold\">&gt;</span> acc:        <span style=\"color: #000080; font-weight: bold\">0.9781</span>                                                                                                \n",
       "</pre>\n"
      ],
      "text/plain": [
       "<rich.jupyter.JupyterRenderable at 0x7f2b6b83de80>"
      ]
     },
     "metadata": {},
     "output_type": "display_data"
    },
    {
     "data": {
      "text/html": [
       "<pre style=\"white-space:pre;overflow-x:auto;line-height:normal;font-family:Menlo,'DejaVu Sans Mono',consolas,'Courier New',monospace\"><span style=\"color: #7fbfbf\">           </span>METRIC   Round <span style=\"color: #000080; font-weight: bold\">3</span>: saved the best model with score <span style=\"color: #000080; font-weight: bold\">0.978100</span>                                                                          <a href=\"file:///home/radionov/.envs/old_api_fixes/lib/python3.6/site-packages/openfl/component/aggregator/aggregator.py\"><span style=\"color: #7f7f7f\">aggregator.py</span></a><span style=\"color: #7f7f7f\">:785</span>\n",
       "</pre>\n"
      ],
      "text/plain": [
       "<rich.jupyter.JupyterRenderable at 0x7f2b6b83d8d0>"
      ]
     },
     "metadata": {},
     "output_type": "display_data"
    },
    {
     "data": {
      "text/html": [
       "<pre style=\"white-space:pre;overflow-x:auto;line-height:normal;font-family:Menlo,'DejaVu Sans Mono',consolas,'Courier New',monospace\"><span style=\"color: #7fbfbf\">           </span>METRIC   Round <span style=\"color: #000080; font-weight: bold\">3</span>, aggregator: train <span style=\"font-weight: bold\">&lt;</span><span style=\"color: #ff00ff; font-weight: bold\">openfl.component.aggregation_functions.weighted_average.WeightedAverage</span><span style=\"color: #000000\"> object at </span>             <a href=\"file:///home/radionov/.envs/old_api_fixes/lib/python3.6/site-packages/openfl/component/aggregator/aggregator.py\"><span style=\"color: #7f7f7f\">aggregator.py</span></a><span style=\"color: #7f7f7f\">:771</span>\n",
       "                    <span style=\"color: #000080; font-weight: bold\">0x7f2b8059bd68</span><span style=\"font-weight: bold\">&gt;</span> cross_entropy:    <span style=\"color: #000080; font-weight: bold\">0.0777</span>                                                                                                    \n",
       "</pre>\n"
      ],
      "text/plain": [
       "<rich.jupyter.JupyterRenderable at 0x7f2b6b83de48>"
      ]
     },
     "metadata": {},
     "output_type": "display_data"
    },
    {
     "data": {
      "text/html": [
       "<pre style=\"white-space:pre;overflow-x:auto;line-height:normal;font-family:Menlo,'DejaVu Sans Mono',consolas,'Courier New',monospace\"><span style=\"color: #7fbfbf\">           </span>METRIC   Round <span style=\"color: #000080; font-weight: bold\">3</span>, aggregator: locally_tuned_model_validation                                                                        <a href=\"file:///home/radionov/.envs/old_api_fixes/lib/python3.6/site-packages/openfl/component/aggregator/aggregator.py\"><span style=\"color: #7f7f7f\">aggregator.py</span></a><span style=\"color: #7f7f7f\">:771</span>\n",
       "                    <span style=\"font-weight: bold\">&lt;</span><span style=\"color: #ff00ff; font-weight: bold\">openfl.component.aggregation_functions.weighted_average.WeightedAverage</span><span style=\"color: #000000\"> object at </span><span style=\"color: #000080; font-weight: bold\">0x7f2b8059bd68</span><span style=\"font-weight: bold\">&gt;</span> acc:     <span style=\"color: #000080; font-weight: bold\">0.9788</span>                          \n",
       "</pre>\n"
      ],
      "text/plain": [
       "<rich.jupyter.JupyterRenderable at 0x7f2b6b83df98>"
      ]
     },
     "metadata": {},
     "output_type": "display_data"
    },
    {
     "data": {
      "text/html": [
       "<pre style=\"white-space:pre;overflow-x:auto;line-height:normal;font-family:Menlo,'DejaVu Sans Mono',consolas,'Courier New',monospace\"><span style=\"color: #7fbfbf\">           </span>METRIC   Round <span style=\"color: #000080; font-weight: bold\">4</span>, collaborator one is sending metric for task aggregated_model_validation: acc   <span style=\"color: #000080; font-weight: bold\">0.9812</span>                           <a href=\"file:///home/radionov/.envs/old_api_fixes/lib/python3.6/site-packages/openfl/component/collaborator/collaborator.py\"><span style=\"color: #7f7f7f\">collaborator.py</span></a><span style=\"color: #7f7f7f\">:374</span>\n",
       "</pre>\n"
      ],
      "text/plain": [
       "<rich.jupyter.JupyterRenderable at 0x7f2b6b833160>"
      ]
     },
     "metadata": {},
     "output_type": "display_data"
    },
    {
     "data": {
      "text/html": [
       "<pre style=\"white-space:pre;overflow-x:auto;line-height:normal;font-family:Menlo,'DejaVu Sans Mono',consolas,'Courier New',monospace\"><span style=\"color: #7fbfbf\">[12:59:00] </span>METRIC   Round <span style=\"color: #000080; font-weight: bold\">4</span>, collaborator one is sending metric for task train: cross_entropy       <span style=\"color: #000080; font-weight: bold\">0.06792154908180237</span>                      <a href=\"file:///home/radionov/.envs/old_api_fixes/lib/python3.6/site-packages/openfl/component/collaborator/collaborator.py\"><span style=\"color: #7f7f7f\">collaborator.py</span></a><span style=\"color: #7f7f7f\">:374</span>\n",
       "</pre>\n"
      ],
      "text/plain": [
       "<rich.jupyter.JupyterRenderable at 0x7f2b6b83d160>"
      ]
     },
     "metadata": {},
     "output_type": "display_data"
    },
    {
     "data": {
      "text/html": [
       "<pre style=\"white-space:pre;overflow-x:auto;line-height:normal;font-family:Menlo,'DejaVu Sans Mono',consolas,'Courier New',monospace\"><span style=\"color: #7fbfbf\">           </span>METRIC   Round <span style=\"color: #000080; font-weight: bold\">4</span>, collaborator one is sending metric for task locally_tuned_model_validation: acc        <span style=\"color: #000080; font-weight: bold\">0.9814</span>                   <a href=\"file:///home/radionov/.envs/old_api_fixes/lib/python3.6/site-packages/openfl/component/collaborator/collaborator.py\"><span style=\"color: #7f7f7f\">collaborator.py</span></a><span style=\"color: #7f7f7f\">:374</span>\n",
       "</pre>\n"
      ],
      "text/plain": [
       "<rich.jupyter.JupyterRenderable at 0x7f2b6b8334a8>"
      ]
     },
     "metadata": {},
     "output_type": "display_data"
    },
    {
     "data": {
      "text/html": [
       "<pre style=\"white-space:pre;overflow-x:auto;line-height:normal;font-family:Menlo,'DejaVu Sans Mono',consolas,'Courier New',monospace\"><span style=\"color: #7fbfbf\">           </span>METRIC   Round <span style=\"color: #000080; font-weight: bold\">4</span>, collaborator two is sending metric for task aggregated_model_validation: acc   <span style=\"color: #000080; font-weight: bold\">0.9804</span>                           <a href=\"file:///home/radionov/.envs/old_api_fixes/lib/python3.6/site-packages/openfl/component/collaborator/collaborator.py\"><span style=\"color: #7f7f7f\">collaborator.py</span></a><span style=\"color: #7f7f7f\">:374</span>\n",
       "</pre>\n"
      ],
      "text/plain": [
       "<rich.jupyter.JupyterRenderable at 0x7f2b6b833898>"
      ]
     },
     "metadata": {},
     "output_type": "display_data"
    },
    {
     "data": {
      "text/html": [
       "<pre style=\"white-space:pre;overflow-x:auto;line-height:normal;font-family:Menlo,'DejaVu Sans Mono',consolas,'Courier New',monospace\"><span style=\"color: #7fbfbf\">[12:59:04] </span>METRIC   Round <span style=\"color: #000080; font-weight: bold\">4</span>, collaborator two is sending metric for task train: cross_entropy       <span style=\"color: #000080; font-weight: bold\">0.0616258904337883</span>                       <a href=\"file:///home/radionov/.envs/old_api_fixes/lib/python3.6/site-packages/openfl/component/collaborator/collaborator.py\"><span style=\"color: #7f7f7f\">collaborator.py</span></a><span style=\"color: #7f7f7f\">:374</span>\n",
       "</pre>\n"
      ],
      "text/plain": [
       "<rich.jupyter.JupyterRenderable at 0x7f2b6b82b390>"
      ]
     },
     "metadata": {},
     "output_type": "display_data"
    },
    {
     "data": {
      "text/html": [
       "<pre style=\"white-space:pre;overflow-x:auto;line-height:normal;font-family:Menlo,'DejaVu Sans Mono',consolas,'Courier New',monospace\"><span style=\"color: #7fbfbf\">           </span>METRIC   Round <span style=\"color: #000080; font-weight: bold\">4</span>, collaborator two is sending metric for task locally_tuned_model_validation: acc        <span style=\"color: #000080; font-weight: bold\">0.9812</span>                   <a href=\"file:///home/radionov/.envs/old_api_fixes/lib/python3.6/site-packages/openfl/component/collaborator/collaborator.py\"><span style=\"color: #7f7f7f\">collaborator.py</span></a><span style=\"color: #7f7f7f\">:374</span>\n",
       "</pre>\n"
      ],
      "text/plain": [
       "<rich.jupyter.JupyterRenderable at 0x7f2b6b8656d8>"
      ]
     },
     "metadata": {},
     "output_type": "display_data"
    },
    {
     "data": {
      "text/html": [
       "<pre style=\"white-space:pre;overflow-x:auto;line-height:normal;font-family:Menlo,'DejaVu Sans Mono',consolas,'Courier New',monospace\"><span style=\"color: #7fbfbf\">           </span>METRIC   Round <span style=\"color: #000080; font-weight: bold\">4</span>, aggregator: aggregated_model_validation <span style=\"font-weight: bold\">&lt;</span><span style=\"color: #ff00ff; font-weight: bold\">openfl.component.aggregation_functions.weighted_average.WeightedAverage</span><span style=\"color: #000000\"> </span> <a href=\"file:///home/radionov/.envs/old_api_fixes/lib/python3.6/site-packages/openfl/component/aggregator/aggregator.py\"><span style=\"color: #7f7f7f\">aggregator.py</span></a><span style=\"color: #7f7f7f\">:771</span>\n",
       "                    <span style=\"color: #000000\">object at </span><span style=\"color: #000080; font-weight: bold\">0x7f2b8059bd68</span><span style=\"font-weight: bold\">&gt;</span> acc:        <span style=\"color: #000080; font-weight: bold\">0.9808</span>                                                                                                \n",
       "</pre>\n"
      ],
      "text/plain": [
       "<rich.jupyter.JupyterRenderable at 0x7f2b6b853a58>"
      ]
     },
     "metadata": {},
     "output_type": "display_data"
    },
    {
     "data": {
      "text/html": [
       "<pre style=\"white-space:pre;overflow-x:auto;line-height:normal;font-family:Menlo,'DejaVu Sans Mono',consolas,'Courier New',monospace\"><span style=\"color: #7fbfbf\">           </span>METRIC   Round <span style=\"color: #000080; font-weight: bold\">4</span>: saved the best model with score <span style=\"color: #000080; font-weight: bold\">0.980800</span>                                                                          <a href=\"file:///home/radionov/.envs/old_api_fixes/lib/python3.6/site-packages/openfl/component/aggregator/aggregator.py\"><span style=\"color: #7f7f7f\">aggregator.py</span></a><span style=\"color: #7f7f7f\">:785</span>\n",
       "</pre>\n"
      ],
      "text/plain": [
       "<rich.jupyter.JupyterRenderable at 0x7f2b6b82b320>"
      ]
     },
     "metadata": {},
     "output_type": "display_data"
    },
    {
     "data": {
      "text/html": [
       "<pre style=\"white-space:pre;overflow-x:auto;line-height:normal;font-family:Menlo,'DejaVu Sans Mono',consolas,'Courier New',monospace\"><span style=\"color: #7fbfbf\">           </span>METRIC   Round <span style=\"color: #000080; font-weight: bold\">4</span>, aggregator: train <span style=\"font-weight: bold\">&lt;</span><span style=\"color: #ff00ff; font-weight: bold\">openfl.component.aggregation_functions.weighted_average.WeightedAverage</span><span style=\"color: #000000\"> object at </span>             <a href=\"file:///home/radionov/.envs/old_api_fixes/lib/python3.6/site-packages/openfl/component/aggregator/aggregator.py\"><span style=\"color: #7f7f7f\">aggregator.py</span></a><span style=\"color: #7f7f7f\">:771</span>\n",
       "                    <span style=\"color: #000080; font-weight: bold\">0x7f2b8059bd68</span><span style=\"font-weight: bold\">&gt;</span> cross_entropy:    <span style=\"color: #000080; font-weight: bold\">0.0648</span>                                                                                                    \n",
       "</pre>\n"
      ],
      "text/plain": [
       "<rich.jupyter.JupyterRenderable at 0x7f2b6b82b278>"
      ]
     },
     "metadata": {},
     "output_type": "display_data"
    },
    {
     "data": {
      "text/html": [
       "<pre style=\"white-space:pre;overflow-x:auto;line-height:normal;font-family:Menlo,'DejaVu Sans Mono',consolas,'Courier New',monospace\"><span style=\"color: #7fbfbf\">[12:59:05] </span>METRIC   Round <span style=\"color: #000080; font-weight: bold\">4</span>, aggregator: locally_tuned_model_validation                                                                        <a href=\"file:///home/radionov/.envs/old_api_fixes/lib/python3.6/site-packages/openfl/component/aggregator/aggregator.py\"><span style=\"color: #7f7f7f\">aggregator.py</span></a><span style=\"color: #7f7f7f\">:771</span>\n",
       "                    <span style=\"font-weight: bold\">&lt;</span><span style=\"color: #ff00ff; font-weight: bold\">openfl.component.aggregation_functions.weighted_average.WeightedAverage</span><span style=\"color: #000000\"> object at </span><span style=\"color: #000080; font-weight: bold\">0x7f2b8059bd68</span><span style=\"font-weight: bold\">&gt;</span> acc:     <span style=\"color: #000080; font-weight: bold\">0.9813</span>                          \n",
       "</pre>\n"
      ],
      "text/plain": [
       "<rich.jupyter.JupyterRenderable at 0x7f2b6b82b668>"
      ]
     },
     "metadata": {},
     "output_type": "display_data"
    }
   ],
   "source": [
    "# Run experiment, return trained FederatedModel\n",
    "\n",
    "final_fl_model = fx.run_experiment(collaborators, override_config={\n",
    "    'aggregator.settings.rounds_to_train': 5,\n",
    "    'aggregator.settings.log_metric_callback': write_metric,\n",
    "})"
   ]
  },
  {
   "cell_type": "code",
   "execution_count": 12,
   "metadata": {},
   "outputs": [],
   "source": [
    "#Save final model\n",
    "final_fl_model.save_native('final_pytorch_model')"
   ]
  }
 ],
 "metadata": {
  "kernelspec": {
   "display_name": "Python 3",
   "language": "python",
   "name": "python3"
  },
  "language_info": {
   "codemirror_mode": {
    "name": "ipython",
    "version": 3
   },
   "file_extension": ".py",
   "mimetype": "text/x-python",
   "name": "python",
   "nbconvert_exporter": "python",
   "pygments_lexer": "ipython3",
   "version": "3.6.9"
  }
 },
 "nbformat": 4,
 "nbformat_minor": 4
}
